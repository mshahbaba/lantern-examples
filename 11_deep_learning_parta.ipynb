{
  "nbformat": 4,
  "nbformat_minor": 0,
  "metadata": {
    "kernelspec": {
      "display_name": "Python 3",
      "language": "python",
      "name": "python3"
    },
    "language_info": {
      "codemirror_mode": {
        "name": "ipython",
        "version": 3
      },
      "file_extension": ".py",
      "mimetype": "text/x-python",
      "name": "python",
      "nbconvert_exporter": "python",
      "pygments_lexer": "ipython3",
      "version": "3.6.8"
    },
    "nav_menu": {
      "height": "360px",
      "width": "416px"
    },
    "toc": {
      "navigate_menu": true,
      "number_sections": true,
      "sideBar": true,
      "threshold": 6,
      "toc_cell": false,
      "toc_section_display": "block",
      "toc_window_display": false
    },
    "colab": {
      "name": "11_deep_learning.ipynb",
      "provenance": [],
      "include_colab_link": true
    }
  },
  "cells": [
    {
      "cell_type": "markdown",
      "metadata": {
        "id": "view-in-github",
        "colab_type": "text"
      },
      "source": [
        "<a href=\"https://colab.research.google.com/github/mshahbaba/lantern-examples/blob/master/11_deep_learning_parta.ipynb\" target=\"_parent\"><img src=\"https://colab.research.google.com/assets/colab-badge.svg\" alt=\"Open In Colab\"/></a>"
      ]
    },
    {
      "cell_type": "markdown",
      "metadata": {
        "id": "4HzjCAi827y4",
        "colab_type": "text"
      },
      "source": [
        "**Chapter 11 – Deep Learning**"
      ]
    },
    {
      "cell_type": "markdown",
      "metadata": {
        "id": "bYbd6BF027y5",
        "colab_type": "text"
      },
      "source": [
        "_This notebook contains all the sample code and solutions to the exercises in chapter 11._"
      ]
    },
    {
      "cell_type": "markdown",
      "metadata": {
        "id": "WUkd4LfU27y6",
        "colab_type": "text"
      },
      "source": [
        "# Setup"
      ]
    },
    {
      "cell_type": "markdown",
      "metadata": {
        "id": "GdE80r1I27y7",
        "colab_type": "text"
      },
      "source": [
        "First, let's make sure this notebook works well in both python 2 and 3, import a few common modules, ensure MatplotLib plots figures inline and prepare a function to save the figures:"
      ]
    },
    {
      "cell_type": "code",
      "metadata": {
        "id": "npjhEvpN27y7",
        "colab_type": "code",
        "colab": {}
      },
      "source": [
        "# To support both python 2 and python 3\n",
        "from __future__ import division, print_function, unicode_literals\n",
        "\n",
        "# Common imports\n",
        "import numpy as np\n",
        "import os\n",
        "\n",
        "# to make this notebook's output stable across runs\n",
        "def reset_graph(seed=42):\n",
        "    tf.reset_default_graph()\n",
        "    tf.set_random_seed(seed)\n",
        "    np.random.seed(seed)\n",
        "\n",
        "# To plot pretty figures\n",
        "%matplotlib inline\n",
        "import matplotlib\n",
        "import matplotlib.pyplot as plt\n",
        "plt.rcParams['axes.labelsize'] = 14\n",
        "plt.rcParams['xtick.labelsize'] = 12\n",
        "plt.rcParams['ytick.labelsize'] = 12\n",
        "\n",
        "# Where to save the figures\n",
        "PROJECT_ROOT_DIR = \".\"\n",
        "CHAPTER_ID = \"deep\"\n",
        "\n",
        "def save_fig(fig_id, tight_layout=True):\n",
        "    path = os.path.join(PROJECT_ROOT_DIR, \"images\", CHAPTER_ID, fig_id + \".png\")\n",
        "    print(\"Saving figure\", fig_id)\n",
        "    if tight_layout:\n",
        "        plt.tight_layout()\n",
        "    plt.savefig(path, format='png', dpi=300)"
      ],
      "execution_count": 1,
      "outputs": []
    },
    {
      "cell_type": "markdown",
      "metadata": {
        "id": "iK0Gk6CR27y_",
        "colab_type": "text"
      },
      "source": [
        "# Vanishing/Exploding Gradients Problem"
      ]
    },
    {
      "cell_type": "code",
      "metadata": {
        "id": "zeEvUysd27y_",
        "colab_type": "code",
        "colab": {}
      },
      "source": [
        "def logit(z):\n",
        "    return 1 / (1 + np.exp(-z))"
      ],
      "execution_count": 2,
      "outputs": []
    },
    {
      "cell_type": "code",
      "metadata": {
        "id": "lPfek0sX27zC",
        "colab_type": "code",
        "colab": {
          "base_uri": "https://localhost:8080/",
          "height": 285
        },
        "outputId": "ae78a9ee-1d32-47a9-e75a-e285e1eb90ce"
      },
      "source": [
        "z = np.linspace(-5, 5, 200)\n",
        "\n",
        "plt.plot([-5, 5], [0, 0], 'k-')\n",
        "plt.plot([-5, 5], [1, 1], 'k--')\n",
        "plt.plot([0, 0], [-0.2, 1.2], 'k-')\n",
        "plt.plot([-5, 5], [-3/4, 7/4], 'g--')\n",
        "plt.plot(z, logit(z), \"b-\", linewidth=2)\n",
        "props = dict(facecolor='black', shrink=0.1)\n",
        "plt.annotate('Saturating', xytext=(3.5, 0.7), xy=(5, 1), arrowprops=props, fontsize=14, ha=\"center\")\n",
        "plt.annotate('Saturating', xytext=(-3.5, 0.3), xy=(-5, 0), arrowprops=props, fontsize=14, ha=\"center\")\n",
        "plt.annotate('Linear', xytext=(2, 0.2), xy=(0, 0.5), arrowprops=props, fontsize=14, ha=\"center\")\n",
        "plt.grid(True)\n",
        "plt.title(\"Sigmoid activation function\", fontsize=14)\n",
        "plt.axis([-5, 5, -0.2, 1.2])\n",
        "\n",
        "# save_fig(\"sigmoid_saturation_plot\")\n",
        "plt.show()"
      ],
      "execution_count": 4,
      "outputs": [
        {
          "output_type": "display_data",
          "data": {
            "image/png": "[encoded data removed]",
            "text/plain": [
              "<Figure size 432x288 with 1 Axes>"
            ]
          },
          "metadata": {
            "tags": [],
            "needs_background": "light"
          }
        }
      ]
    },
    {
      "cell_type": "markdown",
      "metadata": {
        "id": "QMkyEij_27zF",
        "colab_type": "text"
      },
      "source": [
        "## Xavier and He Initialization"
      ]
    },
    {
      "cell_type": "markdown",
      "metadata": {
        "id": "P9J2MdSk27zG",
        "colab_type": "text"
      },
      "source": [
        "Note: the book uses `tensorflow.contrib.layers.fully_connected()` rather than `tf.layers.dense()` (which did not exist when this chapter was written). It is now preferable to use `tf.layers.dense()`, because anything in the contrib module may change or be deleted without notice. The `dense()` function is almost identical to the `fully_connected()` function. The main differences relevant to this chapter are:\n",
        "* several parameters are renamed: `scope` becomes `name`, `activation_fn` becomes `activation` (and similarly the `_fn` suffix is removed from other parameters such as `normalizer_fn`), `weights_initializer` becomes `kernel_initializer`, etc.\n",
        "* the default `activation` is now `None` rather than `tf.nn.relu`.\n",
        "* it does not support `tensorflow.contrib.framework.arg_scope()` (introduced later in chapter 11).\n",
        "* it does not support regularizer params (introduced later in chapter 11)."
      ]
    },
    {
      "cell_type": "code",
      "metadata": {
        "id": "BFP0TDmx27zH",
        "colab_type": "code",
        "colab": {
          "base_uri": "https://localhost:8080/",
          "height": 88
        },
        "outputId": "211a5750-0b4d-478a-fe94-0f41d8921e7b"
      },
      "source": [
        "# import tensorflow as tf\n",
        "import tensorflow.compat.v1 as tf\n",
        "tf.disable_v2_behavior()"
      ],
      "execution_count": 9,
      "outputs": [
        {
          "output_type": "stream",
          "text": [
            "WARNING:tensorflow:From /usr/local/lib/python3.6/dist-packages/tensorflow/python/compat/v2_compat.py:96: disable_resource_variables (from tensorflow.python.ops.variable_scope) is deprecated and will be removed in a future version.\n",
            "Instructions for updating:\n",
            "non-resource variables are not supported in the long term\n"
          ],
          "name": "stdout"
        }
      ]
    },
    {
      "cell_type": "code",
      "metadata": {
        "id": "-EUxrsks27zJ",
        "colab_type": "code",
        "colab": {}
      },
      "source": [
        "reset_graph()\n",
        "\n",
        "\n",
        "n_inputs = 28 * 28  # MNIST\n",
        "n_hidden1 = 300\n",
        "\n",
        "X = tf.placeholder(tf.float32, shape=(None, n_inputs), name=\"X\")"
      ],
      "execution_count": 42,
      "outputs": []
    },
    {
      "cell_type": "code",
      "metadata": {
        "id": "fXWvJ8Xi27zN",
        "colab_type": "code",
        "colab": {}
      },
      "source": [
        "he_init = tf.variance_scaling_initializer()\n",
        "hidden1 = tf.layers.dense(X, n_hidden1, activation=tf.nn.relu,\n",
        "                          kernel_initializer=he_init, name=\"hidden1\")"
      ],
      "execution_count": 43,
      "outputs": []
    },
    {
      "cell_type": "markdown",
      "metadata": {
        "id": "34BlcXe627zQ",
        "colab_type": "text"
      },
      "source": [
        "## Nonsaturating Activation Functions"
      ]
    },
    {
      "cell_type": "markdown",
      "metadata": {
        "id": "lRMzOCuc27zR",
        "colab_type": "text"
      },
      "source": [
        "### Leaky ReLU"
      ]
    },
    {
      "cell_type": "code",
      "metadata": {
        "id": "oz_ZSoJc27zR",
        "colab_type": "code",
        "colab": {}
      },
      "source": [
        "def leaky_relu(z, alpha=0.01):\n",
        "    return np.maximum(alpha*z, z)"
      ],
      "execution_count": 44,
      "outputs": []
    },
    {
      "cell_type": "code",
      "metadata": {
        "id": "rUL9KUjd27zU",
        "colab_type": "code",
        "colab": {
          "base_uri": "https://localhost:8080/",
          "height": 285
        },
        "outputId": "59071427-1de2-4cc6-a9e9-b3aa46a983d8"
      },
      "source": [
        "plt.plot(z, leaky_relu(z, 0.05), \"b-\", linewidth=2)\n",
        "plt.plot([-5, 5], [0, 0], 'k-')\n",
        "plt.plot([0, 0], [-0.5, 4.2], 'k-')\n",
        "plt.grid(True)\n",
        "props = dict(facecolor='black', shrink=0.1)\n",
        "plt.annotate('Leak', xytext=(-3.5, 0.5), xy=(-5, -0.2), arrowprops=props, fontsize=14, ha=\"center\")\n",
        "plt.title(\"Leaky ReLU activation function\", fontsize=14)\n",
        "plt.axis([-5, 5, -0.5, 4.2])\n",
        "\n",
        "# save_fig(\"leaky_relu_plot\")\n",
        "plt.show()"
      ],
      "execution_count": 45,
      "outputs": [
        {
          "output_type": "display_data",
          "data": {
            "image/png": "[encoded data removed]",
            "text/plain": [
              "<Figure size 432x288 with 1 Axes>"
            ]
          },
          "metadata": {
            "tags": [],
            "needs_background": "light"
          }
        }
      ]
    },
    {
      "cell_type": "markdown",
      "metadata": {
        "id": "EsmNmaXU27zW",
        "colab_type": "text"
      },
      "source": [
        "Implementing Leaky ReLU in TensorFlow:"
      ]
    },
    {
      "cell_type": "code",
      "metadata": {
        "id": "upt8o7rs27zW",
        "colab_type": "code",
        "colab": {}
      },
      "source": [
        "reset_graph()\n",
        "\n",
        "X = tf.placeholder(tf.float32, shape=(None, n_inputs), name=\"X\")"
      ],
      "execution_count": 47,
      "outputs": []
    },
    {
      "cell_type": "code",
      "metadata": {
        "id": "JP5iiaic27zZ",
        "colab_type": "code",
        "colab": {}
      },
      "source": [
        "def leaky_relu(z, name=None):\n",
        "    return tf.maximum(0.01 * z, z, name=name)\n",
        "\n",
        "hidden1 = tf.layers.dense(X, n_hidden1, activation=leaky_relu, name=\"hidden1\")"
      ],
      "execution_count": 48,
      "outputs": []
    },
    {
      "cell_type": "markdown",
      "metadata": {
        "id": "tytTJTr-27zb",
        "colab_type": "text"
      },
      "source": [
        "Let's train a neural network on MNIST using the Leaky ReLU. First let's create the graph:"
      ]
    },
    {
      "cell_type": "code",
      "metadata": {
        "id": "mhZhVILz27zc",
        "colab_type": "code",
        "colab": {}
      },
      "source": [
        "reset_graph()\n",
        "\n",
        "n_inputs = 28 * 28  # MNIST\n",
        "n_hidden1 = 300\n",
        "n_hidden2 = 100\n",
        "n_outputs = 10"
      ],
      "execution_count": 49,
      "outputs": []
    },
    {
      "cell_type": "code",
      "metadata": {
        "id": "piubz1t827ze",
        "colab_type": "code",
        "colab": {}
      },
      "source": [
        "X = tf.placeholder(tf.float32, shape=(None, n_inputs), name=\"X\")\n",
        "y = tf.placeholder(tf.int32, shape=(None), name=\"y\")"
      ],
      "execution_count": 50,
      "outputs": []
    },
    {
      "cell_type": "code",
      "metadata": {
        "id": "P__UfE6n27zg",
        "colab_type": "code",
        "colab": {}
      },
      "source": [
        "with tf.name_scope(\"dnn\"):\n",
        "    hidden1 = tf.layers.dense(X, n_hidden1, activation=leaky_relu, name=\"hidden1\")\n",
        "    hidden2 = tf.layers.dense(hidden1, n_hidden2, activation=leaky_relu, name=\"hidden2\")\n",
        "    logits = tf.layers.dense(hidden2, n_outputs, name=\"outputs\")"
      ],
      "execution_count": 52,
      "outputs": []
    },
    {
      "cell_type": "code",
      "metadata": {
        "id": "suAUn6iw27zi",
        "colab_type": "code",
        "colab": {}
      },
      "source": [
        "with tf.name_scope(\"loss\"):\n",
        "    xentropy = tf.nn.sparse_softmax_cross_entropy_with_logits(labels=y, logits=logits)\n",
        "    loss = tf.reduce_mean(xentropy, name=\"loss\")"
      ],
      "execution_count": 53,
      "outputs": []
    },
    {
      "cell_type": "code",
      "metadata": {
        "id": "lyyhGLYY27zk",
        "colab_type": "code",
        "colab": {}
      },
      "source": [
        "learning_rate = 0.01\n",
        "\n",
        "with tf.name_scope(\"train\"):\n",
        "    optimizer = tf.train.GradientDescentOptimizer(learning_rate)\n",
        "    training_op = optimizer.minimize(loss)"
      ],
      "execution_count": 54,
      "outputs": []
    },
    {
      "cell_type": "code",
      "metadata": {
        "id": "Jpy9oRT027zm",
        "colab_type": "code",
        "colab": {}
      },
      "source": [
        "with tf.name_scope(\"eval\"):\n",
        "    correct = tf.nn.in_top_k(logits, y, 1)\n",
        "    accuracy = tf.reduce_mean(tf.cast(correct, tf.float32))"
      ],
      "execution_count": 55,
      "outputs": []
    },
    {
      "cell_type": "code",
      "metadata": {
        "id": "R8tfhBic27zp",
        "colab_type": "code",
        "colab": {}
      },
      "source": [
        "init = tf.global_variables_initializer()\n",
        "saver = tf.train.Saver()"
      ],
      "execution_count": 56,
      "outputs": []
    },
    {
      "cell_type": "markdown",
      "metadata": {
        "id": "u_1FT53e27zr",
        "colab_type": "text"
      },
      "source": [
        "Let's load the data:"
      ]
    },
    {
      "cell_type": "markdown",
      "metadata": {
        "id": "dnyb1kfx27zs",
        "colab_type": "text"
      },
      "source": [
        "**Warning**: `tf.examples.tutorials.mnist` is deprecated. We will use `tf.keras.datasets.mnist` instead."
      ]
    },
    {
      "cell_type": "code",
      "metadata": {
        "id": "7JjmGs4c27zs",
        "colab_type": "code",
        "colab": {}
      },
      "source": [
        "(X_train, y_train), (X_test, y_test) = tf.keras.datasets.mnist.load_data()\n",
        "X_train = X_train.astype(np.float32).reshape(-1, 28*28) / 255.0\n",
        "X_test = X_test.astype(np.float32).reshape(-1, 28*28) / 255.0\n",
        "y_train = y_train.astype(np.int32)\n",
        "y_test = y_test.astype(np.int32)\n",
        "X_valid, X_train = X_train[:5000], X_train[5000:]\n",
        "y_valid, y_train = y_train[:5000], y_train[5000:]"
      ],
      "execution_count": 58,
      "outputs": []
    },
    {
      "cell_type": "code",
      "metadata": {
        "id": "susHRYEe27zu",
        "colab_type": "code",
        "colab": {}
      },
      "source": [
        "def shuffle_batch(X, y, batch_size):\n",
        "    rnd_idx = np.random.permutation(len(X))\n",
        "    n_batches = len(X) // batch_size\n",
        "    for batch_idx in np.array_split(rnd_idx, n_batches):\n",
        "        X_batch, y_batch = X[batch_idx], y[batch_idx]\n",
        "        yield X_batch, y_batch"
      ],
      "execution_count": 59,
      "outputs": []
    },
    {
      "cell_type": "code",
      "metadata": {
        "scrolled": true,
        "id": "49NSPNl_27zw",
        "colab_type": "code",
        "colab": {
          "base_uri": "https://localhost:8080/",
          "height": 153
        },
        "outputId": "785ae358-0939-48af-bf8f-903999b7c38f"
      },
      "source": [
        "n_epochs = 40\n",
        "batch_size = 50\n",
        "\n",
        "with tf.Session() as sess:\n",
        "    init.run()\n",
        "    for epoch in range(n_epochs):\n",
        "        for X_batch, y_batch in shuffle_batch(X_train, y_train, batch_size):\n",
        "            sess.run(training_op, feed_dict={X: X_batch, y: y_batch})\n",
        "        if epoch % 5 == 0:\n",
        "            acc_batch = accuracy.eval(feed_dict={X: X_batch, y: y_batch})\n",
        "            acc_valid = accuracy.eval(feed_dict={X: X_valid, y: y_valid})\n",
        "            print(epoch, \"Batch accuracy:\", acc_batch, \"Validation accuracy:\", acc_valid)\n",
        "\n",
        "    save_path = saver.save(sess, \"./my_model_final.ckpt\")"
      ],
      "execution_count": 29,
      "outputs": [
        {
          "output_type": "stream",
          "text": [
            "0 Batch accuracy: 0.9 Validation accuracy: 0.9062\n",
            "5 Batch accuracy: 0.94 Validation accuracy: 0.9482\n",
            "10 Batch accuracy: 0.9 Validation accuracy: 0.9628\n",
            "15 Batch accuracy: 0.92 Validation accuracy: 0.969\n",
            "20 Batch accuracy: 1.0 Validation accuracy: 0.9738\n",
            "25 Batch accuracy: 1.0 Validation accuracy: 0.9762\n",
            "30 Batch accuracy: 0.98 Validation accuracy: 0.9754\n",
            "35 Batch accuracy: 0.98 Validation accuracy: 0.9764\n"
          ],
          "name": "stdout"
        }
      ]
    },
    {
      "cell_type": "markdown",
      "metadata": {
        "id": "_QHnGNeI27zy",
        "colab_type": "text"
      },
      "source": [
        "### ELU"
      ]
    },
    {
      "cell_type": "code",
      "metadata": {
        "id": "pzMhEs2T27z1",
        "colab_type": "code",
        "colab": {}
      },
      "source": [
        "def elu(z, alpha=1):\n",
        "    return np.where(z < 0, alpha * (np.exp(z) - 1), z)"
      ],
      "execution_count": 30,
      "outputs": []
    },
    {
      "cell_type": "code",
      "metadata": {
        "id": "MfJP9_6a27z4",
        "colab_type": "code",
        "colab": {
          "base_uri": "https://localhost:8080/",
          "height": 287
        },
        "outputId": "35dddaef-8771-428f-8f0f-9b6490e06d82"
      },
      "source": [
        "plt.plot(z, elu(z), \"b-\", linewidth=2)\n",
        "plt.plot([-5, 5], [0, 0], 'k-')\n",
        "plt.plot([-5, 5], [-1, -1], 'k--')\n",
        "plt.plot([0, 0], [-2.2, 3.2], 'k-')\n",
        "plt.grid(True)\n",
        "plt.title(r\"ELU activation function ($\\alpha=1$)\", fontsize=14)\n",
        "plt.axis([-5, 5, -2.2, 3.2])\n",
        "\n",
        "# save_fig(\"elu_plot\")\n",
        "plt.show()"
      ],
      "execution_count": 31,
      "outputs": [
        {
          "output_type": "display_data",
          "data": {
            "image/png": "[encoded data removed]",
            "text/plain": [
              "<Figure size 432x288 with 1 Axes>"
            ]
          },
          "metadata": {
            "tags": [],
            "needs_background": "light"
          }
        }
      ]
    },
    {
      "cell_type": "markdown",
      "metadata": {
        "id": "uI3gcUV527z6",
        "colab_type": "text"
      },
      "source": [
        "Implementing ELU in TensorFlow is trivial, just specify the activation function when building each layer:"
      ]
    },
    {
      "cell_type": "code",
      "metadata": {
        "id": "Mu_rIeWT27z7",
        "colab_type": "code",
        "colab": {}
      },
      "source": [
        "reset_graph()\n",
        "\n",
        "X = tf.placeholder(tf.float32, shape=(None, n_inputs), name=\"X\")"
      ],
      "execution_count": 32,
      "outputs": []
    },
    {
      "cell_type": "code",
      "metadata": {
        "id": "wEzlyrcg27z9",
        "colab_type": "code",
        "colab": {}
      },
      "source": [
        "hidden1 = tf.layers.dense(X, n_hidden1, activation=tf.nn.elu, name=\"hidden1\")"
      ],
      "execution_count": 33,
      "outputs": []
    },
    {
      "cell_type": "markdown",
      "metadata": {
        "id": "4gHB4Q3T27z_",
        "colab_type": "text"
      },
      "source": [
        "### SELU"
      ]
    },
    {
      "cell_type": "markdown",
      "metadata": {
        "id": "LE-cwbaj270A",
        "colab_type": "text"
      },
      "source": [
        "This activation function was proposed in this [great paper](https://arxiv.org/pdf/1706.02515.pdf) by Günter Klambauer, Thomas Unterthiner and Andreas Mayr, published in June 2017. During training, a neural network composed exclusively of a stack of dense layers using the SELU activation function and LeCun initialization will self-normalize: the output of each layer will tend to preserve the same mean and variance during training, which solves the vanishing/exploding gradients problem. As a result, this activation function outperforms the other activation functions very significantly for such neural nets, so you should really try it out. Unfortunately, the self-normalizing property of the SELU activation function is easily broken: you cannot use ℓ<sub>1</sub> or ℓ<sub>2</sub> regularization, regular dropout, max-norm, skip connections or other non-sequential topologies (so recurrent neural networks won't self-normalize). However, in practice it works quite well with sequential CNNs. If you break self-normalization, SELU will not necessarily outperform other activation functions."
      ]
    },
    {
      "cell_type": "code",
      "metadata": {
        "id": "VUeIpucU270A",
        "colab_type": "code",
        "colab": {}
      },
      "source": [
        "from scipy.special import erfc\n",
        "\n",
        "# alpha and scale to self normalize with mean 0 and standard deviation 1\n",
        "# (see equation 14 in the paper):\n",
        "alpha_0_1 = -np.sqrt(2 / np.pi) / (erfc(1/np.sqrt(2)) * np.exp(1/2) - 1)\n",
        "scale_0_1 = (1 - erfc(1 / np.sqrt(2)) * np.sqrt(np.e)) * np.sqrt(2 * np.pi) * (2 * erfc(np.sqrt(2))*np.e**2 + np.pi*erfc(1/np.sqrt(2))**2*np.e - 2*(2+np.pi)*erfc(1/np.sqrt(2))*np.sqrt(np.e)+np.pi+2)**(-1/2)"
      ],
      "execution_count": 34,
      "outputs": []
    },
    {
      "cell_type": "code",
      "metadata": {
        "id": "f1im0Lzb270C",
        "colab_type": "code",
        "colab": {}
      },
      "source": [
        "def selu(z, scale=scale_0_1, alpha=alpha_0_1):\n",
        "    return scale * elu(z, alpha)"
      ],
      "execution_count": 35,
      "outputs": []
    },
    {
      "cell_type": "code",
      "metadata": {
        "id": "4J3JOUg1270E",
        "colab_type": "code",
        "colab": {
          "base_uri": "https://localhost:8080/",
          "height": 285
        },
        "outputId": "5d4f1af9-687d-48fc-dcd6-c8d018adfb29"
      },
      "source": [
        "plt.plot(z, selu(z), \"b-\", linewidth=2)\n",
        "plt.plot([-5, 5], [0, 0], 'k-')\n",
        "plt.plot([-5, 5], [-1.758, -1.758], 'k--')\n",
        "plt.plot([0, 0], [-2.2, 3.2], 'k-')\n",
        "plt.grid(True)\n",
        "plt.title(r\"SELU activation function\", fontsize=14)\n",
        "plt.axis([-5, 5, -2.2, 3.2])\n",
        "\n",
        "# save_fig(\"selu_plot\")\n",
        "plt.show()"
      ],
      "execution_count": 36,
      "outputs": [
        {
          "output_type": "display_data",
          "data": {
            "image/png": "[encoded data removed]",
            "text/plain": [
              "<Figure size 432x288 with 1 Axes>"
            ]
          },
          "metadata": {
            "tags": [],
            "needs_background": "light"
          }
        }
      ]
    },
    {
      "cell_type": "markdown",
      "metadata": {
        "id": "ynHzdMRW270G",
        "colab_type": "text"
      },
      "source": [
        "By default, the SELU hyperparameters (`scale` and `alpha`) are tuned in such a way that the mean output of each neuron remains close to 0, and the standard deviation remains close to 1 (assuming the inputs are standardized with mean 0 and standard deviation 1 too). Using this activation function, even a 1,000 layer deep neural network preserves roughly mean 0 and standard deviation 1 across all layers, avoiding the exploding/vanishing gradients problem:"
      ]
    },
    {
      "cell_type": "code",
      "metadata": {
        "id": "0cb6mSJK270H",
        "colab_type": "code",
        "colab": {
          "base_uri": "https://localhost:8080/",
          "height": 187
        },
        "outputId": "27eba752-baba-4990-f418-56a126bde889"
      },
      "source": [
        "np.random.seed(42)\n",
        "Z = np.random.normal(size=(500, 100)) # standardized inputs\n",
        "for layer in range(1000):\n",
        "    W = np.random.normal(size=(100, 100), scale=np.sqrt(1 / 100)) # LeCun initialization\n",
        "    Z = selu(np.dot(Z, W))\n",
        "    means = np.mean(Z, axis=0).mean()\n",
        "    stds = np.std(Z, axis=0).mean()\n",
        "    if layer % 100 == 0:\n",
        "        print(\"Layer {}: mean {:.2f}, std deviation {:.2f}\".format(layer, means, stds))"
      ],
      "execution_count": 37,
      "outputs": [
        {
          "output_type": "stream",
          "text": [
            "Layer 0: mean -0.00, std deviation 1.00\n",
            "Layer 100: mean 0.02, std deviation 0.96\n",
            "Layer 200: mean 0.01, std deviation 0.90\n",
            "Layer 300: mean -0.02, std deviation 0.92\n",
            "Layer 400: mean 0.05, std deviation 0.89\n",
            "Layer 500: mean 0.01, std deviation 0.93\n",
            "Layer 600: mean 0.02, std deviation 0.92\n",
            "Layer 700: mean -0.02, std deviation 0.90\n",
            "Layer 800: mean 0.05, std deviation 0.83\n",
            "Layer 900: mean 0.02, std deviation 1.00\n"
          ],
          "name": "stdout"
        }
      ]
    },
    {
      "cell_type": "markdown",
      "metadata": {
        "id": "Ouha2Nhk270J",
        "colab_type": "text"
      },
      "source": [
        "The `tf.nn.selu()` function was added in TensorFlow 1.4. For earlier versions, you can use the following implementation:"
      ]
    },
    {
      "cell_type": "code",
      "metadata": {
        "id": "BjBD7m_-270J",
        "colab_type": "code",
        "colab": {}
      },
      "source": [
        "def selu(z, scale=alpha_0_1, alpha=scale_0_1):\n",
        "    return scale * tf.where(z >= 0.0, z, alpha * tf.nn.elu(z))"
      ],
      "execution_count": 38,
      "outputs": []
    },
    {
      "cell_type": "markdown",
      "metadata": {
        "id": "-wGA_XgE270L",
        "colab_type": "text"
      },
      "source": [
        "However, the SELU activation function cannot be used along with regular Dropout (this would cancel the SELU activation function's self-normalizing property). Fortunately, there is a Dropout variant called Alpha Dropout proposed in the same paper. It is available in `tf.contrib.nn.alpha_dropout()` since TF 1.4 (or check out [this implementation](https://github.com/bioinf-jku/SNNs/blob/master/selu.py) by the Institute of Bioinformatics, Johannes Kepler University Linz)."
      ]
    },
    {
      "cell_type": "markdown",
      "metadata": {
        "id": "ee2TL70N270M",
        "colab_type": "text"
      },
      "source": [
        "Let's create a neural net for MNIST using the SELU activation function:"
      ]
    },
    {
      "cell_type": "code",
      "metadata": {
        "id": "Rzn3-12L270M",
        "colab_type": "code",
        "colab": {}
      },
      "source": [
        "reset_graph()\n",
        "\n",
        "n_inputs = 28 * 28  # MNIST\n",
        "n_hidden1 = 300\n",
        "n_hidden2 = 100\n",
        "n_outputs = 10\n",
        "\n",
        "X = tf.placeholder(tf.float32, shape=(None, n_inputs), name=\"X\")\n",
        "y = tf.placeholder(tf.int32, shape=(None), name=\"y\")\n",
        "\n",
        "with tf.name_scope(\"dnn\"):\n",
        "    hidden1 = tf.layers.dense(X, n_hidden1, activation=selu, name=\"hidden1\")\n",
        "    hidden2 = tf.layers.dense(hidden1, n_hidden2, activation=selu, name=\"hidden2\")\n",
        "    logits = tf.layers.dense(hidden2, n_outputs, name=\"outputs\")\n",
        "\n",
        "with tf.name_scope(\"loss\"):\n",
        "    xentropy = tf.nn.sparse_softmax_cross_entropy_with_logits(labels=y, logits=logits)\n",
        "    loss = tf.reduce_mean(xentropy, name=\"loss\")\n",
        "\n",
        "learning_rate = 0.01\n",
        "\n",
        "with tf.name_scope(\"train\"):\n",
        "    optimizer = tf.train.GradientDescentOptimizer(learning_rate)\n",
        "    training_op = optimizer.minimize(loss)\n",
        "\n",
        "with tf.name_scope(\"eval\"):\n",
        "    correct = tf.nn.in_top_k(logits, y, 1)\n",
        "    accuracy = tf.reduce_mean(tf.cast(correct, tf.float32))\n",
        "\n",
        "init = tf.global_variables_initializer()\n",
        "saver = tf.train.Saver()\n",
        "n_epochs = 40\n",
        "batch_size = 50"
      ],
      "execution_count": 39,
      "outputs": []
    },
    {
      "cell_type": "markdown",
      "metadata": {
        "id": "BiFKKPfo270O",
        "colab_type": "text"
      },
      "source": [
        "Now let's train it. Do not forget to scale the inputs to mean 0 and standard deviation 1:"
      ]
    },
    {
      "cell_type": "code",
      "metadata": {
        "id": "202WuFFM270P",
        "colab_type": "code",
        "colab": {
          "base_uri": "https://localhost:8080/",
          "height": 153
        },
        "outputId": "5679c94c-7402-4a5d-a7ff-52ba6ea3722a"
      },
      "source": [
        "means = X_train.mean(axis=0, keepdims=True)\n",
        "stds = X_train.std(axis=0, keepdims=True) + 1e-10\n",
        "X_val_scaled = (X_valid - means) / stds\n",
        "\n",
        "with tf.Session() as sess:\n",
        "    init.run()\n",
        "    for epoch in range(n_epochs):\n",
        "        for X_batch, y_batch in shuffle_batch(X_train, y_train, batch_size):\n",
        "            X_batch_scaled = (X_batch - means) / stds\n",
        "            sess.run(training_op, feed_dict={X: X_batch_scaled, y: y_batch})\n",
        "        if epoch % 5 == 0:\n",
        "            acc_batch = accuracy.eval(feed_dict={X: X_batch_scaled, y: y_batch})\n",
        "            acc_valid = accuracy.eval(feed_dict={X: X_val_scaled, y: y_valid})\n",
        "            print(epoch, \"Batch accuracy:\", acc_batch, \"Validation accuracy:\", acc_valid)\n",
        "\n",
        "    save_path = saver.save(sess, \"./my_model_final_selu.ckpt\")"
      ],
      "execution_count": 40,
      "outputs": [
        {
          "output_type": "stream",
          "text": [
            "0 Batch accuracy: 0.96 Validation accuracy: 0.94\n",
            "5 Batch accuracy: 0.98 Validation accuracy: 0.9652\n",
            "10 Batch accuracy: 1.0 Validation accuracy: 0.9674\n",
            "15 Batch accuracy: 1.0 Validation accuracy: 0.9682\n",
            "20 Batch accuracy: 1.0 Validation accuracy: 0.968\n",
            "25 Batch accuracy: 1.0 Validation accuracy: 0.9694\n",
            "30 Batch accuracy: 1.0 Validation accuracy: 0.9698\n",
            "35 Batch accuracy: 1.0 Validation accuracy: 0.9698\n"
          ],
          "name": "stdout"
        }
      ]
    },
    {
      "cell_type": "markdown",
      "metadata": {
        "id": "oj9otfjU270R",
        "colab_type": "text"
      },
      "source": [
        "# Batch Normalization"
      ]
    },
    {
      "cell_type": "markdown",
      "metadata": {
        "id": "sDc7IXgp270R",
        "colab_type": "text"
      },
      "source": [
        "Note: the book uses `tensorflow.contrib.layers.batch_norm()` rather than `tf.layers.batch_normalization()` (which did not exist when this chapter was written). It is now preferable to use `tf.layers.batch_normalization()`, because anything in the contrib module may change or be deleted without notice. Instead of using the `batch_norm()` function as a regularizer parameter to the `fully_connected()` function, we now use `batch_normalization()` and we explicitly create a distinct layer. The parameters are a bit different, in particular:\n",
        "* `decay` is renamed to `momentum`,\n",
        "* `is_training` is renamed to `training`,\n",
        "* `updates_collections` is removed: the update operations needed by batch normalization are added to the `UPDATE_OPS` collection and you need to explicity run these operations during training (see the execution phase below),\n",
        "* we don't need to specify `scale=True`, as that is the default.\n",
        "\n",
        "Also note that in order to run batch norm just _before_ each hidden layer's activation function, we apply the ELU activation function manually, right after the batch norm layer.\n",
        "\n",
        "Note: since the `tf.layers.dense()` function is incompatible with `tf.contrib.layers.arg_scope()` (which is used in the book), we now use python's `functools.partial()` function instead. It makes it easy to create a `my_dense_layer()` function that just calls `tf.layers.dense()` with the desired parameters automatically set (unless they are overridden when calling `my_dense_layer()`). As you can see, the code remains very similar."
      ]
    },
    {
      "cell_type": "code",
      "metadata": {
        "id": "zQS9J9_P270R",
        "colab_type": "code",
        "colab": {}
      },
      "source": [
        "reset_graph()\n",
        "\n",
        "import tensorflow as tf\n",
        "\n",
        "n_inputs = 28 * 28\n",
        "n_hidden1 = 300\n",
        "n_hidden2 = 100\n",
        "n_outputs = 10\n",
        "\n",
        "X = tf.placeholder(tf.float32, shape=(None, n_inputs), name=\"X\")\n",
        "\n",
        "training = tf.placeholder_with_default(False, shape=(), name='training')\n",
        "\n",
        "hidden1 = tf.layers.dense(X, n_hidden1, name=\"hidden1\")\n",
        "bn1 = tf.layers.batch_normalization(hidden1, training=training, momentum=0.9)\n",
        "bn1_act = tf.nn.elu(bn1)\n",
        "\n",
        "hidden2 = tf.layers.dense(bn1_act, n_hidden2, name=\"hidden2\")\n",
        "bn2 = tf.layers.batch_normalization(hidden2, training=training, momentum=0.9)\n",
        "bn2_act = tf.nn.elu(bn2)\n",
        "\n",
        "logits_before_bn = tf.layers.dense(bn2_act, n_outputs, name=\"outputs\")\n",
        "logits = tf.layers.batch_normalization(logits_before_bn, training=training,\n",
        "                                       momentum=0.9)"
      ],
      "execution_count": null,
      "outputs": []
    },
    {
      "cell_type": "code",
      "metadata": {
        "id": "_tZYXIeu270T",
        "colab_type": "code",
        "colab": {}
      },
      "source": [
        "reset_graph()\n",
        "\n",
        "X = tf.placeholder(tf.float32, shape=(None, n_inputs), name=\"X\")\n",
        "training = tf.placeholder_with_default(False, shape=(), name='training')"
      ],
      "execution_count": 64,
      "outputs": []
    },
    {
      "cell_type": "markdown",
      "metadata": {
        "id": "HukonXct270V",
        "colab_type": "text"
      },
      "source": [
        "To avoid repeating the same parameters over and over again, we can use Python's `partial()` function:"
      ]
    },
    {
      "cell_type": "code",
      "metadata": {
        "id": "LJnJ-_wf270V",
        "colab_type": "code",
        "colab": {
          "base_uri": "https://localhost:8080/",
          "height": 88
        },
        "outputId": "0f2a25fd-8b00-4505-ed84-a1c23325da7e"
      },
      "source": [
        "from functools import partial\n",
        "\n",
        "my_batch_norm_layer = partial(tf.layers.batch_normalization,\n",
        "                              training=training, momentum=0.9)\n",
        "\n",
        "hidden1 = tf.layers.dense(X, n_hidden1, name=\"hidden1\")\n",
        "bn1 = my_batch_norm_layer(hidden1)\n",
        "bn1_act = tf.nn.elu(bn1)\n",
        "hidden2 = tf.layers.dense(bn1_act, n_hidden2, name=\"hidden2\")\n",
        "bn2 = my_batch_norm_layer(hidden2)\n",
        "bn2_act = tf.nn.elu(bn2)\n",
        "logits_before_bn = tf.layers.dense(bn2_act, n_outputs, name=\"outputs\")\n",
        "logits = my_batch_norm_layer(logits_before_bn)"
      ],
      "execution_count": 65,
      "outputs": [
        {
          "output_type": "stream",
          "text": [
            "WARNING:tensorflow:From <ipython-input-65-4500b4d01206>:7: batch_normalization (from tensorflow.python.layers.normalization) is deprecated and will be removed in a future version.\n",
            "Instructions for updating:\n",
            "Use keras.layers.BatchNormalization instead.  In particular, `tf.control_dependencies(tf.GraphKeys.UPDATE_OPS)` should not be used (consult the `tf.keras.layers.BatchNormalization` documentation).\n"
          ],
          "name": "stdout"
        }
      ]
    },
    {
      "cell_type": "markdown",
      "metadata": {
        "id": "sU78L-kZ270Y",
        "colab_type": "text"
      },
      "source": [
        "Let's build a neural net for MNIST, using the ELU activation function and Batch Normalization at each layer:"
      ]
    },
    {
      "cell_type": "code",
      "metadata": {
        "id": "4Cl3nSJj270Y",
        "colab_type": "code",
        "colab": {}
      },
      "source": [
        "reset_graph()\n",
        "\n",
        "batch_norm_momentum = 0.9\n",
        "\n",
        "X = tf.placeholder(tf.float32, shape=(None, n_inputs), name=\"X\")\n",
        "y = tf.placeholder(tf.int32, shape=(None), name=\"y\")\n",
        "training = tf.placeholder_with_default(False, shape=(), name='training')\n",
        "\n",
        "with tf.name_scope(\"dnn\"):\n",
        "    he_init = tf.variance_scaling_initializer()\n",
        "\n",
        "    my_batch_norm_layer = partial(\n",
        "            tf.layers.batch_normalization,\n",
        "            training=training,\n",
        "            momentum=batch_norm_momentum)\n",
        "\n",
        "    my_dense_layer = partial(\n",
        "            tf.layers.dense,\n",
        "            kernel_initializer=he_init)\n",
        "\n",
        "    hidden1 = my_dense_layer(X, n_hidden1, name=\"hidden1\")\n",
        "    bn1 = tf.nn.elu(my_batch_norm_layer(hidden1))\n",
        "    hidden2 = my_dense_layer(bn1, n_hidden2, name=\"hidden2\")\n",
        "    bn2 = tf.nn.elu(my_batch_norm_layer(hidden2))\n",
        "    logits_before_bn = my_dense_layer(bn2, n_outputs, name=\"outputs\")\n",
        "    logits = my_batch_norm_layer(logits_before_bn)\n",
        "\n",
        "with tf.name_scope(\"loss\"):\n",
        "    xentropy = tf.nn.sparse_softmax_cross_entropy_with_logits(labels=y, logits=logits)\n",
        "    loss = tf.reduce_mean(xentropy, name=\"loss\")\n",
        "\n",
        "with tf.name_scope(\"train\"):\n",
        "    optimizer = tf.train.GradientDescentOptimizer(learning_rate)\n",
        "    training_op = optimizer.minimize(loss)\n",
        "\n",
        "with tf.name_scope(\"eval\"):\n",
        "    correct = tf.nn.in_top_k(logits, y, 1)\n",
        "    accuracy = tf.reduce_mean(tf.cast(correct, tf.float32))\n",
        "    \n",
        "init = tf.global_variables_initializer()\n",
        "saver = tf.train.Saver()"
      ],
      "execution_count": 66,
      "outputs": []
    },
    {
      "cell_type": "markdown",
      "metadata": {
        "id": "gVBGhXCw270a",
        "colab_type": "text"
      },
      "source": [
        "Note: since we are using `tf.layers.batch_normalization()` rather than `tf.contrib.layers.batch_norm()` (as in the book), we need to explicitly run the extra update operations needed by batch normalization (`sess.run([training_op, extra_update_ops],...`)."
      ]
    },
    {
      "cell_type": "code",
      "metadata": {
        "id": "vhvicmxk270b",
        "colab_type": "code",
        "colab": {}
      },
      "source": [
        "n_epochs = 20\n",
        "batch_size = 200"
      ],
      "execution_count": 67,
      "outputs": []
    },
    {
      "cell_type": "code",
      "metadata": {
        "id": "5Q6TEfMX270e",
        "colab_type": "code",
        "colab": {
          "base_uri": "https://localhost:8080/",
          "height": 357
        },
        "outputId": "f3d6af18-534d-4fa1-94ef-289b91c28138"
      },
      "source": [
        "extra_update_ops = tf.get_collection(tf.GraphKeys.UPDATE_OPS)\n",
        "\n",
        "with tf.Session() as sess:\n",
        "    init.run()\n",
        "    for epoch in range(n_epochs):\n",
        "        for X_batch, y_batch in shuffle_batch(X_train, y_train, batch_size):\n",
        "            sess.run([training_op, extra_update_ops],\n",
        "                     feed_dict={training: True, X: X_batch, y: y_batch})\n",
        "        accuracy_val = accuracy.eval(feed_dict={X: X_valid, y: y_valid})\n",
        "        print(epoch, \"Validation accuracy:\", accuracy_val)\n",
        "\n",
        "    save_path = saver.save(sess, \"./my_model_final.ckpt\")"
      ],
      "execution_count": 68,
      "outputs": [
        {
          "output_type": "stream",
          "text": [
            "0 Validation accuracy: 0.8956\n",
            "1 Validation accuracy: 0.9172\n",
            "2 Validation accuracy: 0.9294\n",
            "3 Validation accuracy: 0.9388\n",
            "4 Validation accuracy: 0.948\n",
            "5 Validation accuracy: 0.9532\n",
            "6 Validation accuracy: 0.9588\n",
            "7 Validation accuracy: 0.9604\n",
            "8 Validation accuracy: 0.962\n",
            "9 Validation accuracy: 0.9646\n",
            "10 Validation accuracy: 0.9668\n",
            "11 Validation accuracy: 0.9684\n",
            "12 Validation accuracy: 0.969\n",
            "13 Validation accuracy: 0.9696\n",
            "14 Validation accuracy: 0.9714\n",
            "15 Validation accuracy: 0.9712\n",
            "16 Validation accuracy: 0.9718\n",
            "17 Validation accuracy: 0.9736\n",
            "18 Validation accuracy: 0.9738\n",
            "19 Validation accuracy: 0.9738\n"
          ],
          "name": "stdout"
        }
      ]
    },
    {
      "cell_type": "markdown",
      "metadata": {
        "id": "TbxZo8uP270g",
        "colab_type": "text"
      },
      "source": [
        "What!? That's not a great accuracy for MNIST. Of course, if you train for longer it will get much better accuracy, but with such a shallow network, Batch Norm and ELU are unlikely to have very positive impact: they shine mostly for much deeper nets."
      ]
    },
    {
      "cell_type": "markdown",
      "metadata": {
        "id": "B-enAKRt270g",
        "colab_type": "text"
      },
      "source": [
        "Note that you could also make the training operation depend on the update operations:\n",
        "\n",
        "```python\n",
        "with tf.name_scope(\"train\"):\n",
        "    optimizer = tf.train.GradientDescentOptimizer(learning_rate)\n",
        "    extra_update_ops = tf.get_collection(tf.GraphKeys.UPDATE_OPS)\n",
        "    with tf.control_dependencies(extra_update_ops):\n",
        "        training_op = optimizer.minimize(loss)\n",
        "```\n",
        "\n",
        "This way, you would just have to evaluate the `training_op` during training, TensorFlow would automatically run the update operations as well:\n",
        "\n",
        "```python\n",
        "sess.run(training_op, feed_dict={training: True, X: X_batch, y: y_batch})\n",
        "```"
      ]
    },
    {
      "cell_type": "markdown",
      "metadata": {
        "id": "dvat5QH7270g",
        "colab_type": "text"
      },
      "source": [
        "One more thing: notice that the list of trainable variables is shorter than the list of all global variables. This is because the moving averages are non-trainable variables. If you want to reuse a pretrained neural network (see below), you must not forget these non-trainable variables."
      ]
    },
    {
      "cell_type": "code",
      "metadata": {
        "id": "FNy1hE2f270h",
        "colab_type": "code",
        "colab": {
          "base_uri": "https://localhost:8080/",
          "height": 221
        },
        "outputId": "15643fdd-d461-435f-da28-db2810fcfdd3"
      },
      "source": [
        "[v.name for v in tf.trainable_variables()]"
      ],
      "execution_count": 69,
      "outputs": [
        {
          "output_type": "execute_result",
          "data": {
            "text/plain": [
              "['hidden1/kernel:0',\n",
              " 'hidden1/bias:0',\n",
              " 'batch_normalization/gamma:0',\n",
              " 'batch_normalization/beta:0',\n",
              " 'hidden2/kernel:0',\n",
              " 'hidden2/bias:0',\n",
              " 'batch_normalization_1/gamma:0',\n",
              " 'batch_normalization_1/beta:0',\n",
              " 'outputs/kernel:0',\n",
              " 'outputs/bias:0',\n",
              " 'batch_normalization_2/gamma:0',\n",
              " 'batch_normalization_2/beta:0']"
            ]
          },
          "metadata": {
            "tags": []
          },
          "execution_count": 69
        }
      ]
    },
    {
      "cell_type": "code",
      "metadata": {
        "id": "llDARCY6270k",
        "colab_type": "code",
        "colab": {
          "base_uri": "https://localhost:8080/",
          "height": 323
        },
        "outputId": "6215894a-0fb4-4ac6-ffd0-6a4fe9a30d11"
      },
      "source": [
        "[v.name for v in tf.global_variables()]"
      ],
      "execution_count": 70,
      "outputs": [
        {
          "output_type": "execute_result",
          "data": {
            "text/plain": [
              "['hidden1/kernel:0',\n",
              " 'hidden1/bias:0',\n",
              " 'batch_normalization/gamma:0',\n",
              " 'batch_normalization/beta:0',\n",
              " 'batch_normalization/moving_mean:0',\n",
              " 'batch_normalization/moving_variance:0',\n",
              " 'hidden2/kernel:0',\n",
              " 'hidden2/bias:0',\n",
              " 'batch_normalization_1/gamma:0',\n",
              " 'batch_normalization_1/beta:0',\n",
              " 'batch_normalization_1/moving_mean:0',\n",
              " 'batch_normalization_1/moving_variance:0',\n",
              " 'outputs/kernel:0',\n",
              " 'outputs/bias:0',\n",
              " 'batch_normalization_2/gamma:0',\n",
              " 'batch_normalization_2/beta:0',\n",
              " 'batch_normalization_2/moving_mean:0',\n",
              " 'batch_normalization_2/moving_variance:0']"
            ]
          },
          "metadata": {
            "tags": []
          },
          "execution_count": 70
        }
      ]
    },
    {
      "cell_type": "markdown",
      "metadata": {
        "id": "j4gph4ki270n",
        "colab_type": "text"
      },
      "source": [
        "## Gradient Clipping"
      ]
    },
    {
      "cell_type": "markdown",
      "metadata": {
        "id": "XV1Q1Ggx270n",
        "colab_type": "text"
      },
      "source": [
        "Let's create a simple neural net for MNIST and add gradient clipping. The first part is the same as earlier (except we added a few more layers to demonstrate reusing pretrained models, see below):"
      ]
    },
    {
      "cell_type": "code",
      "metadata": {
        "id": "BMH-Jc6N270o",
        "colab_type": "code",
        "colab": {}
      },
      "source": [
        "reset_graph()\n",
        "\n",
        "n_inputs = 28 * 28  # MNIST\n",
        "n_hidden1 = 300\n",
        "n_hidden2 = 50\n",
        "n_hidden3 = 50\n",
        "n_hidden4 = 50\n",
        "n_hidden5 = 50\n",
        "n_outputs = 10\n",
        "\n",
        "X = tf.placeholder(tf.float32, shape=(None, n_inputs), name=\"X\")\n",
        "y = tf.placeholder(tf.int32, shape=(None), name=\"y\")\n",
        "\n",
        "with tf.name_scope(\"dnn\"):\n",
        "    hidden1 = tf.layers.dense(X, n_hidden1, activation=tf.nn.relu, name=\"hidden1\")\n",
        "    hidden2 = tf.layers.dense(hidden1, n_hidden2, activation=tf.nn.relu, name=\"hidden2\")\n",
        "    hidden3 = tf.layers.dense(hidden2, n_hidden3, activation=tf.nn.relu, name=\"hidden3\")\n",
        "    hidden4 = tf.layers.dense(hidden3, n_hidden4, activation=tf.nn.relu, name=\"hidden4\")\n",
        "    hidden5 = tf.layers.dense(hidden4, n_hidden5, activation=tf.nn.relu, name=\"hidden5\")\n",
        "    logits = tf.layers.dense(hidden5, n_outputs, name=\"outputs\")\n",
        "\n",
        "with tf.name_scope(\"loss\"):\n",
        "    xentropy = tf.nn.sparse_softmax_cross_entropy_with_logits(labels=y, logits=logits)\n",
        "    loss = tf.reduce_mean(xentropy, name=\"loss\")"
      ],
      "execution_count": null,
      "outputs": []
    },
    {
      "cell_type": "code",
      "metadata": {
        "id": "2RSv6kyc270q",
        "colab_type": "code",
        "colab": {}
      },
      "source": [
        "learning_rate = 0.01"
      ],
      "execution_count": null,
      "outputs": []
    },
    {
      "cell_type": "markdown",
      "metadata": {
        "id": "NC5g1R5o270s",
        "colab_type": "text"
      },
      "source": [
        "Now we apply gradient clipping. For this, we need to get the gradients, use the `clip_by_value()` function to clip them, then apply them:"
      ]
    },
    {
      "cell_type": "code",
      "metadata": {
        "id": "raLsEJEL270t",
        "colab_type": "code",
        "colab": {}
      },
      "source": [
        "threshold = 1.0\n",
        "\n",
        "optimizer = tf.train.GradientDescentOptimizer(learning_rate)\n",
        "grads_and_vars = optimizer.compute_gradients(loss)\n",
        "capped_gvs = [(tf.clip_by_value(grad, -threshold, threshold), var)\n",
        "              for grad, var in grads_and_vars]\n",
        "training_op = optimizer.apply_gradients(capped_gvs)"
      ],
      "execution_count": null,
      "outputs": []
    },
    {
      "cell_type": "markdown",
      "metadata": {
        "id": "fSweD63n270u",
        "colab_type": "text"
      },
      "source": [
        "The rest is the same as usual:"
      ]
    },
    {
      "cell_type": "code",
      "metadata": {
        "id": "dJBz_kAf270v",
        "colab_type": "code",
        "colab": {}
      },
      "source": [
        "with tf.name_scope(\"eval\"):\n",
        "    correct = tf.nn.in_top_k(logits, y, 1)\n",
        "    accuracy = tf.reduce_mean(tf.cast(correct, tf.float32), name=\"accuracy\")"
      ],
      "execution_count": null,
      "outputs": []
    },
    {
      "cell_type": "code",
      "metadata": {
        "id": "152Pv4VF2700",
        "colab_type": "code",
        "colab": {}
      },
      "source": [
        "init = tf.global_variables_initializer()\n",
        "saver = tf.train.Saver()"
      ],
      "execution_count": null,
      "outputs": []
    },
    {
      "cell_type": "code",
      "metadata": {
        "id": "gAiki6mN2701",
        "colab_type": "code",
        "colab": {}
      },
      "source": [
        "n_epochs = 20\n",
        "batch_size = 200"
      ],
      "execution_count": null,
      "outputs": []
    },
    {
      "cell_type": "code",
      "metadata": {
        "id": "iGnVnxuh2703",
        "colab_type": "code",
        "colab": {},
        "outputId": "d3e65adf-3864-451e-ae03-34330b936097"
      },
      "source": [
        "with tf.Session() as sess:\n",
        "    init.run()\n",
        "    for epoch in range(n_epochs):\n",
        "        for X_batch, y_batch in shuffle_batch(X_train, y_train, batch_size):\n",
        "            sess.run(training_op, feed_dict={X: X_batch, y: y_batch})\n",
        "        accuracy_val = accuracy.eval(feed_dict={X: X_valid, y: y_valid})\n",
        "        print(epoch, \"Validation accuracy:\", accuracy_val)\n",
        "\n",
        "    save_path = saver.save(sess, \"./my_model_final.ckpt\")"
      ],
      "execution_count": null,
      "outputs": [
        {
          "output_type": "stream",
          "text": [
            "0 Validation accuracy: 0.288\n",
            "1 Validation accuracy: 0.7936\n",
            "2 Validation accuracy: 0.8798\n",
            "3 Validation accuracy: 0.906\n",
            "4 Validation accuracy: 0.9164\n",
            "5 Validation accuracy: 0.9218\n",
            "6 Validation accuracy: 0.9296\n",
            "7 Validation accuracy: 0.9358\n",
            "8 Validation accuracy: 0.9382\n",
            "9 Validation accuracy: 0.9414\n",
            "10 Validation accuracy: 0.9456\n",
            "11 Validation accuracy: 0.9474\n",
            "12 Validation accuracy: 0.9478\n",
            "13 Validation accuracy: 0.9534\n",
            "14 Validation accuracy: 0.9568\n",
            "15 Validation accuracy: 0.9566\n",
            "16 Validation accuracy: 0.9574\n",
            "17 Validation accuracy: 0.959\n",
            "18 Validation accuracy: 0.9622\n",
            "19 Validation accuracy: 0.9612\n"
          ],
          "name": "stdout"
        }
      ]
    },
    {
      "cell_type": "markdown",
      "metadata": {
        "id": "pepXV7nL2706",
        "colab_type": "text"
      },
      "source": [
        "## Reusing Pretrained Layers"
      ]
    },
    {
      "cell_type": "markdown",
      "metadata": {
        "id": "i5L-updS2706",
        "colab_type": "text"
      },
      "source": [
        "## Reusing a TensorFlow Model"
      ]
    },
    {
      "cell_type": "markdown",
      "metadata": {
        "id": "ahLkra162706",
        "colab_type": "text"
      },
      "source": [
        "First you need to load the graph's structure. The `import_meta_graph()` function does just that, loading the graph's operations into the default graph, and returning a `Saver` that you can then use to restore the model's state. Note that by default, a `Saver` saves the structure of the graph into a `.meta` file, so that's the file you should load:"
      ]
    },
    {
      "cell_type": "code",
      "metadata": {
        "id": "KQzruCta2708",
        "colab_type": "code",
        "colab": {}
      },
      "source": [
        "reset_graph()"
      ],
      "execution_count": null,
      "outputs": []
    },
    {
      "cell_type": "code",
      "metadata": {
        "id": "fcRB5qUG270-",
        "colab_type": "code",
        "colab": {}
      },
      "source": [
        "saver = tf.train.import_meta_graph(\"./my_model_final.ckpt.meta\")"
      ],
      "execution_count": null,
      "outputs": []
    },
    {
      "cell_type": "markdown",
      "metadata": {
        "id": "ZkBoh9s6271A",
        "colab_type": "text"
      },
      "source": [
        "Next you need to get a handle on all the operations you will need for training. If you don't know the graph's structure, you can list all the operations:"
      ]
    },
    {
      "cell_type": "code",
      "metadata": {
        "id": "UEnAdSuY271A",
        "colab_type": "code",
        "colab": {},
        "outputId": "d06478a3-c514-4b6b-865b-005d38a1f0f0"
      },
      "source": [
        "for op in tf.get_default_graph().get_operations():\n",
        "    print(op.name)"
      ],
      "execution_count": null,
      "outputs": [
        {
          "output_type": "stream",
          "text": [
            "X\n",
            "y\n",
            "hidden1/kernel/Initializer/random_uniform/shape\n",
            "hidden1/kernel/Initializer/random_uniform/min\n",
            "hidden1/kernel/Initializer/random_uniform/max\n",
            "hidden1/kernel/Initializer/random_uniform/RandomUniform\n",
            "hidden1/kernel/Initializer/random_uniform/sub\n",
            "hidden1/kernel/Initializer/random_uniform/mul\n",
            "hidden1/kernel/Initializer/random_uniform\n",
            "hidden1/kernel\n",
            "hidden1/kernel/Assign\n",
            "hidden1/kernel/read\n",
            "hidden1/bias/Initializer/zeros\n",
            "hidden1/bias\n",
            "hidden1/bias/Assign\n",
            "hidden1/bias/read\n",
            "dnn/hidden1/MatMul\n",
            "dnn/hidden1/BiasAdd\n",
            "dnn/hidden1/Relu\n",
            "hidden2/kernel/Initializer/random_uniform/shape\n",
            "hidden2/kernel/Initializer/random_uniform/min\n",
            "hidden2/kernel/Initializer/random_uniform/max\n",
            "hidden2/kernel/Initializer/random_uniform/RandomUniform\n",
            "hidden2/kernel/Initializer/random_uniform/sub\n",
            "hidden2/kernel/Initializer/random_uniform/mul\n",
            "hidden2/kernel/Initializer/random_uniform\n",
            "hidden2/kernel\n",
            "hidden2/kernel/Assign\n",
            "hidden2/kernel/read\n",
            "hidden2/bias/Initializer/zeros\n",
            "hidden2/bias\n",
            "hidden2/bias/Assign\n",
            "hidden2/bias/read\n",
            "dnn/hidden2/MatMul\n",
            "dnn/hidden2/BiasAdd\n",
            "<<208 more lines>>\n",
            "GradientDescent/update_hidden3/bias/ApplyGradientDescent\n",
            "GradientDescent/update_hidden4/kernel/ApplyGradientDescent\n",
            "GradientDescent/update_hidden4/bias/ApplyGradientDescent\n",
            "GradientDescent/update_hidden5/kernel/ApplyGradientDescent\n",
            "GradientDescent/update_hidden5/bias/ApplyGradientDescent\n",
            "GradientDescent/update_outputs/kernel/ApplyGradientDescent\n",
            "GradientDescent/update_outputs/bias/ApplyGradientDescent\n",
            "GradientDescent\n",
            "eval/in_top_k/InTopKV2/k\n",
            "eval/in_top_k/InTopKV2\n",
            "eval/Cast\n",
            "eval/Const\n",
            "eval/accuracy\n",
            "init\n",
            "save/Const\n",
            "save/SaveV2/tensor_names\n",
            "save/SaveV2/shape_and_slices\n",
            "save/SaveV2\n",
            "save/control_dependency\n",
            "save/RestoreV2/tensor_names\n",
            "save/RestoreV2/shape_and_slices\n",
            "save/RestoreV2\n",
            "save/Assign\n",
            "save/Assign_1\n",
            "save/Assign_2\n",
            "save/Assign_3\n",
            "save/Assign_4\n",
            "save/Assign_5\n",
            "save/Assign_6\n",
            "save/Assign_7\n",
            "save/Assign_8\n",
            "save/Assign_9\n",
            "save/Assign_10\n",
            "save/Assign_11\n",
            "save/restore_all\n"
          ],
          "name": "stdout"
        }
      ]
    },
    {
      "cell_type": "markdown",
      "metadata": {
        "id": "qRv-spDA271D",
        "colab_type": "text"
      },
      "source": [
        "Oops, that's a lot of operations! It's much easier to use TensorBoard to visualize the graph. The following hack will allow you to visualize the graph within Jupyter (if it does not work with your browser, you will need to use a `FileWriter` to save the graph and then visualize it in TensorBoard):"
      ]
    },
    {
      "cell_type": "code",
      "metadata": {
        "id": "hBTcpa9W271D",
        "colab_type": "code",
        "colab": {}
      },
      "source": [
        "from tensorflow_graph_in_jupyter import show_graph"
      ],
      "execution_count": null,
      "outputs": []
    },
    {
      "cell_type": "code",
      "metadata": {
        "scrolled": true,
        "id": "Q2MK1Yzs271E",
        "colab_type": "code",
        "colab": {},
        "outputId": "92ec13fe-0168-4e4e-8bfe-c0db9d8d1621"
      },
      "source": [
        "show_graph(tf.get_default_graph())"
      ],
      "execution_count": null,
      "outputs": [
        {
          "output_type": "display_data",
          "data": {
            "text/html": [
              "\n",
              "        <iframe seamless style=\"width:1200px;height:620px;border:0\" srcdoc=\"\n",
              "        <script src=&quot;//cdnjs.cloudflare.com/ajax/libs/polymer/0.3.3/platform.js&quot;></script>\n",
              "        <script>\n",
              "          function load() {\n",
              "            document.getElementById(&quot;graph0.3745401188473625&quot;).pbtxt = 'node {\\n  name: &quot;X&quot;\\n  op: &quot;Placeholder&quot;\\n  attr {\\n    key: &quot;dtype&quot;\\n    value {\\n      type: DT_FLOAT\\n    }\\n  }\\n  attr {\\n    key: &quot;shape&quot;\\n    value {\\n      shape {\\n        dim {\\n          size: -1\\n        }\\n        dim {\\n          size: 784\\n        }\\n      }\\n    }\\n  }\\n}\\nnode {\\n  name: &quot;y&quot;\\n  op: &quot;Placeholder&quot;\\n  attr {\\n    key: &quot;dtype&quot;\\n    value {\\n      type: DT_INT32\\n    }\\n  }\\n  attr {\\n    key: &quot;shape&quot;\\n    value {\\n      shape {\\n        unknown_rank: true\\n      }\\n    }\\n  }\\n}\\nnode {\\n  name: &quot;hidden1/kernel/Initializer/random_uniform/shape&quot;\\n  op: &quot;Const&quot;\\n  attr {\\n    key: &quot;_class&quot;\\n    value {\\n      list {\\n        s: &quot;loc:@hidden1/kernel&quot;\\n      }\\n    }\\n  }\\n  attr {\\n    key: &quot;dtype&quot;\\n    value {\\n      type: DT_INT32\\n    }\\n  }\\n  attr {\\n    key: &quot;value&quot;\\n    value {\\n      tensor {\\n        dtype: DT_INT32\\n        tensor_shape {\\n          dim {\\n            size: 2\\n          }\\n        }\\n        tensor_content: &quot;\\\\020\\\\003\\\\000\\\\000,\\\\001\\\\000\\\\000&quot;\\n      }\\n    }\\n  }\\n}\\nnode {\\n  name: &quot;hidden1/kernel/Initializer/random_uniform/min&quot;\\n  op: &quot;Const&quot;\\n  attr {\\n    key: &quot;_class&quot;\\n    value {\\n      list {\\n        s: &quot;loc:@hidden1/kernel&quot;\\n      }\\n    }\\n  }\\n  attr {\\n    key: &quot;dtype&quot;\\n    value {\\n      type: DT_FLOAT\\n    }\\n  }\\n  attr {\\n    key: &quot;value&quot;\\n    value {\\n      tensor {\\n        dtype: DT_FLOAT\\n        tensor_shape {\\n        }\\n        float_val: -0.07439795136451721\\n      }\\n    }\\n  }\\n}\\nnode {\\n  name: &quot;hidden1/kernel/Initializer/random_uniform/max&quot;\\n  op: &quot;Const&quot;\\n  attr {\\n    key: &quot;_class&quot;\\n    value {\\n      list {\\n        s: &quot;loc:@hidden1/kernel&quot;\\n      }\\n    }\\n  }\\n  attr {\\n    key: &quot;dtype&quot;\\n    value {\\n      type: DT_FLOAT\\n    }\\n  }\\n  attr {\\n    key: &quot;value&quot;\\n    value {\\n      tensor {\\n        dtype: DT_FLOAT\\n        tensor_shape {\\n        }\\n        float_val: 0.07439795136451721\\n      }\\n    }\\n  }\\n}\\nnode {\\n  name: &quot;hidden1/kernel/Initializer/random_uniform/RandomUniform&quot;\\n  op: &quot;RandomUniform&quot;\\n  input: &quot;hidden1/kernel/Initializer/random_uniform/shape&quot;\\n  attr {\\n    key: &quot;T&quot;\\n    value {\\n      type: DT_INT32\\n    }\\n  }\\n  attr {\\n    key: &quot;_class&quot;\\n    value {\\n      list {\\n        s: &quot;loc:@hidden1/kernel&quot;\\n      }\\n    }\\n  }\\n  attr {\\n    key: &quot;dtype&quot;\\n    value {\\n      type: DT_FLOAT\\n    }\\n  }\\n  attr {\\n    key: &quot;seed&quot;\\n    value {\\n      i: 42\\n    }\\n  }\\n  attr {\\n    key: &quot;seed2&quot;\\n    value {\\n      i: 5\\n    }\\n  }\\n}\\nnode {\\n  name: &quot;hidden1/kernel/Initializer/random_uniform/sub&quot;\\n  op: &quot;Sub&quot;\\n  input: &quot;hidden1/kernel/Initializer/random_uniform/max&quot;\\n  input: &quot;hidden1/kernel/Initializer/random_uniform/min&quot;\\n  attr {\\n    key: &quot;T&quot;\\n    value {\\n      type: DT_FLOAT\\n    }\\n  }\\n  attr {\\n    key: &quot;_class&quot;\\n    value {\\n      list {\\n        s: &quot;loc:@hidden1/kernel&quot;\\n      }\\n    }\\n  }\\n}\\nnode {\\n  name: &quot;hidden1/kernel/Initializer/random_uniform/mul&quot;\\n  op: &quot;Mul&quot;\\n  input: &quot;hidden1/kernel/Initializer/random_uniform/RandomUniform&quot;\\n  input: &quot;hidden1/kernel/Initializer/random_uniform/sub&quot;\\n  attr {\\n    key: &quot;T&quot;\\n    value {\\n      type: DT_FLOAT\\n    }\\n  }\\n  attr {\\n    key: &quot;_class&quot;\\n    value {\\n      list {\\n        s: &quot;loc:@hidden1/kernel&quot;\\n      }\\n    }\\n  }\\n}\\nnode {\\n  name: &quot;hidden1/kernel/Initializer/random_uniform&quot;\\n  op: &quot;Add&quot;\\n  input: &quot;hidden1/kernel/Initializer/random_uniform/mul&quot;\\n  input: &quot;hidden1/kernel/Initializer/random_uniform/min&quot;\\n  attr {\\n    key: &quot;T&quot;\\n    value {\\n      type: DT_FLOAT\\n    }\\n  }\\n  attr {\\n    key: &quot;_class&quot;\\n    value {\\n      list {\\n        s: &quot;loc:@hidden1/kernel&quot;\\n      }\\n    }\\n  }\\n}\\nnode {\\n  name: &quot;hidden1/kernel&quot;\\n  op: &quot;VariableV2&quot;\\n  attr {\\n    key: &quot;_class&quot;\\n    value {\\n      list {\\n        s: &quot;loc:@hidden1/kernel&quot;\\n      }\\n    }\\n  }\\n  attr {\\n    key: &quot;container&quot;\\n    value {\\n      s: &quot;&quot;\\n    }\\n  }\\n  attr {\\n    key: &quot;dtype&quot;\\n    value {\\n      type: DT_FLOAT\\n    }\\n  }\\n  attr {\\n    key: &quot;shape&quot;\\n    value {\\n      shape {\\n        dim {\\n          size: 784\\n        }\\n        dim {\\n          size: 300\\n        }\\n      }\\n    }\\n  }\\n  attr {\\n    key: &quot;shared_name&quot;\\n    value {\\n      s: &quot;&quot;\\n    }\\n  }\\n}\\nnode {\\n  name: &quot;hidden1/kernel/Assign&quot;\\n  op: &quot;Assign&quot;\\n  input: &quot;hidden1/kernel&quot;\\n  input: &quot;hidden1/kernel/Initializer/random_uniform&quot;\\n  attr {\\n    key: &quot;T&quot;\\n    value {\\n      type: DT_FLOAT\\n    }\\n  }\\n  attr {\\n    key: &quot;_class&quot;\\n    value {\\n      list {\\n        s: &quot;loc:@hidden1/kernel&quot;\\n      }\\n    }\\n  }\\n  attr {\\n    key: &quot;use_locking&quot;\\n    value {\\n      b: true\\n    }\\n  }\\n  attr {\\n    key: &quot;validate_shape&quot;\\n    value {\\n      b: true\\n    }\\n  }\\n}\\nnode {\\n  name: &quot;hidden1/kernel/read&quot;\\n  op: &quot;Identity&quot;\\n  input: &quot;hidden1/kernel&quot;\\n  attr {\\n    key: &quot;T&quot;\\n    value {\\n      type: DT_FLOAT\\n    }\\n  }\\n  attr {\\n    key: &quot;_class&quot;\\n    value {\\n      list {\\n        s: &quot;loc:@hidden1/kernel&quot;\\n      }\\n    }\\n  }\\n}\\nnode {\\n  name: &quot;hidden1/bias/Initializer/zeros&quot;\\n  op: &quot;Const&quot;\\n  attr {\\n    key: &quot;_class&quot;\\n    value {\\n      list {\\n        s: &quot;loc:@hidden1/bias&quot;\\n      }\\n    }\\n  }\\n  attr {\\n    key: &quot;dtype&quot;\\n    value {\\n      type: DT_FLOAT\\n    }\\n  }\\n  attr {\\n    key: &quot;value&quot;\\n    value {\\n      tensor {\\n        dtype: DT_FLOAT\\n        tensor_shape {\\n          dim {\\n            size: 300\\n          }\\n        }\\n        float_val: 0.0\\n      }\\n    }\\n  }\\n}\\nnode {\\n  name: &quot;hidden1/bias&quot;\\n  op: &quot;VariableV2&quot;\\n  attr {\\n    key: &quot;_class&quot;\\n    value {\\n      list {\\n        s: &quot;loc:@hidden1/bias&quot;\\n      }\\n    }\\n  }\\n  attr {\\n    key: &quot;container&quot;\\n    value {\\n      s: &quot;&quot;\\n    }\\n  }\\n  attr {\\n    key: &quot;dtype&quot;\\n    value {\\n      type: DT_FLOAT\\n    }\\n  }\\n  attr {\\n    key: &quot;shape&quot;\\n    value {\\n      shape {\\n        dim {\\n          size: 300\\n        }\\n      }\\n    }\\n  }\\n  attr {\\n    key: &quot;shared_name&quot;\\n    value {\\n      s: &quot;&quot;\\n    }\\n  }\\n}\\nnode {\\n  name: &quot;hidden1/bias/Assign&quot;\\n  op: &quot;Assign&quot;\\n  input: &quot;hidden1/bias&quot;\\n  input: &quot;hidden1/bias/Initializer/zeros&quot;\\n  attr {\\n    key: &quot;T&quot;\\n    value {\\n      type: DT_FLOAT\\n    }\\n  }\\n  attr {\\n    key: &quot;_class&quot;\\n    value {\\n      list {\\n        s: &quot;loc:@hidden1/bias&quot;\\n      }\\n    }\\n  }\\n  attr {\\n    key: &quot;use_locking&quot;\\n    value {\\n      b: true\\n    }\\n  }\\n  attr {\\n    key: &quot;validate_shape&quot;\\n    value {\\n      b: true\\n    }\\n  }\\n}\\nnode {\\n  name: &quot;hidden1/bias/read&quot;\\n  op: &quot;Identity&quot;\\n  input: &quot;hidden1/bias&quot;\\n  attr {\\n    key: &quot;T&quot;\\n    value {\\n      type: DT_FLOAT\\n    }\\n  }\\n  attr {\\n    key: &quot;_class&quot;\\n    value {\\n      list {\\n        s: &quot;loc:@hidden1/bias&quot;\\n      }\\n    }\\n  }\\n}\\nnode {\\n  name: &quot;dnn/hidden1/MatMul&quot;\\n  op: &quot;MatMul&quot;\\n  input: &quot;X&quot;\\n  input: &quot;hidden1/kernel/read&quot;\\n  attr {\\n    key: &quot;T&quot;\\n    value {\\n      type: DT_FLOAT\\n    }\\n  }\\n  attr {\\n    key: &quot;transpose_a&quot;\\n    value {\\n      b: false\\n    }\\n  }\\n  attr {\\n    key: &quot;transpose_b&quot;\\n    value {\\n      b: false\\n    }\\n  }\\n}\\nnode {\\n  name: &quot;dnn/hidden1/BiasAdd&quot;\\n  op: &quot;BiasAdd&quot;\\n  input: &quot;dnn/hidden1/MatMul&quot;\\n  input: &quot;hidden1/bias/read&quot;\\n  attr {\\n    key: &quot;T&quot;\\n    value {\\n      type: DT_FLOAT\\n    }\\n  }\\n  attr {\\n    key: &quot;data_format&quot;\\n    value {\\n      s: &quot;NHWC&quot;\\n    }\\n  }\\n}\\nnode {\\n  name: &quot;dnn/hidden1/Relu&quot;\\n  op: &quot;Relu&quot;\\n  input: &quot;dnn/hidden1/BiasAdd&quot;\\n  attr {\\n    key: &quot;T&quot;\\n    value {\\n      type: DT_FLOAT\\n    }\\n  }\\n}\\nnode {\\n  name: &quot;hidden2/kernel/Initializer/random_uniform/shape&quot;\\n  op: &quot;Const&quot;\\n  attr {\\n    key: &quot;_class&quot;\\n    value {\\n      list {\\n        s: &quot;loc:@hidden2/kernel&quot;\\n      }\\n    }\\n  }\\n  attr {\\n    key: &quot;dtype&quot;\\n    value {\\n      type: DT_INT32\\n    }\\n  }\\n  attr {\\n    key: &quot;value&quot;\\n    value {\\n      tensor {\\n        dtype: DT_INT32\\n        tensor_shape {\\n          dim {\\n            size: 2\\n          }\\n        }\\n        tensor_content: &quot;,\\\\001\\\\000\\\\0002\\\\000\\\\000\\\\000&quot;\\n      }\\n    }\\n  }\\n}\\nnode {\\n  name: &quot;hidden2/kernel/Initializer/random_uniform/min&quot;\\n  op: &quot;Const&quot;\\n  attr {\\n    key: &quot;_class&quot;\\n    value {\\n      list {\\n        s: &quot;loc:@hidden2/kernel&quot;\\n      }\\n    }\\n  }\\n  attr {\\n    key: &quot;dtype&quot;\\n    value {\\n      type: DT_FLOAT\\n    }\\n  }\\n  attr {\\n    key: &quot;value&quot;\\n    value {\\n      tensor {\\n        dtype: DT_FLOAT\\n        tensor_shape {\\n        }\\n        float_val: -0.13093073666095734\\n      }\\n    }\\n  }\\n}\\nnode {\\n  name: &quot;hidden2/kernel/Initializer/random_uniform/max&quot;\\n  op: &quot;Const&quot;\\n  attr {\\n    key: &quot;_class&quot;\\n    value {\\n      list {\\n        s: &quot;loc:@hidden2/kernel&quot;\\n      }\\n    }\\n  }\\n  attr {\\n    key: &quot;dtype&quot;\\n    value {\\n      type: DT_FLOAT\\n    }\\n  }\\n  attr {\\n    key: &quot;value&quot;\\n    value {\\n      tensor {\\n        dtype: DT_FLOAT\\n        tensor_shape {\\n        }\\n        float_val: 0.13093073666095734\\n      }\\n    }\\n  }\\n}\\nnode {\\n  name: &quot;hidden2/kernel/Initializer/random_uniform/RandomUniform&quot;\\n  op: &quot;RandomUniform&quot;\\n  input: &quot;hidden2/kernel/Initializer/random_uniform/shape&quot;\\n  attr {\\n    key: &quot;T&quot;\\n    value {\\n      type: DT_INT32\\n    }\\n  }\\n  attr {\\n    key: &quot;_class&quot;\\n    value {\\n      list {\\n        s: &quot;loc:@hidden2/kernel&quot;\\n      }\\n    }\\n  }\\n  attr {\\n    key: &quot;dtype&quot;\\n    value {\\n      type: DT_FLOAT\\n    }\\n  }\\n  attr {\\n    key: &quot;seed&quot;\\n    value {\\n      i: 42\\n    }\\n  }\\n  attr {\\n    key: &quot;seed2&quot;\\n    value {\\n      i: 22\\n    }\\n  }\\n}\\nnode {\\n  name: &quot;hidden2/kernel/Initializer/random_uniform/sub&quot;\\n  op: &quot;Sub&quot;\\n  input: &quot;hidden2/kernel/Initializer/random_uniform/max&quot;\\n  input: &quot;hidden2/kernel/Initializer/random_uniform/min&quot;\\n  attr {\\n    key: &quot;T&quot;\\n    value {\\n      type: DT_FLOAT\\n    }\\n  }\\n  attr {\\n    key: &quot;_class&quot;\\n    value {\\n      list {\\n        s: &quot;loc:@hidden2/kernel&quot;\\n      }\\n    }\\n  }\\n}\\nnode {\\n  name: &quot;hidden2/kernel/Initializer/random_uniform/mul&quot;\\n  op: &quot;Mul&quot;\\n  input: &quot;hidden2/kernel/Initializer/random_uniform/RandomUniform&quot;\\n  input: &quot;hidden2/kernel/Initializer/random_uniform/sub&quot;\\n  attr {\\n    key: &quot;T&quot;\\n    value {\\n      type: DT_FLOAT\\n    }\\n  }\\n  attr {\\n    key: &quot;_class&quot;\\n    value {\\n      list {\\n        s: &quot;loc:@hidden2/kernel&quot;\\n      }\\n    }\\n  }\\n}\\nnode {\\n  name: &quot;hidden2/kernel/Initializer/random_uniform&quot;\\n  op: &quot;Add&quot;\\n  input: &quot;hidden2/kernel/Initializer/random_uniform/mul&quot;\\n  input: &quot;hidden2/kernel/Initializer/random_uniform/min&quot;\\n  attr {\\n    key: &quot;T&quot;\\n    value {\\n      type: DT_FLOAT\\n    }\\n  }\\n  attr {\\n    key: &quot;_class&quot;\\n    value {\\n      list {\\n        s: &quot;loc:@hidden2/kernel&quot;\\n      }\\n    }\\n  }\\n}\\nnode {\\n  name: &quot;hidden2/kernel&quot;\\n  op: &quot;VariableV2&quot;\\n  attr {\\n    key: &quot;_class&quot;\\n    value {\\n      list {\\n        s: &quot;loc:@hidden2/kernel&quot;\\n      }\\n    }\\n  }\\n  attr {\\n    key: &quot;container&quot;\\n    value {\\n      s: &quot;&quot;\\n    }\\n  }\\n  attr {\\n    key: &quot;dtype&quot;\\n    value {\\n      type: DT_FLOAT\\n    }\\n  }\\n  attr {\\n    key: &quot;shape&quot;\\n    value {\\n      shape {\\n        dim {\\n          size: 300\\n        }\\n        dim {\\n          size: 50\\n        }\\n      }\\n    }\\n  }\\n  attr {\\n    key: &quot;shared_name&quot;\\n    value {\\n      s: &quot;&quot;\\n    }\\n  }\\n}\\nnode {\\n  name: &quot;hidden2/kernel/Assign&quot;\\n  op: &quot;Assign&quot;\\n  input: &quot;hidden2/kernel&quot;\\n  input: &quot;hidden2/kernel/Initializer/random_uniform&quot;\\n  attr {\\n    key: &quot;T&quot;\\n    value {\\n      type: DT_FLOAT\\n    }\\n  }\\n  attr {\\n    key: &quot;_class&quot;\\n    value {\\n      list {\\n        s: &quot;loc:@hidden2/kernel&quot;\\n      }\\n    }\\n  }\\n  attr {\\n    key: &quot;use_locking&quot;\\n    value {\\n      b: true\\n    }\\n  }\\n  attr {\\n    key: &quot;validate_shape&quot;\\n    value {\\n      b: true\\n    }\\n  }\\n}\\nnode {\\n  name: &quot;hidden2/kernel/read&quot;\\n  op: &quot;Identity&quot;\\n  input: &quot;hidden2/kernel&quot;\\n  attr {\\n    key: &quot;T&quot;\\n    value {\\n      type: DT_FLOAT\\n    }\\n  }\\n  attr {\\n    key: &quot;_class&quot;\\n    value {\\n      list {\\n        s: &quot;loc:@hidden2/kernel&quot;\\n      }\\n    }\\n  }\\n}\\nnode {\\n  name: &quot;hidden2/bias/Initializer/zeros&quot;\\n  op: &quot;Const&quot;\\n  attr {\\n    key: &quot;_class&quot;\\n    value {\\n      list {\\n        s: &quot;loc:@hidden2/bias&quot;\\n      }\\n    }\\n  }\\n  attr {\\n    key: &quot;dtype&quot;\\n    value {\\n      type: DT_FLOAT\\n    }\\n  }\\n  attr {\\n    key: &quot;value&quot;\\n    value {\\n      tensor {\\n        dtype: DT_FLOAT\\n        tensor_shape {\\n          dim {\\n            size: 50\\n          }\\n        }\\n        float_val: 0.0\\n      }\\n    }\\n  }\\n}\\nnode {\\n  name: &quot;hidden2/bias&quot;\\n  op: &quot;VariableV2&quot;\\n  attr {\\n    key: &quot;_class&quot;\\n    value {\\n      list {\\n        s: &quot;loc:@hidden2/bias&quot;\\n      }\\n    }\\n  }\\n  attr {\\n    key: &quot;container&quot;\\n    value {\\n      s: &quot;&quot;\\n    }\\n  }\\n  attr {\\n    key: &quot;dtype&quot;\\n    value {\\n      type: DT_FLOAT\\n    }\\n  }\\n  attr {\\n    key: &quot;shape&quot;\\n    value {\\n      shape {\\n        dim {\\n          size: 50\\n        }\\n      }\\n    }\\n  }\\n  attr {\\n    key: &quot;shared_name&quot;\\n    value {\\n      s: &quot;&quot;\\n    }\\n  }\\n}\\nnode {\\n  name: &quot;hidden2/bias/Assign&quot;\\n  op: &quot;Assign&quot;\\n  input: &quot;hidden2/bias&quot;\\n  input: &quot;hidden2/bias/Initializer/zeros&quot;\\n  attr {\\n    key: &quot;T&quot;\\n    value {\\n      type: DT_FLOAT\\n    }\\n  }\\n  attr {\\n    key: &quot;_class&quot;\\n    value {\\n      list {\\n        s: &quot;loc:@hidden2/bias&quot;\\n      }\\n    }\\n  }\\n  attr {\\n    key: &quot;use_locking&quot;\\n    value {\\n      b: true\\n    }\\n  }\\n  attr {\\n    key: &quot;validate_shape&quot;\\n    value {\\n      b: true\\n    }\\n  }\\n}\\nnode {\\n  name: &quot;hidden2/bias/read&quot;\\n  op: &quot;Identity&quot;\\n  input: &quot;hidden2/bias&quot;\\n  attr {\\n    key: &quot;T&quot;\\n    value {\\n      type: DT_FLOAT\\n    }\\n  }\\n  attr {\\n    key: &quot;_class&quot;\\n    value {\\n      list {\\n        s: &quot;loc:@hidden2/bias&quot;\\n      }\\n    }\\n  }\\n}\\nnode {\\n  name: &quot;dnn/hidden2/MatMul&quot;\\n  op: &quot;MatMul&quot;\\n  input: &quot;dnn/hidden1/Relu&quot;\\n  input: &quot;hidden2/kernel/read&quot;\\n  attr {\\n    key: &quot;T&quot;\\n    value {\\n      type: DT_FLOAT\\n    }\\n  }\\n  attr {\\n    key: &quot;transpose_a&quot;\\n    value {\\n      b: false\\n    }\\n  }\\n  attr {\\n    key: &quot;transpose_b&quot;\\n    value {\\n      b: false\\n    }\\n  }\\n}\\nnode {\\n  name: &quot;dnn/hidden2/BiasAdd&quot;\\n  op: &quot;BiasAdd&quot;\\n  input: &quot;dnn/hidden2/MatMul&quot;\\n  input: &quot;hidden2/bias/read&quot;\\n  attr {\\n    key: &quot;T&quot;\\n    value {\\n      type: DT_FLOAT\\n    }\\n  }\\n  attr {\\n    key: &quot;data_format&quot;\\n    value {\\n      s: &quot;NHWC&quot;\\n    }\\n  }\\n}\\nnode {\\n  name: &quot;dnn/hidden2/Relu&quot;\\n  op: &quot;Relu&quot;\\n  input: &quot;dnn/hidden2/BiasAdd&quot;\\n  attr {\\n    key: &quot;T&quot;\\n    value {\\n      type: DT_FLOAT\\n    }\\n  }\\n}\\nnode {\\n  name: &quot;hidden3/kernel/Initializer/random_uniform/shape&quot;\\n  op: &quot;Const&quot;\\n  attr {\\n    key: &quot;_class&quot;\\n    value {\\n      list {\\n        s: &quot;loc:@hidden3/kernel&quot;\\n      }\\n    }\\n  }\\n  attr {\\n    key: &quot;dtype&quot;\\n    value {\\n      type: DT_INT32\\n    }\\n  }\\n  attr {\\n    key: &quot;value&quot;\\n    value {\\n      tensor {\\n        dtype: DT_INT32\\n        tensor_shape {\\n          dim {\\n            size: 2\\n          }\\n        }\\n        tensor_content: &quot;2\\\\000\\\\000\\\\0002\\\\000\\\\000\\\\000&quot;\\n      }\\n    }\\n  }\\n}\\nnode {\\n  name: &quot;hidden3/kernel/Initializer/random_uniform/min&quot;\\n  op: &quot;Const&quot;\\n  attr {\\n    key: &quot;_class&quot;\\n    value {\\n      list {\\n        s: &quot;loc:@hidden3/kernel&quot;\\n      }\\n    }\\n  }\\n  attr {\\n    key: &quot;dtype&quot;\\n    value {\\n      type: DT_FLOAT\\n    }\\n  }\\n  attr {\\n    key: &quot;value&quot;\\n    value {\\n      tensor {\\n        dtype: DT_FLOAT\\n        tensor_shape {\\n        }\\n        float_val: -0.24494896829128265\\n      }\\n    }\\n  }\\n}\\nnode {\\n  name: &quot;hidden3/kernel/Initializer/random_uniform/max&quot;\\n  op: &quot;Const&quot;\\n  attr {\\n    key: &quot;_class&quot;\\n    value {\\n      list {\\n        s: &quot;loc:@hidden3/kernel&quot;\\n      }\\n    }\\n  }\\n  attr {\\n    key: &quot;dtype&quot;\\n    value {\\n      type: DT_FLOAT\\n    }\\n  }\\n  attr {\\n    key: &quot;value&quot;\\n    value {\\n      tensor {\\n        dtype: DT_FLOAT\\n        tensor_shape {\\n        }\\n        float_val: 0.24494896829128265\\n      }\\n    }\\n  }\\n}\\nnode {\\n  name: &quot;hidden3/kernel/Initializer/random_uniform/RandomUniform&quot;\\n  op: &quot;RandomUniform&quot;\\n  input: &quot;hidden3/kernel/Initializer/random_uniform/shape&quot;\\n  attr {\\n    key: &quot;T&quot;\\n    value {\\n      type: DT_INT32\\n    }\\n  }\\n  attr {\\n    key: &quot;_class&quot;\\n    value {\\n      list {\\n        s: &quot;loc:@hidden3/kernel&quot;\\n      }\\n    }\\n  }\\n  attr {\\n    key: &quot;dtype&quot;\\n    value {\\n      type: DT_FLOAT\\n    }\\n  }\\n  attr {\\n    key: &quot;seed&quot;\\n    value {\\n      i: 42\\n    }\\n  }\\n  attr {\\n    key: &quot;seed2&quot;\\n    value {\\n      i: 39\\n    }\\n  }\\n}\\nnode {\\n  name: &quot;hidden3/kernel/Initializer/random_uniform/sub&quot;\\n  op: &quot;Sub&quot;\\n  input: &quot;hidden3/kernel/Initializer/random_uniform/max&quot;\\n  input: &quot;hidden3/kernel/Initializer/random_uniform/min&quot;\\n  attr {\\n    key: &quot;T&quot;\\n    value {\\n      type: DT_FLOAT\\n    }\\n  }\\n  attr {\\n    key: &quot;_class&quot;\\n    value {\\n      list {\\n        s: &quot;loc:@hidden3/kernel&quot;\\n      }\\n    }\\n  }\\n}\\nnode {\\n  name: &quot;hidden3/kernel/Initializer/random_uniform/mul&quot;\\n  op: &quot;Mul&quot;\\n  input: &quot;hidden3/kernel/Initializer/random_uniform/RandomUniform&quot;\\n  input: &quot;hidden3/kernel/Initializer/random_uniform/sub&quot;\\n  attr {\\n    key: &quot;T&quot;\\n    value {\\n      type: DT_FLOAT\\n    }\\n  }\\n  attr {\\n    key: &quot;_class&quot;\\n    value {\\n      list {\\n        s: &quot;loc:@hidden3/kernel&quot;\\n      }\\n    }\\n  }\\n}\\nnode {\\n  name: &quot;hidden3/kernel/Initializer/random_uniform&quot;\\n  op: &quot;Add&quot;\\n  input: &quot;hidden3/kernel/Initializer/random_uniform/mul&quot;\\n  input: &quot;hidden3/kernel/Initializer/random_uniform/min&quot;\\n  attr {\\n    key: &quot;T&quot;\\n    value {\\n      type: DT_FLOAT\\n    }\\n  }\\n  attr {\\n    key: &quot;_class&quot;\\n    value {\\n      list {\\n        s: &quot;loc:@hidden3/kernel&quot;\\n      }\\n    }\\n  }\\n}\\nnode {\\n  name: &quot;hidden3/kernel&quot;\\n  op: &quot;VariableV2&quot;\\n  attr {\\n    key: &quot;_class&quot;\\n    value {\\n      list {\\n        s: &quot;loc:@hidden3/kernel&quot;\\n      }\\n    }\\n  }\\n  attr {\\n    key: &quot;container&quot;\\n    value {\\n      s: &quot;&quot;\\n    }\\n  }\\n  attr {\\n    key: &quot;dtype&quot;\\n    value {\\n      type: DT_FLOAT\\n    }\\n  }\\n  attr {\\n    key: &quot;shape&quot;\\n    value {\\n      shape {\\n        dim {\\n          size: 50\\n        }\\n        dim {\\n          size: 50\\n        }\\n      }\\n    }\\n  }\\n  attr {\\n    key: &quot;shared_name&quot;\\n    value {\\n      s: &quot;&quot;\\n    }\\n  }\\n}\\nnode {\\n  name: &quot;hidden3/kernel/Assign&quot;\\n  op: &quot;Assign&quot;\\n  input: &quot;hidden3/kernel&quot;\\n  input: &quot;hidden3/kernel/Initializer/random_uniform&quot;\\n  attr {\\n    key: &quot;T&quot;\\n    value {\\n      type: DT_FLOAT\\n    }\\n  }\\n  attr {\\n    key: &quot;_class&quot;\\n    value {\\n      list {\\n        s: &quot;loc:@hidden3/kernel&quot;\\n      }\\n    }\\n  }\\n  attr {\\n    key: &quot;use_locking&quot;\\n    value {\\n      b: true\\n    }\\n  }\\n  attr {\\n    key: &quot;validate_shape&quot;\\n    value {\\n      b: true\\n    }\\n  }\\n}\\nnode {\\n  name: &quot;hidden3/kernel/read&quot;\\n  op: &quot;Identity&quot;\\n  input: &quot;hidden3/kernel&quot;\\n  attr {\\n    key: &quot;T&quot;\\n    value {\\n      type: DT_FLOAT\\n    }\\n  }\\n  attr {\\n    key: &quot;_class&quot;\\n    value {\\n      list {\\n        s: &quot;loc:@hidden3/kernel&quot;\\n      }\\n    }\\n  }\\n}\\nnode {\\n  name: &quot;hidden3/bias/Initializer/zeros&quot;\\n  op: &quot;Const&quot;\\n  attr {\\n    key: &quot;_class&quot;\\n    value {\\n      list {\\n        s: &quot;loc:@hidden3/bias&quot;\\n      }\\n    }\\n  }\\n  attr {\\n    key: &quot;dtype&quot;\\n    value {\\n      type: DT_FLOAT\\n    }\\n  }\\n  attr {\\n    key: &quot;value&quot;\\n    value {\\n      tensor {\\n        dtype: DT_FLOAT\\n        tensor_shape {\\n          dim {\\n            size: 50\\n          }\\n        }\\n        float_val: 0.0\\n      }\\n    }\\n  }\\n}\\nnode {\\n  name: &quot;hidden3/bias&quot;\\n  op: &quot;VariableV2&quot;\\n  attr {\\n    key: &quot;_class&quot;\\n    value {\\n      list {\\n        s: &quot;loc:@hidden3/bias&quot;\\n      }\\n    }\\n  }\\n  attr {\\n    key: &quot;container&quot;\\n    value {\\n      s: &quot;&quot;\\n    }\\n  }\\n  attr {\\n    key: &quot;dtype&quot;\\n    value {\\n      type: DT_FLOAT\\n    }\\n  }\\n  attr {\\n    key: &quot;shape&quot;\\n    value {\\n      shape {\\n        dim {\\n          size: 50\\n        }\\n      }\\n    }\\n  }\\n  attr {\\n    key: &quot;shared_name&quot;\\n    value {\\n      s: &quot;&quot;\\n    }\\n  }\\n}\\nnode {\\n  name: &quot;hidden3/bias/Assign&quot;\\n  op: &quot;Assign&quot;\\n  input: &quot;hidden3/bias&quot;\\n  input: &quot;hidden3/bias/Initializer/zeros&quot;\\n  attr {\\n    key: &quot;T&quot;\\n    value {\\n      type: DT_FLOAT\\n    }\\n  }\\n  attr {\\n    key: &quot;_class&quot;\\n    value {\\n      list {\\n        s: &quot;loc:@hidden3/bias&quot;\\n      }\\n    }\\n  }\\n  attr {\\n    key: &quot;use_locking&quot;\\n    value {\\n      b: true\\n    }\\n  }\\n  attr {\\n    key: &quot;validate_shape&quot;\\n    value {\\n      b: true\\n    }\\n  }\\n}\\nnode {\\n  name: &quot;hidden3/bias/read&quot;\\n  op: &quot;Identity&quot;\\n  input: &quot;hidden3/bias&quot;\\n  attr {\\n    key: &quot;T&quot;\\n    value {\\n      type: DT_FLOAT\\n    }\\n  }\\n  attr {\\n    key: &quot;_class&quot;\\n    value {\\n      list {\\n        s: &quot;loc:@hidden3/bias&quot;\\n      }\\n    }\\n  }\\n}\\nnode {\\n  name: &quot;dnn/hidden3/MatMul&quot;\\n  op: &quot;MatMul&quot;\\n  input: &quot;dnn/hidden2/Relu&quot;\\n  input: &quot;hidden3/kernel/read&quot;\\n  attr {\\n    key: &quot;T&quot;\\n    value {\\n      type: DT_FLOAT\\n    }\\n  }\\n  attr {\\n    key: &quot;transpose_a&quot;\\n    value {\\n      b: false\\n    }\\n  }\\n  attr {\\n    key: &quot;transpose_b&quot;\\n    value {\\n      b: false\\n    }\\n  }\\n}\\nnode {\\n  name: &quot;dnn/hidden3/BiasAdd&quot;\\n  op: &quot;BiasAdd&quot;\\n  input: &quot;dnn/hidden3/MatMul&quot;\\n  input: &quot;hidden3/bias/read&quot;\\n  attr {\\n    key: &quot;T&quot;\\n    value {\\n      type: DT_FLOAT\\n    }\\n  }\\n  attr {\\n    key: &quot;data_format&quot;\\n    value {\\n      s: &quot;NHWC&quot;\\n    }\\n  }\\n}\\nnode {\\n  name: &quot;dnn/hidden3/Relu&quot;\\n  op: &quot;Relu&quot;\\n  input: &quot;dnn/hidden3/BiasAdd&quot;\\n  attr {\\n    key: &quot;T&quot;\\n    value {\\n      type: DT_FLOAT\\n    }\\n  }\\n}\\nnode {\\n  name: &quot;hidden4/kernel/Initializer/random_uniform/shape&quot;\\n  op: &quot;Const&quot;\\n  attr {\\n    key: &quot;_class&quot;\\n    value {\\n      list {\\n        s: &quot;loc:@hidden4/kernel&quot;\\n      }\\n    }\\n  }\\n  attr {\\n    key: &quot;dtype&quot;\\n    value {\\n      type: DT_INT32\\n    }\\n  }\\n  attr {\\n    key: &quot;value&quot;\\n    value {\\n      tensor {\\n        dtype: DT_INT32\\n        tensor_shape {\\n          dim {\\n            size: 2\\n          }\\n        }\\n        tensor_content: &quot;2\\\\000\\\\000\\\\0002\\\\000\\\\000\\\\000&quot;\\n      }\\n    }\\n  }\\n}\\nnode {\\n  name: &quot;hidden4/kernel/Initializer/random_uniform/min&quot;\\n  op: &quot;Const&quot;\\n  attr {\\n    key: &quot;_class&quot;\\n    value {\\n      list {\\n        s: &quot;loc:@hidden4/kernel&quot;\\n      }\\n    }\\n  }\\n  attr {\\n    key: &quot;dtype&quot;\\n    value {\\n      type: DT_FLOAT\\n    }\\n  }\\n  attr {\\n    key: &quot;value&quot;\\n    value {\\n      tensor {\\n        dtype: DT_FLOAT\\n        tensor_shape {\\n        }\\n        float_val: -0.24494896829128265\\n      }\\n    }\\n  }\\n}\\nnode {\\n  name: &quot;hidden4/kernel/Initializer/random_uniform/max&quot;\\n  op: &quot;Const&quot;\\n  attr {\\n    key: &quot;_class&quot;\\n    value {\\n      list {\\n        s: &quot;loc:@hidden4/kernel&quot;\\n      }\\n    }\\n  }\\n  attr {\\n    key: &quot;dtype&quot;\\n    value {\\n      type: DT_FLOAT\\n    }\\n  }\\n  attr {\\n    key: &quot;value&quot;\\n    value {\\n      tensor {\\n        dtype: DT_FLOAT\\n        tensor_shape {\\n        }\\n        float_val: 0.24494896829128265\\n      }\\n    }\\n  }\\n}\\nnode {\\n  name: &quot;hidden4/kernel/Initializer/random_uniform/RandomUniform&quot;\\n  op: &quot;RandomUniform&quot;\\n  input: &quot;hidden4/kernel/Initializer/random_uniform/shape&quot;\\n  attr {\\n    key: &quot;T&quot;\\n    value {\\n      type: DT_INT32\\n    }\\n  }\\n  attr {\\n    key: &quot;_class&quot;\\n    value {\\n      list {\\n        s: &quot;loc:@hidden4/kernel&quot;\\n      }\\n    }\\n  }\\n  attr {\\n    key: &quot;dtype&quot;\\n    value {\\n      type: DT_FLOAT\\n    }\\n  }\\n  attr {\\n    key: &quot;seed&quot;\\n    value {\\n      i: 42\\n    }\\n  }\\n  attr {\\n    key: &quot;seed2&quot;\\n    value {\\n      i: 56\\n    }\\n  }\\n}\\nnode {\\n  name: &quot;hidden4/kernel/Initializer/random_uniform/sub&quot;\\n  op: &quot;Sub&quot;\\n  input: &quot;hidden4/kernel/Initializer/random_uniform/max&quot;\\n  input: &quot;hidden4/kernel/Initializer/random_uniform/min&quot;\\n  attr {\\n    key: &quot;T&quot;\\n    value {\\n      type: DT_FLOAT\\n    }\\n  }\\n  attr {\\n    key: &quot;_class&quot;\\n    value {\\n      list {\\n        s: &quot;loc:@hidden4/kernel&quot;\\n      }\\n    }\\n  }\\n}\\nnode {\\n  name: &quot;hidden4/kernel/Initializer/random_uniform/mul&quot;\\n  op: &quot;Mul&quot;\\n  input: &quot;hidden4/kernel/Initializer/random_uniform/RandomUniform&quot;\\n  input: &quot;hidden4/kernel/Initializer/random_uniform/sub&quot;\\n  attr {\\n    key: &quot;T&quot;\\n    value {\\n      type: DT_FLOAT\\n    }\\n  }\\n  attr {\\n    key: &quot;_class&quot;\\n    value {\\n      list {\\n        s: &quot;loc:@hidden4/kernel&quot;\\n      }\\n    }\\n  }\\n}\\nnode {\\n  name: &quot;hidden4/kernel/Initializer/random_uniform&quot;\\n  op: &quot;Add&quot;\\n  input: &quot;hidden4/kernel/Initializer/random_uniform/mul&quot;\\n  input: &quot;hidden4/kernel/Initializer/random_uniform/min&quot;\\n  attr {\\n    key: &quot;T&quot;\\n    value {\\n      type: DT_FLOAT\\n    }\\n  }\\n  attr {\\n    key: &quot;_class&quot;\\n    value {\\n      list {\\n        s: &quot;loc:@hidden4/kernel&quot;\\n      }\\n    }\\n  }\\n}\\nnode {\\n  name: &quot;hidden4/kernel&quot;\\n  op: &quot;VariableV2&quot;\\n  attr {\\n    key: &quot;_class&quot;\\n    value {\\n      list {\\n        s: &quot;loc:@hidden4/kernel&quot;\\n      }\\n    }\\n  }\\n  attr {\\n    key: &quot;container&quot;\\n    value {\\n      s: &quot;&quot;\\n    }\\n  }\\n  attr {\\n    key: &quot;dtype&quot;\\n    value {\\n      type: DT_FLOAT\\n    }\\n  }\\n  attr {\\n    key: &quot;shape&quot;\\n    value {\\n      shape {\\n        dim {\\n          size: 50\\n        }\\n        dim {\\n          size: 50\\n        }\\n      }\\n    }\\n  }\\n  attr {\\n    key: &quot;shared_name&quot;\\n    value {\\n      s: &quot;&quot;\\n    }\\n  }\\n}\\nnode {\\n  name: &quot;hidden4/kernel/Assign&quot;\\n  op: &quot;Assign&quot;\\n  input: &quot;hidden4/kernel&quot;\\n  input: &quot;hidden4/kernel/Initializer/random_uniform&quot;\\n  attr {\\n    key: &quot;T&quot;\\n    value {\\n      type: DT_FLOAT\\n    }\\n  }\\n  attr {\\n    key: &quot;_class&quot;\\n    value {\\n      list {\\n        s: &quot;loc:@hidden4/kernel&quot;\\n      }\\n    }\\n  }\\n  attr {\\n    key: &quot;use_locking&quot;\\n    value {\\n      b: true\\n    }\\n  }\\n  attr {\\n    key: &quot;validate_shape&quot;\\n    value {\\n      b: true\\n    }\\n  }\\n}\\nnode {\\n  name: &quot;hidden4/kernel/read&quot;\\n  op: &quot;Identity&quot;\\n  input: &quot;hidden4/kernel&quot;\\n  attr {\\n    key: &quot;T&quot;\\n    value {\\n      type: DT_FLOAT\\n    }\\n  }\\n  attr {\\n    key: &quot;_class&quot;\\n    value {\\n      list {\\n        s: &quot;loc:@hidden4/kernel&quot;\\n      }\\n    }\\n  }\\n}\\nnode {\\n  name: &quot;hidden4/bias/Initializer/zeros&quot;\\n  op: &quot;Const&quot;\\n  attr {\\n    key: &quot;_class&quot;\\n    value {\\n      list {\\n        s: &quot;loc:@hidden4/bias&quot;\\n      }\\n    }\\n  }\\n  attr {\\n    key: &quot;dtype&quot;\\n    value {\\n      type: DT_FLOAT\\n    }\\n  }\\n  attr {\\n    key: &quot;value&quot;\\n    value {\\n      tensor {\\n        dtype: DT_FLOAT\\n        tensor_shape {\\n          dim {\\n            size: 50\\n          }\\n        }\\n        float_val: 0.0\\n      }\\n    }\\n  }\\n}\\nnode {\\n  name: &quot;hidden4/bias&quot;\\n  op: &quot;VariableV2&quot;\\n  attr {\\n    key: &quot;_class&quot;\\n    value {\\n      list {\\n        s: &quot;loc:@hidden4/bias&quot;\\n      }\\n    }\\n  }\\n  attr {\\n    key: &quot;container&quot;\\n    value {\\n      s: &quot;&quot;\\n    }\\n  }\\n  attr {\\n    key: &quot;dtype&quot;\\n    value {\\n      type: DT_FLOAT\\n    }\\n  }\\n  attr {\\n    key: &quot;shape&quot;\\n    value {\\n      shape {\\n        dim {\\n          size: 50\\n        }\\n      }\\n    }\\n  }\\n  attr {\\n    key: &quot;shared_name&quot;\\n    value {\\n      s: &quot;&quot;\\n    }\\n  }\\n}\\nnode {\\n  name: &quot;hidden4/bias/Assign&quot;\\n  op: &quot;Assign&quot;\\n  input: &quot;hidden4/bias&quot;\\n  input: &quot;hidden4/bias/Initializer/zeros&quot;\\n  attr {\\n    key: &quot;T&quot;\\n    value {\\n      type: DT_FLOAT\\n    }\\n  }\\n  attr {\\n    key: &quot;_class&quot;\\n    value {\\n      list {\\n        s: &quot;loc:@hidden4/bias&quot;\\n      }\\n    }\\n  }\\n  attr {\\n    key: &quot;use_locking&quot;\\n    value {\\n      b: true\\n    }\\n  }\\n  attr {\\n    key: &quot;validate_shape&quot;\\n    value {\\n      b: true\\n    }\\n  }\\n}\\nnode {\\n  name: &quot;hidden4/bias/read&quot;\\n  op: &quot;Identity&quot;\\n  input: &quot;hidden4/bias&quot;\\n  attr {\\n    key: &quot;T&quot;\\n    value {\\n      type: DT_FLOAT\\n    }\\n  }\\n  attr {\\n    key: &quot;_class&quot;\\n    value {\\n      list {\\n        s: &quot;loc:@hidden4/bias&quot;\\n      }\\n    }\\n  }\\n}\\nnode {\\n  name: &quot;dnn/hidden4/MatMul&quot;\\n  op: &quot;MatMul&quot;\\n  input: &quot;dnn/hidden3/Relu&quot;\\n  input: &quot;hidden4/kernel/read&quot;\\n  attr {\\n    key: &quot;T&quot;\\n    value {\\n      type: DT_FLOAT\\n    }\\n  }\\n  attr {\\n    key: &quot;transpose_a&quot;\\n    value {\\n      b: false\\n    }\\n  }\\n  attr {\\n    key: &quot;transpose_b&quot;\\n    value {\\n      b: false\\n    }\\n  }\\n}\\nnode {\\n  name: &quot;dnn/hidden4/BiasAdd&quot;\\n  op: &quot;BiasAdd&quot;\\n  input: &quot;dnn/hidden4/MatMul&quot;\\n  input: &quot;hidden4/bias/read&quot;\\n  attr {\\n    key: &quot;T&quot;\\n    value {\\n      type: DT_FLOAT\\n    }\\n  }\\n  attr {\\n    key: &quot;data_format&quot;\\n    value {\\n      s: &quot;NHWC&quot;\\n    }\\n  }\\n}\\nnode {\\n  name: &quot;dnn/hidden4/Relu&quot;\\n  op: &quot;Relu&quot;\\n  input: &quot;dnn/hidden4/BiasAdd&quot;\\n  attr {\\n    key: &quot;T&quot;\\n    value {\\n      type: DT_FLOAT\\n    }\\n  }\\n}\\nnode {\\n  name: &quot;hidden5/kernel/Initializer/random_uniform/shape&quot;\\n  op: &quot;Const&quot;\\n  attr {\\n    key: &quot;_class&quot;\\n    value {\\n      list {\\n        s: &quot;loc:@hidden5/kernel&quot;\\n      }\\n    }\\n  }\\n  attr {\\n    key: &quot;dtype&quot;\\n    value {\\n      type: DT_INT32\\n    }\\n  }\\n  attr {\\n    key: &quot;value&quot;\\n    value {\\n      tensor {\\n        dtype: DT_INT32\\n        tensor_shape {\\n          dim {\\n            size: 2\\n          }\\n        }\\n        tensor_content: &quot;2\\\\000\\\\000\\\\0002\\\\000\\\\000\\\\000&quot;\\n      }\\n    }\\n  }\\n}\\nnode {\\n  name: &quot;hidden5/kernel/Initializer/random_uniform/min&quot;\\n  op: &quot;Const&quot;\\n  attr {\\n    key: &quot;_class&quot;\\n    value {\\n      list {\\n        s: &quot;loc:@hidden5/kernel&quot;\\n      }\\n    }\\n  }\\n  attr {\\n    key: &quot;dtype&quot;\\n    value {\\n      type: DT_FLOAT\\n    }\\n  }\\n  attr {\\n    key: &quot;value&quot;\\n    value {\\n      tensor {\\n        dtype: DT_FLOAT\\n        tensor_shape {\\n        }\\n        float_val: -0.24494896829128265\\n      }\\n    }\\n  }\\n}\\nnode {\\n  name: &quot;hidden5/kernel/Initializer/random_uniform/max&quot;\\n  op: &quot;Const&quot;\\n  attr {\\n    key: &quot;_class&quot;\\n    value {\\n      list {\\n        s: &quot;loc:@hidden5/kernel&quot;\\n      }\\n    }\\n  }\\n  attr {\\n    key: &quot;dtype&quot;\\n    value {\\n      type: DT_FLOAT\\n    }\\n  }\\n  attr {\\n    key: &quot;value&quot;\\n    value {\\n      tensor {\\n        dtype: DT_FLOAT\\n        tensor_shape {\\n        }\\n        float_val: 0.24494896829128265\\n      }\\n    }\\n  }\\n}\\nnode {\\n  name: &quot;hidden5/kernel/Initializer/random_uniform/RandomUniform&quot;\\n  op: &quot;RandomUniform&quot;\\n  input: &quot;hidden5/kernel/Initializer/random_uniform/shape&quot;\\n  attr {\\n    key: &quot;T&quot;\\n    value {\\n      type: DT_INT32\\n    }\\n  }\\n  attr {\\n    key: &quot;_class&quot;\\n    value {\\n      list {\\n        s: &quot;loc:@hidden5/kernel&quot;\\n      }\\n    }\\n  }\\n  attr {\\n    key: &quot;dtype&quot;\\n    value {\\n      type: DT_FLOAT\\n    }\\n  }\\n  attr {\\n    key: &quot;seed&quot;\\n    value {\\n      i: 42\\n    }\\n  }\\n  attr {\\n    key: &quot;seed2&quot;\\n    value {\\n      i: 73\\n    }\\n  }\\n}\\nnode {\\n  name: &quot;hidden5/kernel/Initializer/random_uniform/sub&quot;\\n  op: &quot;Sub&quot;\\n  input: &quot;hidden5/kernel/Initializer/random_uniform/max&quot;\\n  input: &quot;hidden5/kernel/Initializer/random_uniform/min&quot;\\n  attr {\\n    key: &quot;T&quot;\\n    value {\\n      type: DT_FLOAT\\n    }\\n  }\\n  attr {\\n    key: &quot;_class&quot;\\n    value {\\n      list {\\n        s: &quot;loc:@hidden5/kernel&quot;\\n      }\\n    }\\n  }\\n}\\nnode {\\n  name: &quot;hidden5/kernel/Initializer/random_uniform/mul&quot;\\n  op: &quot;Mul&quot;\\n  input: &quot;hidden5/kernel/Initializer/random_uniform/RandomUniform&quot;\\n  input: &quot;hidden5/kernel/Initializer/random_uniform/sub&quot;\\n  attr {\\n    key: &quot;T&quot;\\n    value {\\n      type: DT_FLOAT\\n    }\\n  }\\n  attr {\\n    key: &quot;_class&quot;\\n    value {\\n      list {\\n        s: &quot;loc:@hidden5/kernel&quot;\\n      }\\n    }\\n  }\\n}\\nnode {\\n  name: &quot;hidden5/kernel/Initializer/random_uniform&quot;\\n  op: &quot;Add&quot;\\n  input: &quot;hidden5/kernel/Initializer/random_uniform/mul&quot;\\n  input: &quot;hidden5/kernel/Initializer/random_uniform/min&quot;\\n  attr {\\n    key: &quot;T&quot;\\n    value {\\n      type: DT_FLOAT\\n    }\\n  }\\n  attr {\\n    key: &quot;_class&quot;\\n    value {\\n      list {\\n        s: &quot;loc:@hidden5/kernel&quot;\\n      }\\n    }\\n  }\\n}\\nnode {\\n  name: &quot;hidden5/kernel&quot;\\n  op: &quot;VariableV2&quot;\\n  attr {\\n    key: &quot;_class&quot;\\n    value {\\n      list {\\n        s: &quot;loc:@hidden5/kernel&quot;\\n      }\\n    }\\n  }\\n  attr {\\n    key: &quot;container&quot;\\n    value {\\n      s: &quot;&quot;\\n    }\\n  }\\n  attr {\\n    key: &quot;dtype&quot;\\n    value {\\n      type: DT_FLOAT\\n    }\\n  }\\n  attr {\\n    key: &quot;shape&quot;\\n    value {\\n      shape {\\n        dim {\\n          size: 50\\n        }\\n        dim {\\n          size: 50\\n        }\\n      }\\n    }\\n  }\\n  attr {\\n    key: &quot;shared_name&quot;\\n    value {\\n      s: &quot;&quot;\\n    }\\n  }\\n}\\nnode {\\n  name: &quot;hidden5/kernel/Assign&quot;\\n  op: &quot;Assign&quot;\\n  input: &quot;hidden5/kernel&quot;\\n  input: &quot;hidden5/kernel/Initializer/random_uniform&quot;\\n  attr {\\n    key: &quot;T&quot;\\n    value {\\n      type: DT_FLOAT\\n    }\\n  }\\n  attr {\\n    key: &quot;_class&quot;\\n    value {\\n      list {\\n        s: &quot;loc:@hidden5/kernel&quot;\\n      }\\n    }\\n  }\\n  attr {\\n    key: &quot;use_locking&quot;\\n    value {\\n      b: true\\n    }\\n  }\\n  attr {\\n    key: &quot;validate_shape&quot;\\n    value {\\n      b: true\\n    }\\n  }\\n}\\nnode {\\n  name: &quot;hidden5/kernel/read&quot;\\n  op: &quot;Identity&quot;\\n  input: &quot;hidden5/kernel&quot;\\n  attr {\\n    key: &quot;T&quot;\\n    value {\\n      type: DT_FLOAT\\n    }\\n  }\\n  attr {\\n    key: &quot;_class&quot;\\n    value {\\n      list {\\n        s: &quot;loc:@hidden5/kernel&quot;\\n      }\\n    }\\n  }\\n}\\nnode {\\n  name: &quot;hidden5/bias/Initializer/zeros&quot;\\n  op: &quot;Const&quot;\\n  attr {\\n    key: &quot;_class&quot;\\n    value {\\n      list {\\n        s: &quot;loc:@hidden5/bias&quot;\\n      }\\n    }\\n  }\\n  attr {\\n    key: &quot;dtype&quot;\\n    value {\\n      type: DT_FLOAT\\n    }\\n  }\\n  attr {\\n    key: &quot;value&quot;\\n    value {\\n      tensor {\\n        dtype: DT_FLOAT\\n        tensor_shape {\\n          dim {\\n            size: 50\\n          }\\n        }\\n        float_val: 0.0\\n      }\\n    }\\n  }\\n}\\nnode {\\n  name: &quot;hidden5/bias&quot;\\n  op: &quot;VariableV2&quot;\\n  attr {\\n    key: &quot;_class&quot;\\n    value {\\n      list {\\n        s: &quot;loc:@hidden5/bias&quot;\\n      }\\n    }\\n  }\\n  attr {\\n    key: &quot;container&quot;\\n    value {\\n      s: &quot;&quot;\\n    }\\n  }\\n  attr {\\n    key: &quot;dtype&quot;\\n    value {\\n      type: DT_FLOAT\\n    }\\n  }\\n  attr {\\n    key: &quot;shape&quot;\\n    value {\\n      shape {\\n        dim {\\n          size: 50\\n        }\\n      }\\n    }\\n  }\\n  attr {\\n    key: &quot;shared_name&quot;\\n    value {\\n      s: &quot;&quot;\\n    }\\n  }\\n}\\nnode {\\n  name: &quot;hidden5/bias/Assign&quot;\\n  op: &quot;Assign&quot;\\n  input: &quot;hidden5/bias&quot;\\n  input: &quot;hidden5/bias/Initializer/zeros&quot;\\n  attr {\\n    key: &quot;T&quot;\\n    value {\\n      type: DT_FLOAT\\n    }\\n  }\\n  attr {\\n    key: &quot;_class&quot;\\n    value {\\n      list {\\n        s: &quot;loc:@hidden5/bias&quot;\\n      }\\n    }\\n  }\\n  attr {\\n    key: &quot;use_locking&quot;\\n    value {\\n      b: true\\n    }\\n  }\\n  attr {\\n    key: &quot;validate_shape&quot;\\n    value {\\n      b: true\\n    }\\n  }\\n}\\nnode {\\n  name: &quot;hidden5/bias/read&quot;\\n  op: &quot;Identity&quot;\\n  input: &quot;hidden5/bias&quot;\\n  attr {\\n    key: &quot;T&quot;\\n    value {\\n      type: DT_FLOAT\\n    }\\n  }\\n  attr {\\n    key: &quot;_class&quot;\\n    value {\\n      list {\\n        s: &quot;loc:@hidden5/bias&quot;\\n      }\\n    }\\n  }\\n}\\nnode {\\n  name: &quot;dnn/hidden5/MatMul&quot;\\n  op: &quot;MatMul&quot;\\n  input: &quot;dnn/hidden4/Relu&quot;\\n  input: &quot;hidden5/kernel/read&quot;\\n  attr {\\n    key: &quot;T&quot;\\n    value {\\n      type: DT_FLOAT\\n    }\\n  }\\n  attr {\\n    key: &quot;transpose_a&quot;\\n    value {\\n      b: false\\n    }\\n  }\\n  attr {\\n    key: &quot;transpose_b&quot;\\n    value {\\n      b: false\\n    }\\n  }\\n}\\nnode {\\n  name: &quot;dnn/hidden5/BiasAdd&quot;\\n  op: &quot;BiasAdd&quot;\\n  input: &quot;dnn/hidden5/MatMul&quot;\\n  input: &quot;hidden5/bias/read&quot;\\n  attr {\\n    key: &quot;T&quot;\\n    value {\\n      type: DT_FLOAT\\n    }\\n  }\\n  attr {\\n    key: &quot;data_format&quot;\\n    value {\\n      s: &quot;NHWC&quot;\\n    }\\n  }\\n}\\nnode {\\n  name: &quot;dnn/hidden5/Relu&quot;\\n  op: &quot;Relu&quot;\\n  input: &quot;dnn/hidden5/BiasAdd&quot;\\n  attr {\\n    key: &quot;T&quot;\\n    value {\\n      type: DT_FLOAT\\n    }\\n  }\\n}\\nnode {\\n  name: &quot;outputs/kernel/Initializer/random_uniform/shape&quot;\\n  op: &quot;Const&quot;\\n  attr {\\n    key: &quot;_class&quot;\\n    value {\\n      list {\\n        s: &quot;loc:@outputs/kernel&quot;\\n      }\\n    }\\n  }\\n  attr {\\n    key: &quot;dtype&quot;\\n    value {\\n      type: DT_INT32\\n    }\\n  }\\n  attr {\\n    key: &quot;value&quot;\\n    value {\\n      tensor {\\n        dtype: DT_INT32\\n        tensor_shape {\\n          dim {\\n            size: 2\\n          }\\n        }\\n        tensor_content: &quot;2\\\\000\\\\000\\\\000\\\\n\\\\000\\\\000\\\\000&quot;\\n      }\\n    }\\n  }\\n}\\nnode {\\n  name: &quot;outputs/kernel/Initializer/random_uniform/min&quot;\\n  op: &quot;Const&quot;\\n  attr {\\n    key: &quot;_class&quot;\\n    value {\\n      list {\\n        s: &quot;loc:@outputs/kernel&quot;\\n      }\\n    }\\n  }\\n  attr {\\n    key: &quot;dtype&quot;\\n    value {\\n      type: DT_FLOAT\\n    }\\n  }\\n  attr {\\n    key: &quot;value&quot;\\n    value {\\n      tensor {\\n        dtype: DT_FLOAT\\n        tensor_shape {\\n        }\\n        float_val: -0.3162277638912201\\n      }\\n    }\\n  }\\n}\\nnode {\\n  name: &quot;outputs/kernel/Initializer/random_uniform/max&quot;\\n  op: &quot;Const&quot;\\n  attr {\\n    key: &quot;_class&quot;\\n    value {\\n      list {\\n        s: &quot;loc:@outputs/kernel&quot;\\n      }\\n    }\\n  }\\n  attr {\\n    key: &quot;dtype&quot;\\n    value {\\n      type: DT_FLOAT\\n    }\\n  }\\n  attr {\\n    key: &quot;value&quot;\\n    value {\\n      tensor {\\n        dtype: DT_FLOAT\\n        tensor_shape {\\n        }\\n        float_val: 0.3162277638912201\\n      }\\n    }\\n  }\\n}\\nnode {\\n  name: &quot;outputs/kernel/Initializer/random_uniform/RandomUniform&quot;\\n  op: &quot;RandomUniform&quot;\\n  input: &quot;outputs/kernel/Initializer/random_uniform/shape&quot;\\n  attr {\\n    key: &quot;T&quot;\\n    value {\\n      type: DT_INT32\\n    }\\n  }\\n  attr {\\n    key: &quot;_class&quot;\\n    value {\\n      list {\\n        s: &quot;loc:@outputs/kernel&quot;\\n      }\\n    }\\n  }\\n  attr {\\n    key: &quot;dtype&quot;\\n    value {\\n      type: DT_FLOAT\\n    }\\n  }\\n  attr {\\n    key: &quot;seed&quot;\\n    value {\\n      i: 42\\n    }\\n  }\\n  attr {\\n    key: &quot;seed2&quot;\\n    value {\\n      i: 90\\n    }\\n  }\\n}\\nnode {\\n  name: &quot;outputs/kernel/Initializer/random_uniform/sub&quot;\\n  op: &quot;Sub&quot;\\n  input: &quot;outputs/kernel/Initializer/random_uniform/max&quot;\\n  input: &quot;outputs/kernel/Initializer/random_uniform/min&quot;\\n  attr {\\n    key: &quot;T&quot;\\n    value {\\n      type: DT_FLOAT\\n    }\\n  }\\n  attr {\\n    key: &quot;_class&quot;\\n    value {\\n      list {\\n        s: &quot;loc:@outputs/kernel&quot;\\n      }\\n    }\\n  }\\n}\\nnode {\\n  name: &quot;outputs/kernel/Initializer/random_uniform/mul&quot;\\n  op: &quot;Mul&quot;\\n  input: &quot;outputs/kernel/Initializer/random_uniform/RandomUniform&quot;\\n  input: &quot;outputs/kernel/Initializer/random_uniform/sub&quot;\\n  attr {\\n    key: &quot;T&quot;\\n    value {\\n      type: DT_FLOAT\\n    }\\n  }\\n  attr {\\n    key: &quot;_class&quot;\\n    value {\\n      list {\\n        s: &quot;loc:@outputs/kernel&quot;\\n      }\\n    }\\n  }\\n}\\nnode {\\n  name: &quot;outputs/kernel/Initializer/random_uniform&quot;\\n  op: &quot;Add&quot;\\n  input: &quot;outputs/kernel/Initializer/random_uniform/mul&quot;\\n  input: &quot;outputs/kernel/Initializer/random_uniform/min&quot;\\n  attr {\\n    key: &quot;T&quot;\\n    value {\\n      type: DT_FLOAT\\n    }\\n  }\\n  attr {\\n    key: &quot;_class&quot;\\n    value {\\n      list {\\n        s: &quot;loc:@outputs/kernel&quot;\\n      }\\n    }\\n  }\\n}\\nnode {\\n  name: &quot;outputs/kernel&quot;\\n  op: &quot;VariableV2&quot;\\n  attr {\\n    key: &quot;_class&quot;\\n    value {\\n      list {\\n        s: &quot;loc:@outputs/kernel&quot;\\n      }\\n    }\\n  }\\n  attr {\\n    key: &quot;container&quot;\\n    value {\\n      s: &quot;&quot;\\n    }\\n  }\\n  attr {\\n    key: &quot;dtype&quot;\\n    value {\\n      type: DT_FLOAT\\n    }\\n  }\\n  attr {\\n    key: &quot;shape&quot;\\n    value {\\n      shape {\\n        dim {\\n          size: 50\\n        }\\n        dim {\\n          size: 10\\n        }\\n      }\\n    }\\n  }\\n  attr {\\n    key: &quot;shared_name&quot;\\n    value {\\n      s: &quot;&quot;\\n    }\\n  }\\n}\\nnode {\\n  name: &quot;outputs/kernel/Assign&quot;\\n  op: &quot;Assign&quot;\\n  input: &quot;outputs/kernel&quot;\\n  input: &quot;outputs/kernel/Initializer/random_uniform&quot;\\n  attr {\\n    key: &quot;T&quot;\\n    value {\\n      type: DT_FLOAT\\n    }\\n  }\\n  attr {\\n    key: &quot;_class&quot;\\n    value {\\n      list {\\n        s: &quot;loc:@outputs/kernel&quot;\\n      }\\n    }\\n  }\\n  attr {\\n    key: &quot;use_locking&quot;\\n    value {\\n      b: true\\n    }\\n  }\\n  attr {\\n    key: &quot;validate_shape&quot;\\n    value {\\n      b: true\\n    }\\n  }\\n}\\nnode {\\n  name: &quot;outputs/kernel/read&quot;\\n  op: &quot;Identity&quot;\\n  input: &quot;outputs/kernel&quot;\\n  attr {\\n    key: &quot;T&quot;\\n    value {\\n      type: DT_FLOAT\\n    }\\n  }\\n  attr {\\n    key: &quot;_class&quot;\\n    value {\\n      list {\\n        s: &quot;loc:@outputs/kernel&quot;\\n      }\\n    }\\n  }\\n}\\nnode {\\n  name: &quot;outputs/bias/Initializer/zeros&quot;\\n  op: &quot;Const&quot;\\n  attr {\\n    key: &quot;_class&quot;\\n    value {\\n      list {\\n        s: &quot;loc:@outputs/bias&quot;\\n      }\\n    }\\n  }\\n  attr {\\n    key: &quot;dtype&quot;\\n    value {\\n      type: DT_FLOAT\\n    }\\n  }\\n  attr {\\n    key: &quot;value&quot;\\n    value {\\n      tensor {\\n        dtype: DT_FLOAT\\n        tensor_shape {\\n          dim {\\n            size: 10\\n          }\\n        }\\n        float_val: 0.0\\n      }\\n    }\\n  }\\n}\\nnode {\\n  name: &quot;outputs/bias&quot;\\n  op: &quot;VariableV2&quot;\\n  attr {\\n    key: &quot;_class&quot;\\n    value {\\n      list {\\n        s: &quot;loc:@outputs/bias&quot;\\n      }\\n    }\\n  }\\n  attr {\\n    key: &quot;container&quot;\\n    value {\\n      s: &quot;&quot;\\n    }\\n  }\\n  attr {\\n    key: &quot;dtype&quot;\\n    value {\\n      type: DT_FLOAT\\n    }\\n  }\\n  attr {\\n    key: &quot;shape&quot;\\n    value {\\n      shape {\\n        dim {\\n          size: 10\\n        }\\n      }\\n    }\\n  }\\n  attr {\\n    key: &quot;shared_name&quot;\\n    value {\\n      s: &quot;&quot;\\n    }\\n  }\\n}\\nnode {\\n  name: &quot;outputs/bias/Assign&quot;\\n  op: &quot;Assign&quot;\\n  input: &quot;outputs/bias&quot;\\n  input: &quot;outputs/bias/Initializer/zeros&quot;\\n  attr {\\n    key: &quot;T&quot;\\n    value {\\n      type: DT_FLOAT\\n    }\\n  }\\n  attr {\\n    key: &quot;_class&quot;\\n    value {\\n      list {\\n        s: &quot;loc:@outputs/bias&quot;\\n      }\\n    }\\n  }\\n  attr {\\n    key: &quot;use_locking&quot;\\n    value {\\n      b: true\\n    }\\n  }\\n  attr {\\n    key: &quot;validate_shape&quot;\\n    value {\\n      b: true\\n    }\\n  }\\n}\\nnode {\\n  name: &quot;outputs/bias/read&quot;\\n  op: &quot;Identity&quot;\\n  input: &quot;outputs/bias&quot;\\n  attr {\\n    key: &quot;T&quot;\\n    value {\\n      type: DT_FLOAT\\n    }\\n  }\\n  attr {\\n    key: &quot;_class&quot;\\n    value {\\n      list {\\n        s: &quot;loc:@outputs/bias&quot;\\n      }\\n    }\\n  }\\n}\\nnode {\\n  name: &quot;dnn/outputs/MatMul&quot;\\n  op: &quot;MatMul&quot;\\n  input: &quot;dnn/hidden5/Relu&quot;\\n  input: &quot;outputs/kernel/read&quot;\\n  attr {\\n    key: &quot;T&quot;\\n    value {\\n      type: DT_FLOAT\\n    }\\n  }\\n  attr {\\n    key: &quot;transpose_a&quot;\\n    value {\\n      b: false\\n    }\\n  }\\n  attr {\\n    key: &quot;transpose_b&quot;\\n    value {\\n      b: false\\n    }\\n  }\\n}\\nnode {\\n  name: &quot;dnn/outputs/BiasAdd&quot;\\n  op: &quot;BiasAdd&quot;\\n  input: &quot;dnn/outputs/MatMul&quot;\\n  input: &quot;outputs/bias/read&quot;\\n  attr {\\n    key: &quot;T&quot;\\n    value {\\n      type: DT_FLOAT\\n    }\\n  }\\n  attr {\\n    key: &quot;data_format&quot;\\n    value {\\n      s: &quot;NHWC&quot;\\n    }\\n  }\\n}\\nnode {\\n  name: &quot;loss/SparseSoftmaxCrossEntropyWithLogits/Shape&quot;\\n  op: &quot;Shape&quot;\\n  input: &quot;y&quot;\\n  attr {\\n    key: &quot;T&quot;\\n    value {\\n      type: DT_INT32\\n    }\\n  }\\n  attr {\\n    key: &quot;out_type&quot;\\n    value {\\n      type: DT_INT32\\n    }\\n  }\\n}\\nnode {\\n  name: &quot;loss/SparseSoftmaxCrossEntropyWithLogits/SparseSoftmaxCrossEntropyWithLogits&quot;\\n  op: &quot;SparseSoftmaxCrossEntropyWithLogits&quot;\\n  input: &quot;dnn/outputs/BiasAdd&quot;\\n  input: &quot;y&quot;\\n  attr {\\n    key: &quot;T&quot;\\n    value {\\n      type: DT_FLOAT\\n    }\\n  }\\n  attr {\\n    key: &quot;Tlabels&quot;\\n    value {\\n      type: DT_INT32\\n    }\\n  }\\n}\\nnode {\\n  name: &quot;loss/Const&quot;\\n  op: &quot;Const&quot;\\n  attr {\\n    key: &quot;dtype&quot;\\n    value {\\n      type: DT_INT32\\n    }\\n  }\\n  attr {\\n    key: &quot;value&quot;\\n    value {\\n      tensor {\\n        dtype: DT_INT32\\n        tensor_shape {\\n          dim {\\n            size: 1\\n          }\\n        }\\n        int_val: 0\\n      }\\n    }\\n  }\\n}\\nnode {\\n  name: &quot;loss/loss&quot;\\n  op: &quot;Mean&quot;\\n  input: &quot;loss/SparseSoftmaxCrossEntropyWithLogits/SparseSoftmaxCrossEntropyWithLogits&quot;\\n  input: &quot;loss/Const&quot;\\n  attr {\\n    key: &quot;T&quot;\\n    value {\\n      type: DT_FLOAT\\n    }\\n  }\\n  attr {\\n    key: &quot;Tidx&quot;\\n    value {\\n      type: DT_INT32\\n    }\\n  }\\n  attr {\\n    key: &quot;keep_dims&quot;\\n    value {\\n      b: false\\n    }\\n  }\\n}\\nnode {\\n  name: &quot;gradients/Shape&quot;\\n  op: &quot;Const&quot;\\n  attr {\\n    key: &quot;dtype&quot;\\n    value {\\n      type: DT_INT32\\n    }\\n  }\\n  attr {\\n    key: &quot;value&quot;\\n    value {\\n      tensor {\\n        dtype: DT_INT32\\n        tensor_shape {\\n          dim {\\n          }\\n        }\\n      }\\n    }\\n  }\\n}\\nnode {\\n  name: &quot;gradients/grad_ys_0&quot;\\n  op: &quot;Const&quot;\\n  attr {\\n    key: &quot;dtype&quot;\\n    value {\\n      type: DT_FLOAT\\n    }\\n  }\\n  attr {\\n    key: &quot;value&quot;\\n    value {\\n      tensor {\\n        dtype: DT_FLOAT\\n        tensor_shape {\\n        }\\n        float_val: 1.0\\n      }\\n    }\\n  }\\n}\\nnode {\\n  name: &quot;gradients/Fill&quot;\\n  op: &quot;Fill&quot;\\n  input: &quot;gradients/Shape&quot;\\n  input: &quot;gradients/grad_ys_0&quot;\\n  attr {\\n    key: &quot;T&quot;\\n    value {\\n      type: DT_FLOAT\\n    }\\n  }\\n  attr {\\n    key: &quot;index_type&quot;\\n    value {\\n      type: DT_INT32\\n    }\\n  }\\n}\\nnode {\\n  name: &quot;gradients/loss/loss_grad/Reshape/shape&quot;\\n  op: &quot;Const&quot;\\n  attr {\\n    key: &quot;dtype&quot;\\n    value {\\n      type: DT_INT32\\n    }\\n  }\\n  attr {\\n    key: &quot;value&quot;\\n    value {\\n      tensor {\\n        dtype: DT_INT32\\n        tensor_shape {\\n          dim {\\n            size: 1\\n          }\\n        }\\n        int_val: 1\\n      }\\n    }\\n  }\\n}\\nnode {\\n  name: &quot;gradients/loss/loss_grad/Reshape&quot;\\n  op: &quot;Reshape&quot;\\n  input: &quot;gradients/Fill&quot;\\n  input: &quot;gradients/loss/loss_grad/Reshape/shape&quot;\\n  attr {\\n    key: &quot;T&quot;\\n    value {\\n      type: DT_FLOAT\\n    }\\n  }\\n  attr {\\n    key: &quot;Tshape&quot;\\n    value {\\n      type: DT_INT32\\n    }\\n  }\\n}\\nnode {\\n  name: &quot;gradients/loss/loss_grad/Shape&quot;\\n  op: &quot;Shape&quot;\\n  input: &quot;loss/SparseSoftmaxCrossEntropyWithLogits/SparseSoftmaxCrossEntropyWithLogits&quot;\\n  attr {\\n    key: &quot;T&quot;\\n    value {\\n      type: DT_FLOAT\\n    }\\n  }\\n  attr {\\n    key: &quot;out_type&quot;\\n    value {\\n      type: DT_INT32\\n    }\\n  }\\n}\\nnode {\\n  name: &quot;gradients/loss/loss_grad/Tile&quot;\\n  op: &quot;Tile&quot;\\n  input: &quot;gradients/loss/loss_grad/Reshape&quot;\\n  input: &quot;gradients/loss/loss_grad/Shape&quot;\\n  attr {\\n    key: &quot;T&quot;\\n    value {\\n      type: DT_FLOAT\\n    }\\n  }\\n  attr {\\n    key: &quot;Tmultiples&quot;\\n    value {\\n      type: DT_INT32\\n    }\\n  }\\n}\\nnode {\\n  name: &quot;gradients/loss/loss_grad/Shape_1&quot;\\n  op: &quot;Shape&quot;\\n  input: &quot;loss/SparseSoftmaxCrossEntropyWithLogits/SparseSoftmaxCrossEntropyWithLogits&quot;\\n  attr {\\n    key: &quot;T&quot;\\n    value {\\n      type: DT_FLOAT\\n    }\\n  }\\n  attr {\\n    key: &quot;out_type&quot;\\n    value {\\n      type: DT_INT32\\n    }\\n  }\\n}\\nnode {\\n  name: &quot;gradients/loss/loss_grad/Shape_2&quot;\\n  op: &quot;Const&quot;\\n  attr {\\n    key: &quot;dtype&quot;\\n    value {\\n      type: DT_INT32\\n    }\\n  }\\n  attr {\\n    key: &quot;value&quot;\\n    value {\\n      tensor {\\n        dtype: DT_INT32\\n        tensor_shape {\\n          dim {\\n          }\\n        }\\n      }\\n    }\\n  }\\n}\\nnode {\\n  name: &quot;gradients/loss/loss_grad/Const&quot;\\n  op: &quot;Const&quot;\\n  attr {\\n    key: &quot;dtype&quot;\\n    value {\\n      type: DT_INT32\\n    }\\n  }\\n  attr {\\n    key: &quot;value&quot;\\n    value {\\n      tensor {\\n        dtype: DT_INT32\\n        tensor_shape {\\n          dim {\\n            size: 1\\n          }\\n        }\\n        int_val: 0\\n      }\\n    }\\n  }\\n}\\nnode {\\n  name: &quot;gradients/loss/loss_grad/Prod&quot;\\n  op: &quot;Prod&quot;\\n  input: &quot;gradients/loss/loss_grad/Shape_1&quot;\\n  input: &quot;gradients/loss/loss_grad/Const&quot;\\n  attr {\\n    key: &quot;T&quot;\\n    value {\\n      type: DT_INT32\\n    }\\n  }\\n  attr {\\n    key: &quot;Tidx&quot;\\n    value {\\n      type: DT_INT32\\n    }\\n  }\\n  attr {\\n    key: &quot;keep_dims&quot;\\n    value {\\n      b: false\\n    }\\n  }\\n}\\nnode {\\n  name: &quot;gradients/loss/loss_grad/Const_1&quot;\\n  op: &quot;Const&quot;\\n  attr {\\n    key: &quot;dtype&quot;\\n    value {\\n      type: DT_INT32\\n    }\\n  }\\n  attr {\\n    key: &quot;value&quot;\\n    value {\\n      tensor {\\n        dtype: DT_INT32\\n        tensor_shape {\\n          dim {\\n            size: 1\\n          }\\n        }\\n        int_val: 0\\n      }\\n    }\\n  }\\n}\\nnode {\\n  name: &quot;gradients/loss/loss_grad/Prod_1&quot;\\n  op: &quot;Prod&quot;\\n  input: &quot;gradients/loss/loss_grad/Shape_2&quot;\\n  input: &quot;gradients/loss/loss_grad/Const_1&quot;\\n  attr {\\n    key: &quot;T&quot;\\n    value {\\n      type: DT_INT32\\n    }\\n  }\\n  attr {\\n    key: &quot;Tidx&quot;\\n    value {\\n      type: DT_INT32\\n    }\\n  }\\n  attr {\\n    key: &quot;keep_dims&quot;\\n    value {\\n      b: false\\n    }\\n  }\\n}\\nnode {\\n  name: &quot;gradients/loss/loss_grad/Maximum/y&quot;\\n  op: &quot;Const&quot;\\n  attr {\\n    key: &quot;dtype&quot;\\n    value {\\n      type: DT_INT32\\n    }\\n  }\\n  attr {\\n    key: &quot;value&quot;\\n    value {\\n      tensor {\\n        dtype: DT_INT32\\n        tensor_shape {\\n        }\\n        int_val: 1\\n      }\\n    }\\n  }\\n}\\nnode {\\n  name: &quot;gradients/loss/loss_grad/Maximum&quot;\\n  op: &quot;Maximum&quot;\\n  input: &quot;gradients/loss/loss_grad/Prod_1&quot;\\n  input: &quot;gradients/loss/loss_grad/Maximum/y&quot;\\n  attr {\\n    key: &quot;T&quot;\\n    value {\\n      type: DT_INT32\\n    }\\n  }\\n}\\nnode {\\n  name: &quot;gradients/loss/loss_grad/floordiv&quot;\\n  op: &quot;FloorDiv&quot;\\n  input: &quot;gradients/loss/loss_grad/Prod&quot;\\n  input: &quot;gradients/loss/loss_grad/Maximum&quot;\\n  attr {\\n    key: &quot;T&quot;\\n    value {\\n      type: DT_INT32\\n    }\\n  }\\n}\\nnode {\\n  name: &quot;gradients/loss/loss_grad/Cast&quot;\\n  op: &quot;Cast&quot;\\n  input: &quot;gradients/loss/loss_grad/floordiv&quot;\\n  attr {\\n    key: &quot;DstT&quot;\\n    value {\\n      type: DT_FLOAT\\n    }\\n  }\\n  attr {\\n    key: &quot;SrcT&quot;\\n    value {\\n      type: DT_INT32\\n    }\\n  }\\n  attr {\\n    key: &quot;Truncate&quot;\\n    value {\\n      b: false\\n    }\\n  }\\n}\\nnode {\\n  name: &quot;gradients/loss/loss_grad/truediv&quot;\\n  op: &quot;RealDiv&quot;\\n  input: &quot;gradients/loss/loss_grad/Tile&quot;\\n  input: &quot;gradients/loss/loss_grad/Cast&quot;\\n  attr {\\n    key: &quot;T&quot;\\n    value {\\n      type: DT_FLOAT\\n    }\\n  }\\n}\\nnode {\\n  name: &quot;gradients/zeros_like&quot;\\n  op: &quot;ZerosLike&quot;\\n  input: &quot;loss/SparseSoftmaxCrossEntropyWithLogits/SparseSoftmaxCrossEntropyWithLogits:1&quot;\\n  attr {\\n    key: &quot;T&quot;\\n    value {\\n      type: DT_FLOAT\\n    }\\n  }\\n}\\nnode {\\n  name: &quot;gradients/loss/SparseSoftmaxCrossEntropyWithLogits/SparseSoftmaxCrossEntropyWithLogits_grad/PreventGradient&quot;\\n  op: &quot;PreventGradient&quot;\\n  input: &quot;loss/SparseSoftmaxCrossEntropyWithLogits/SparseSoftmaxCrossEntropyWithLogits:1&quot;\\n  attr {\\n    key: &quot;T&quot;\\n    value {\\n      type: DT_FLOAT\\n    }\\n  }\\n  attr {\\n    key: &quot;message&quot;\\n    value {\\n      s: &quot;Currently there is no way to take the second derivative of sparse_softmax_cross_entropy_with_logits due to the fused implementation\\\\\\'s interaction with tf.gradients()&quot;\\n    }\\n  }\\n}\\nnode {\\n  name: &quot;gradients/loss/SparseSoftmaxCrossEntropyWithLogits/SparseSoftmaxCrossEntropyWithLogits_grad/ExpandDims/dim&quot;\\n  op: &quot;Const&quot;\\n  attr {\\n    key: &quot;dtype&quot;\\n    value {\\n      type: DT_INT32\\n    }\\n  }\\n  attr {\\n    key: &quot;value&quot;\\n    value {\\n      tensor {\\n        dtype: DT_INT32\\n        tensor_shape {\\n        }\\n        int_val: -1\\n      }\\n    }\\n  }\\n}\\nnode {\\n  name: &quot;gradients/loss/SparseSoftmaxCrossEntropyWithLogits/SparseSoftmaxCrossEntropyWithLogits_grad/ExpandDims&quot;\\n  op: &quot;ExpandDims&quot;\\n  input: &quot;gradients/loss/loss_grad/truediv&quot;\\n  input: &quot;gradients/loss/SparseSoftmaxCrossEntropyWithLogits/SparseSoftmaxCrossEntropyWithLogits_grad/ExpandDims/dim&quot;\\n  attr {\\n    key: &quot;T&quot;\\n    value {\\n      type: DT_FLOAT\\n    }\\n  }\\n  attr {\\n    key: &quot;Tdim&quot;\\n    value {\\n      type: DT_INT32\\n    }\\n  }\\n}\\nnode {\\n  name: &quot;gradients/loss/SparseSoftmaxCrossEntropyWithLogits/SparseSoftmaxCrossEntropyWithLogits_grad/mul&quot;\\n  op: &quot;Mul&quot;\\n  input: &quot;gradients/loss/SparseSoftmaxCrossEntropyWithLogits/SparseSoftmaxCrossEntropyWithLogits_grad/ExpandDims&quot;\\n  input: &quot;gradients/loss/SparseSoftmaxCrossEntropyWithLogits/SparseSoftmaxCrossEntropyWithLogits_grad/PreventGradient&quot;\\n  attr {\\n    key: &quot;T&quot;\\n    value {\\n      type: DT_FLOAT\\n    }\\n  }\\n}\\nnode {\\n  name: &quot;gradients/dnn/outputs/BiasAdd_grad/BiasAddGrad&quot;\\n  op: &quot;BiasAddGrad&quot;\\n  input: &quot;gradients/loss/SparseSoftmaxCrossEntropyWithLogits/SparseSoftmaxCrossEntropyWithLogits_grad/mul&quot;\\n  attr {\\n    key: &quot;T&quot;\\n    value {\\n      type: DT_FLOAT\\n    }\\n  }\\n  attr {\\n    key: &quot;data_format&quot;\\n    value {\\n      s: &quot;NHWC&quot;\\n    }\\n  }\\n}\\nnode {\\n  name: &quot;gradients/dnn/outputs/BiasAdd_grad/tuple/group_deps&quot;\\n  op: &quot;NoOp&quot;\\n  input: &quot;^gradients/dnn/outputs/BiasAdd_grad/BiasAddGrad&quot;\\n  input: &quot;^gradients/loss/SparseSoftmaxCrossEntropyWithLogits/SparseSoftmaxCrossEntropyWithLogits_grad/mul&quot;\\n}\\nnode {\\n  name: &quot;gradients/dnn/outputs/BiasAdd_grad/tuple/control_dependency&quot;\\n  op: &quot;Identity&quot;\\n  input: &quot;gradients/loss/SparseSoftmaxCrossEntropyWithLogits/SparseSoftmaxCrossEntropyWithLogits_grad/mul&quot;\\n  input: &quot;^gradients/dnn/outputs/BiasAdd_grad/tuple/group_deps&quot;\\n  attr {\\n    key: &quot;T&quot;\\n    value {\\n      type: DT_FLOAT\\n    }\\n  }\\n  attr {\\n    key: &quot;_class&quot;\\n    value {\\n      list {\\n        s: &quot;loc:@gradients/loss/SparseSoftmaxCrossEntropyWithLogits/SparseSoftmaxCrossEntropyWithLogits_grad/mul&quot;\\n      }\\n    }\\n  }\\n}\\nnode {\\n  name: &quot;gradients/dnn/outputs/BiasAdd_grad/tuple/control_dependency_1&quot;\\n  op: &quot;Identity&quot;\\n  input: &quot;gradients/dnn/outputs/BiasAdd_grad/BiasAddGrad&quot;\\n  input: &quot;^gradients/dnn/outputs/BiasAdd_grad/tuple/group_deps&quot;\\n  attr {\\n    key: &quot;T&quot;\\n    value {\\n      type: DT_FLOAT\\n    }\\n  }\\n  attr {\\n    key: &quot;_class&quot;\\n    value {\\n      list {\\n        s: &quot;loc:@gradients/dnn/outputs/BiasAdd_grad/BiasAddGrad&quot;\\n      }\\n    }\\n  }\\n}\\nnode {\\n  name: &quot;gradients/dnn/outputs/MatMul_grad/MatMul&quot;\\n  op: &quot;MatMul&quot;\\n  input: &quot;gradients/dnn/outputs/BiasAdd_grad/tuple/control_dependency&quot;\\n  input: &quot;outputs/kernel/read&quot;\\n  attr {\\n    key: &quot;T&quot;\\n    value {\\n      type: DT_FLOAT\\n    }\\n  }\\n  attr {\\n    key: &quot;transpose_a&quot;\\n    value {\\n      b: false\\n    }\\n  }\\n  attr {\\n    key: &quot;transpose_b&quot;\\n    value {\\n      b: true\\n    }\\n  }\\n}\\nnode {\\n  name: &quot;gradients/dnn/outputs/MatMul_grad/MatMul_1&quot;\\n  op: &quot;MatMul&quot;\\n  input: &quot;dnn/hidden5/Relu&quot;\\n  input: &quot;gradients/dnn/outputs/BiasAdd_grad/tuple/control_dependency&quot;\\n  attr {\\n    key: &quot;T&quot;\\n    value {\\n      type: DT_FLOAT\\n    }\\n  }\\n  attr {\\n    key: &quot;transpose_a&quot;\\n    value {\\n      b: true\\n    }\\n  }\\n  attr {\\n    key: &quot;transpose_b&quot;\\n    value {\\n      b: false\\n    }\\n  }\\n}\\nnode {\\n  name: &quot;gradients/dnn/outputs/MatMul_grad/tuple/group_deps&quot;\\n  op: &quot;NoOp&quot;\\n  input: &quot;^gradients/dnn/outputs/MatMul_grad/MatMul&quot;\\n  input: &quot;^gradients/dnn/outputs/MatMul_grad/MatMul_1&quot;\\n}\\nnode {\\n  name: &quot;gradients/dnn/outputs/MatMul_grad/tuple/control_dependency&quot;\\n  op: &quot;Identity&quot;\\n  input: &quot;gradients/dnn/outputs/MatMul_grad/MatMul&quot;\\n  input: &quot;^gradients/dnn/outputs/MatMul_grad/tuple/group_deps&quot;\\n  attr {\\n    key: &quot;T&quot;\\n    value {\\n      type: DT_FLOAT\\n    }\\n  }\\n  attr {\\n    key: &quot;_class&quot;\\n    value {\\n      list {\\n        s: &quot;loc:@gradients/dnn/outputs/MatMul_grad/MatMul&quot;\\n      }\\n    }\\n  }\\n}\\nnode {\\n  name: &quot;gradients/dnn/outputs/MatMul_grad/tuple/control_dependency_1&quot;\\n  op: &quot;Identity&quot;\\n  input: &quot;gradients/dnn/outputs/MatMul_grad/MatMul_1&quot;\\n  input: &quot;^gradients/dnn/outputs/MatMul_grad/tuple/group_deps&quot;\\n  attr {\\n    key: &quot;T&quot;\\n    value {\\n      type: DT_FLOAT\\n    }\\n  }\\n  attr {\\n    key: &quot;_class&quot;\\n    value {\\n      list {\\n        s: &quot;loc:@gradients/dnn/outputs/MatMul_grad/MatMul_1&quot;\\n      }\\n    }\\n  }\\n}\\nnode {\\n  name: &quot;gradients/dnn/hidden5/Relu_grad/ReluGrad&quot;\\n  op: &quot;ReluGrad&quot;\\n  input: &quot;gradients/dnn/outputs/MatMul_grad/tuple/control_dependency&quot;\\n  input: &quot;dnn/hidden5/Relu&quot;\\n  attr {\\n    key: &quot;T&quot;\\n    value {\\n      type: DT_FLOAT\\n    }\\n  }\\n}\\nnode {\\n  name: &quot;gradients/dnn/hidden5/BiasAdd_grad/BiasAddGrad&quot;\\n  op: &quot;BiasAddGrad&quot;\\n  input: &quot;gradients/dnn/hidden5/Relu_grad/ReluGrad&quot;\\n  attr {\\n    key: &quot;T&quot;\\n    value {\\n      type: DT_FLOAT\\n    }\\n  }\\n  attr {\\n    key: &quot;data_format&quot;\\n    value {\\n      s: &quot;NHWC&quot;\\n    }\\n  }\\n}\\nnode {\\n  name: &quot;gradients/dnn/hidden5/BiasAdd_grad/tuple/group_deps&quot;\\n  op: &quot;NoOp&quot;\\n  input: &quot;^gradients/dnn/hidden5/BiasAdd_grad/BiasAddGrad&quot;\\n  input: &quot;^gradients/dnn/hidden5/Relu_grad/ReluGrad&quot;\\n}\\nnode {\\n  name: &quot;gradients/dnn/hidden5/BiasAdd_grad/tuple/control_dependency&quot;\\n  op: &quot;Identity&quot;\\n  input: &quot;gradients/dnn/hidden5/Relu_grad/ReluGrad&quot;\\n  input: &quot;^gradients/dnn/hidden5/BiasAdd_grad/tuple/group_deps&quot;\\n  attr {\\n    key: &quot;T&quot;\\n    value {\\n      type: DT_FLOAT\\n    }\\n  }\\n  attr {\\n    key: &quot;_class&quot;\\n    value {\\n      list {\\n        s: &quot;loc:@gradients/dnn/hidden5/Relu_grad/ReluGrad&quot;\\n      }\\n    }\\n  }\\n}\\nnode {\\n  name: &quot;gradients/dnn/hidden5/BiasAdd_grad/tuple/control_dependency_1&quot;\\n  op: &quot;Identity&quot;\\n  input: &quot;gradients/dnn/hidden5/BiasAdd_grad/BiasAddGrad&quot;\\n  input: &quot;^gradients/dnn/hidden5/BiasAdd_grad/tuple/group_deps&quot;\\n  attr {\\n    key: &quot;T&quot;\\n    value {\\n      type: DT_FLOAT\\n    }\\n  }\\n  attr {\\n    key: &quot;_class&quot;\\n    value {\\n      list {\\n        s: &quot;loc:@gradients/dnn/hidden5/BiasAdd_grad/BiasAddGrad&quot;\\n      }\\n    }\\n  }\\n}\\nnode {\\n  name: &quot;gradients/dnn/hidden5/MatMul_grad/MatMul&quot;\\n  op: &quot;MatMul&quot;\\n  input: &quot;gradients/dnn/hidden5/BiasAdd_grad/tuple/control_dependency&quot;\\n  input: &quot;hidden5/kernel/read&quot;\\n  attr {\\n    key: &quot;T&quot;\\n    value {\\n      type: DT_FLOAT\\n    }\\n  }\\n  attr {\\n    key: &quot;transpose_a&quot;\\n    value {\\n      b: false\\n    }\\n  }\\n  attr {\\n    key: &quot;transpose_b&quot;\\n    value {\\n      b: true\\n    }\\n  }\\n}\\nnode {\\n  name: &quot;gradients/dnn/hidden5/MatMul_grad/MatMul_1&quot;\\n  op: &quot;MatMul&quot;\\n  input: &quot;dnn/hidden4/Relu&quot;\\n  input: &quot;gradients/dnn/hidden5/BiasAdd_grad/tuple/control_dependency&quot;\\n  attr {\\n    key: &quot;T&quot;\\n    value {\\n      type: DT_FLOAT\\n    }\\n  }\\n  attr {\\n    key: &quot;transpose_a&quot;\\n    value {\\n      b: true\\n    }\\n  }\\n  attr {\\n    key: &quot;transpose_b&quot;\\n    value {\\n      b: false\\n    }\\n  }\\n}\\nnode {\\n  name: &quot;gradients/dnn/hidden5/MatMul_grad/tuple/group_deps&quot;\\n  op: &quot;NoOp&quot;\\n  input: &quot;^gradients/dnn/hidden5/MatMul_grad/MatMul&quot;\\n  input: &quot;^gradients/dnn/hidden5/MatMul_grad/MatMul_1&quot;\\n}\\nnode {\\n  name: &quot;gradients/dnn/hidden5/MatMul_grad/tuple/control_dependency&quot;\\n  op: &quot;Identity&quot;\\n  input: &quot;gradients/dnn/hidden5/MatMul_grad/MatMul&quot;\\n  input: &quot;^gradients/dnn/hidden5/MatMul_grad/tuple/group_deps&quot;\\n  attr {\\n    key: &quot;T&quot;\\n    value {\\n      type: DT_FLOAT\\n    }\\n  }\\n  attr {\\n    key: &quot;_class&quot;\\n    value {\\n      list {\\n        s: &quot;loc:@gradients/dnn/hidden5/MatMul_grad/MatMul&quot;\\n      }\\n    }\\n  }\\n}\\nnode {\\n  name: &quot;gradients/dnn/hidden5/MatMul_grad/tuple/control_dependency_1&quot;\\n  op: &quot;Identity&quot;\\n  input: &quot;gradients/dnn/hidden5/MatMul_grad/MatMul_1&quot;\\n  input: &quot;^gradients/dnn/hidden5/MatMul_grad/tuple/group_deps&quot;\\n  attr {\\n    key: &quot;T&quot;\\n    value {\\n      type: DT_FLOAT\\n    }\\n  }\\n  attr {\\n    key: &quot;_class&quot;\\n    value {\\n      list {\\n        s: &quot;loc:@gradients/dnn/hidden5/MatMul_grad/MatMul_1&quot;\\n      }\\n    }\\n  }\\n}\\nnode {\\n  name: &quot;gradients/dnn/hidden4/Relu_grad/ReluGrad&quot;\\n  op: &quot;ReluGrad&quot;\\n  input: &quot;gradients/dnn/hidden5/MatMul_grad/tuple/control_dependency&quot;\\n  input: &quot;dnn/hidden4/Relu&quot;\\n  attr {\\n    key: &quot;T&quot;\\n    value {\\n      type: DT_FLOAT\\n    }\\n  }\\n}\\nnode {\\n  name: &quot;gradients/dnn/hidden4/BiasAdd_grad/BiasAddGrad&quot;\\n  op: &quot;BiasAddGrad&quot;\\n  input: &quot;gradients/dnn/hidden4/Relu_grad/ReluGrad&quot;\\n  attr {\\n    key: &quot;T&quot;\\n    value {\\n      type: DT_FLOAT\\n    }\\n  }\\n  attr {\\n    key: &quot;data_format&quot;\\n    value {\\n      s: &quot;NHWC&quot;\\n    }\\n  }\\n}\\nnode {\\n  name: &quot;gradients/dnn/hidden4/BiasAdd_grad/tuple/group_deps&quot;\\n  op: &quot;NoOp&quot;\\n  input: &quot;^gradients/dnn/hidden4/BiasAdd_grad/BiasAddGrad&quot;\\n  input: &quot;^gradients/dnn/hidden4/Relu_grad/ReluGrad&quot;\\n}\\nnode {\\n  name: &quot;gradients/dnn/hidden4/BiasAdd_grad/tuple/control_dependency&quot;\\n  op: &quot;Identity&quot;\\n  input: &quot;gradients/dnn/hidden4/Relu_grad/ReluGrad&quot;\\n  input: &quot;^gradients/dnn/hidden4/BiasAdd_grad/tuple/group_deps&quot;\\n  attr {\\n    key: &quot;T&quot;\\n    value {\\n      type: DT_FLOAT\\n    }\\n  }\\n  attr {\\n    key: &quot;_class&quot;\\n    value {\\n      list {\\n        s: &quot;loc:@gradients/dnn/hidden4/Relu_grad/ReluGrad&quot;\\n      }\\n    }\\n  }\\n}\\nnode {\\n  name: &quot;gradients/dnn/hidden4/BiasAdd_grad/tuple/control_dependency_1&quot;\\n  op: &quot;Identity&quot;\\n  input: &quot;gradients/dnn/hidden4/BiasAdd_grad/BiasAddGrad&quot;\\n  input: &quot;^gradients/dnn/hidden4/BiasAdd_grad/tuple/group_deps&quot;\\n  attr {\\n    key: &quot;T&quot;\\n    value {\\n      type: DT_FLOAT\\n    }\\n  }\\n  attr {\\n    key: &quot;_class&quot;\\n    value {\\n      list {\\n        s: &quot;loc:@gradients/dnn/hidden4/BiasAdd_grad/BiasAddGrad&quot;\\n      }\\n    }\\n  }\\n}\\nnode {\\n  name: &quot;gradients/dnn/hidden4/MatMul_grad/MatMul&quot;\\n  op: &quot;MatMul&quot;\\n  input: &quot;gradients/dnn/hidden4/BiasAdd_grad/tuple/control_dependency&quot;\\n  input: &quot;hidden4/kernel/read&quot;\\n  attr {\\n    key: &quot;T&quot;\\n    value {\\n      type: DT_FLOAT\\n    }\\n  }\\n  attr {\\n    key: &quot;transpose_a&quot;\\n    value {\\n      b: false\\n    }\\n  }\\n  attr {\\n    key: &quot;transpose_b&quot;\\n    value {\\n      b: true\\n    }\\n  }\\n}\\nnode {\\n  name: &quot;gradients/dnn/hidden4/MatMul_grad/MatMul_1&quot;\\n  op: &quot;MatMul&quot;\\n  input: &quot;dnn/hidden3/Relu&quot;\\n  input: &quot;gradients/dnn/hidden4/BiasAdd_grad/tuple/control_dependency&quot;\\n  attr {\\n    key: &quot;T&quot;\\n    value {\\n      type: DT_FLOAT\\n    }\\n  }\\n  attr {\\n    key: &quot;transpose_a&quot;\\n    value {\\n      b: true\\n    }\\n  }\\n  attr {\\n    key: &quot;transpose_b&quot;\\n    value {\\n      b: false\\n    }\\n  }\\n}\\nnode {\\n  name: &quot;gradients/dnn/hidden4/MatMul_grad/tuple/group_deps&quot;\\n  op: &quot;NoOp&quot;\\n  input: &quot;^gradients/dnn/hidden4/MatMul_grad/MatMul&quot;\\n  input: &quot;^gradients/dnn/hidden4/MatMul_grad/MatMul_1&quot;\\n}\\nnode {\\n  name: &quot;gradients/dnn/hidden4/MatMul_grad/tuple/control_dependency&quot;\\n  op: &quot;Identity&quot;\\n  input: &quot;gradients/dnn/hidden4/MatMul_grad/MatMul&quot;\\n  input: &quot;^gradients/dnn/hidden4/MatMul_grad/tuple/group_deps&quot;\\n  attr {\\n    key: &quot;T&quot;\\n    value {\\n      type: DT_FLOAT\\n    }\\n  }\\n  attr {\\n    key: &quot;_class&quot;\\n    value {\\n      list {\\n        s: &quot;loc:@gradients/dnn/hidden4/MatMul_grad/MatMul&quot;\\n      }\\n    }\\n  }\\n}\\nnode {\\n  name: &quot;gradients/dnn/hidden4/MatMul_grad/tuple/control_dependency_1&quot;\\n  op: &quot;Identity&quot;\\n  input: &quot;gradients/dnn/hidden4/MatMul_grad/MatMul_1&quot;\\n  input: &quot;^gradients/dnn/hidden4/MatMul_grad/tuple/group_deps&quot;\\n  attr {\\n    key: &quot;T&quot;\\n    value {\\n      type: DT_FLOAT\\n    }\\n  }\\n  attr {\\n    key: &quot;_class&quot;\\n    value {\\n      list {\\n        s: &quot;loc:@gradients/dnn/hidden4/MatMul_grad/MatMul_1&quot;\\n      }\\n    }\\n  }\\n}\\nnode {\\n  name: &quot;gradients/dnn/hidden3/Relu_grad/ReluGrad&quot;\\n  op: &quot;ReluGrad&quot;\\n  input: &quot;gradients/dnn/hidden4/MatMul_grad/tuple/control_dependency&quot;\\n  input: &quot;dnn/hidden3/Relu&quot;\\n  attr {\\n    key: &quot;T&quot;\\n    value {\\n      type: DT_FLOAT\\n    }\\n  }\\n}\\nnode {\\n  name: &quot;gradients/dnn/hidden3/BiasAdd_grad/BiasAddGrad&quot;\\n  op: &quot;BiasAddGrad&quot;\\n  input: &quot;gradients/dnn/hidden3/Relu_grad/ReluGrad&quot;\\n  attr {\\n    key: &quot;T&quot;\\n    value {\\n      type: DT_FLOAT\\n    }\\n  }\\n  attr {\\n    key: &quot;data_format&quot;\\n    value {\\n      s: &quot;NHWC&quot;\\n    }\\n  }\\n}\\nnode {\\n  name: &quot;gradients/dnn/hidden3/BiasAdd_grad/tuple/group_deps&quot;\\n  op: &quot;NoOp&quot;\\n  input: &quot;^gradients/dnn/hidden3/BiasAdd_grad/BiasAddGrad&quot;\\n  input: &quot;^gradients/dnn/hidden3/Relu_grad/ReluGrad&quot;\\n}\\nnode {\\n  name: &quot;gradients/dnn/hidden3/BiasAdd_grad/tuple/control_dependency&quot;\\n  op: &quot;Identity&quot;\\n  input: &quot;gradients/dnn/hidden3/Relu_grad/ReluGrad&quot;\\n  input: &quot;^gradients/dnn/hidden3/BiasAdd_grad/tuple/group_deps&quot;\\n  attr {\\n    key: &quot;T&quot;\\n    value {\\n      type: DT_FLOAT\\n    }\\n  }\\n  attr {\\n    key: &quot;_class&quot;\\n    value {\\n      list {\\n        s: &quot;loc:@gradients/dnn/hidden3/Relu_grad/ReluGrad&quot;\\n      }\\n    }\\n  }\\n}\\nnode {\\n  name: &quot;gradients/dnn/hidden3/BiasAdd_grad/tuple/control_dependency_1&quot;\\n  op: &quot;Identity&quot;\\n  input: &quot;gradients/dnn/hidden3/BiasAdd_grad/BiasAddGrad&quot;\\n  input: &quot;^gradients/dnn/hidden3/BiasAdd_grad/tuple/group_deps&quot;\\n  attr {\\n    key: &quot;T&quot;\\n    value {\\n      type: DT_FLOAT\\n    }\\n  }\\n  attr {\\n    key: &quot;_class&quot;\\n    value {\\n      list {\\n        s: &quot;loc:@gradients/dnn/hidden3/BiasAdd_grad/BiasAddGrad&quot;\\n      }\\n    }\\n  }\\n}\\nnode {\\n  name: &quot;gradients/dnn/hidden3/MatMul_grad/MatMul&quot;\\n  op: &quot;MatMul&quot;\\n  input: &quot;gradients/dnn/hidden3/BiasAdd_grad/tuple/control_dependency&quot;\\n  input: &quot;hidden3/kernel/read&quot;\\n  attr {\\n    key: &quot;T&quot;\\n    value {\\n      type: DT_FLOAT\\n    }\\n  }\\n  attr {\\n    key: &quot;transpose_a&quot;\\n    value {\\n      b: false\\n    }\\n  }\\n  attr {\\n    key: &quot;transpose_b&quot;\\n    value {\\n      b: true\\n    }\\n  }\\n}\\nnode {\\n  name: &quot;gradients/dnn/hidden3/MatMul_grad/MatMul_1&quot;\\n  op: &quot;MatMul&quot;\\n  input: &quot;dnn/hidden2/Relu&quot;\\n  input: &quot;gradients/dnn/hidden3/BiasAdd_grad/tuple/control_dependency&quot;\\n  attr {\\n    key: &quot;T&quot;\\n    value {\\n      type: DT_FLOAT\\n    }\\n  }\\n  attr {\\n    key: &quot;transpose_a&quot;\\n    value {\\n      b: true\\n    }\\n  }\\n  attr {\\n    key: &quot;transpose_b&quot;\\n    value {\\n      b: false\\n    }\\n  }\\n}\\nnode {\\n  name: &quot;gradients/dnn/hidden3/MatMul_grad/tuple/group_deps&quot;\\n  op: &quot;NoOp&quot;\\n  input: &quot;^gradients/dnn/hidden3/MatMul_grad/MatMul&quot;\\n  input: &quot;^gradients/dnn/hidden3/MatMul_grad/MatMul_1&quot;\\n}\\nnode {\\n  name: &quot;gradients/dnn/hidden3/MatMul_grad/tuple/control_dependency&quot;\\n  op: &quot;Identity&quot;\\n  input: &quot;gradients/dnn/hidden3/MatMul_grad/MatMul&quot;\\n  input: &quot;^gradients/dnn/hidden3/MatMul_grad/tuple/group_deps&quot;\\n  attr {\\n    key: &quot;T&quot;\\n    value {\\n      type: DT_FLOAT\\n    }\\n  }\\n  attr {\\n    key: &quot;_class&quot;\\n    value {\\n      list {\\n        s: &quot;loc:@gradients/dnn/hidden3/MatMul_grad/MatMul&quot;\\n      }\\n    }\\n  }\\n}\\nnode {\\n  name: &quot;gradients/dnn/hidden3/MatMul_grad/tuple/control_dependency_1&quot;\\n  op: &quot;Identity&quot;\\n  input: &quot;gradients/dnn/hidden3/MatMul_grad/MatMul_1&quot;\\n  input: &quot;^gradients/dnn/hidden3/MatMul_grad/tuple/group_deps&quot;\\n  attr {\\n    key: &quot;T&quot;\\n    value {\\n      type: DT_FLOAT\\n    }\\n  }\\n  attr {\\n    key: &quot;_class&quot;\\n    value {\\n      list {\\n        s: &quot;loc:@gradients/dnn/hidden3/MatMul_grad/MatMul_1&quot;\\n      }\\n    }\\n  }\\n}\\nnode {\\n  name: &quot;gradients/dnn/hidden2/Relu_grad/ReluGrad&quot;\\n  op: &quot;ReluGrad&quot;\\n  input: &quot;gradients/dnn/hidden3/MatMul_grad/tuple/control_dependency&quot;\\n  input: &quot;dnn/hidden2/Relu&quot;\\n  attr {\\n    key: &quot;T&quot;\\n    value {\\n      type: DT_FLOAT\\n    }\\n  }\\n}\\nnode {\\n  name: &quot;gradients/dnn/hidden2/BiasAdd_grad/BiasAddGrad&quot;\\n  op: &quot;BiasAddGrad&quot;\\n  input: &quot;gradients/dnn/hidden2/Relu_grad/ReluGrad&quot;\\n  attr {\\n    key: &quot;T&quot;\\n    value {\\n      type: DT_FLOAT\\n    }\\n  }\\n  attr {\\n    key: &quot;data_format&quot;\\n    value {\\n      s: &quot;NHWC&quot;\\n    }\\n  }\\n}\\nnode {\\n  name: &quot;gradients/dnn/hidden2/BiasAdd_grad/tuple/group_deps&quot;\\n  op: &quot;NoOp&quot;\\n  input: &quot;^gradients/dnn/hidden2/BiasAdd_grad/BiasAddGrad&quot;\\n  input: &quot;^gradients/dnn/hidden2/Relu_grad/ReluGrad&quot;\\n}\\nnode {\\n  name: &quot;gradients/dnn/hidden2/BiasAdd_grad/tuple/control_dependency&quot;\\n  op: &quot;Identity&quot;\\n  input: &quot;gradients/dnn/hidden2/Relu_grad/ReluGrad&quot;\\n  input: &quot;^gradients/dnn/hidden2/BiasAdd_grad/tuple/group_deps&quot;\\n  attr {\\n    key: &quot;T&quot;\\n    value {\\n      type: DT_FLOAT\\n    }\\n  }\\n  attr {\\n    key: &quot;_class&quot;\\n    value {\\n      list {\\n        s: &quot;loc:@gradients/dnn/hidden2/Relu_grad/ReluGrad&quot;\\n      }\\n    }\\n  }\\n}\\nnode {\\n  name: &quot;gradients/dnn/hidden2/BiasAdd_grad/tuple/control_dependency_1&quot;\\n  op: &quot;Identity&quot;\\n  input: &quot;gradients/dnn/hidden2/BiasAdd_grad/BiasAddGrad&quot;\\n  input: &quot;^gradients/dnn/hidden2/BiasAdd_grad/tuple/group_deps&quot;\\n  attr {\\n    key: &quot;T&quot;\\n    value {\\n      type: DT_FLOAT\\n    }\\n  }\\n  attr {\\n    key: &quot;_class&quot;\\n    value {\\n      list {\\n        s: &quot;loc:@gradients/dnn/hidden2/BiasAdd_grad/BiasAddGrad&quot;\\n      }\\n    }\\n  }\\n}\\nnode {\\n  name: &quot;gradients/dnn/hidden2/MatMul_grad/MatMul&quot;\\n  op: &quot;MatMul&quot;\\n  input: &quot;gradients/dnn/hidden2/BiasAdd_grad/tuple/control_dependency&quot;\\n  input: &quot;hidden2/kernel/read&quot;\\n  attr {\\n    key: &quot;T&quot;\\n    value {\\n      type: DT_FLOAT\\n    }\\n  }\\n  attr {\\n    key: &quot;transpose_a&quot;\\n    value {\\n      b: false\\n    }\\n  }\\n  attr {\\n    key: &quot;transpose_b&quot;\\n    value {\\n      b: true\\n    }\\n  }\\n}\\nnode {\\n  name: &quot;gradients/dnn/hidden2/MatMul_grad/MatMul_1&quot;\\n  op: &quot;MatMul&quot;\\n  input: &quot;dnn/hidden1/Relu&quot;\\n  input: &quot;gradients/dnn/hidden2/BiasAdd_grad/tuple/control_dependency&quot;\\n  attr {\\n    key: &quot;T&quot;\\n    value {\\n      type: DT_FLOAT\\n    }\\n  }\\n  attr {\\n    key: &quot;transpose_a&quot;\\n    value {\\n      b: true\\n    }\\n  }\\n  attr {\\n    key: &quot;transpose_b&quot;\\n    value {\\n      b: false\\n    }\\n  }\\n}\\nnode {\\n  name: &quot;gradients/dnn/hidden2/MatMul_grad/tuple/group_deps&quot;\\n  op: &quot;NoOp&quot;\\n  input: &quot;^gradients/dnn/hidden2/MatMul_grad/MatMul&quot;\\n  input: &quot;^gradients/dnn/hidden2/MatMul_grad/MatMul_1&quot;\\n}\\nnode {\\n  name: &quot;gradients/dnn/hidden2/MatMul_grad/tuple/control_dependency&quot;\\n  op: &quot;Identity&quot;\\n  input: &quot;gradients/dnn/hidden2/MatMul_grad/MatMul&quot;\\n  input: &quot;^gradients/dnn/hidden2/MatMul_grad/tuple/group_deps&quot;\\n  attr {\\n    key: &quot;T&quot;\\n    value {\\n      type: DT_FLOAT\\n    }\\n  }\\n  attr {\\n    key: &quot;_class&quot;\\n    value {\\n      list {\\n        s: &quot;loc:@gradients/dnn/hidden2/MatMul_grad/MatMul&quot;\\n      }\\n    }\\n  }\\n}\\nnode {\\n  name: &quot;gradients/dnn/hidden2/MatMul_grad/tuple/control_dependency_1&quot;\\n  op: &quot;Identity&quot;\\n  input: &quot;gradients/dnn/hidden2/MatMul_grad/MatMul_1&quot;\\n  input: &quot;^gradients/dnn/hidden2/MatMul_grad/tuple/group_deps&quot;\\n  attr {\\n    key: &quot;T&quot;\\n    value {\\n      type: DT_FLOAT\\n    }\\n  }\\n  attr {\\n    key: &quot;_class&quot;\\n    value {\\n      list {\\n        s: &quot;loc:@gradients/dnn/hidden2/MatMul_grad/MatMul_1&quot;\\n      }\\n    }\\n  }\\n}\\nnode {\\n  name: &quot;gradients/dnn/hidden1/Relu_grad/ReluGrad&quot;\\n  op: &quot;ReluGrad&quot;\\n  input: &quot;gradients/dnn/hidden2/MatMul_grad/tuple/control_dependency&quot;\\n  input: &quot;dnn/hidden1/Relu&quot;\\n  attr {\\n    key: &quot;T&quot;\\n    value {\\n      type: DT_FLOAT\\n    }\\n  }\\n}\\nnode {\\n  name: &quot;gradients/dnn/hidden1/BiasAdd_grad/BiasAddGrad&quot;\\n  op: &quot;BiasAddGrad&quot;\\n  input: &quot;gradients/dnn/hidden1/Relu_grad/ReluGrad&quot;\\n  attr {\\n    key: &quot;T&quot;\\n    value {\\n      type: DT_FLOAT\\n    }\\n  }\\n  attr {\\n    key: &quot;data_format&quot;\\n    value {\\n      s: &quot;NHWC&quot;\\n    }\\n  }\\n}\\nnode {\\n  name: &quot;gradients/dnn/hidden1/BiasAdd_grad/tuple/group_deps&quot;\\n  op: &quot;NoOp&quot;\\n  input: &quot;^gradients/dnn/hidden1/BiasAdd_grad/BiasAddGrad&quot;\\n  input: &quot;^gradients/dnn/hidden1/Relu_grad/ReluGrad&quot;\\n}\\nnode {\\n  name: &quot;gradients/dnn/hidden1/BiasAdd_grad/tuple/control_dependency&quot;\\n  op: &quot;Identity&quot;\\n  input: &quot;gradients/dnn/hidden1/Relu_grad/ReluGrad&quot;\\n  input: &quot;^gradients/dnn/hidden1/BiasAdd_grad/tuple/group_deps&quot;\\n  attr {\\n    key: &quot;T&quot;\\n    value {\\n      type: DT_FLOAT\\n    }\\n  }\\n  attr {\\n    key: &quot;_class&quot;\\n    value {\\n      list {\\n        s: &quot;loc:@gradients/dnn/hidden1/Relu_grad/ReluGrad&quot;\\n      }\\n    }\\n  }\\n}\\nnode {\\n  name: &quot;gradients/dnn/hidden1/BiasAdd_grad/tuple/control_dependency_1&quot;\\n  op: &quot;Identity&quot;\\n  input: &quot;gradients/dnn/hidden1/BiasAdd_grad/BiasAddGrad&quot;\\n  input: &quot;^gradients/dnn/hidden1/BiasAdd_grad/tuple/group_deps&quot;\\n  attr {\\n    key: &quot;T&quot;\\n    value {\\n      type: DT_FLOAT\\n    }\\n  }\\n  attr {\\n    key: &quot;_class&quot;\\n    value {\\n      list {\\n        s: &quot;loc:@gradients/dnn/hidden1/BiasAdd_grad/BiasAddGrad&quot;\\n      }\\n    }\\n  }\\n}\\nnode {\\n  name: &quot;gradients/dnn/hidden1/MatMul_grad/MatMul&quot;\\n  op: &quot;MatMul&quot;\\n  input: &quot;gradients/dnn/hidden1/BiasAdd_grad/tuple/control_dependency&quot;\\n  input: &quot;hidden1/kernel/read&quot;\\n  attr {\\n    key: &quot;T&quot;\\n    value {\\n      type: DT_FLOAT\\n    }\\n  }\\n  attr {\\n    key: &quot;transpose_a&quot;\\n    value {\\n      b: false\\n    }\\n  }\\n  attr {\\n    key: &quot;transpose_b&quot;\\n    value {\\n      b: true\\n    }\\n  }\\n}\\nnode {\\n  name: &quot;gradients/dnn/hidden1/MatMul_grad/MatMul_1&quot;\\n  op: &quot;MatMul&quot;\\n  input: &quot;X&quot;\\n  input: &quot;gradients/dnn/hidden1/BiasAdd_grad/tuple/control_dependency&quot;\\n  attr {\\n    key: &quot;T&quot;\\n    value {\\n      type: DT_FLOAT\\n    }\\n  }\\n  attr {\\n    key: &quot;transpose_a&quot;\\n    value {\\n      b: true\\n    }\\n  }\\n  attr {\\n    key: &quot;transpose_b&quot;\\n    value {\\n      b: false\\n    }\\n  }\\n}\\nnode {\\n  name: &quot;gradients/dnn/hidden1/MatMul_grad/tuple/group_deps&quot;\\n  op: &quot;NoOp&quot;\\n  input: &quot;^gradients/dnn/hidden1/MatMul_grad/MatMul&quot;\\n  input: &quot;^gradients/dnn/hidden1/MatMul_grad/MatMul_1&quot;\\n}\\nnode {\\n  name: &quot;gradients/dnn/hidden1/MatMul_grad/tuple/control_dependency&quot;\\n  op: &quot;Identity&quot;\\n  input: &quot;gradients/dnn/hidden1/MatMul_grad/MatMul&quot;\\n  input: &quot;^gradients/dnn/hidden1/MatMul_grad/tuple/group_deps&quot;\\n  attr {\\n    key: &quot;T&quot;\\n    value {\\n      type: DT_FLOAT\\n    }\\n  }\\n  attr {\\n    key: &quot;_class&quot;\\n    value {\\n      list {\\n        s: &quot;loc:@gradients/dnn/hidden1/MatMul_grad/MatMul&quot;\\n      }\\n    }\\n  }\\n}\\nnode {\\n  name: &quot;gradients/dnn/hidden1/MatMul_grad/tuple/control_dependency_1&quot;\\n  op: &quot;Identity&quot;\\n  input: &quot;gradients/dnn/hidden1/MatMul_grad/MatMul_1&quot;\\n  input: &quot;^gradients/dnn/hidden1/MatMul_grad/tuple/group_deps&quot;\\n  attr {\\n    key: &quot;T&quot;\\n    value {\\n      type: DT_FLOAT\\n    }\\n  }\\n  attr {\\n    key: &quot;_class&quot;\\n    value {\\n      list {\\n        s: &quot;loc:@gradients/dnn/hidden1/MatMul_grad/MatMul_1&quot;\\n      }\\n    }\\n  }\\n}\\nnode {\\n  name: &quot;clip_by_value/Minimum/y&quot;\\n  op: &quot;Const&quot;\\n  attr {\\n    key: &quot;dtype&quot;\\n    value {\\n      type: DT_FLOAT\\n    }\\n  }\\n  attr {\\n    key: &quot;value&quot;\\n    value {\\n      tensor {\\n        dtype: DT_FLOAT\\n        tensor_shape {\\n        }\\n        float_val: 1.0\\n      }\\n    }\\n  }\\n}\\nnode {\\n  name: &quot;clip_by_value/Minimum&quot;\\n  op: &quot;Minimum&quot;\\n  input: &quot;gradients/dnn/hidden1/MatMul_grad/tuple/control_dependency_1&quot;\\n  input: &quot;clip_by_value/Minimum/y&quot;\\n  attr {\\n    key: &quot;T&quot;\\n    value {\\n      type: DT_FLOAT\\n    }\\n  }\\n}\\nnode {\\n  name: &quot;clip_by_value/y&quot;\\n  op: &quot;Const&quot;\\n  attr {\\n    key: &quot;dtype&quot;\\n    value {\\n      type: DT_FLOAT\\n    }\\n  }\\n  attr {\\n    key: &quot;value&quot;\\n    value {\\n      tensor {\\n        dtype: DT_FLOAT\\n        tensor_shape {\\n        }\\n        float_val: -1.0\\n      }\\n    }\\n  }\\n}\\nnode {\\n  name: &quot;clip_by_value&quot;\\n  op: &quot;Maximum&quot;\\n  input: &quot;clip_by_value/Minimum&quot;\\n  input: &quot;clip_by_value/y&quot;\\n  attr {\\n    key: &quot;T&quot;\\n    value {\\n      type: DT_FLOAT\\n    }\\n  }\\n}\\nnode {\\n  name: &quot;clip_by_value_1/Minimum/y&quot;\\n  op: &quot;Const&quot;\\n  attr {\\n    key: &quot;dtype&quot;\\n    value {\\n      type: DT_FLOAT\\n    }\\n  }\\n  attr {\\n    key: &quot;value&quot;\\n    value {\\n      tensor {\\n        dtype: DT_FLOAT\\n        tensor_shape {\\n        }\\n        float_val: 1.0\\n      }\\n    }\\n  }\\n}\\nnode {\\n  name: &quot;clip_by_value_1/Minimum&quot;\\n  op: &quot;Minimum&quot;\\n  input: &quot;gradients/dnn/hidden1/BiasAdd_grad/tuple/control_dependency_1&quot;\\n  input: &quot;clip_by_value_1/Minimum/y&quot;\\n  attr {\\n    key: &quot;T&quot;\\n    value {\\n      type: DT_FLOAT\\n    }\\n  }\\n}\\nnode {\\n  name: &quot;clip_by_value_1/y&quot;\\n  op: &quot;Const&quot;\\n  attr {\\n    key: &quot;dtype&quot;\\n    value {\\n      type: DT_FLOAT\\n    }\\n  }\\n  attr {\\n    key: &quot;value&quot;\\n    value {\\n      tensor {\\n        dtype: DT_FLOAT\\n        tensor_shape {\\n        }\\n        float_val: -1.0\\n      }\\n    }\\n  }\\n}\\nnode {\\n  name: &quot;clip_by_value_1&quot;\\n  op: &quot;Maximum&quot;\\n  input: &quot;clip_by_value_1/Minimum&quot;\\n  input: &quot;clip_by_value_1/y&quot;\\n  attr {\\n    key: &quot;T&quot;\\n    value {\\n      type: DT_FLOAT\\n    }\\n  }\\n}\\nnode {\\n  name: &quot;clip_by_value_2/Minimum/y&quot;\\n  op: &quot;Const&quot;\\n  attr {\\n    key: &quot;dtype&quot;\\n    value {\\n      type: DT_FLOAT\\n    }\\n  }\\n  attr {\\n    key: &quot;value&quot;\\n    value {\\n      tensor {\\n        dtype: DT_FLOAT\\n        tensor_shape {\\n        }\\n        float_val: 1.0\\n      }\\n    }\\n  }\\n}\\nnode {\\n  name: &quot;clip_by_value_2/Minimum&quot;\\n  op: &quot;Minimum&quot;\\n  input: &quot;gradients/dnn/hidden2/MatMul_grad/tuple/control_dependency_1&quot;\\n  input: &quot;clip_by_value_2/Minimum/y&quot;\\n  attr {\\n    key: &quot;T&quot;\\n    value {\\n      type: DT_FLOAT\\n    }\\n  }\\n}\\nnode {\\n  name: &quot;clip_by_value_2/y&quot;\\n  op: &quot;Const&quot;\\n  attr {\\n    key: &quot;dtype&quot;\\n    value {\\n      type: DT_FLOAT\\n    }\\n  }\\n  attr {\\n    key: &quot;value&quot;\\n    value {\\n      tensor {\\n        dtype: DT_FLOAT\\n        tensor_shape {\\n        }\\n        float_val: -1.0\\n      }\\n    }\\n  }\\n}\\nnode {\\n  name: &quot;clip_by_value_2&quot;\\n  op: &quot;Maximum&quot;\\n  input: &quot;clip_by_value_2/Minimum&quot;\\n  input: &quot;clip_by_value_2/y&quot;\\n  attr {\\n    key: &quot;T&quot;\\n    value {\\n      type: DT_FLOAT\\n    }\\n  }\\n}\\nnode {\\n  name: &quot;clip_by_value_3/Minimum/y&quot;\\n  op: &quot;Const&quot;\\n  attr {\\n    key: &quot;dtype&quot;\\n    value {\\n      type: DT_FLOAT\\n    }\\n  }\\n  attr {\\n    key: &quot;value&quot;\\n    value {\\n      tensor {\\n        dtype: DT_FLOAT\\n        tensor_shape {\\n        }\\n        float_val: 1.0\\n      }\\n    }\\n  }\\n}\\nnode {\\n  name: &quot;clip_by_value_3/Minimum&quot;\\n  op: &quot;Minimum&quot;\\n  input: &quot;gradients/dnn/hidden2/BiasAdd_grad/tuple/control_dependency_1&quot;\\n  input: &quot;clip_by_value_3/Minimum/y&quot;\\n  attr {\\n    key: &quot;T&quot;\\n    value {\\n      type: DT_FLOAT\\n    }\\n  }\\n}\\nnode {\\n  name: &quot;clip_by_value_3/y&quot;\\n  op: &quot;Const&quot;\\n  attr {\\n    key: &quot;dtype&quot;\\n    value {\\n      type: DT_FLOAT\\n    }\\n  }\\n  attr {\\n    key: &quot;value&quot;\\n    value {\\n      tensor {\\n        dtype: DT_FLOAT\\n        tensor_shape {\\n        }\\n        float_val: -1.0\\n      }\\n    }\\n  }\\n}\\nnode {\\n  name: &quot;clip_by_value_3&quot;\\n  op: &quot;Maximum&quot;\\n  input: &quot;clip_by_value_3/Minimum&quot;\\n  input: &quot;clip_by_value_3/y&quot;\\n  attr {\\n    key: &quot;T&quot;\\n    value {\\n      type: DT_FLOAT\\n    }\\n  }\\n}\\nnode {\\n  name: &quot;clip_by_value_4/Minimum/y&quot;\\n  op: &quot;Const&quot;\\n  attr {\\n    key: &quot;dtype&quot;\\n    value {\\n      type: DT_FLOAT\\n    }\\n  }\\n  attr {\\n    key: &quot;value&quot;\\n    value {\\n      tensor {\\n        dtype: DT_FLOAT\\n        tensor_shape {\\n        }\\n        float_val: 1.0\\n      }\\n    }\\n  }\\n}\\nnode {\\n  name: &quot;clip_by_value_4/Minimum&quot;\\n  op: &quot;Minimum&quot;\\n  input: &quot;gradients/dnn/hidden3/MatMul_grad/tuple/control_dependency_1&quot;\\n  input: &quot;clip_by_value_4/Minimum/y&quot;\\n  attr {\\n    key: &quot;T&quot;\\n    value {\\n      type: DT_FLOAT\\n    }\\n  }\\n}\\nnode {\\n  name: &quot;clip_by_value_4/y&quot;\\n  op: &quot;Const&quot;\\n  attr {\\n    key: &quot;dtype&quot;\\n    value {\\n      type: DT_FLOAT\\n    }\\n  }\\n  attr {\\n    key: &quot;value&quot;\\n    value {\\n      tensor {\\n        dtype: DT_FLOAT\\n        tensor_shape {\\n        }\\n        float_val: -1.0\\n      }\\n    }\\n  }\\n}\\nnode {\\n  name: &quot;clip_by_value_4&quot;\\n  op: &quot;Maximum&quot;\\n  input: &quot;clip_by_value_4/Minimum&quot;\\n  input: &quot;clip_by_value_4/y&quot;\\n  attr {\\n    key: &quot;T&quot;\\n    value {\\n      type: DT_FLOAT\\n    }\\n  }\\n}\\nnode {\\n  name: &quot;clip_by_value_5/Minimum/y&quot;\\n  op: &quot;Const&quot;\\n  attr {\\n    key: &quot;dtype&quot;\\n    value {\\n      type: DT_FLOAT\\n    }\\n  }\\n  attr {\\n    key: &quot;value&quot;\\n    value {\\n      tensor {\\n        dtype: DT_FLOAT\\n        tensor_shape {\\n        }\\n        float_val: 1.0\\n      }\\n    }\\n  }\\n}\\nnode {\\n  name: &quot;clip_by_value_5/Minimum&quot;\\n  op: &quot;Minimum&quot;\\n  input: &quot;gradients/dnn/hidden3/BiasAdd_grad/tuple/control_dependency_1&quot;\\n  input: &quot;clip_by_value_5/Minimum/y&quot;\\n  attr {\\n    key: &quot;T&quot;\\n    value {\\n      type: DT_FLOAT\\n    }\\n  }\\n}\\nnode {\\n  name: &quot;clip_by_value_5/y&quot;\\n  op: &quot;Const&quot;\\n  attr {\\n    key: &quot;dtype&quot;\\n    value {\\n      type: DT_FLOAT\\n    }\\n  }\\n  attr {\\n    key: &quot;value&quot;\\n    value {\\n      tensor {\\n        dtype: DT_FLOAT\\n        tensor_shape {\\n        }\\n        float_val: -1.0\\n      }\\n    }\\n  }\\n}\\nnode {\\n  name: &quot;clip_by_value_5&quot;\\n  op: &quot;Maximum&quot;\\n  input: &quot;clip_by_value_5/Minimum&quot;\\n  input: &quot;clip_by_value_5/y&quot;\\n  attr {\\n    key: &quot;T&quot;\\n    value {\\n      type: DT_FLOAT\\n    }\\n  }\\n}\\nnode {\\n  name: &quot;clip_by_value_6/Minimum/y&quot;\\n  op: &quot;Const&quot;\\n  attr {\\n    key: &quot;dtype&quot;\\n    value {\\n      type: DT_FLOAT\\n    }\\n  }\\n  attr {\\n    key: &quot;value&quot;\\n    value {\\n      tensor {\\n        dtype: DT_FLOAT\\n        tensor_shape {\\n        }\\n        float_val: 1.0\\n      }\\n    }\\n  }\\n}\\nnode {\\n  name: &quot;clip_by_value_6/Minimum&quot;\\n  op: &quot;Minimum&quot;\\n  input: &quot;gradients/dnn/hidden4/MatMul_grad/tuple/control_dependency_1&quot;\\n  input: &quot;clip_by_value_6/Minimum/y&quot;\\n  attr {\\n    key: &quot;T&quot;\\n    value {\\n      type: DT_FLOAT\\n    }\\n  }\\n}\\nnode {\\n  name: &quot;clip_by_value_6/y&quot;\\n  op: &quot;Const&quot;\\n  attr {\\n    key: &quot;dtype&quot;\\n    value {\\n      type: DT_FLOAT\\n    }\\n  }\\n  attr {\\n    key: &quot;value&quot;\\n    value {\\n      tensor {\\n        dtype: DT_FLOAT\\n        tensor_shape {\\n        }\\n        float_val: -1.0\\n      }\\n    }\\n  }\\n}\\nnode {\\n  name: &quot;clip_by_value_6&quot;\\n  op: &quot;Maximum&quot;\\n  input: &quot;clip_by_value_6/Minimum&quot;\\n  input: &quot;clip_by_value_6/y&quot;\\n  attr {\\n    key: &quot;T&quot;\\n    value {\\n      type: DT_FLOAT\\n    }\\n  }\\n}\\nnode {\\n  name: &quot;clip_by_value_7/Minimum/y&quot;\\n  op: &quot;Const&quot;\\n  attr {\\n    key: &quot;dtype&quot;\\n    value {\\n      type: DT_FLOAT\\n    }\\n  }\\n  attr {\\n    key: &quot;value&quot;\\n    value {\\n      tensor {\\n        dtype: DT_FLOAT\\n        tensor_shape {\\n        }\\n        float_val: 1.0\\n      }\\n    }\\n  }\\n}\\nnode {\\n  name: &quot;clip_by_value_7/Minimum&quot;\\n  op: &quot;Minimum&quot;\\n  input: &quot;gradients/dnn/hidden4/BiasAdd_grad/tuple/control_dependency_1&quot;\\n  input: &quot;clip_by_value_7/Minimum/y&quot;\\n  attr {\\n    key: &quot;T&quot;\\n    value {\\n      type: DT_FLOAT\\n    }\\n  }\\n}\\nnode {\\n  name: &quot;clip_by_value_7/y&quot;\\n  op: &quot;Const&quot;\\n  attr {\\n    key: &quot;dtype&quot;\\n    value {\\n      type: DT_FLOAT\\n    }\\n  }\\n  attr {\\n    key: &quot;value&quot;\\n    value {\\n      tensor {\\n        dtype: DT_FLOAT\\n        tensor_shape {\\n        }\\n        float_val: -1.0\\n      }\\n    }\\n  }\\n}\\nnode {\\n  name: &quot;clip_by_value_7&quot;\\n  op: &quot;Maximum&quot;\\n  input: &quot;clip_by_value_7/Minimum&quot;\\n  input: &quot;clip_by_value_7/y&quot;\\n  attr {\\n    key: &quot;T&quot;\\n    value {\\n      type: DT_FLOAT\\n    }\\n  }\\n}\\nnode {\\n  name: &quot;clip_by_value_8/Minimum/y&quot;\\n  op: &quot;Const&quot;\\n  attr {\\n    key: &quot;dtype&quot;\\n    value {\\n      type: DT_FLOAT\\n    }\\n  }\\n  attr {\\n    key: &quot;value&quot;\\n    value {\\n      tensor {\\n        dtype: DT_FLOAT\\n        tensor_shape {\\n        }\\n        float_val: 1.0\\n      }\\n    }\\n  }\\n}\\nnode {\\n  name: &quot;clip_by_value_8/Minimum&quot;\\n  op: &quot;Minimum&quot;\\n  input: &quot;gradients/dnn/hidden5/MatMul_grad/tuple/control_dependency_1&quot;\\n  input: &quot;clip_by_value_8/Minimum/y&quot;\\n  attr {\\n    key: &quot;T&quot;\\n    value {\\n      type: DT_FLOAT\\n    }\\n  }\\n}\\nnode {\\n  name: &quot;clip_by_value_8/y&quot;\\n  op: &quot;Const&quot;\\n  attr {\\n    key: &quot;dtype&quot;\\n    value {\\n      type: DT_FLOAT\\n    }\\n  }\\n  attr {\\n    key: &quot;value&quot;\\n    value {\\n      tensor {\\n        dtype: DT_FLOAT\\n        tensor_shape {\\n        }\\n        float_val: -1.0\\n      }\\n    }\\n  }\\n}\\nnode {\\n  name: &quot;clip_by_value_8&quot;\\n  op: &quot;Maximum&quot;\\n  input: &quot;clip_by_value_8/Minimum&quot;\\n  input: &quot;clip_by_value_8/y&quot;\\n  attr {\\n    key: &quot;T&quot;\\n    value {\\n      type: DT_FLOAT\\n    }\\n  }\\n}\\nnode {\\n  name: &quot;clip_by_value_9/Minimum/y&quot;\\n  op: &quot;Const&quot;\\n  attr {\\n    key: &quot;dtype&quot;\\n    value {\\n      type: DT_FLOAT\\n    }\\n  }\\n  attr {\\n    key: &quot;value&quot;\\n    value {\\n      tensor {\\n        dtype: DT_FLOAT\\n        tensor_shape {\\n        }\\n        float_val: 1.0\\n      }\\n    }\\n  }\\n}\\nnode {\\n  name: &quot;clip_by_value_9/Minimum&quot;\\n  op: &quot;Minimum&quot;\\n  input: &quot;gradients/dnn/hidden5/BiasAdd_grad/tuple/control_dependency_1&quot;\\n  input: &quot;clip_by_value_9/Minimum/y&quot;\\n  attr {\\n    key: &quot;T&quot;\\n    value {\\n      type: DT_FLOAT\\n    }\\n  }\\n}\\nnode {\\n  name: &quot;clip_by_value_9/y&quot;\\n  op: &quot;Const&quot;\\n  attr {\\n    key: &quot;dtype&quot;\\n    value {\\n      type: DT_FLOAT\\n    }\\n  }\\n  attr {\\n    key: &quot;value&quot;\\n    value {\\n      tensor {\\n        dtype: DT_FLOAT\\n        tensor_shape {\\n        }\\n        float_val: -1.0\\n      }\\n    }\\n  }\\n}\\nnode {\\n  name: &quot;clip_by_value_9&quot;\\n  op: &quot;Maximum&quot;\\n  input: &quot;clip_by_value_9/Minimum&quot;\\n  input: &quot;clip_by_value_9/y&quot;\\n  attr {\\n    key: &quot;T&quot;\\n    value {\\n      type: DT_FLOAT\\n    }\\n  }\\n}\\nnode {\\n  name: &quot;clip_by_value_10/Minimum/y&quot;\\n  op: &quot;Const&quot;\\n  attr {\\n    key: &quot;dtype&quot;\\n    value {\\n      type: DT_FLOAT\\n    }\\n  }\\n  attr {\\n    key: &quot;value&quot;\\n    value {\\n      tensor {\\n        dtype: DT_FLOAT\\n        tensor_shape {\\n        }\\n        float_val: 1.0\\n      }\\n    }\\n  }\\n}\\nnode {\\n  name: &quot;clip_by_value_10/Minimum&quot;\\n  op: &quot;Minimum&quot;\\n  input: &quot;gradients/dnn/outputs/MatMul_grad/tuple/control_dependency_1&quot;\\n  input: &quot;clip_by_value_10/Minimum/y&quot;\\n  attr {\\n    key: &quot;T&quot;\\n    value {\\n      type: DT_FLOAT\\n    }\\n  }\\n}\\nnode {\\n  name: &quot;clip_by_value_10/y&quot;\\n  op: &quot;Const&quot;\\n  attr {\\n    key: &quot;dtype&quot;\\n    value {\\n      type: DT_FLOAT\\n    }\\n  }\\n  attr {\\n    key: &quot;value&quot;\\n    value {\\n      tensor {\\n        dtype: DT_FLOAT\\n        tensor_shape {\\n        }\\n        float_val: -1.0\\n      }\\n    }\\n  }\\n}\\nnode {\\n  name: &quot;clip_by_value_10&quot;\\n  op: &quot;Maximum&quot;\\n  input: &quot;clip_by_value_10/Minimum&quot;\\n  input: &quot;clip_by_value_10/y&quot;\\n  attr {\\n    key: &quot;T&quot;\\n    value {\\n      type: DT_FLOAT\\n    }\\n  }\\n}\\nnode {\\n  name: &quot;clip_by_value_11/Minimum/y&quot;\\n  op: &quot;Const&quot;\\n  attr {\\n    key: &quot;dtype&quot;\\n    value {\\n      type: DT_FLOAT\\n    }\\n  }\\n  attr {\\n    key: &quot;value&quot;\\n    value {\\n      tensor {\\n        dtype: DT_FLOAT\\n        tensor_shape {\\n        }\\n        float_val: 1.0\\n      }\\n    }\\n  }\\n}\\nnode {\\n  name: &quot;clip_by_value_11/Minimum&quot;\\n  op: &quot;Minimum&quot;\\n  input: &quot;gradients/dnn/outputs/BiasAdd_grad/tuple/control_dependency_1&quot;\\n  input: &quot;clip_by_value_11/Minimum/y&quot;\\n  attr {\\n    key: &quot;T&quot;\\n    value {\\n      type: DT_FLOAT\\n    }\\n  }\\n}\\nnode {\\n  name: &quot;clip_by_value_11/y&quot;\\n  op: &quot;Const&quot;\\n  attr {\\n    key: &quot;dtype&quot;\\n    value {\\n      type: DT_FLOAT\\n    }\\n  }\\n  attr {\\n    key: &quot;value&quot;\\n    value {\\n      tensor {\\n        dtype: DT_FLOAT\\n        tensor_shape {\\n        }\\n        float_val: -1.0\\n      }\\n    }\\n  }\\n}\\nnode {\\n  name: &quot;clip_by_value_11&quot;\\n  op: &quot;Maximum&quot;\\n  input: &quot;clip_by_value_11/Minimum&quot;\\n  input: &quot;clip_by_value_11/y&quot;\\n  attr {\\n    key: &quot;T&quot;\\n    value {\\n      type: DT_FLOAT\\n    }\\n  }\\n}\\nnode {\\n  name: &quot;GradientDescent/learning_rate&quot;\\n  op: &quot;Const&quot;\\n  attr {\\n    key: &quot;dtype&quot;\\n    value {\\n      type: DT_FLOAT\\n    }\\n  }\\n  attr {\\n    key: &quot;value&quot;\\n    value {\\n      tensor {\\n        dtype: DT_FLOAT\\n        tensor_shape {\\n        }\\n        float_val: 0.009999999776482582\\n      }\\n    }\\n  }\\n}\\nnode {\\n  name: &quot;GradientDescent/update_hidden1/kernel/ApplyGradientDescent&quot;\\n  op: &quot;ApplyGradientDescent&quot;\\n  input: &quot;hidden1/kernel&quot;\\n  input: &quot;GradientDescent/learning_rate&quot;\\n  input: &quot;clip_by_value&quot;\\n  attr {\\n    key: &quot;T&quot;\\n    value {\\n      type: DT_FLOAT\\n    }\\n  }\\n  attr {\\n    key: &quot;_class&quot;\\n    value {\\n      list {\\n        s: &quot;loc:@hidden1/kernel&quot;\\n      }\\n    }\\n  }\\n  attr {\\n    key: &quot;use_locking&quot;\\n    value {\\n      b: false\\n    }\\n  }\\n}\\nnode {\\n  name: &quot;GradientDescent/update_hidden1/bias/ApplyGradientDescent&quot;\\n  op: &quot;ApplyGradientDescent&quot;\\n  input: &quot;hidden1/bias&quot;\\n  input: &quot;GradientDescent/learning_rate&quot;\\n  input: &quot;clip_by_value_1&quot;\\n  attr {\\n    key: &quot;T&quot;\\n    value {\\n      type: DT_FLOAT\\n    }\\n  }\\n  attr {\\n    key: &quot;_class&quot;\\n    value {\\n      list {\\n        s: &quot;loc:@hidden1/bias&quot;\\n      }\\n    }\\n  }\\n  attr {\\n    key: &quot;use_locking&quot;\\n    value {\\n      b: false\\n    }\\n  }\\n}\\nnode {\\n  name: &quot;GradientDescent/update_hidden2/kernel/ApplyGradientDescent&quot;\\n  op: &quot;ApplyGradientDescent&quot;\\n  input: &quot;hidden2/kernel&quot;\\n  input: &quot;GradientDescent/learning_rate&quot;\\n  input: &quot;clip_by_value_2&quot;\\n  attr {\\n    key: &quot;T&quot;\\n    value {\\n      type: DT_FLOAT\\n    }\\n  }\\n  attr {\\n    key: &quot;_class&quot;\\n    value {\\n      list {\\n        s: &quot;loc:@hidden2/kernel&quot;\\n      }\\n    }\\n  }\\n  attr {\\n    key: &quot;use_locking&quot;\\n    value {\\n      b: false\\n    }\\n  }\\n}\\nnode {\\n  name: &quot;GradientDescent/update_hidden2/bias/ApplyGradientDescent&quot;\\n  op: &quot;ApplyGradientDescent&quot;\\n  input: &quot;hidden2/bias&quot;\\n  input: &quot;GradientDescent/learning_rate&quot;\\n  input: &quot;clip_by_value_3&quot;\\n  attr {\\n    key: &quot;T&quot;\\n    value {\\n      type: DT_FLOAT\\n    }\\n  }\\n  attr {\\n    key: &quot;_class&quot;\\n    value {\\n      list {\\n        s: &quot;loc:@hidden2/bias&quot;\\n      }\\n    }\\n  }\\n  attr {\\n    key: &quot;use_locking&quot;\\n    value {\\n      b: false\\n    }\\n  }\\n}\\nnode {\\n  name: &quot;GradientDescent/update_hidden3/kernel/ApplyGradientDescent&quot;\\n  op: &quot;ApplyGradientDescent&quot;\\n  input: &quot;hidden3/kernel&quot;\\n  input: &quot;GradientDescent/learning_rate&quot;\\n  input: &quot;clip_by_value_4&quot;\\n  attr {\\n    key: &quot;T&quot;\\n    value {\\n      type: DT_FLOAT\\n    }\\n  }\\n  attr {\\n    key: &quot;_class&quot;\\n    value {\\n      list {\\n        s: &quot;loc:@hidden3/kernel&quot;\\n      }\\n    }\\n  }\\n  attr {\\n    key: &quot;use_locking&quot;\\n    value {\\n      b: false\\n    }\\n  }\\n}\\nnode {\\n  name: &quot;GradientDescent/update_hidden3/bias/ApplyGradientDescent&quot;\\n  op: &quot;ApplyGradientDescent&quot;\\n  input: &quot;hidden3/bias&quot;\\n  input: &quot;GradientDescent/learning_rate&quot;\\n  input: &quot;clip_by_value_5&quot;\\n  attr {\\n    key: &quot;T&quot;\\n    value {\\n      type: DT_FLOAT\\n    }\\n  }\\n  attr {\\n    key: &quot;_class&quot;\\n    value {\\n      list {\\n        s: &quot;loc:@hidden3/bias&quot;\\n      }\\n    }\\n  }\\n  attr {\\n    key: &quot;use_locking&quot;\\n    value {\\n      b: false\\n    }\\n  }\\n}\\nnode {\\n  name: &quot;GradientDescent/update_hidden4/kernel/ApplyGradientDescent&quot;\\n  op: &quot;ApplyGradientDescent&quot;\\n  input: &quot;hidden4/kernel&quot;\\n  input: &quot;GradientDescent/learning_rate&quot;\\n  input: &quot;clip_by_value_6&quot;\\n  attr {\\n    key: &quot;T&quot;\\n    value {\\n      type: DT_FLOAT\\n    }\\n  }\\n  attr {\\n    key: &quot;_class&quot;\\n    value {\\n      list {\\n        s: &quot;loc:@hidden4/kernel&quot;\\n      }\\n    }\\n  }\\n  attr {\\n    key: &quot;use_locking&quot;\\n    value {\\n      b: false\\n    }\\n  }\\n}\\nnode {\\n  name: &quot;GradientDescent/update_hidden4/bias/ApplyGradientDescent&quot;\\n  op: &quot;ApplyGradientDescent&quot;\\n  input: &quot;hidden4/bias&quot;\\n  input: &quot;GradientDescent/learning_rate&quot;\\n  input: &quot;clip_by_value_7&quot;\\n  attr {\\n    key: &quot;T&quot;\\n    value {\\n      type: DT_FLOAT\\n    }\\n  }\\n  attr {\\n    key: &quot;_class&quot;\\n    value {\\n      list {\\n        s: &quot;loc:@hidden4/bias&quot;\\n      }\\n    }\\n  }\\n  attr {\\n    key: &quot;use_locking&quot;\\n    value {\\n      b: false\\n    }\\n  }\\n}\\nnode {\\n  name: &quot;GradientDescent/update_hidden5/kernel/ApplyGradientDescent&quot;\\n  op: &quot;ApplyGradientDescent&quot;\\n  input: &quot;hidden5/kernel&quot;\\n  input: &quot;GradientDescent/learning_rate&quot;\\n  input: &quot;clip_by_value_8&quot;\\n  attr {\\n    key: &quot;T&quot;\\n    value {\\n      type: DT_FLOAT\\n    }\\n  }\\n  attr {\\n    key: &quot;_class&quot;\\n    value {\\n      list {\\n        s: &quot;loc:@hidden5/kernel&quot;\\n      }\\n    }\\n  }\\n  attr {\\n    key: &quot;use_locking&quot;\\n    value {\\n      b: false\\n    }\\n  }\\n}\\nnode {\\n  name: &quot;GradientDescent/update_hidden5/bias/ApplyGradientDescent&quot;\\n  op: &quot;ApplyGradientDescent&quot;\\n  input: &quot;hidden5/bias&quot;\\n  input: &quot;GradientDescent/learning_rate&quot;\\n  input: &quot;clip_by_value_9&quot;\\n  attr {\\n    key: &quot;T&quot;\\n    value {\\n      type: DT_FLOAT\\n    }\\n  }\\n  attr {\\n    key: &quot;_class&quot;\\n    value {\\n      list {\\n        s: &quot;loc:@hidden5/bias&quot;\\n      }\\n    }\\n  }\\n  attr {\\n    key: &quot;use_locking&quot;\\n    value {\\n      b: false\\n    }\\n  }\\n}\\nnode {\\n  name: &quot;GradientDescent/update_outputs/kernel/ApplyGradientDescent&quot;\\n  op: &quot;ApplyGradientDescent&quot;\\n  input: &quot;outputs/kernel&quot;\\n  input: &quot;GradientDescent/learning_rate&quot;\\n  input: &quot;clip_by_value_10&quot;\\n  attr {\\n    key: &quot;T&quot;\\n    value {\\n      type: DT_FLOAT\\n    }\\n  }\\n  attr {\\n    key: &quot;_class&quot;\\n    value {\\n      list {\\n        s: &quot;loc:@outputs/kernel&quot;\\n      }\\n    }\\n  }\\n  attr {\\n    key: &quot;use_locking&quot;\\n    value {\\n      b: false\\n    }\\n  }\\n}\\nnode {\\n  name: &quot;GradientDescent/update_outputs/bias/ApplyGradientDescent&quot;\\n  op: &quot;ApplyGradientDescent&quot;\\n  input: &quot;outputs/bias&quot;\\n  input: &quot;GradientDescent/learning_rate&quot;\\n  input: &quot;clip_by_value_11&quot;\\n  attr {\\n    key: &quot;T&quot;\\n    value {\\n      type: DT_FLOAT\\n    }\\n  }\\n  attr {\\n    key: &quot;_class&quot;\\n    value {\\n      list {\\n        s: &quot;loc:@outputs/bias&quot;\\n      }\\n    }\\n  }\\n  attr {\\n    key: &quot;use_locking&quot;\\n    value {\\n      b: false\\n    }\\n  }\\n}\\nnode {\\n  name: &quot;GradientDescent&quot;\\n  op: &quot;NoOp&quot;\\n  input: &quot;^GradientDescent/update_hidden1/bias/ApplyGradientDescent&quot;\\n  input: &quot;^GradientDescent/update_hidden1/kernel/ApplyGradientDescent&quot;\\n  input: &quot;^GradientDescent/update_hidden2/bias/ApplyGradientDescent&quot;\\n  input: &quot;^GradientDescent/update_hidden2/kernel/ApplyGradientDescent&quot;\\n  input: &quot;^GradientDescent/update_hidden3/bias/ApplyGradientDescent&quot;\\n  input: &quot;^GradientDescent/update_hidden3/kernel/ApplyGradientDescent&quot;\\n  input: &quot;^GradientDescent/update_hidden4/bias/ApplyGradientDescent&quot;\\n  input: &quot;^GradientDescent/update_hidden4/kernel/ApplyGradientDescent&quot;\\n  input: &quot;^GradientDescent/update_hidden5/bias/ApplyGradientDescent&quot;\\n  input: &quot;^GradientDescent/update_hidden5/kernel/ApplyGradientDescent&quot;\\n  input: &quot;^GradientDescent/update_outputs/bias/ApplyGradientDescent&quot;\\n  input: &quot;^GradientDescent/update_outputs/kernel/ApplyGradientDescent&quot;\\n}\\nnode {\\n  name: &quot;eval/in_top_k/InTopKV2/k&quot;\\n  op: &quot;Const&quot;\\n  attr {\\n    key: &quot;dtype&quot;\\n    value {\\n      type: DT_INT32\\n    }\\n  }\\n  attr {\\n    key: &quot;value&quot;\\n    value {\\n      tensor {\\n        dtype: DT_INT32\\n        tensor_shape {\\n        }\\n        int_val: 1\\n      }\\n    }\\n  }\\n}\\nnode {\\n  name: &quot;eval/in_top_k/InTopKV2&quot;\\n  op: &quot;InTopKV2&quot;\\n  input: &quot;dnn/outputs/BiasAdd&quot;\\n  input: &quot;y&quot;\\n  input: &quot;eval/in_top_k/InTopKV2/k&quot;\\n  attr {\\n    key: &quot;T&quot;\\n    value {\\n      type: DT_INT32\\n    }\\n  }\\n}\\nnode {\\n  name: &quot;eval/Cast&quot;\\n  op: &quot;Cast&quot;\\n  input: &quot;eval/in_top_k/InTopKV2&quot;\\n  attr {\\n    key: &quot;DstT&quot;\\n    value {\\n      type: DT_FLOAT\\n    }\\n  }\\n  attr {\\n    key: &quot;SrcT&quot;\\n    value {\\n      type: DT_BOOL\\n    }\\n  }\\n  attr {\\n    key: &quot;Truncate&quot;\\n    value {\\n      b: false\\n    }\\n  }\\n}\\nnode {\\n  name: &quot;eval/Const&quot;\\n  op: &quot;Const&quot;\\n  attr {\\n    key: &quot;dtype&quot;\\n    value {\\n      type: DT_INT32\\n    }\\n  }\\n  attr {\\n    key: &quot;value&quot;\\n    value {\\n      tensor {\\n        dtype: DT_INT32\\n        tensor_shape {\\n          dim {\\n            size: 1\\n          }\\n        }\\n        int_val: 0\\n      }\\n    }\\n  }\\n}\\nnode {\\n  name: &quot;eval/accuracy&quot;\\n  op: &quot;Mean&quot;\\n  input: &quot;eval/Cast&quot;\\n  input: &quot;eval/Const&quot;\\n  attr {\\n    key: &quot;T&quot;\\n    value {\\n      type: DT_FLOAT\\n    }\\n  }\\n  attr {\\n    key: &quot;Tidx&quot;\\n    value {\\n      type: DT_INT32\\n    }\\n  }\\n  attr {\\n    key: &quot;keep_dims&quot;\\n    value {\\n      b: false\\n    }\\n  }\\n}\\nnode {\\n  name: &quot;init&quot;\\n  op: &quot;NoOp&quot;\\n  input: &quot;^hidden1/bias/Assign&quot;\\n  input: &quot;^hidden1/kernel/Assign&quot;\\n  input: &quot;^hidden2/bias/Assign&quot;\\n  input: &quot;^hidden2/kernel/Assign&quot;\\n  input: &quot;^hidden3/bias/Assign&quot;\\n  input: &quot;^hidden3/kernel/Assign&quot;\\n  input: &quot;^hidden4/bias/Assign&quot;\\n  input: &quot;^hidden4/kernel/Assign&quot;\\n  input: &quot;^hidden5/bias/Assign&quot;\\n  input: &quot;^hidden5/kernel/Assign&quot;\\n  input: &quot;^outputs/bias/Assign&quot;\\n  input: &quot;^outputs/kernel/Assign&quot;\\n}\\nnode {\\n  name: &quot;save/Const&quot;\\n  op: &quot;Const&quot;\\n  attr {\\n    key: &quot;dtype&quot;\\n    value {\\n      type: DT_STRING\\n    }\\n  }\\n  attr {\\n    key: &quot;value&quot;\\n    value {\\n      tensor {\\n        dtype: DT_STRING\\n        tensor_shape {\\n        }\\n        string_val: &quot;model&quot;\\n      }\\n    }\\n  }\\n}\\nnode {\\n  name: &quot;save/SaveV2/tensor_names&quot;\\n  op: &quot;Const&quot;\\n  attr {\\n    key: &quot;dtype&quot;\\n    value {\\n      type: DT_STRING\\n    }\\n  }\\n  attr {\\n    key: &quot;value&quot;\\n    value {\\n      tensor {\\n        dtype: DT_STRING\\n        tensor_shape {\\n          dim {\\n            size: 12\\n          }\\n        }\\n        string_val: &quot;hidden1/bias&quot;\\n        string_val: &quot;hidden1/kernel&quot;\\n        string_val: &quot;hidden2/bias&quot;\\n        string_val: &quot;hidden2/kernel&quot;\\n        string_val: &quot;hidden3/bias&quot;\\n        string_val: &quot;hidden3/kernel&quot;\\n        string_val: &quot;hidden4/bias&quot;\\n        string_val: &quot;hidden4/kernel&quot;\\n        string_val: &quot;hidden5/bias&quot;\\n        string_val: &quot;hidden5/kernel&quot;\\n        string_val: &quot;outputs/bias&quot;\\n        string_val: &quot;outputs/kernel&quot;\\n      }\\n    }\\n  }\\n}\\nnode {\\n  name: &quot;save/SaveV2/shape_and_slices&quot;\\n  op: &quot;Const&quot;\\n  attr {\\n    key: &quot;dtype&quot;\\n    value {\\n      type: DT_STRING\\n    }\\n  }\\n  attr {\\n    key: &quot;value&quot;\\n    value {\\n      tensor {\\n        dtype: DT_STRING\\n        tensor_shape {\\n          dim {\\n            size: 12\\n          }\\n        }\\n        string_val: &quot;&quot;\\n        string_val: &quot;&quot;\\n        string_val: &quot;&quot;\\n        string_val: &quot;&quot;\\n        string_val: &quot;&quot;\\n        string_val: &quot;&quot;\\n        string_val: &quot;&quot;\\n        string_val: &quot;&quot;\\n        string_val: &quot;&quot;\\n        string_val: &quot;&quot;\\n        string_val: &quot;&quot;\\n        string_val: &quot;&quot;\\n      }\\n    }\\n  }\\n}\\nnode {\\n  name: &quot;save/SaveV2&quot;\\n  op: &quot;SaveV2&quot;\\n  input: &quot;save/Const&quot;\\n  input: &quot;save/SaveV2/tensor_names&quot;\\n  input: &quot;save/SaveV2/shape_and_slices&quot;\\n  input: &quot;hidden1/bias&quot;\\n  input: &quot;hidden1/kernel&quot;\\n  input: &quot;hidden2/bias&quot;\\n  input: &quot;hidden2/kernel&quot;\\n  input: &quot;hidden3/bias&quot;\\n  input: &quot;hidden3/kernel&quot;\\n  input: &quot;hidden4/bias&quot;\\n  input: &quot;hidden4/kernel&quot;\\n  input: &quot;hidden5/bias&quot;\\n  input: &quot;hidden5/kernel&quot;\\n  input: &quot;outputs/bias&quot;\\n  input: &quot;outputs/kernel&quot;\\n  attr {\\n    key: &quot;dtypes&quot;\\n    value {\\n      list {\\n        type: DT_FLOAT\\n        type: DT_FLOAT\\n        type: DT_FLOAT\\n        type: DT_FLOAT\\n        type: DT_FLOAT\\n        type: DT_FLOAT\\n        type: DT_FLOAT\\n        type: DT_FLOAT\\n        type: DT_FLOAT\\n        type: DT_FLOAT\\n        type: DT_FLOAT\\n        type: DT_FLOAT\\n      }\\n    }\\n  }\\n}\\nnode {\\n  name: &quot;save/control_dependency&quot;\\n  op: &quot;Identity&quot;\\n  input: &quot;save/Const&quot;\\n  input: &quot;^save/SaveV2&quot;\\n  attr {\\n    key: &quot;T&quot;\\n    value {\\n      type: DT_STRING\\n    }\\n  }\\n  attr {\\n    key: &quot;_class&quot;\\n    value {\\n      list {\\n        s: &quot;loc:@save/Const&quot;\\n      }\\n    }\\n  }\\n}\\nnode {\\n  name: &quot;save/RestoreV2/tensor_names&quot;\\n  op: &quot;Const&quot;\\n  device: &quot;/device:CPU:0&quot;\\n  attr {\\n    key: &quot;dtype&quot;\\n    value {\\n      type: DT_STRING\\n    }\\n  }\\n  attr {\\n    key: &quot;value&quot;\\n    value {\\n      tensor {\\n        dtype: DT_STRING\\n        tensor_shape {\\n          dim {\\n            size: 12\\n          }\\n        }\\n        string_val: &quot;hidden1/bias&quot;\\n        string_val: &quot;hidden1/kernel&quot;\\n        string_val: &quot;hidden2/bias&quot;\\n        string_val: &quot;hidden2/kernel&quot;\\n        string_val: &quot;hidden3/bias&quot;\\n        string_val: &quot;hidden3/kernel&quot;\\n        string_val: &quot;hidden4/bias&quot;\\n        string_val: &quot;hidden4/kernel&quot;\\n        string_val: &quot;hidden5/bias&quot;\\n        string_val: &quot;hidden5/kernel&quot;\\n        string_val: &quot;outputs/bias&quot;\\n        string_val: &quot;outputs/kernel&quot;\\n      }\\n    }\\n  }\\n}\\nnode {\\n  name: &quot;save/RestoreV2/shape_and_slices&quot;\\n  op: &quot;Const&quot;\\n  device: &quot;/device:CPU:0&quot;\\n  attr {\\n    key: &quot;dtype&quot;\\n    value {\\n      type: DT_STRING\\n    }\\n  }\\n  attr {\\n    key: &quot;value&quot;\\n    value {\\n      tensor {\\n        dtype: DT_STRING\\n        tensor_shape {\\n          dim {\\n            size: 12\\n          }\\n        }\\n        string_val: &quot;&quot;\\n        string_val: &quot;&quot;\\n        string_val: &quot;&quot;\\n        string_val: &quot;&quot;\\n        string_val: &quot;&quot;\\n        string_val: &quot;&quot;\\n        string_val: &quot;&quot;\\n        string_val: &quot;&quot;\\n        string_val: &quot;&quot;\\n        string_val: &quot;&quot;\\n        string_val: &quot;&quot;\\n        string_val: &quot;&quot;\\n      }\\n    }\\n  }\\n}\\nnode {\\n  name: &quot;save/RestoreV2&quot;\\n  op: &quot;RestoreV2&quot;\\n  input: &quot;save/Const&quot;\\n  input: &quot;save/RestoreV2/tensor_names&quot;\\n  input: &quot;save/RestoreV2/shape_and_slices&quot;\\n  device: &quot;/device:CPU:0&quot;\\n  attr {\\n    key: &quot;dtypes&quot;\\n    value {\\n      list {\\n        type: DT_FLOAT\\n        type: DT_FLOAT\\n        type: DT_FLOAT\\n        type: DT_FLOAT\\n        type: DT_FLOAT\\n        type: DT_FLOAT\\n        type: DT_FLOAT\\n        type: DT_FLOAT\\n        type: DT_FLOAT\\n        type: DT_FLOAT\\n        type: DT_FLOAT\\n        type: DT_FLOAT\\n      }\\n    }\\n  }\\n}\\nnode {\\n  name: &quot;save/Assign&quot;\\n  op: &quot;Assign&quot;\\n  input: &quot;hidden1/bias&quot;\\n  input: &quot;save/RestoreV2&quot;\\n  attr {\\n    key: &quot;T&quot;\\n    value {\\n      type: DT_FLOAT\\n    }\\n  }\\n  attr {\\n    key: &quot;_class&quot;\\n    value {\\n      list {\\n        s: &quot;loc:@hidden1/bias&quot;\\n      }\\n    }\\n  }\\n  attr {\\n    key: &quot;use_locking&quot;\\n    value {\\n      b: true\\n    }\\n  }\\n  attr {\\n    key: &quot;validate_shape&quot;\\n    value {\\n      b: true\\n    }\\n  }\\n}\\nnode {\\n  name: &quot;save/Assign_1&quot;\\n  op: &quot;Assign&quot;\\n  input: &quot;hidden1/kernel&quot;\\n  input: &quot;save/RestoreV2:1&quot;\\n  attr {\\n    key: &quot;T&quot;\\n    value {\\n      type: DT_FLOAT\\n    }\\n  }\\n  attr {\\n    key: &quot;_class&quot;\\n    value {\\n      list {\\n        s: &quot;loc:@hidden1/kernel&quot;\\n      }\\n    }\\n  }\\n  attr {\\n    key: &quot;use_locking&quot;\\n    value {\\n      b: true\\n    }\\n  }\\n  attr {\\n    key: &quot;validate_shape&quot;\\n    value {\\n      b: true\\n    }\\n  }\\n}\\nnode {\\n  name: &quot;save/Assign_2&quot;\\n  op: &quot;Assign&quot;\\n  input: &quot;hidden2/bias&quot;\\n  input: &quot;save/RestoreV2:2&quot;\\n  attr {\\n    key: &quot;T&quot;\\n    value {\\n      type: DT_FLOAT\\n    }\\n  }\\n  attr {\\n    key: &quot;_class&quot;\\n    value {\\n      list {\\n        s: &quot;loc:@hidden2/bias&quot;\\n      }\\n    }\\n  }\\n  attr {\\n    key: &quot;use_locking&quot;\\n    value {\\n      b: true\\n    }\\n  }\\n  attr {\\n    key: &quot;validate_shape&quot;\\n    value {\\n      b: true\\n    }\\n  }\\n}\\nnode {\\n  name: &quot;save/Assign_3&quot;\\n  op: &quot;Assign&quot;\\n  input: &quot;hidden2/kernel&quot;\\n  input: &quot;save/RestoreV2:3&quot;\\n  attr {\\n    key: &quot;T&quot;\\n    value {\\n      type: DT_FLOAT\\n    }\\n  }\\n  attr {\\n    key: &quot;_class&quot;\\n    value {\\n      list {\\n        s: &quot;loc:@hidden2/kernel&quot;\\n      }\\n    }\\n  }\\n  attr {\\n    key: &quot;use_locking&quot;\\n    value {\\n      b: true\\n    }\\n  }\\n  attr {\\n    key: &quot;validate_shape&quot;\\n    value {\\n      b: true\\n    }\\n  }\\n}\\nnode {\\n  name: &quot;save/Assign_4&quot;\\n  op: &quot;Assign&quot;\\n  input: &quot;hidden3/bias&quot;\\n  input: &quot;save/RestoreV2:4&quot;\\n  attr {\\n    key: &quot;T&quot;\\n    value {\\n      type: DT_FLOAT\\n    }\\n  }\\n  attr {\\n    key: &quot;_class&quot;\\n    value {\\n      list {\\n        s: &quot;loc:@hidden3/bias&quot;\\n      }\\n    }\\n  }\\n  attr {\\n    key: &quot;use_locking&quot;\\n    value {\\n      b: true\\n    }\\n  }\\n  attr {\\n    key: &quot;validate_shape&quot;\\n    value {\\n      b: true\\n    }\\n  }\\n}\\nnode {\\n  name: &quot;save/Assign_5&quot;\\n  op: &quot;Assign&quot;\\n  input: &quot;hidden3/kernel&quot;\\n  input: &quot;save/RestoreV2:5&quot;\\n  attr {\\n    key: &quot;T&quot;\\n    value {\\n      type: DT_FLOAT\\n    }\\n  }\\n  attr {\\n    key: &quot;_class&quot;\\n    value {\\n      list {\\n        s: &quot;loc:@hidden3/kernel&quot;\\n      }\\n    }\\n  }\\n  attr {\\n    key: &quot;use_locking&quot;\\n    value {\\n      b: true\\n    }\\n  }\\n  attr {\\n    key: &quot;validate_shape&quot;\\n    value {\\n      b: true\\n    }\\n  }\\n}\\nnode {\\n  name: &quot;save/Assign_6&quot;\\n  op: &quot;Assign&quot;\\n  input: &quot;hidden4/bias&quot;\\n  input: &quot;save/RestoreV2:6&quot;\\n  attr {\\n    key: &quot;T&quot;\\n    value {\\n      type: DT_FLOAT\\n    }\\n  }\\n  attr {\\n    key: &quot;_class&quot;\\n    value {\\n      list {\\n        s: &quot;loc:@hidden4/bias&quot;\\n      }\\n    }\\n  }\\n  attr {\\n    key: &quot;use_locking&quot;\\n    value {\\n      b: true\\n    }\\n  }\\n  attr {\\n    key: &quot;validate_shape&quot;\\n    value {\\n      b: true\\n    }\\n  }\\n}\\nnode {\\n  name: &quot;save/Assign_7&quot;\\n  op: &quot;Assign&quot;\\n  input: &quot;hidden4/kernel&quot;\\n  input: &quot;save/RestoreV2:7&quot;\\n  attr {\\n    key: &quot;T&quot;\\n    value {\\n      type: DT_FLOAT\\n    }\\n  }\\n  attr {\\n    key: &quot;_class&quot;\\n    value {\\n      list {\\n        s: &quot;loc:@hidden4/kernel&quot;\\n      }\\n    }\\n  }\\n  attr {\\n    key: &quot;use_locking&quot;\\n    value {\\n      b: true\\n    }\\n  }\\n  attr {\\n    key: &quot;validate_shape&quot;\\n    value {\\n      b: true\\n    }\\n  }\\n}\\nnode {\\n  name: &quot;save/Assign_8&quot;\\n  op: &quot;Assign&quot;\\n  input: &quot;hidden5/bias&quot;\\n  input: &quot;save/RestoreV2:8&quot;\\n  attr {\\n    key: &quot;T&quot;\\n    value {\\n      type: DT_FLOAT\\n    }\\n  }\\n  attr {\\n    key: &quot;_class&quot;\\n    value {\\n      list {\\n        s: &quot;loc:@hidden5/bias&quot;\\n      }\\n    }\\n  }\\n  attr {\\n    key: &quot;use_locking&quot;\\n    value {\\n      b: true\\n    }\\n  }\\n  attr {\\n    key: &quot;validate_shape&quot;\\n    value {\\n      b: true\\n    }\\n  }\\n}\\nnode {\\n  name: &quot;save/Assign_9&quot;\\n  op: &quot;Assign&quot;\\n  input: &quot;hidden5/kernel&quot;\\n  input: &quot;save/RestoreV2:9&quot;\\n  attr {\\n    key: &quot;T&quot;\\n    value {\\n      type: DT_FLOAT\\n    }\\n  }\\n  attr {\\n    key: &quot;_class&quot;\\n    value {\\n      list {\\n        s: &quot;loc:@hidden5/kernel&quot;\\n      }\\n    }\\n  }\\n  attr {\\n    key: &quot;use_locking&quot;\\n    value {\\n      b: true\\n    }\\n  }\\n  attr {\\n    key: &quot;validate_shape&quot;\\n    value {\\n      b: true\\n    }\\n  }\\n}\\nnode {\\n  name: &quot;save/Assign_10&quot;\\n  op: &quot;Assign&quot;\\n  input: &quot;outputs/bias&quot;\\n  input: &quot;save/RestoreV2:10&quot;\\n  attr {\\n    key: &quot;T&quot;\\n    value {\\n      type: DT_FLOAT\\n    }\\n  }\\n  attr {\\n    key: &quot;_class&quot;\\n    value {\\n      list {\\n        s: &quot;loc:@outputs/bias&quot;\\n      }\\n    }\\n  }\\n  attr {\\n    key: &quot;use_locking&quot;\\n    value {\\n      b: true\\n    }\\n  }\\n  attr {\\n    key: &quot;validate_shape&quot;\\n    value {\\n      b: true\\n    }\\n  }\\n}\\nnode {\\n  name: &quot;save/Assign_11&quot;\\n  op: &quot;Assign&quot;\\n  input: &quot;outputs/kernel&quot;\\n  input: &quot;save/RestoreV2:11&quot;\\n  attr {\\n    key: &quot;T&quot;\\n    value {\\n      type: DT_FLOAT\\n    }\\n  }\\n  attr {\\n    key: &quot;_class&quot;\\n    value {\\n      list {\\n        s: &quot;loc:@outputs/kernel&quot;\\n      }\\n    }\\n  }\\n  attr {\\n    key: &quot;use_locking&quot;\\n    value {\\n      b: true\\n    }\\n  }\\n  attr {\\n    key: &quot;validate_shape&quot;\\n    value {\\n      b: true\\n    }\\n  }\\n}\\nnode {\\n  name: &quot;save/restore_all&quot;\\n  op: &quot;NoOp&quot;\\n  input: &quot;^save/Assign&quot;\\n  input: &quot;^save/Assign_1&quot;\\n  input: &quot;^save/Assign_10&quot;\\n  input: &quot;^save/Assign_11&quot;\\n  input: &quot;^save/Assign_2&quot;\\n  input: &quot;^save/Assign_3&quot;\\n  input: &quot;^save/Assign_4&quot;\\n  input: &quot;^save/Assign_5&quot;\\n  input: &quot;^save/Assign_6&quot;\\n  input: &quot;^save/Assign_7&quot;\\n  input: &quot;^save/Assign_8&quot;\\n  input: &quot;^save/Assign_9&quot;\\n}\\n';\n",
              "          }\n",
              "        </script>\n",
              "        <link rel=&quot;import&quot; href=&quot;https://tensorboard.appspot.com/tf-graph-basic.build.html&quot; onload=load()>\n",
              "        <div style=&quot;height:600px&quot;>\n",
              "          <tf-graph-basic id=&quot;graph0.3745401188473625&quot;></tf-graph-basic>\n",
              "        </div>\n",
              "    \"></iframe>\n",
              "    "
            ],
            "text/plain": [
              "<IPython.core.display.HTML object>"
            ]
          },
          "metadata": {
            "tags": []
          }
        }
      ]
    },
    {
      "cell_type": "markdown",
      "metadata": {
        "id": "i9Cz9100271G",
        "colab_type": "text"
      },
      "source": [
        "Once you know which operations you need, you can get a handle on them using the graph's `get_operation_by_name()` or `get_tensor_by_name()` methods:"
      ]
    },
    {
      "cell_type": "code",
      "metadata": {
        "id": "BUDXeRip271H",
        "colab_type": "code",
        "colab": {}
      },
      "source": [
        "X = tf.get_default_graph().get_tensor_by_name(\"X:0\")\n",
        "y = tf.get_default_graph().get_tensor_by_name(\"y:0\")\n",
        "\n",
        "accuracy = tf.get_default_graph().get_tensor_by_name(\"eval/accuracy:0\")\n",
        "\n",
        "training_op = tf.get_default_graph().get_operation_by_name(\"GradientDescent\")"
      ],
      "execution_count": null,
      "outputs": []
    },
    {
      "cell_type": "markdown",
      "metadata": {
        "id": "1gImJiQX271J",
        "colab_type": "text"
      },
      "source": [
        "If you are the author of the original model, you could make things easier for people who will reuse your model by giving operations very clear names and documenting them. Another approach is to create a collection containing all the important operations that people will want to get a handle on:"
      ]
    },
    {
      "cell_type": "code",
      "metadata": {
        "id": "xy4EG496271J",
        "colab_type": "code",
        "colab": {}
      },
      "source": [
        "for op in (X, y, accuracy, training_op):\n",
        "    tf.add_to_collection(\"my_important_ops\", op)"
      ],
      "execution_count": null,
      "outputs": []
    },
    {
      "cell_type": "markdown",
      "metadata": {
        "id": "y3iN4Jgn271L",
        "colab_type": "text"
      },
      "source": [
        "This way people who reuse your model will be able to simply write:"
      ]
    },
    {
      "cell_type": "code",
      "metadata": {
        "id": "FIi5yw6y271L",
        "colab_type": "code",
        "colab": {}
      },
      "source": [
        "X, y, accuracy, training_op = tf.get_collection(\"my_important_ops\")"
      ],
      "execution_count": null,
      "outputs": []
    },
    {
      "cell_type": "markdown",
      "metadata": {
        "id": "sWKlWeUq271O",
        "colab_type": "text"
      },
      "source": [
        "Now you can start a session, restore the model's state and continue training on your data:"
      ]
    },
    {
      "cell_type": "code",
      "metadata": {
        "id": "vx1FOEzj271O",
        "colab_type": "code",
        "colab": {},
        "outputId": "414c5a74-e70f-473c-88c5-63fe8239c845"
      },
      "source": [
        "with tf.Session() as sess:\n",
        "    saver.restore(sess, \"./my_model_final.ckpt\")\n",
        "    # continue training the model..."
      ],
      "execution_count": null,
      "outputs": [
        {
          "output_type": "stream",
          "text": [
            "INFO:tensorflow:Restoring parameters from ./my_model_final.ckpt\n"
          ],
          "name": "stdout"
        }
      ]
    },
    {
      "cell_type": "markdown",
      "metadata": {
        "id": "D3CTq5xj271Q",
        "colab_type": "text"
      },
      "source": [
        "Actually, let's test this for real!"
      ]
    },
    {
      "cell_type": "code",
      "metadata": {
        "id": "p-W9gO8o271Q",
        "colab_type": "code",
        "colab": {},
        "outputId": "25c354aa-c6a4-4b4d-c2bd-4de1bbc5d650"
      },
      "source": [
        "with tf.Session() as sess:\n",
        "    saver.restore(sess, \"./my_model_final.ckpt\")\n",
        "\n",
        "    for epoch in range(n_epochs):\n",
        "        for X_batch, y_batch in shuffle_batch(X_train, y_train, batch_size):\n",
        "            sess.run(training_op, feed_dict={X: X_batch, y: y_batch})\n",
        "        accuracy_val = accuracy.eval(feed_dict={X: X_valid, y: y_valid})\n",
        "        print(epoch, \"Validation accuracy:\", accuracy_val)\n",
        "\n",
        "    save_path = saver.save(sess, \"./my_new_model_final.ckpt\")    "
      ],
      "execution_count": null,
      "outputs": [
        {
          "output_type": "stream",
          "text": [
            "INFO:tensorflow:Restoring parameters from ./my_model_final.ckpt\n",
            "0 Validation accuracy: 0.9636\n",
            "1 Validation accuracy: 0.9632\n",
            "2 Validation accuracy: 0.9658\n",
            "3 Validation accuracy: 0.9652\n",
            "4 Validation accuracy: 0.9646\n",
            "5 Validation accuracy: 0.965\n",
            "6 Validation accuracy: 0.969\n",
            "7 Validation accuracy: 0.9682\n",
            "8 Validation accuracy: 0.9682\n",
            "9 Validation accuracy: 0.9684\n",
            "10 Validation accuracy: 0.9704\n",
            "11 Validation accuracy: 0.971\n",
            "12 Validation accuracy: 0.9668\n",
            "13 Validation accuracy: 0.97\n",
            "14 Validation accuracy: 0.9712\n",
            "15 Validation accuracy: 0.9726\n",
            "16 Validation accuracy: 0.9718\n",
            "17 Validation accuracy: 0.971\n",
            "18 Validation accuracy: 0.9712\n",
            "19 Validation accuracy: 0.9712\n"
          ],
          "name": "stdout"
        }
      ]
    },
    {
      "cell_type": "markdown",
      "metadata": {
        "id": "ykt1mS55271S",
        "colab_type": "text"
      },
      "source": [
        "Alternatively, if you have access to the Python code that built the original graph, you can use it instead of `import_meta_graph()`:"
      ]
    },
    {
      "cell_type": "code",
      "metadata": {
        "id": "J4hkpOUv271T",
        "colab_type": "code",
        "colab": {}
      },
      "source": [
        "reset_graph()\n",
        "\n",
        "n_inputs = 28 * 28  # MNIST\n",
        "n_hidden1 = 300\n",
        "n_hidden2 = 50\n",
        "n_hidden3 = 50\n",
        "n_hidden4 = 50\n",
        "n_hidden5 = 50\n",
        "n_outputs = 10\n",
        "\n",
        "X = tf.placeholder(tf.float32, shape=(None, n_inputs), name=\"X\")\n",
        "y = tf.placeholder(tf.int32, shape=(None), name=\"y\")\n",
        "\n",
        "with tf.name_scope(\"dnn\"):\n",
        "    hidden1 = tf.layers.dense(X, n_hidden1, activation=tf.nn.relu, name=\"hidden1\")\n",
        "    hidden2 = tf.layers.dense(hidden1, n_hidden2, activation=tf.nn.relu, name=\"hidden2\")\n",
        "    hidden3 = tf.layers.dense(hidden2, n_hidden3, activation=tf.nn.relu, name=\"hidden3\")\n",
        "    hidden4 = tf.layers.dense(hidden3, n_hidden4, activation=tf.nn.relu, name=\"hidden4\")\n",
        "    hidden5 = tf.layers.dense(hidden4, n_hidden5, activation=tf.nn.relu, name=\"hidden5\")\n",
        "    logits = tf.layers.dense(hidden5, n_outputs, name=\"outputs\")\n",
        "\n",
        "with tf.name_scope(\"loss\"):\n",
        "    xentropy = tf.nn.sparse_softmax_cross_entropy_with_logits(labels=y, logits=logits)\n",
        "    loss = tf.reduce_mean(xentropy, name=\"loss\")\n",
        "\n",
        "with tf.name_scope(\"eval\"):\n",
        "    correct = tf.nn.in_top_k(logits, y, 1)\n",
        "    accuracy = tf.reduce_mean(tf.cast(correct, tf.float32), name=\"accuracy\")\n",
        "\n",
        "learning_rate = 0.01\n",
        "threshold = 1.0\n",
        "\n",
        "optimizer = tf.train.GradientDescentOptimizer(learning_rate)\n",
        "grads_and_vars = optimizer.compute_gradients(loss)\n",
        "capped_gvs = [(tf.clip_by_value(grad, -threshold, threshold), var)\n",
        "              for grad, var in grads_and_vars]\n",
        "training_op = optimizer.apply_gradients(capped_gvs)\n",
        "\n",
        "saver = tf.train.Saver()"
      ],
      "execution_count": null,
      "outputs": []
    },
    {
      "cell_type": "markdown",
      "metadata": {
        "id": "b3DMPsPL271U",
        "colab_type": "text"
      },
      "source": [
        "And continue training:"
      ]
    },
    {
      "cell_type": "code",
      "metadata": {
        "id": "PLykxRsW271U",
        "colab_type": "code",
        "colab": {},
        "outputId": "3871c67d-a93f-4ffa-d134-ff469748d424"
      },
      "source": [
        "with tf.Session() as sess:\n",
        "    saver.restore(sess, \"./my_model_final.ckpt\")\n",
        "\n",
        "    for epoch in range(n_epochs):\n",
        "        for X_batch, y_batch in shuffle_batch(X_train, y_train, batch_size):\n",
        "            sess.run(training_op, feed_dict={X: X_batch, y: y_batch})\n",
        "        accuracy_val = accuracy.eval(feed_dict={X: X_valid, y: y_valid})\n",
        "        print(epoch, \"Validation accuracy:\", accuracy_val)\n",
        "\n",
        "    save_path = saver.save(sess, \"./my_new_model_final.ckpt\")    "
      ],
      "execution_count": null,
      "outputs": [
        {
          "output_type": "stream",
          "text": [
            "INFO:tensorflow:Restoring parameters from ./my_model_final.ckpt\n",
            "0 Validation accuracy: 0.9642\n",
            "1 Validation accuracy: 0.9632\n",
            "2 Validation accuracy: 0.9656\n",
            "3 Validation accuracy: 0.9652\n",
            "4 Validation accuracy: 0.9646\n",
            "5 Validation accuracy: 0.9652\n",
            "6 Validation accuracy: 0.9688\n",
            "7 Validation accuracy: 0.9686\n",
            "8 Validation accuracy: 0.9682\n",
            "9 Validation accuracy: 0.9686\n",
            "10 Validation accuracy: 0.9704\n",
            "11 Validation accuracy: 0.9712\n",
            "12 Validation accuracy: 0.967\n",
            "13 Validation accuracy: 0.9698\n",
            "14 Validation accuracy: 0.9708\n",
            "15 Validation accuracy: 0.9724\n",
            "16 Validation accuracy: 0.9718\n",
            "17 Validation accuracy: 0.9712\n",
            "18 Validation accuracy: 0.9708\n",
            "19 Validation accuracy: 0.9712\n"
          ],
          "name": "stdout"
        }
      ]
    },
    {
      "cell_type": "markdown",
      "metadata": {
        "id": "cAMZ0zKd271W",
        "colab_type": "text"
      },
      "source": [
        "In general you will want to reuse only the lower layers. If you are using `import_meta_graph()` it will load the whole graph, but you can simply ignore the parts you do not need. In this example, we add a new 4th hidden layer on top of the pretrained 3rd layer (ignoring the old 4th hidden layer). We also build a new output layer, the loss for this new output, and a new optimizer to minimize it. We also need another saver to save the whole graph (containing both the entire old graph plus the new operations), and an initialization operation to initialize all the new variables:"
      ]
    },
    {
      "cell_type": "code",
      "metadata": {
        "id": "PaZZ3Vme271W",
        "colab_type": "code",
        "colab": {}
      },
      "source": [
        "reset_graph()\n",
        "\n",
        "n_hidden4 = 20  # new layer\n",
        "n_outputs = 10  # new layer\n",
        "\n",
        "saver = tf.train.import_meta_graph(\"./my_model_final.ckpt.meta\")\n",
        "\n",
        "X = tf.get_default_graph().get_tensor_by_name(\"X:0\")\n",
        "y = tf.get_default_graph().get_tensor_by_name(\"y:0\")\n",
        "\n",
        "hidden3 = tf.get_default_graph().get_tensor_by_name(\"dnn/hidden3/Relu:0\")\n",
        "\n",
        "new_hidden4 = tf.layers.dense(hidden3, n_hidden4, activation=tf.nn.relu, name=\"new_hidden4\")\n",
        "new_logits = tf.layers.dense(new_hidden4, n_outputs, name=\"new_outputs\")\n",
        "\n",
        "with tf.name_scope(\"new_loss\"):\n",
        "    xentropy = tf.nn.sparse_softmax_cross_entropy_with_logits(labels=y, logits=new_logits)\n",
        "    loss = tf.reduce_mean(xentropy, name=\"loss\")\n",
        "\n",
        "with tf.name_scope(\"new_eval\"):\n",
        "    correct = tf.nn.in_top_k(new_logits, y, 1)\n",
        "    accuracy = tf.reduce_mean(tf.cast(correct, tf.float32), name=\"accuracy\")\n",
        "\n",
        "with tf.name_scope(\"new_train\"):\n",
        "    optimizer = tf.train.GradientDescentOptimizer(learning_rate)\n",
        "    training_op = optimizer.minimize(loss)\n",
        "\n",
        "init = tf.global_variables_initializer()\n",
        "new_saver = tf.train.Saver()"
      ],
      "execution_count": null,
      "outputs": []
    },
    {
      "cell_type": "markdown",
      "metadata": {
        "id": "7Xlurqd8271X",
        "colab_type": "text"
      },
      "source": [
        "And we can train this new model:"
      ]
    },
    {
      "cell_type": "code",
      "metadata": {
        "id": "tsvz4s3h271X",
        "colab_type": "code",
        "colab": {},
        "outputId": "d2ea2434-1b7d-4cf5-c8ca-96b3120d0245"
      },
      "source": [
        "with tf.Session() as sess:\n",
        "    init.run()\n",
        "    saver.restore(sess, \"./my_model_final.ckpt\")\n",
        "\n",
        "    for epoch in range(n_epochs):\n",
        "        for X_batch, y_batch in shuffle_batch(X_train, y_train, batch_size):\n",
        "            sess.run(training_op, feed_dict={X: X_batch, y: y_batch})\n",
        "        accuracy_val = accuracy.eval(feed_dict={X: X_valid, y: y_valid})\n",
        "        print(epoch, \"Validation accuracy:\", accuracy_val)\n",
        "\n",
        "    save_path = new_saver.save(sess, \"./my_new_model_final.ckpt\")"
      ],
      "execution_count": null,
      "outputs": [
        {
          "output_type": "stream",
          "text": [
            "INFO:tensorflow:Restoring parameters from ./my_model_final.ckpt\n",
            "0 Validation accuracy: 0.9126\n",
            "1 Validation accuracy: 0.9374\n",
            "2 Validation accuracy: 0.946\n",
            "3 Validation accuracy: 0.9498\n",
            "4 Validation accuracy: 0.953\n",
            "5 Validation accuracy: 0.9528\n",
            "6 Validation accuracy: 0.9564\n",
            "7 Validation accuracy: 0.96\n",
            "8 Validation accuracy: 0.9616\n",
            "9 Validation accuracy: 0.9612\n",
            "10 Validation accuracy: 0.9634\n",
            "11 Validation accuracy: 0.9626\n",
            "12 Validation accuracy: 0.9648\n",
            "13 Validation accuracy: 0.9656\n",
            "14 Validation accuracy: 0.9664\n",
            "15 Validation accuracy: 0.967\n",
            "16 Validation accuracy: 0.968\n",
            "17 Validation accuracy: 0.9678\n",
            "18 Validation accuracy: 0.9684\n",
            "19 Validation accuracy: 0.9678\n"
          ],
          "name": "stdout"
        }
      ]
    },
    {
      "cell_type": "markdown",
      "metadata": {
        "id": "ksTGX3jr271Z",
        "colab_type": "text"
      },
      "source": [
        "If you have access to the Python code that built the original graph, you can just reuse the parts you need and drop the rest:"
      ]
    },
    {
      "cell_type": "code",
      "metadata": {
        "id": "W5qZx-7v271a",
        "colab_type": "code",
        "colab": {}
      },
      "source": [
        "reset_graph()\n",
        "\n",
        "n_inputs = 28 * 28  # MNIST\n",
        "n_hidden1 = 300 # reused\n",
        "n_hidden2 = 50  # reused\n",
        "n_hidden3 = 50  # reused\n",
        "n_hidden4 = 20  # new!\n",
        "n_outputs = 10  # new!\n",
        "\n",
        "X = tf.placeholder(tf.float32, shape=(None, n_inputs), name=\"X\")\n",
        "y = tf.placeholder(tf.int32, shape=(None), name=\"y\")\n",
        "\n",
        "with tf.name_scope(\"dnn\"):\n",
        "    hidden1 = tf.layers.dense(X, n_hidden1, activation=tf.nn.relu, name=\"hidden1\")       # reused\n",
        "    hidden2 = tf.layers.dense(hidden1, n_hidden2, activation=tf.nn.relu, name=\"hidden2\") # reused\n",
        "    hidden3 = tf.layers.dense(hidden2, n_hidden3, activation=tf.nn.relu, name=\"hidden3\") # reused\n",
        "    hidden4 = tf.layers.dense(hidden3, n_hidden4, activation=tf.nn.relu, name=\"hidden4\") # new!\n",
        "    logits = tf.layers.dense(hidden4, n_outputs, name=\"outputs\")                         # new!\n",
        "\n",
        "with tf.name_scope(\"loss\"):\n",
        "    xentropy = tf.nn.sparse_softmax_cross_entropy_with_logits(labels=y, logits=logits)\n",
        "    loss = tf.reduce_mean(xentropy, name=\"loss\")\n",
        "\n",
        "with tf.name_scope(\"eval\"):\n",
        "    correct = tf.nn.in_top_k(logits, y, 1)\n",
        "    accuracy = tf.reduce_mean(tf.cast(correct, tf.float32), name=\"accuracy\")\n",
        "\n",
        "with tf.name_scope(\"train\"):\n",
        "    optimizer = tf.train.GradientDescentOptimizer(learning_rate)\n",
        "    training_op = optimizer.minimize(loss)"
      ],
      "execution_count": null,
      "outputs": []
    },
    {
      "cell_type": "markdown",
      "metadata": {
        "id": "sm6Pi5ER271b",
        "colab_type": "text"
      },
      "source": [
        "However, you must create one `Saver` to restore the pretrained model (giving it the list of variables to restore, or else it will complain that the graphs don't match), and another `Saver` to save the new model, once it is trained:"
      ]
    },
    {
      "cell_type": "code",
      "metadata": {
        "id": "-DZ8J7fc271b",
        "colab_type": "code",
        "colab": {},
        "outputId": "534d0811-e179-427a-fc39-9c29201f0eb3"
      },
      "source": [
        "reuse_vars = tf.get_collection(tf.GraphKeys.GLOBAL_VARIABLES,\n",
        "                               scope=\"hidden[123]\") # regular expression\n",
        "restore_saver = tf.train.Saver(reuse_vars) # to restore layers 1-3\n",
        "\n",
        "init = tf.global_variables_initializer()\n",
        "saver = tf.train.Saver()\n",
        "\n",
        "with tf.Session() as sess:\n",
        "    init.run()\n",
        "    restore_saver.restore(sess, \"./my_model_final.ckpt\")\n",
        "\n",
        "    for epoch in range(n_epochs):                                            # not shown in the book\n",
        "        for X_batch, y_batch in shuffle_batch(X_train, y_train, batch_size): # not shown\n",
        "            sess.run(training_op, feed_dict={X: X_batch, y: y_batch})        # not shown\n",
        "        accuracy_val = accuracy.eval(feed_dict={X: X_valid, y: y_valid})     # not shown\n",
        "        print(epoch, \"Validation accuracy:\", accuracy_val)                   # not shown\n",
        "\n",
        "    save_path = saver.save(sess, \"./my_new_model_final.ckpt\")"
      ],
      "execution_count": null,
      "outputs": [
        {
          "output_type": "stream",
          "text": [
            "INFO:tensorflow:Restoring parameters from ./my_model_final.ckpt\n",
            "0 Validation accuracy: 0.9024\n",
            "1 Validation accuracy: 0.9332\n",
            "2 Validation accuracy: 0.943\n",
            "3 Validation accuracy: 0.947\n",
            "4 Validation accuracy: 0.9516\n",
            "5 Validation accuracy: 0.9532\n",
            "6 Validation accuracy: 0.9558\n",
            "7 Validation accuracy: 0.9592\n",
            "8 Validation accuracy: 0.9586\n",
            "9 Validation accuracy: 0.9608\n",
            "10 Validation accuracy: 0.9626\n",
            "11 Validation accuracy: 0.962\n",
            "12 Validation accuracy: 0.964\n",
            "13 Validation accuracy: 0.9662\n",
            "14 Validation accuracy: 0.966\n",
            "15 Validation accuracy: 0.9662\n",
            "16 Validation accuracy: 0.9672\n",
            "17 Validation accuracy: 0.9674\n",
            "18 Validation accuracy: 0.9682\n",
            "19 Validation accuracy: 0.9678\n"
          ],
          "name": "stdout"
        }
      ]
    },
    {
      "cell_type": "markdown",
      "metadata": {
        "id": "ztcBKrRp271e",
        "colab_type": "text"
      },
      "source": [
        "## Reusing Models from Other Frameworks"
      ]
    },
    {
      "cell_type": "markdown",
      "metadata": {
        "id": "FiBjKk_u271e",
        "colab_type": "text"
      },
      "source": [
        "In this example, for each variable we want to reuse, we find its initializer's assignment operation, and we get its second input, which corresponds to the initialization value. When we run the initializer, we replace the initialization values with the ones we want, using a `feed_dict`:"
      ]
    },
    {
      "cell_type": "code",
      "metadata": {
        "id": "YK-8SdfM271f",
        "colab_type": "code",
        "colab": {}
      },
      "source": [
        "reset_graph()\n",
        "\n",
        "n_inputs = 2\n",
        "n_hidden1 = 3"
      ],
      "execution_count": null,
      "outputs": []
    },
    {
      "cell_type": "code",
      "metadata": {
        "id": "iHoZm-3r271g",
        "colab_type": "code",
        "colab": {},
        "outputId": "413b9b10-7a5f-4ba0-91a5-0a66d63825f8"
      },
      "source": [
        "original_w = [[1., 2., 3.], [4., 5., 6.]] # Load the weights from the other framework\n",
        "original_b = [7., 8., 9.]                 # Load the biases from the other framework\n",
        "\n",
        "X = tf.placeholder(tf.float32, shape=(None, n_inputs), name=\"X\")\n",
        "hidden1 = tf.layers.dense(X, n_hidden1, activation=tf.nn.relu, name=\"hidden1\")\n",
        "# [...] Build the rest of the model\n",
        "\n",
        "# Get a handle on the assignment nodes for the hidden1 variables\n",
        "graph = tf.get_default_graph()\n",
        "assign_kernel = graph.get_operation_by_name(\"hidden1/kernel/Assign\")\n",
        "assign_bias = graph.get_operation_by_name(\"hidden1/bias/Assign\")\n",
        "init_kernel = assign_kernel.inputs[1]\n",
        "init_bias = assign_bias.inputs[1]\n",
        "\n",
        "init = tf.global_variables_initializer()\n",
        "\n",
        "with tf.Session() as sess:\n",
        "    sess.run(init, feed_dict={init_kernel: original_w, init_bias: original_b})\n",
        "    # [...] Train the model on your new task\n",
        "    print(hidden1.eval(feed_dict={X: [[10.0, 11.0]]}))  # not shown in the book"
      ],
      "execution_count": null,
      "outputs": [
        {
          "output_type": "stream",
          "text": [
            "[[ 61.  83. 105.]]\n"
          ],
          "name": "stdout"
        }
      ]
    },
    {
      "cell_type": "markdown",
      "metadata": {
        "id": "SAcfJVbq271i",
        "colab_type": "text"
      },
      "source": [
        "Note: the weights variable created by the `tf.layers.dense()` function is called `\"kernel\"` (instead of `\"weights\"` when using the `tf.contrib.layers.fully_connected()`, as in the book), and the biases variable is called `bias` instead of `biases`."
      ]
    },
    {
      "cell_type": "markdown",
      "metadata": {
        "id": "2S_OvSY2271i",
        "colab_type": "text"
      },
      "source": [
        "Another approach (initially used in the book) would be to create dedicated assignment nodes and dedicated placeholders. This is more verbose and less efficient, but you may find this more explicit:"
      ]
    },
    {
      "cell_type": "code",
      "metadata": {
        "id": "MHCdcVmy271i",
        "colab_type": "code",
        "colab": {},
        "outputId": "84f483f4-7cb5-4ca8-dd50-8eed6a163ea5"
      },
      "source": [
        "reset_graph()\n",
        "\n",
        "n_inputs = 2\n",
        "n_hidden1 = 3\n",
        "\n",
        "original_w = [[1., 2., 3.], [4., 5., 6.]] # Load the weights from the other framework\n",
        "original_b = [7., 8., 9.]                 # Load the biases from the other framework\n",
        "\n",
        "X = tf.placeholder(tf.float32, shape=(None, n_inputs), name=\"X\")\n",
        "hidden1 = tf.layers.dense(X, n_hidden1, activation=tf.nn.relu, name=\"hidden1\")\n",
        "# [...] Build the rest of the model\n",
        "\n",
        "# Get a handle on the variables of layer hidden1\n",
        "with tf.variable_scope(\"\", default_name=\"\", reuse=True):  # root scope\n",
        "    hidden1_weights = tf.get_variable(\"hidden1/kernel\")\n",
        "    hidden1_biases = tf.get_variable(\"hidden1/bias\")\n",
        "\n",
        "# Create dedicated placeholders and assignment nodes\n",
        "original_weights = tf.placeholder(tf.float32, shape=(n_inputs, n_hidden1))\n",
        "original_biases = tf.placeholder(tf.float32, shape=n_hidden1)\n",
        "assign_hidden1_weights = tf.assign(hidden1_weights, original_weights)\n",
        "assign_hidden1_biases = tf.assign(hidden1_biases, original_biases)\n",
        "\n",
        "init = tf.global_variables_initializer()\n",
        "\n",
        "with tf.Session() as sess:\n",
        "    sess.run(init)\n",
        "    sess.run(assign_hidden1_weights, feed_dict={original_weights: original_w})\n",
        "    sess.run(assign_hidden1_biases, feed_dict={original_biases: original_b})\n",
        "    # [...] Train the model on your new task\n",
        "    print(hidden1.eval(feed_dict={X: [[10.0, 11.0]]}))"
      ],
      "execution_count": null,
      "outputs": [
        {
          "output_type": "stream",
          "text": [
            "[[ 61.  83. 105.]]\n"
          ],
          "name": "stdout"
        }
      ]
    },
    {
      "cell_type": "markdown",
      "metadata": {
        "id": "SG-7bteY271l",
        "colab_type": "text"
      },
      "source": [
        "Note that we could also get a handle on the variables using `get_collection()` and specifying the `scope`:"
      ]
    },
    {
      "cell_type": "code",
      "metadata": {
        "id": "Trlvcmgy271l",
        "colab_type": "code",
        "colab": {},
        "outputId": "e74a9304-5e99-430e-aab4-e73c94a53198"
      },
      "source": [
        "tf.get_collection(tf.GraphKeys.GLOBAL_VARIABLES, scope=\"hidden1\")"
      ],
      "execution_count": null,
      "outputs": [
        {
          "output_type": "execute_result",
          "data": {
            "text/plain": [
              "[<tf.Variable 'hidden1/kernel:0' shape=(2, 3) dtype=float32_ref>,\n",
              " <tf.Variable 'hidden1/bias:0' shape=(3,) dtype=float32_ref>]"
            ]
          },
          "metadata": {
            "tags": []
          },
          "execution_count": 66
        }
      ]
    },
    {
      "cell_type": "markdown",
      "metadata": {
        "id": "tqKcpUOL271n",
        "colab_type": "text"
      },
      "source": [
        "Or we could use the graph's `get_tensor_by_name()` method:"
      ]
    },
    {
      "cell_type": "code",
      "metadata": {
        "id": "gncTooGf271o",
        "colab_type": "code",
        "colab": {},
        "outputId": "4ce0abd7-e9fc-4c39-f241-be6dd46c199b"
      },
      "source": [
        "tf.get_default_graph().get_tensor_by_name(\"hidden1/kernel:0\")"
      ],
      "execution_count": null,
      "outputs": [
        {
          "output_type": "execute_result",
          "data": {
            "text/plain": [
              "<tf.Tensor 'hidden1/kernel:0' shape=(2, 3) dtype=float32_ref>"
            ]
          },
          "metadata": {
            "tags": []
          },
          "execution_count": 67
        }
      ]
    },
    {
      "cell_type": "code",
      "metadata": {
        "id": "n50wDH9z271p",
        "colab_type": "code",
        "colab": {},
        "outputId": "65cc8f7f-f87e-449e-c0ab-2ba4b0135288"
      },
      "source": [
        "tf.get_default_graph().get_tensor_by_name(\"hidden1/bias:0\")"
      ],
      "execution_count": null,
      "outputs": [
        {
          "output_type": "execute_result",
          "data": {
            "text/plain": [
              "<tf.Tensor 'hidden1/bias:0' shape=(3,) dtype=float32_ref>"
            ]
          },
          "metadata": {
            "tags": []
          },
          "execution_count": 68
        }
      ]
    },
    {
      "cell_type": "markdown",
      "metadata": {
        "id": "RLWCsyWo271r",
        "colab_type": "text"
      },
      "source": [
        "### Freezing the Lower Layers"
      ]
    },
    {
      "cell_type": "code",
      "metadata": {
        "id": "UBOUNes1271r",
        "colab_type": "code",
        "colab": {}
      },
      "source": [
        "reset_graph()\n",
        "\n",
        "n_inputs = 28 * 28  # MNIST\n",
        "n_hidden1 = 300 # reused\n",
        "n_hidden2 = 50  # reused\n",
        "n_hidden3 = 50  # reused\n",
        "n_hidden4 = 20  # new!\n",
        "n_outputs = 10  # new!\n",
        "\n",
        "X = tf.placeholder(tf.float32, shape=(None, n_inputs), name=\"X\")\n",
        "y = tf.placeholder(tf.int32, shape=(None), name=\"y\")\n",
        "\n",
        "with tf.name_scope(\"dnn\"):\n",
        "    hidden1 = tf.layers.dense(X, n_hidden1, activation=tf.nn.relu, name=\"hidden1\")       # reused\n",
        "    hidden2 = tf.layers.dense(hidden1, n_hidden2, activation=tf.nn.relu, name=\"hidden2\") # reused\n",
        "    hidden3 = tf.layers.dense(hidden2, n_hidden3, activation=tf.nn.relu, name=\"hidden3\") # reused\n",
        "    hidden4 = tf.layers.dense(hidden3, n_hidden4, activation=tf.nn.relu, name=\"hidden4\") # new!\n",
        "    logits = tf.layers.dense(hidden4, n_outputs, name=\"outputs\")                         # new!\n",
        "\n",
        "with tf.name_scope(\"loss\"):\n",
        "    xentropy = tf.nn.sparse_softmax_cross_entropy_with_logits(labels=y, logits=logits)\n",
        "    loss = tf.reduce_mean(xentropy, name=\"loss\")\n",
        "\n",
        "with tf.name_scope(\"eval\"):\n",
        "    correct = tf.nn.in_top_k(logits, y, 1)\n",
        "    accuracy = tf.reduce_mean(tf.cast(correct, tf.float32), name=\"accuracy\")"
      ],
      "execution_count": null,
      "outputs": []
    },
    {
      "cell_type": "code",
      "metadata": {
        "id": "-MU1k20Z271t",
        "colab_type": "code",
        "colab": {}
      },
      "source": [
        "with tf.name_scope(\"train\"):                                         # not shown in the book\n",
        "    optimizer = tf.train.GradientDescentOptimizer(learning_rate)     # not shown\n",
        "    train_vars = tf.get_collection(tf.GraphKeys.TRAINABLE_VARIABLES,\n",
        "                                   scope=\"hidden[34]|outputs\")\n",
        "    training_op = optimizer.minimize(loss, var_list=train_vars)"
      ],
      "execution_count": null,
      "outputs": []
    },
    {
      "cell_type": "code",
      "metadata": {
        "id": "1UWBCqov271v",
        "colab_type": "code",
        "colab": {},
        "outputId": "235859af-3c7d-4f28-e253-6eedcab8a1d0"
      },
      "source": [
        "reuse_vars = tf.get_collection(tf.GraphKeys.GLOBAL_VARIABLES,\n",
        "                               scope=\"hidden[123]\") # regular expression\n",
        "restore_saver = tf.train.Saver(reuse_vars) # to restore layers 1-3\n",
        "\n",
        "init = tf.global_variables_initializer()\n",
        "saver = tf.train.Saver()\n",
        "\n",
        "with tf.Session() as sess:\n",
        "    init.run()\n",
        "    restore_saver.restore(sess, \"./my_model_final.ckpt\")\n",
        "\n",
        "    for epoch in range(n_epochs):\n",
        "        for X_batch, y_batch in shuffle_batch(X_train, y_train, batch_size):\n",
        "            sess.run(training_op, feed_dict={X: X_batch, y: y_batch})\n",
        "        accuracy_val = accuracy.eval(feed_dict={X: X_valid, y: y_valid})\n",
        "        print(epoch, \"Validation accuracy:\", accuracy_val)\n",
        "\n",
        "    save_path = saver.save(sess, \"./my_new_model_final.ckpt\")"
      ],
      "execution_count": null,
      "outputs": [
        {
          "output_type": "stream",
          "text": [
            "INFO:tensorflow:Restoring parameters from ./my_model_final.ckpt\n",
            "0 Validation accuracy: 0.8964\n",
            "1 Validation accuracy: 0.9298\n",
            "2 Validation accuracy: 0.94\n",
            "3 Validation accuracy: 0.9442\n",
            "4 Validation accuracy: 0.948\n",
            "5 Validation accuracy: 0.951\n",
            "6 Validation accuracy: 0.9508\n",
            "7 Validation accuracy: 0.9538\n",
            "8 Validation accuracy: 0.9554\n",
            "9 Validation accuracy: 0.957\n",
            "10 Validation accuracy: 0.9562\n",
            "11 Validation accuracy: 0.9566\n",
            "12 Validation accuracy: 0.9572\n",
            "13 Validation accuracy: 0.9578\n",
            "14 Validation accuracy: 0.959\n",
            "15 Validation accuracy: 0.9576\n",
            "16 Validation accuracy: 0.9574\n",
            "17 Validation accuracy: 0.9602\n",
            "18 Validation accuracy: 0.9592\n",
            "19 Validation accuracy: 0.9602\n"
          ],
          "name": "stdout"
        }
      ]
    },
    {
      "cell_type": "code",
      "metadata": {
        "id": "VA6EuCL3271y",
        "colab_type": "code",
        "colab": {}
      },
      "source": [
        "reset_graph()\n",
        "\n",
        "n_inputs = 28 * 28  # MNIST\n",
        "n_hidden1 = 300 # reused\n",
        "n_hidden2 = 50  # reused\n",
        "n_hidden3 = 50  # reused\n",
        "n_hidden4 = 20  # new!\n",
        "n_outputs = 10  # new!\n",
        "\n",
        "X = tf.placeholder(tf.float32, shape=(None, n_inputs), name=\"X\")\n",
        "y = tf.placeholder(tf.int32, shape=(None), name=\"y\")"
      ],
      "execution_count": null,
      "outputs": []
    },
    {
      "cell_type": "code",
      "metadata": {
        "id": "g-SeNJOW2710",
        "colab_type": "code",
        "colab": {}
      },
      "source": [
        "with tf.name_scope(\"dnn\"):\n",
        "    hidden1 = tf.layers.dense(X, n_hidden1, activation=tf.nn.relu,\n",
        "                              name=\"hidden1\") # reused frozen\n",
        "    hidden2 = tf.layers.dense(hidden1, n_hidden2, activation=tf.nn.relu,\n",
        "                              name=\"hidden2\") # reused frozen\n",
        "    hidden2_stop = tf.stop_gradient(hidden2)\n",
        "    hidden3 = tf.layers.dense(hidden2_stop, n_hidden3, activation=tf.nn.relu,\n",
        "                              name=\"hidden3\") # reused, not frozen\n",
        "    hidden4 = tf.layers.dense(hidden3, n_hidden4, activation=tf.nn.relu,\n",
        "                              name=\"hidden4\") # new!\n",
        "    logits = tf.layers.dense(hidden4, n_outputs, name=\"outputs\") # new!"
      ],
      "execution_count": null,
      "outputs": []
    },
    {
      "cell_type": "code",
      "metadata": {
        "id": "0ZOJ2HVc2711",
        "colab_type": "code",
        "colab": {}
      },
      "source": [
        "with tf.name_scope(\"loss\"):\n",
        "    xentropy = tf.nn.sparse_softmax_cross_entropy_with_logits(labels=y, logits=logits)\n",
        "    loss = tf.reduce_mean(xentropy, name=\"loss\")\n",
        "\n",
        "with tf.name_scope(\"eval\"):\n",
        "    correct = tf.nn.in_top_k(logits, y, 1)\n",
        "    accuracy = tf.reduce_mean(tf.cast(correct, tf.float32), name=\"accuracy\")\n",
        "\n",
        "with tf.name_scope(\"train\"):\n",
        "    optimizer = tf.train.GradientDescentOptimizer(learning_rate)\n",
        "    training_op = optimizer.minimize(loss)"
      ],
      "execution_count": null,
      "outputs": []
    },
    {
      "cell_type": "markdown",
      "metadata": {
        "id": "jUCLf2O22713",
        "colab_type": "text"
      },
      "source": [
        "The training code is exactly the same as earlier:"
      ]
    },
    {
      "cell_type": "code",
      "metadata": {
        "id": "12YeBhwX2713",
        "colab_type": "code",
        "colab": {},
        "outputId": "ad40df80-8389-4f68-c239-7bb4578efae5"
      },
      "source": [
        "reuse_vars = tf.get_collection(tf.GraphKeys.GLOBAL_VARIABLES,\n",
        "                               scope=\"hidden[123]\") # regular expression\n",
        "restore_saver = tf.train.Saver(reuse_vars) # to restore layers 1-3\n",
        "\n",
        "init = tf.global_variables_initializer()\n",
        "saver = tf.train.Saver()\n",
        "\n",
        "with tf.Session() as sess:\n",
        "    init.run()\n",
        "    restore_saver.restore(sess, \"./my_model_final.ckpt\")\n",
        "\n",
        "    for epoch in range(n_epochs):\n",
        "        for X_batch, y_batch in shuffle_batch(X_train, y_train, batch_size):\n",
        "            sess.run(training_op, feed_dict={X: X_batch, y: y_batch})\n",
        "        accuracy_val = accuracy.eval(feed_dict={X: X_valid, y: y_valid})\n",
        "        print(epoch, \"Validation accuracy:\", accuracy_val)\n",
        "\n",
        "    save_path = saver.save(sess, \"./my_new_model_final.ckpt\")"
      ],
      "execution_count": null,
      "outputs": [
        {
          "output_type": "stream",
          "text": [
            "INFO:tensorflow:Restoring parameters from ./my_model_final.ckpt\n",
            "0 Validation accuracy: 0.902\n",
            "1 Validation accuracy: 0.9302\n",
            "2 Validation accuracy: 0.9438\n",
            "3 Validation accuracy: 0.9478\n",
            "4 Validation accuracy: 0.9514\n",
            "5 Validation accuracy: 0.9522\n",
            "6 Validation accuracy: 0.9524\n",
            "7 Validation accuracy: 0.9556\n",
            "8 Validation accuracy: 0.9556\n",
            "9 Validation accuracy: 0.9558\n",
            "10 Validation accuracy: 0.957\n",
            "11 Validation accuracy: 0.9552\n",
            "12 Validation accuracy: 0.9572\n",
            "13 Validation accuracy: 0.9582\n",
            "14 Validation accuracy: 0.9582\n",
            "15 Validation accuracy: 0.957\n",
            "16 Validation accuracy: 0.9566\n",
            "17 Validation accuracy: 0.9578\n",
            "18 Validation accuracy: 0.9594\n",
            "19 Validation accuracy: 0.958\n"
          ],
          "name": "stdout"
        }
      ]
    },
    {
      "cell_type": "markdown",
      "metadata": {
        "id": "37wooFhO2715",
        "colab_type": "text"
      },
      "source": [
        "### Caching the Frozen Layers"
      ]
    },
    {
      "cell_type": "code",
      "metadata": {
        "id": "3rTeWNfu2715",
        "colab_type": "code",
        "colab": {}
      },
      "source": [
        "reset_graph()\n",
        "\n",
        "n_inputs = 28 * 28  # MNIST\n",
        "n_hidden1 = 300 # reused\n",
        "n_hidden2 = 50  # reused\n",
        "n_hidden3 = 50  # reused\n",
        "n_hidden4 = 20  # new!\n",
        "n_outputs = 10  # new!\n",
        "\n",
        "X = tf.placeholder(tf.float32, shape=(None, n_inputs), name=\"X\")\n",
        "y = tf.placeholder(tf.int32, shape=(None), name=\"y\")\n",
        "\n",
        "with tf.name_scope(\"dnn\"):\n",
        "    hidden1 = tf.layers.dense(X, n_hidden1, activation=tf.nn.relu,\n",
        "                              name=\"hidden1\") # reused frozen\n",
        "    hidden2 = tf.layers.dense(hidden1, n_hidden2, activation=tf.nn.relu,\n",
        "                              name=\"hidden2\") # reused frozen & cached\n",
        "    hidden2_stop = tf.stop_gradient(hidden2)\n",
        "    hidden3 = tf.layers.dense(hidden2_stop, n_hidden3, activation=tf.nn.relu,\n",
        "                              name=\"hidden3\") # reused, not frozen\n",
        "    hidden4 = tf.layers.dense(hidden3, n_hidden4, activation=tf.nn.relu,\n",
        "                              name=\"hidden4\") # new!\n",
        "    logits = tf.layers.dense(hidden4, n_outputs, name=\"outputs\") # new!\n",
        "\n",
        "with tf.name_scope(\"loss\"):\n",
        "    xentropy = tf.nn.sparse_softmax_cross_entropy_with_logits(labels=y, logits=logits)\n",
        "    loss = tf.reduce_mean(xentropy, name=\"loss\")\n",
        "\n",
        "with tf.name_scope(\"eval\"):\n",
        "    correct = tf.nn.in_top_k(logits, y, 1)\n",
        "    accuracy = tf.reduce_mean(tf.cast(correct, tf.float32), name=\"accuracy\")\n",
        "\n",
        "with tf.name_scope(\"train\"):\n",
        "    optimizer = tf.train.GradientDescentOptimizer(learning_rate)\n",
        "    training_op = optimizer.minimize(loss)"
      ],
      "execution_count": null,
      "outputs": []
    },
    {
      "cell_type": "code",
      "metadata": {
        "id": "wHhQzPOR2716",
        "colab_type": "code",
        "colab": {}
      },
      "source": [
        "reuse_vars = tf.get_collection(tf.GraphKeys.GLOBAL_VARIABLES,\n",
        "                               scope=\"hidden[123]\") # regular expression\n",
        "restore_saver = tf.train.Saver(reuse_vars) # to restore layers 1-3\n",
        "\n",
        "init = tf.global_variables_initializer()\n",
        "saver = tf.train.Saver()"
      ],
      "execution_count": null,
      "outputs": []
    },
    {
      "cell_type": "code",
      "metadata": {
        "id": "BNPhXL6K2718",
        "colab_type": "code",
        "colab": {},
        "outputId": "a56f647a-8846-4eb8-8544-42305673ac3b"
      },
      "source": [
        "import numpy as np\n",
        "\n",
        "n_batches = len(X_train) // batch_size\n",
        "\n",
        "with tf.Session() as sess:\n",
        "    init.run()\n",
        "    restore_saver.restore(sess, \"./my_model_final.ckpt\")\n",
        "    \n",
        "    h2_cache = sess.run(hidden2, feed_dict={X: X_train})\n",
        "    h2_cache_valid = sess.run(hidden2, feed_dict={X: X_valid}) # not shown in the book\n",
        "\n",
        "    for epoch in range(n_epochs):\n",
        "        shuffled_idx = np.random.permutation(len(X_train))\n",
        "        hidden2_batches = np.array_split(h2_cache[shuffled_idx], n_batches)\n",
        "        y_batches = np.array_split(y_train[shuffled_idx], n_batches)\n",
        "        for hidden2_batch, y_batch in zip(hidden2_batches, y_batches):\n",
        "            sess.run(training_op, feed_dict={hidden2:hidden2_batch, y:y_batch})\n",
        "\n",
        "        accuracy_val = accuracy.eval(feed_dict={hidden2: h2_cache_valid, # not shown\n",
        "                                                y: y_valid})             # not shown\n",
        "        print(epoch, \"Validation accuracy:\", accuracy_val)               # not shown\n",
        "\n",
        "    save_path = saver.save(sess, \"./my_new_model_final.ckpt\")"
      ],
      "execution_count": null,
      "outputs": [
        {
          "output_type": "stream",
          "text": [
            "INFO:tensorflow:Restoring parameters from ./my_model_final.ckpt\n",
            "0 Validation accuracy: 0.902\n",
            "1 Validation accuracy: 0.9302\n",
            "2 Validation accuracy: 0.9438\n",
            "3 Validation accuracy: 0.9478\n",
            "4 Validation accuracy: 0.9514\n",
            "5 Validation accuracy: 0.9522\n",
            "6 Validation accuracy: 0.9524\n",
            "7 Validation accuracy: 0.9556\n",
            "8 Validation accuracy: 0.9556\n",
            "9 Validation accuracy: 0.9558\n",
            "10 Validation accuracy: 0.957\n",
            "11 Validation accuracy: 0.9552\n",
            "12 Validation accuracy: 0.9572\n",
            "13 Validation accuracy: 0.9582\n",
            "14 Validation accuracy: 0.9582\n",
            "15 Validation accuracy: 0.957\n",
            "16 Validation accuracy: 0.9566\n",
            "17 Validation accuracy: 0.9578\n",
            "18 Validation accuracy: 0.9594\n",
            "19 Validation accuracy: 0.958\n"
          ],
          "name": "stdout"
        }
      ]
    },
    {
      "cell_type": "markdown",
      "metadata": {
        "id": "SnAK3rXg2719",
        "colab_type": "text"
      },
      "source": [
        "# Faster Optimizers"
      ]
    },
    {
      "cell_type": "markdown",
      "metadata": {
        "id": "vGIuSzDf2719",
        "colab_type": "text"
      },
      "source": [
        "## Momentum optimization"
      ]
    },
    {
      "cell_type": "code",
      "metadata": {
        "id": "npnR9a182719",
        "colab_type": "code",
        "colab": {}
      },
      "source": [
        "optimizer = tf.train.MomentumOptimizer(learning_rate=learning_rate,\n",
        "                                       momentum=0.9)"
      ],
      "execution_count": null,
      "outputs": []
    },
    {
      "cell_type": "markdown",
      "metadata": {
        "id": "NmmYJcjd271_",
        "colab_type": "text"
      },
      "source": [
        "## Nesterov Accelerated Gradient"
      ]
    },
    {
      "cell_type": "code",
      "metadata": {
        "id": "G4ZEep2V271_",
        "colab_type": "code",
        "colab": {}
      },
      "source": [
        "optimizer = tf.train.MomentumOptimizer(learning_rate=learning_rate,\n",
        "                                       momentum=0.9, use_nesterov=True)"
      ],
      "execution_count": null,
      "outputs": []
    },
    {
      "cell_type": "markdown",
      "metadata": {
        "id": "mpcomaQv272A",
        "colab_type": "text"
      },
      "source": [
        "## AdaGrad"
      ]
    },
    {
      "cell_type": "code",
      "metadata": {
        "id": "g3PCY6iH272B",
        "colab_type": "code",
        "colab": {}
      },
      "source": [
        "optimizer = tf.train.AdagradOptimizer(learning_rate=learning_rate)"
      ],
      "execution_count": null,
      "outputs": []
    },
    {
      "cell_type": "markdown",
      "metadata": {
        "id": "e1pDLecs272C",
        "colab_type": "text"
      },
      "source": [
        "## RMSProp"
      ]
    },
    {
      "cell_type": "code",
      "metadata": {
        "id": "ra1J8f2R272C",
        "colab_type": "code",
        "colab": {}
      },
      "source": [
        "optimizer = tf.train.RMSPropOptimizer(learning_rate=learning_rate,\n",
        "                                      momentum=0.9, decay=0.9, epsilon=1e-10)"
      ],
      "execution_count": null,
      "outputs": []
    },
    {
      "cell_type": "markdown",
      "metadata": {
        "id": "wkc4-F9z272D",
        "colab_type": "text"
      },
      "source": [
        "## Adam Optimization"
      ]
    },
    {
      "cell_type": "code",
      "metadata": {
        "id": "AYJQlhoD272E",
        "colab_type": "code",
        "colab": {}
      },
      "source": [
        "optimizer = tf.train.AdamOptimizer(learning_rate=learning_rate)"
      ],
      "execution_count": null,
      "outputs": []
    },
    {
      "cell_type": "markdown",
      "metadata": {
        "id": "CIA3eabE272F",
        "colab_type": "text"
      },
      "source": [
        "## Learning Rate Scheduling"
      ]
    },
    {
      "cell_type": "code",
      "metadata": {
        "id": "Qn_2pXbi272F",
        "colab_type": "code",
        "colab": {}
      },
      "source": [
        "reset_graph()\n",
        "\n",
        "n_inputs = 28 * 28  # MNIST\n",
        "n_hidden1 = 300\n",
        "n_hidden2 = 50\n",
        "n_outputs = 10\n",
        "\n",
        "X = tf.placeholder(tf.float32, shape=(None, n_inputs), name=\"X\")\n",
        "y = tf.placeholder(tf.int32, shape=(None), name=\"y\")\n",
        "\n",
        "with tf.name_scope(\"dnn\"):\n",
        "    hidden1 = tf.layers.dense(X, n_hidden1, activation=tf.nn.relu, name=\"hidden1\")\n",
        "    hidden2 = tf.layers.dense(hidden1, n_hidden2, activation=tf.nn.relu, name=\"hidden2\")\n",
        "    logits = tf.layers.dense(hidden2, n_outputs, name=\"outputs\")\n",
        "\n",
        "with tf.name_scope(\"loss\"):\n",
        "    xentropy = tf.nn.sparse_softmax_cross_entropy_with_logits(labels=y, logits=logits)\n",
        "    loss = tf.reduce_mean(xentropy, name=\"loss\")\n",
        "\n",
        "with tf.name_scope(\"eval\"):\n",
        "    correct = tf.nn.in_top_k(logits, y, 1)\n",
        "    accuracy = tf.reduce_mean(tf.cast(correct, tf.float32), name=\"accuracy\")"
      ],
      "execution_count": null,
      "outputs": []
    },
    {
      "cell_type": "code",
      "metadata": {
        "id": "RsBKZOqx272I",
        "colab_type": "code",
        "colab": {}
      },
      "source": [
        "with tf.name_scope(\"train\"):       # not shown in the book\n",
        "    initial_learning_rate = 0.1\n",
        "    decay_steps = 10000\n",
        "    decay_rate = 1/10\n",
        "    global_step = tf.Variable(0, trainable=False, name=\"global_step\")\n",
        "    learning_rate = tf.train.exponential_decay(initial_learning_rate, global_step,\n",
        "                                               decay_steps, decay_rate)\n",
        "    optimizer = tf.train.MomentumOptimizer(learning_rate, momentum=0.9)\n",
        "    training_op = optimizer.minimize(loss, global_step=global_step)"
      ],
      "execution_count": null,
      "outputs": []
    },
    {
      "cell_type": "code",
      "metadata": {
        "id": "hjL5_ffh272J",
        "colab_type": "code",
        "colab": {}
      },
      "source": [
        "init = tf.global_variables_initializer()\n",
        "saver = tf.train.Saver()"
      ],
      "execution_count": null,
      "outputs": []
    },
    {
      "cell_type": "code",
      "metadata": {
        "id": "YZVlk5T6272L",
        "colab_type": "code",
        "colab": {},
        "outputId": "c73dfba2-274f-40e0-b921-53c8407d0544"
      },
      "source": [
        "n_epochs = 5\n",
        "batch_size = 50\n",
        "\n",
        "with tf.Session() as sess:\n",
        "    init.run()\n",
        "    for epoch in range(n_epochs):\n",
        "        for X_batch, y_batch in shuffle_batch(X_train, y_train, batch_size):\n",
        "            sess.run(training_op, feed_dict={X: X_batch, y: y_batch})\n",
        "        accuracy_val = accuracy.eval(feed_dict={X: X_valid, y: y_valid})\n",
        "        print(epoch, \"Validation accuracy:\", accuracy_val)\n",
        "\n",
        "    save_path = saver.save(sess, \"./my_model_final.ckpt\")"
      ],
      "execution_count": null,
      "outputs": [
        {
          "output_type": "stream",
          "text": [
            "0 Validation accuracy: 0.959\n",
            "1 Validation accuracy: 0.9688\n",
            "2 Validation accuracy: 0.9726\n",
            "3 Validation accuracy: 0.9804\n",
            "4 Validation accuracy: 0.982\n"
          ],
          "name": "stdout"
        }
      ]
    },
    {
      "cell_type": "markdown",
      "metadata": {
        "id": "9c3soyau272N",
        "colab_type": "text"
      },
      "source": [
        "# Avoiding Overfitting Through Regularization"
      ]
    },
    {
      "cell_type": "markdown",
      "metadata": {
        "id": "Fl8edFXU272O",
        "colab_type": "text"
      },
      "source": [
        "## $\\ell_1$ and $\\ell_2$ regularization"
      ]
    },
    {
      "cell_type": "markdown",
      "metadata": {
        "id": "CVjpc2At272O",
        "colab_type": "text"
      },
      "source": [
        "Let's implement $\\ell_1$ regularization manually. First, we create the model, as usual (with just one hidden layer this time, for simplicity):"
      ]
    },
    {
      "cell_type": "code",
      "metadata": {
        "id": "ar1LPpPg272O",
        "colab_type": "code",
        "colab": {}
      },
      "source": [
        "reset_graph()\n",
        "\n",
        "n_inputs = 28 * 28  # MNIST\n",
        "n_hidden1 = 300\n",
        "n_outputs = 10\n",
        "\n",
        "X = tf.placeholder(tf.float32, shape=(None, n_inputs), name=\"X\")\n",
        "y = tf.placeholder(tf.int32, shape=(None), name=\"y\")\n",
        "\n",
        "with tf.name_scope(\"dnn\"):\n",
        "    hidden1 = tf.layers.dense(X, n_hidden1, activation=tf.nn.relu, name=\"hidden1\")\n",
        "    logits = tf.layers.dense(hidden1, n_outputs, name=\"outputs\")"
      ],
      "execution_count": null,
      "outputs": []
    },
    {
      "cell_type": "markdown",
      "metadata": {
        "id": "7g0V0hKv272P",
        "colab_type": "text"
      },
      "source": [
        "Next, we get a handle on the layer weights, and we compute the total loss, which is equal to the sum of the usual cross entropy loss and the $\\ell_1$ loss (i.e., the absolute values of the weights):"
      ]
    },
    {
      "cell_type": "code",
      "metadata": {
        "id": "lPRlnQZR272Q",
        "colab_type": "code",
        "colab": {}
      },
      "source": [
        "W1 = tf.get_default_graph().get_tensor_by_name(\"hidden1/kernel:0\")\n",
        "W2 = tf.get_default_graph().get_tensor_by_name(\"outputs/kernel:0\")\n",
        "\n",
        "scale = 0.001 # l1 regularization hyperparameter\n",
        "\n",
        "with tf.name_scope(\"loss\"):\n",
        "    xentropy = tf.nn.sparse_softmax_cross_entropy_with_logits(labels=y,\n",
        "                                                              logits=logits)\n",
        "    base_loss = tf.reduce_mean(xentropy, name=\"avg_xentropy\")\n",
        "    reg_losses = tf.reduce_sum(tf.abs(W1)) + tf.reduce_sum(tf.abs(W2))\n",
        "    loss = tf.add(base_loss, scale * reg_losses, name=\"loss\")"
      ],
      "execution_count": null,
      "outputs": []
    },
    {
      "cell_type": "markdown",
      "metadata": {
        "id": "mS_LY8O5272R",
        "colab_type": "text"
      },
      "source": [
        "The rest is just as usual:"
      ]
    },
    {
      "cell_type": "code",
      "metadata": {
        "id": "tykD8Dq3272R",
        "colab_type": "code",
        "colab": {}
      },
      "source": [
        "with tf.name_scope(\"eval\"):\n",
        "    correct = tf.nn.in_top_k(logits, y, 1)\n",
        "    accuracy = tf.reduce_mean(tf.cast(correct, tf.float32), name=\"accuracy\")\n",
        "\n",
        "learning_rate = 0.01\n",
        "\n",
        "with tf.name_scope(\"train\"):\n",
        "    optimizer = tf.train.GradientDescentOptimizer(learning_rate)\n",
        "    training_op = optimizer.minimize(loss)\n",
        "\n",
        "init = tf.global_variables_initializer()\n",
        "saver = tf.train.Saver()"
      ],
      "execution_count": null,
      "outputs": []
    },
    {
      "cell_type": "code",
      "metadata": {
        "scrolled": true,
        "id": "eJLXxA1P272T",
        "colab_type": "code",
        "colab": {},
        "outputId": "33b77dd4-ccc9-42b7-8e0b-28b6c7622c80"
      },
      "source": [
        "n_epochs = 20\n",
        "batch_size = 200\n",
        "\n",
        "with tf.Session() as sess:\n",
        "    init.run()\n",
        "    for epoch in range(n_epochs):\n",
        "        for X_batch, y_batch in shuffle_batch(X_train, y_train, batch_size):\n",
        "            sess.run(training_op, feed_dict={X: X_batch, y: y_batch})\n",
        "        accuracy_val = accuracy.eval(feed_dict={X: X_valid, y: y_valid})\n",
        "        print(epoch, \"Validation accuracy:\", accuracy_val)\n",
        "\n",
        "    save_path = saver.save(sess, \"./my_model_final.ckpt\")"
      ],
      "execution_count": null,
      "outputs": [
        {
          "output_type": "stream",
          "text": [
            "0 Validation accuracy: 0.831\n",
            "1 Validation accuracy: 0.871\n",
            "2 Validation accuracy: 0.8838\n",
            "3 Validation accuracy: 0.8934\n",
            "4 Validation accuracy: 0.8966\n",
            "5 Validation accuracy: 0.8988\n",
            "6 Validation accuracy: 0.9016\n",
            "7 Validation accuracy: 0.9044\n",
            "8 Validation accuracy: 0.9058\n",
            "9 Validation accuracy: 0.906\n",
            "10 Validation accuracy: 0.9068\n",
            "11 Validation accuracy: 0.9054\n",
            "12 Validation accuracy: 0.907\n",
            "13 Validation accuracy: 0.9084\n",
            "14 Validation accuracy: 0.9088\n",
            "15 Validation accuracy: 0.9064\n",
            "16 Validation accuracy: 0.9066\n",
            "17 Validation accuracy: 0.9066\n",
            "18 Validation accuracy: 0.9066\n",
            "19 Validation accuracy: 0.9052\n"
          ],
          "name": "stdout"
        }
      ]
    },
    {
      "cell_type": "markdown",
      "metadata": {
        "id": "pfbJdngb272U",
        "colab_type": "text"
      },
      "source": [
        "Alternatively, we can pass a regularization function to the `tf.layers.dense()` function, which will use it to create operations that will compute the regularization loss, and it adds these operations to the collection of regularization losses. The beginning is the same as above:"
      ]
    },
    {
      "cell_type": "code",
      "metadata": {
        "id": "ojhcL9yN272U",
        "colab_type": "code",
        "colab": {}
      },
      "source": [
        "reset_graph()\n",
        "\n",
        "n_inputs = 28 * 28  # MNIST\n",
        "n_hidden1 = 300\n",
        "n_hidden2 = 50\n",
        "n_outputs = 10\n",
        "\n",
        "X = tf.placeholder(tf.float32, shape=(None, n_inputs), name=\"X\")\n",
        "y = tf.placeholder(tf.int32, shape=(None), name=\"y\")"
      ],
      "execution_count": null,
      "outputs": []
    },
    {
      "cell_type": "markdown",
      "metadata": {
        "id": "a3c_H4rs272V",
        "colab_type": "text"
      },
      "source": [
        "Next, we will use Python's `partial()` function to avoid repeating the same arguments over and over again. Note that we set the `kernel_regularizer` argument:"
      ]
    },
    {
      "cell_type": "code",
      "metadata": {
        "id": "eENn31qA272W",
        "colab_type": "code",
        "colab": {}
      },
      "source": [
        "scale = 0.001"
      ],
      "execution_count": null,
      "outputs": []
    },
    {
      "cell_type": "code",
      "metadata": {
        "id": "wAaLGkIm272X",
        "colab_type": "code",
        "colab": {}
      },
      "source": [
        "my_dense_layer = partial(\n",
        "    tf.layers.dense, activation=tf.nn.relu,\n",
        "    kernel_regularizer=tf.contrib.layers.l1_regularizer(scale))\n",
        "\n",
        "with tf.name_scope(\"dnn\"):\n",
        "    hidden1 = my_dense_layer(X, n_hidden1, name=\"hidden1\")\n",
        "    hidden2 = my_dense_layer(hidden1, n_hidden2, name=\"hidden2\")\n",
        "    logits = my_dense_layer(hidden2, n_outputs, activation=None,\n",
        "                            name=\"outputs\")"
      ],
      "execution_count": null,
      "outputs": []
    },
    {
      "cell_type": "markdown",
      "metadata": {
        "id": "hUmfp7Bp272Y",
        "colab_type": "text"
      },
      "source": [
        "Next we must add the regularization losses to the base loss:"
      ]
    },
    {
      "cell_type": "code",
      "metadata": {
        "id": "YssNSFCj272Y",
        "colab_type": "code",
        "colab": {}
      },
      "source": [
        "with tf.name_scope(\"loss\"):                                     # not shown in the book\n",
        "    xentropy = tf.nn.sparse_softmax_cross_entropy_with_logits(  # not shown\n",
        "        labels=y, logits=logits)                                # not shown\n",
        "    base_loss = tf.reduce_mean(xentropy, name=\"avg_xentropy\")   # not shown\n",
        "    reg_losses = tf.get_collection(tf.GraphKeys.REGULARIZATION_LOSSES)\n",
        "    loss = tf.add_n([base_loss] + reg_losses, name=\"loss\")"
      ],
      "execution_count": null,
      "outputs": []
    },
    {
      "cell_type": "markdown",
      "metadata": {
        "id": "zI28BMtV272d",
        "colab_type": "text"
      },
      "source": [
        "And the rest is the same as usual:"
      ]
    },
    {
      "cell_type": "code",
      "metadata": {
        "id": "VQ9RJDke272d",
        "colab_type": "code",
        "colab": {}
      },
      "source": [
        "with tf.name_scope(\"eval\"):\n",
        "    correct = tf.nn.in_top_k(logits, y, 1)\n",
        "    accuracy = tf.reduce_mean(tf.cast(correct, tf.float32), name=\"accuracy\")\n",
        "\n",
        "learning_rate = 0.01\n",
        "\n",
        "with tf.name_scope(\"train\"):\n",
        "    optimizer = tf.train.GradientDescentOptimizer(learning_rate)\n",
        "    training_op = optimizer.minimize(loss)\n",
        "\n",
        "init = tf.global_variables_initializer()\n",
        "saver = tf.train.Saver()"
      ],
      "execution_count": null,
      "outputs": []
    },
    {
      "cell_type": "code",
      "metadata": {
        "scrolled": true,
        "id": "X6oNH1Nz272f",
        "colab_type": "code",
        "colab": {},
        "outputId": "3e8fac3b-8864-4b0e-ef5e-154ea7ca7437"
      },
      "source": [
        "n_epochs = 20\n",
        "batch_size = 200\n",
        "\n",
        "with tf.Session() as sess:\n",
        "    init.run()\n",
        "    for epoch in range(n_epochs):\n",
        "        for X_batch, y_batch in shuffle_batch(X_train, y_train, batch_size):\n",
        "            sess.run(training_op, feed_dict={X: X_batch, y: y_batch})\n",
        "        accuracy_val = accuracy.eval(feed_dict={X: X_valid, y: y_valid})\n",
        "        print(epoch, \"Validation accuracy:\", accuracy_val)\n",
        "\n",
        "    save_path = saver.save(sess, \"./my_model_final.ckpt\")"
      ],
      "execution_count": null,
      "outputs": [
        {
          "output_type": "stream",
          "text": [
            "0 Validation accuracy: 0.8274\n",
            "1 Validation accuracy: 0.8766\n",
            "2 Validation accuracy: 0.8952\n",
            "3 Validation accuracy: 0.9016\n",
            "4 Validation accuracy: 0.908\n",
            "5 Validation accuracy: 0.9096\n",
            "6 Validation accuracy: 0.9126\n",
            "7 Validation accuracy: 0.9154\n",
            "8 Validation accuracy: 0.9178\n",
            "9 Validation accuracy: 0.919\n",
            "10 Validation accuracy: 0.92\n",
            "11 Validation accuracy: 0.9224\n",
            "12 Validation accuracy: 0.9212\n",
            "13 Validation accuracy: 0.9228\n",
            "14 Validation accuracy: 0.9224\n",
            "15 Validation accuracy: 0.9216\n",
            "16 Validation accuracy: 0.9218\n",
            "17 Validation accuracy: 0.9228\n",
            "18 Validation accuracy: 0.9216\n",
            "19 Validation accuracy: 0.9214\n"
          ],
          "name": "stdout"
        }
      ]
    },
    {
      "cell_type": "markdown",
      "metadata": {
        "id": "TJfVrtlN272i",
        "colab_type": "text"
      },
      "source": [
        "## Dropout"
      ]
    },
    {
      "cell_type": "markdown",
      "metadata": {
        "id": "V-DatgGm272i",
        "colab_type": "text"
      },
      "source": [
        "Note: the book uses `tf.contrib.layers.dropout()` rather than `tf.layers.dropout()` (which did not exist when this chapter was written). It is now preferable to use `tf.layers.dropout()`, because anything in the contrib module may change or be deleted without notice. The `tf.layers.dropout()` function is almost identical to the `tf.contrib.layers.dropout()` function, except for a few minor differences. Most importantly:\n",
        "* you must specify the dropout rate (`rate`) rather than the keep probability (`keep_prob`), where `rate` is simply equal to `1 - keep_prob`,\n",
        "* the `is_training` parameter is renamed to `training`."
      ]
    },
    {
      "cell_type": "code",
      "metadata": {
        "id": "4Soe0ORG272i",
        "colab_type": "code",
        "colab": {}
      },
      "source": [
        "reset_graph()\n",
        "\n",
        "X = tf.placeholder(tf.float32, shape=(None, n_inputs), name=\"X\")\n",
        "y = tf.placeholder(tf.int32, shape=(None), name=\"y\")"
      ],
      "execution_count": null,
      "outputs": []
    },
    {
      "cell_type": "code",
      "metadata": {
        "id": "_IKOZPg1272l",
        "colab_type": "code",
        "colab": {}
      },
      "source": [
        "training = tf.placeholder_with_default(False, shape=(), name='training')\n",
        "\n",
        "dropout_rate = 0.5  # == 1 - keep_prob\n",
        "X_drop = tf.layers.dropout(X, dropout_rate, training=training)\n",
        "\n",
        "with tf.name_scope(\"dnn\"):\n",
        "    hidden1 = tf.layers.dense(X_drop, n_hidden1, activation=tf.nn.relu,\n",
        "                              name=\"hidden1\")\n",
        "    hidden1_drop = tf.layers.dropout(hidden1, dropout_rate, training=training)\n",
        "    hidden2 = tf.layers.dense(hidden1_drop, n_hidden2, activation=tf.nn.relu,\n",
        "                              name=\"hidden2\")\n",
        "    hidden2_drop = tf.layers.dropout(hidden2, dropout_rate, training=training)\n",
        "    logits = tf.layers.dense(hidden2_drop, n_outputs, name=\"outputs\")"
      ],
      "execution_count": null,
      "outputs": []
    },
    {
      "cell_type": "code",
      "metadata": {
        "id": "Ypgo_0mN272m",
        "colab_type": "code",
        "colab": {}
      },
      "source": [
        "with tf.name_scope(\"loss\"):\n",
        "    xentropy = tf.nn.sparse_softmax_cross_entropy_with_logits(labels=y, logits=logits)\n",
        "    loss = tf.reduce_mean(xentropy, name=\"loss\")\n",
        "\n",
        "with tf.name_scope(\"train\"):\n",
        "    optimizer = tf.train.MomentumOptimizer(learning_rate, momentum=0.9)\n",
        "    training_op = optimizer.minimize(loss)    \n",
        "\n",
        "with tf.name_scope(\"eval\"):\n",
        "    correct = tf.nn.in_top_k(logits, y, 1)\n",
        "    accuracy = tf.reduce_mean(tf.cast(correct, tf.float32))\n",
        "    \n",
        "init = tf.global_variables_initializer()\n",
        "saver = tf.train.Saver()"
      ],
      "execution_count": null,
      "outputs": []
    },
    {
      "cell_type": "code",
      "metadata": {
        "scrolled": true,
        "id": "lnXoM8Xq272n",
        "colab_type": "code",
        "colab": {},
        "outputId": "b72c588b-d752-46a9-eba2-db7f797c9092"
      },
      "source": [
        "n_epochs = 20\n",
        "batch_size = 50\n",
        "\n",
        "with tf.Session() as sess:\n",
        "    init.run()\n",
        "    for epoch in range(n_epochs):\n",
        "        for X_batch, y_batch in shuffle_batch(X_train, y_train, batch_size):\n",
        "            sess.run(training_op, feed_dict={X: X_batch, y: y_batch, training: True})\n",
        "        accuracy_val = accuracy.eval(feed_dict={X: X_valid, y: y_valid})\n",
        "        print(epoch, \"Validation accuracy:\", accuracy_val)\n",
        "\n",
        "    save_path = saver.save(sess, \"./my_model_final.ckpt\")"
      ],
      "execution_count": null,
      "outputs": [
        {
          "output_type": "stream",
          "text": [
            "0 Validation accuracy: 0.9264\n",
            "1 Validation accuracy: 0.9446\n",
            "2 Validation accuracy: 0.9488\n",
            "3 Validation accuracy: 0.9556\n",
            "4 Validation accuracy: 0.9612\n",
            "5 Validation accuracy: 0.9598\n",
            "6 Validation accuracy: 0.9616\n",
            "7 Validation accuracy: 0.9674\n",
            "8 Validation accuracy: 0.967\n",
            "9 Validation accuracy: 0.9706\n",
            "10 Validation accuracy: 0.9674\n",
            "11 Validation accuracy: 0.9678\n",
            "12 Validation accuracy: 0.9698\n",
            "13 Validation accuracy: 0.97\n",
            "14 Validation accuracy: 0.971\n",
            "15 Validation accuracy: 0.9702\n",
            "16 Validation accuracy: 0.9718\n",
            "17 Validation accuracy: 0.9716\n",
            "18 Validation accuracy: 0.9734\n",
            "19 Validation accuracy: 0.972\n"
          ],
          "name": "stdout"
        }
      ]
    },
    {
      "cell_type": "markdown",
      "metadata": {
        "id": "AAfhDT-U272o",
        "colab_type": "text"
      },
      "source": [
        "## Max norm"
      ]
    },
    {
      "cell_type": "markdown",
      "metadata": {
        "id": "arzvR63c272o",
        "colab_type": "text"
      },
      "source": [
        "Let's go back to a plain and simple neural net for MNIST with just 2 hidden layers:"
      ]
    },
    {
      "cell_type": "code",
      "metadata": {
        "id": "CwJkI9rB272p",
        "colab_type": "code",
        "colab": {}
      },
      "source": [
        "reset_graph()\n",
        "\n",
        "n_inputs = 28 * 28\n",
        "n_hidden1 = 300\n",
        "n_hidden2 = 50\n",
        "n_outputs = 10\n",
        "\n",
        "learning_rate = 0.01\n",
        "momentum = 0.9\n",
        "\n",
        "X = tf.placeholder(tf.float32, shape=(None, n_inputs), name=\"X\")\n",
        "y = tf.placeholder(tf.int32, shape=(None), name=\"y\")\n",
        "\n",
        "with tf.name_scope(\"dnn\"):\n",
        "    hidden1 = tf.layers.dense(X, n_hidden1, activation=tf.nn.relu, name=\"hidden1\")\n",
        "    hidden2 = tf.layers.dense(hidden1, n_hidden2, activation=tf.nn.relu, name=\"hidden2\")\n",
        "    logits = tf.layers.dense(hidden2, n_outputs, name=\"outputs\")\n",
        "\n",
        "with tf.name_scope(\"loss\"):\n",
        "    xentropy = tf.nn.sparse_softmax_cross_entropy_with_logits(labels=y, logits=logits)\n",
        "    loss = tf.reduce_mean(xentropy, name=\"loss\")\n",
        "\n",
        "with tf.name_scope(\"train\"):\n",
        "    optimizer = tf.train.MomentumOptimizer(learning_rate, momentum)\n",
        "    training_op = optimizer.minimize(loss)    \n",
        "\n",
        "with tf.name_scope(\"eval\"):\n",
        "    correct = tf.nn.in_top_k(logits, y, 1)\n",
        "    accuracy = tf.reduce_mean(tf.cast(correct, tf.float32))"
      ],
      "execution_count": null,
      "outputs": []
    },
    {
      "cell_type": "markdown",
      "metadata": {
        "id": "J1-NE686272q",
        "colab_type": "text"
      },
      "source": [
        "Next, let's get a handle on the first hidden layer's weight and create an operation that will compute the clipped weights using the `clip_by_norm()` function. Then we create an assignment operation to assign the clipped weights to the weights variable:"
      ]
    },
    {
      "cell_type": "code",
      "metadata": {
        "id": "9cB9MDb1272q",
        "colab_type": "code",
        "colab": {}
      },
      "source": [
        "threshold = 1.0\n",
        "weights = tf.get_default_graph().get_tensor_by_name(\"hidden1/kernel:0\")\n",
        "clipped_weights = tf.clip_by_norm(weights, clip_norm=threshold, axes=1)\n",
        "clip_weights = tf.assign(weights, clipped_weights)"
      ],
      "execution_count": null,
      "outputs": []
    },
    {
      "cell_type": "markdown",
      "metadata": {
        "id": "mTRwf4g9272r",
        "colab_type": "text"
      },
      "source": [
        "We can do this as well for the second hidden layer:"
      ]
    },
    {
      "cell_type": "code",
      "metadata": {
        "id": "xSolprAY272r",
        "colab_type": "code",
        "colab": {}
      },
      "source": [
        "weights2 = tf.get_default_graph().get_tensor_by_name(\"hidden2/kernel:0\")\n",
        "clipped_weights2 = tf.clip_by_norm(weights2, clip_norm=threshold, axes=1)\n",
        "clip_weights2 = tf.assign(weights2, clipped_weights2)"
      ],
      "execution_count": null,
      "outputs": []
    },
    {
      "cell_type": "markdown",
      "metadata": {
        "id": "OYowN1OS272t",
        "colab_type": "text"
      },
      "source": [
        "Let's add an initializer and a saver:"
      ]
    },
    {
      "cell_type": "code",
      "metadata": {
        "id": "qNcoFNdN272t",
        "colab_type": "code",
        "colab": {}
      },
      "source": [
        "init = tf.global_variables_initializer()\n",
        "saver = tf.train.Saver()"
      ],
      "execution_count": null,
      "outputs": []
    },
    {
      "cell_type": "markdown",
      "metadata": {
        "id": "agkNeufG272u",
        "colab_type": "text"
      },
      "source": [
        "And now we can train the model. It's pretty much as usual, except that right after running the `training_op`, we run the `clip_weights` and `clip_weights2` operations:"
      ]
    },
    {
      "cell_type": "code",
      "metadata": {
        "id": "0tJE--SI272u",
        "colab_type": "code",
        "colab": {}
      },
      "source": [
        "n_epochs = 20\n",
        "batch_size = 50"
      ],
      "execution_count": null,
      "outputs": []
    },
    {
      "cell_type": "code",
      "metadata": {
        "id": "9hQcPQ6f272v",
        "colab_type": "code",
        "colab": {},
        "outputId": "6b5356a5-1d9c-4e8b-b7a4-ccb6e6a4065f"
      },
      "source": [
        "with tf.Session() as sess:                                              # not shown in the book\n",
        "    init.run()                                                          # not shown\n",
        "    for epoch in range(n_epochs):                                       # not shown\n",
        "        for X_batch, y_batch in shuffle_batch(X_train, y_train, batch_size): # not shown\n",
        "            sess.run(training_op, feed_dict={X: X_batch, y: y_batch})\n",
        "            clip_weights.eval()\n",
        "            clip_weights2.eval()                                        # not shown\n",
        "        acc_valid = accuracy.eval(feed_dict={X: X_valid, y: y_valid})   # not shown\n",
        "        print(epoch, \"Validation accuracy:\", acc_valid)                 # not shown\n",
        "\n",
        "    save_path = saver.save(sess, \"./my_model_final.ckpt\")               # not shown"
      ],
      "execution_count": null,
      "outputs": [
        {
          "output_type": "stream",
          "text": [
            "0 Validation accuracy: 0.9568\n",
            "1 Validation accuracy: 0.9696\n",
            "2 Validation accuracy: 0.972\n",
            "3 Validation accuracy: 0.9768\n",
            "4 Validation accuracy: 0.9784\n",
            "5 Validation accuracy: 0.9786\n",
            "6 Validation accuracy: 0.9816\n",
            "7 Validation accuracy: 0.9808\n",
            "8 Validation accuracy: 0.981\n",
            "9 Validation accuracy: 0.983\n",
            "10 Validation accuracy: 0.9822\n",
            "11 Validation accuracy: 0.9854\n",
            "12 Validation accuracy: 0.9822\n",
            "13 Validation accuracy: 0.9842\n",
            "14 Validation accuracy: 0.984\n",
            "15 Validation accuracy: 0.9852\n",
            "16 Validation accuracy: 0.984\n",
            "17 Validation accuracy: 0.9844\n",
            "18 Validation accuracy: 0.9844\n",
            "19 Validation accuracy: 0.9844\n"
          ],
          "name": "stdout"
        }
      ]
    },
    {
      "cell_type": "markdown",
      "metadata": {
        "id": "W5MI_Nad272w",
        "colab_type": "text"
      },
      "source": [
        "The implementation above is straightforward and it works fine, but it is a bit messy. A better approach is to define a `max_norm_regularizer()` function:"
      ]
    },
    {
      "cell_type": "code",
      "metadata": {
        "id": "4unkMee2272x",
        "colab_type": "code",
        "colab": {}
      },
      "source": [
        "def max_norm_regularizer(threshold, axes=1, name=\"max_norm\",\n",
        "                         collection=\"max_norm\"):\n",
        "    def max_norm(weights):\n",
        "        clipped = tf.clip_by_norm(weights, clip_norm=threshold, axes=axes)\n",
        "        clip_weights = tf.assign(weights, clipped, name=name)\n",
        "        tf.add_to_collection(collection, clip_weights)\n",
        "        return None # there is no regularization loss term\n",
        "    return max_norm"
      ],
      "execution_count": null,
      "outputs": []
    },
    {
      "cell_type": "markdown",
      "metadata": {
        "id": "D6guIPUO272y",
        "colab_type": "text"
      },
      "source": [
        "Then you can call this function to get a max norm regularizer (with the threshold you want). When you create a hidden layer, you can pass this regularizer to the `kernel_regularizer` argument:"
      ]
    },
    {
      "cell_type": "code",
      "metadata": {
        "id": "8gMxpge2272y",
        "colab_type": "code",
        "colab": {}
      },
      "source": [
        "reset_graph()\n",
        "\n",
        "n_inputs = 28 * 28\n",
        "n_hidden1 = 300\n",
        "n_hidden2 = 50\n",
        "n_outputs = 10\n",
        "\n",
        "learning_rate = 0.01\n",
        "momentum = 0.9\n",
        "\n",
        "X = tf.placeholder(tf.float32, shape=(None, n_inputs), name=\"X\")\n",
        "y = tf.placeholder(tf.int32, shape=(None), name=\"y\")"
      ],
      "execution_count": null,
      "outputs": []
    },
    {
      "cell_type": "code",
      "metadata": {
        "id": "Y3qIkXl7272z",
        "colab_type": "code",
        "colab": {}
      },
      "source": [
        "max_norm_reg = max_norm_regularizer(threshold=1.0)\n",
        "\n",
        "with tf.name_scope(\"dnn\"):\n",
        "    hidden1 = tf.layers.dense(X, n_hidden1, activation=tf.nn.relu,\n",
        "                              kernel_regularizer=max_norm_reg, name=\"hidden1\")\n",
        "    hidden2 = tf.layers.dense(hidden1, n_hidden2, activation=tf.nn.relu,\n",
        "                              kernel_regularizer=max_norm_reg, name=\"hidden2\")\n",
        "    logits = tf.layers.dense(hidden2, n_outputs, name=\"outputs\")"
      ],
      "execution_count": null,
      "outputs": []
    },
    {
      "cell_type": "code",
      "metadata": {
        "id": "g1mWUWM62721",
        "colab_type": "code",
        "colab": {}
      },
      "source": [
        "with tf.name_scope(\"loss\"):\n",
        "    xentropy = tf.nn.sparse_softmax_cross_entropy_with_logits(labels=y, logits=logits)\n",
        "    loss = tf.reduce_mean(xentropy, name=\"loss\")\n",
        "\n",
        "with tf.name_scope(\"train\"):\n",
        "    optimizer = tf.train.MomentumOptimizer(learning_rate, momentum)\n",
        "    training_op = optimizer.minimize(loss)    \n",
        "\n",
        "with tf.name_scope(\"eval\"):\n",
        "    correct = tf.nn.in_top_k(logits, y, 1)\n",
        "    accuracy = tf.reduce_mean(tf.cast(correct, tf.float32))\n",
        "\n",
        "init = tf.global_variables_initializer()\n",
        "saver = tf.train.Saver()"
      ],
      "execution_count": null,
      "outputs": []
    },
    {
      "cell_type": "markdown",
      "metadata": {
        "id": "j65rC3sh2722",
        "colab_type": "text"
      },
      "source": [
        "Training is as usual, except you must run the weights clipping operations after each training operation:"
      ]
    },
    {
      "cell_type": "code",
      "metadata": {
        "id": "TfkUsBJ62722",
        "colab_type": "code",
        "colab": {}
      },
      "source": [
        "n_epochs = 20\n",
        "batch_size = 50"
      ],
      "execution_count": null,
      "outputs": []
    },
    {
      "cell_type": "code",
      "metadata": {
        "scrolled": false,
        "id": "jxEvTPz02723",
        "colab_type": "code",
        "colab": {},
        "outputId": "2166c6f4-0a47-47d1-fe6c-b25665a2511b"
      },
      "source": [
        "clip_all_weights = tf.get_collection(\"max_norm\")\n",
        "\n",
        "with tf.Session() as sess:\n",
        "    init.run()\n",
        "    for epoch in range(n_epochs):\n",
        "        for X_batch, y_batch in shuffle_batch(X_train, y_train, batch_size):\n",
        "            sess.run(training_op, feed_dict={X: X_batch, y: y_batch})\n",
        "            sess.run(clip_all_weights)\n",
        "        acc_valid = accuracy.eval(feed_dict={X: X_valid, y: y_valid}) # not shown\n",
        "        print(epoch, \"Validation accuracy:\", acc_valid)               # not shown\n",
        "\n",
        "    save_path = saver.save(sess, \"./my_model_final.ckpt\")             # not shown"
      ],
      "execution_count": null,
      "outputs": [
        {
          "output_type": "stream",
          "text": [
            "0 Validation accuracy: 0.9556\n",
            "1 Validation accuracy: 0.9698\n",
            "2 Validation accuracy: 0.9726\n",
            "3 Validation accuracy: 0.9744\n",
            "4 Validation accuracy: 0.9762\n",
            "5 Validation accuracy: 0.9772\n",
            "6 Validation accuracy: 0.979\n",
            "7 Validation accuracy: 0.9816\n",
            "8 Validation accuracy: 0.9814\n",
            "9 Validation accuracy: 0.9812\n",
            "10 Validation accuracy: 0.9818\n",
            "11 Validation accuracy: 0.9816\n",
            "12 Validation accuracy: 0.9802\n",
            "13 Validation accuracy: 0.9822\n",
            "14 Validation accuracy: 0.982\n",
            "15 Validation accuracy: 0.9812\n",
            "16 Validation accuracy: 0.9824\n",
            "17 Validation accuracy: 0.9836\n",
            "18 Validation accuracy: 0.9824\n",
            "19 Validation accuracy: 0.9826\n"
          ],
          "name": "stdout"
        }
      ]
    },
    {
      "cell_type": "markdown",
      "metadata": {
        "collapsed": true,
        "id": "U7Xk7Q212725",
        "colab_type": "text"
      },
      "source": [
        "# Exercise solutions"
      ]
    },
    {
      "cell_type": "markdown",
      "metadata": {
        "id": "g14odlrv2725",
        "colab_type": "text"
      },
      "source": [
        "## 1. to 7."
      ]
    },
    {
      "cell_type": "markdown",
      "metadata": {
        "id": "bHtDjd9i2725",
        "colab_type": "text"
      },
      "source": [
        "See appendix A."
      ]
    },
    {
      "cell_type": "markdown",
      "metadata": {
        "id": "X11FU1DA2725",
        "colab_type": "text"
      },
      "source": [
        "## 8. Deep Learning"
      ]
    },
    {
      "cell_type": "markdown",
      "metadata": {
        "id": "XzF3L60n2726",
        "colab_type": "text"
      },
      "source": [
        "### 8.1."
      ]
    },
    {
      "cell_type": "markdown",
      "metadata": {
        "id": "IhYFdaUu2726",
        "colab_type": "text"
      },
      "source": [
        "_Exercise: Build a DNN with five hidden layers of 100 neurons each, He initialization, and the ELU activation function._"
      ]
    },
    {
      "cell_type": "markdown",
      "metadata": {
        "id": "R5iD79I-2726",
        "colab_type": "text"
      },
      "source": [
        "We will need similar DNNs in the next exercises, so let's create a function to build this DNN:"
      ]
    },
    {
      "cell_type": "code",
      "metadata": {
        "id": "urDJZLUg2726",
        "colab_type": "code",
        "colab": {}
      },
      "source": [
        "he_init = tf.variance_scaling_initializer()\n",
        "\n",
        "def dnn(inputs, n_hidden_layers=5, n_neurons=100, name=None,\n",
        "        activation=tf.nn.elu, initializer=he_init):\n",
        "    with tf.variable_scope(name, \"dnn\"):\n",
        "        for layer in range(n_hidden_layers):\n",
        "            inputs = tf.layers.dense(inputs, n_neurons, activation=activation,\n",
        "                                     kernel_initializer=initializer,\n",
        "                                     name=\"hidden%d\" % (layer + 1))\n",
        "        return inputs"
      ],
      "execution_count": null,
      "outputs": []
    },
    {
      "cell_type": "code",
      "metadata": {
        "id": "I7SLlKLG2727",
        "colab_type": "code",
        "colab": {}
      },
      "source": [
        "n_inputs = 28 * 28 # MNIST\n",
        "n_outputs = 5\n",
        "\n",
        "reset_graph()\n",
        "\n",
        "X = tf.placeholder(tf.float32, shape=(None, n_inputs), name=\"X\")\n",
        "y = tf.placeholder(tf.int32, shape=(None), name=\"y\")\n",
        "\n",
        "dnn_outputs = dnn(X)\n",
        "\n",
        "logits = tf.layers.dense(dnn_outputs, n_outputs, kernel_initializer=he_init, name=\"logits\")\n",
        "Y_proba = tf.nn.softmax(logits, name=\"Y_proba\")"
      ],
      "execution_count": null,
      "outputs": []
    },
    {
      "cell_type": "markdown",
      "metadata": {
        "id": "y1B6byU92728",
        "colab_type": "text"
      },
      "source": [
        "### 8.2."
      ]
    },
    {
      "cell_type": "markdown",
      "metadata": {
        "id": "27cHZLvT2729",
        "colab_type": "text"
      },
      "source": [
        "_Exercise: Using Adam optimization and early stopping, try training it on MNIST but only on digits 0 to 4, as we will use transfer learning for digits 5 to 9 in the next exercise. You will need a softmax output layer with five neurons, and as always make sure to save checkpoints at regular intervals and save the final model so you can reuse it later._"
      ]
    },
    {
      "cell_type": "markdown",
      "metadata": {
        "id": "0ax5izGL272-",
        "colab_type": "text"
      },
      "source": [
        "Let's complete the graph with the cost function, the training op, and all the other usual components:"
      ]
    },
    {
      "cell_type": "code",
      "metadata": {
        "id": "jcUGib4-272_",
        "colab_type": "code",
        "colab": {}
      },
      "source": [
        "learning_rate = 0.01\n",
        "\n",
        "xentropy = tf.nn.sparse_softmax_cross_entropy_with_logits(labels=y, logits=logits)\n",
        "loss = tf.reduce_mean(xentropy, name=\"loss\")\n",
        "\n",
        "optimizer = tf.train.AdamOptimizer(learning_rate)\n",
        "training_op = optimizer.minimize(loss, name=\"training_op\")\n",
        "\n",
        "correct = tf.nn.in_top_k(logits, y, 1)\n",
        "accuracy = tf.reduce_mean(tf.cast(correct, tf.float32), name=\"accuracy\")\n",
        "\n",
        "init = tf.global_variables_initializer()\n",
        "saver = tf.train.Saver()"
      ],
      "execution_count": null,
      "outputs": []
    },
    {
      "cell_type": "markdown",
      "metadata": {
        "id": "d0QxpqA8273B",
        "colab_type": "text"
      },
      "source": [
        "Now let's create the training set, validation and test set (we need the validation set to implement early stopping):"
      ]
    },
    {
      "cell_type": "code",
      "metadata": {
        "id": "Fswp7Vf4273B",
        "colab_type": "code",
        "colab": {}
      },
      "source": [
        "X_train1 = X_train[y_train < 5]\n",
        "y_train1 = y_train[y_train < 5]\n",
        "X_valid1 = X_valid[y_valid < 5]\n",
        "y_valid1 = y_valid[y_valid < 5]\n",
        "X_test1 = X_test[y_test < 5]\n",
        "y_test1 = y_test[y_test < 5]"
      ],
      "execution_count": null,
      "outputs": []
    },
    {
      "cell_type": "code",
      "metadata": {
        "id": "Tqy1C4OB273D",
        "colab_type": "code",
        "colab": {},
        "outputId": "2200c715-db70-4c03-bedc-ea33aacfdab8"
      },
      "source": [
        "n_epochs = 1000\n",
        "batch_size = 20\n",
        "\n",
        "max_checks_without_progress = 20\n",
        "checks_without_progress = 0\n",
        "best_loss = np.infty\n",
        "\n",
        "with tf.Session() as sess:\n",
        "    init.run()\n",
        "\n",
        "    for epoch in range(n_epochs):\n",
        "        rnd_idx = np.random.permutation(len(X_train1))\n",
        "        for rnd_indices in np.array_split(rnd_idx, len(X_train1) // batch_size):\n",
        "            X_batch, y_batch = X_train1[rnd_indices], y_train1[rnd_indices]\n",
        "            sess.run(training_op, feed_dict={X: X_batch, y: y_batch})\n",
        "        loss_val, acc_val = sess.run([loss, accuracy], feed_dict={X: X_valid1, y: y_valid1})\n",
        "        if loss_val < best_loss:\n",
        "            save_path = saver.save(sess, \"./my_mnist_model_0_to_4.ckpt\")\n",
        "            best_loss = loss_val\n",
        "            checks_without_progress = 0\n",
        "        else:\n",
        "            checks_without_progress += 1\n",
        "            if checks_without_progress > max_checks_without_progress:\n",
        "                print(\"Early stopping!\")\n",
        "                break\n",
        "        print(\"{}\\tValidation loss: {:.6f}\\tBest loss: {:.6f}\\tAccuracy: {:.2f}%\".format(\n",
        "            epoch, loss_val, best_loss, acc_val * 100))\n",
        "\n",
        "with tf.Session() as sess:\n",
        "    saver.restore(sess, \"./my_mnist_model_0_to_4.ckpt\")\n",
        "    acc_test = accuracy.eval(feed_dict={X: X_test1, y: y_test1})\n",
        "    print(\"Final test accuracy: {:.2f}%\".format(acc_test * 100))"
      ],
      "execution_count": null,
      "outputs": [
        {
          "output_type": "stream",
          "text": [
            "0\tValidation loss: 0.116407\tBest loss: 0.116407\tAccuracy: 97.58%\n",
            "1\tValidation loss: 0.180534\tBest loss: 0.116407\tAccuracy: 97.11%\n",
            "2\tValidation loss: 0.227535\tBest loss: 0.116407\tAccuracy: 93.86%\n",
            "3\tValidation loss: 0.107346\tBest loss: 0.107346\tAccuracy: 97.54%\n",
            "4\tValidation loss: 0.302668\tBest loss: 0.107346\tAccuracy: 95.35%\n",
            "5\tValidation loss: 1.631054\tBest loss: 0.107346\tAccuracy: 22.01%\n",
            "6\tValidation loss: 1.635262\tBest loss: 0.107346\tAccuracy: 18.73%\n",
            "7\tValidation loss: 1.671200\tBest loss: 0.107346\tAccuracy: 22.01%\n",
            "8\tValidation loss: 1.695277\tBest loss: 0.107346\tAccuracy: 19.27%\n",
            "9\tValidation loss: 1.744607\tBest loss: 0.107346\tAccuracy: 20.91%\n",
            "10\tValidation loss: 1.629857\tBest loss: 0.107346\tAccuracy: 22.01%\n",
            "11\tValidation loss: 1.810803\tBest loss: 0.107346\tAccuracy: 22.01%\n",
            "12\tValidation loss: 1.675703\tBest loss: 0.107346\tAccuracy: 18.73%\n",
            "13\tValidation loss: 1.633233\tBest loss: 0.107346\tAccuracy: 20.91%\n",
            "14\tValidation loss: 1.652905\tBest loss: 0.107346\tAccuracy: 20.91%\n",
            "15\tValidation loss: 1.635937\tBest loss: 0.107346\tAccuracy: 20.91%\n",
            "16\tValidation loss: 1.718919\tBest loss: 0.107346\tAccuracy: 19.08%\n",
            "17\tValidation loss: 1.682458\tBest loss: 0.107346\tAccuracy: 19.27%\n",
            "18\tValidation loss: 1.675366\tBest loss: 0.107346\tAccuracy: 18.73%\n",
            "19\tValidation loss: 1.645800\tBest loss: 0.107346\tAccuracy: 19.08%\n",
            "20\tValidation loss: 1.722334\tBest loss: 0.107346\tAccuracy: 22.01%\n",
            "21\tValidation loss: 1.656418\tBest loss: 0.107346\tAccuracy: 22.01%\n",
            "22\tValidation loss: 1.643529\tBest loss: 0.107346\tAccuracy: 18.73%\n",
            "23\tValidation loss: 1.644233\tBest loss: 0.107346\tAccuracy: 19.27%\n",
            "Early stopping!\n",
            "INFO:tensorflow:Restoring parameters from ./my_mnist_model_0_to_4.ckpt\n",
            "Final test accuracy: 97.26%\n"
          ],
          "name": "stdout"
        }
      ]
    },
    {
      "cell_type": "markdown",
      "metadata": {
        "id": "xZ7bXswE273E",
        "colab_type": "text"
      },
      "source": [
        "This test accuracy is not too bad, but let's see if we can do better by tuning the hyperparameters."
      ]
    },
    {
      "cell_type": "markdown",
      "metadata": {
        "id": "arSGr8zo273E",
        "colab_type": "text"
      },
      "source": [
        "### 8.3."
      ]
    },
    {
      "cell_type": "markdown",
      "metadata": {
        "id": "8NE69ur4273E",
        "colab_type": "text"
      },
      "source": [
        "_Exercise: Tune the hyperparameters using cross-validation and see what precision you can achieve._"
      ]
    },
    {
      "cell_type": "markdown",
      "metadata": {
        "id": "omU8G-7R273F",
        "colab_type": "text"
      },
      "source": [
        "Let's create a `DNNClassifier` class, compatible with Scikit-Learn's `RandomizedSearchCV` class, to perform hyperparameter tuning. Here are the key points of this implementation:\n",
        "* the `__init__()` method (constructor) does nothing more than create instance variables for each of the hyperparameters.\n",
        "* the `fit()` method creates the graph, starts a session and trains the model:\n",
        "  * it calls the `_build_graph()` method to build the graph (much lile the graph we defined earlier). Once this method is done creating the graph, it saves all the important operations as instance variables for easy access by other methods.\n",
        "  * the `_dnn()` method builds the hidden layers, just like the `dnn()` function above, but also with support for batch normalization and dropout (for the next exercises).\n",
        "  * if the `fit()` method is given a validation set (`X_valid` and `y_valid`), then it implements early stopping. This implementation does not save the best model to disk, but rather to memory: it uses the `_get_model_params()` method to get all the graph's variables and their values, and the `_restore_model_params()` method to restore the variable values (of the best model found). This trick helps speed up training.\n",
        "  * After the `fit()` method has finished training the model, it keeps the session open so that predictions can be made quickly, without having to save a model to disk and restore it for every prediction. You can close the session by calling the `close_session()` method.\n",
        "* the `predict_proba()` method uses the trained model to predict the class probabilities.\n",
        "* the `predict()` method calls `predict_proba()` and returns the class with the highest probability, for each instance."
      ]
    },
    {
      "cell_type": "code",
      "metadata": {
        "id": "YixHoh4V273F",
        "colab_type": "code",
        "colab": {}
      },
      "source": [
        "from sklearn.base import BaseEstimator, ClassifierMixin\n",
        "from sklearn.exceptions import NotFittedError\n",
        "\n",
        "class DNNClassifier(BaseEstimator, ClassifierMixin):\n",
        "    def __init__(self, n_hidden_layers=5, n_neurons=100, optimizer_class=tf.train.AdamOptimizer,\n",
        "                 learning_rate=0.01, batch_size=20, activation=tf.nn.elu, initializer=he_init,\n",
        "                 batch_norm_momentum=None, dropout_rate=None, random_state=None):\n",
        "        \"\"\"Initialize the DNNClassifier by simply storing all the hyperparameters.\"\"\"\n",
        "        self.n_hidden_layers = n_hidden_layers\n",
        "        self.n_neurons = n_neurons\n",
        "        self.optimizer_class = optimizer_class\n",
        "        self.learning_rate = learning_rate\n",
        "        self.batch_size = batch_size\n",
        "        self.activation = activation\n",
        "        self.initializer = initializer\n",
        "        self.batch_norm_momentum = batch_norm_momentum\n",
        "        self.dropout_rate = dropout_rate\n",
        "        self.random_state = random_state\n",
        "        self._session = None\n",
        "\n",
        "    def _dnn(self, inputs):\n",
        "        \"\"\"Build the hidden layers, with support for batch normalization and dropout.\"\"\"\n",
        "        for layer in range(self.n_hidden_layers):\n",
        "            if self.dropout_rate:\n",
        "                inputs = tf.layers.dropout(inputs, self.dropout_rate, training=self._training)\n",
        "            inputs = tf.layers.dense(inputs, self.n_neurons,\n",
        "                                     kernel_initializer=self.initializer,\n",
        "                                     name=\"hidden%d\" % (layer + 1))\n",
        "            if self.batch_norm_momentum:\n",
        "                inputs = tf.layers.batch_normalization(inputs, momentum=self.batch_norm_momentum,\n",
        "                                                       training=self._training)\n",
        "            inputs = self.activation(inputs, name=\"hidden%d_out\" % (layer + 1))\n",
        "        return inputs\n",
        "\n",
        "    def _build_graph(self, n_inputs, n_outputs):\n",
        "        \"\"\"Build the same model as earlier\"\"\"\n",
        "        if self.random_state is not None:\n",
        "            tf.set_random_seed(self.random_state)\n",
        "            np.random.seed(self.random_state)\n",
        "\n",
        "        X = tf.placeholder(tf.float32, shape=(None, n_inputs), name=\"X\")\n",
        "        y = tf.placeholder(tf.int32, shape=(None), name=\"y\")\n",
        "\n",
        "        if self.batch_norm_momentum or self.dropout_rate:\n",
        "            self._training = tf.placeholder_with_default(False, shape=(), name='training')\n",
        "        else:\n",
        "            self._training = None\n",
        "\n",
        "        dnn_outputs = self._dnn(X)\n",
        "\n",
        "        logits = tf.layers.dense(dnn_outputs, n_outputs, kernel_initializer=he_init, name=\"logits\")\n",
        "        Y_proba = tf.nn.softmax(logits, name=\"Y_proba\")\n",
        "\n",
        "        xentropy = tf.nn.sparse_softmax_cross_entropy_with_logits(labels=y,\n",
        "                                                                  logits=logits)\n",
        "        loss = tf.reduce_mean(xentropy, name=\"loss\")\n",
        "\n",
        "        optimizer = self.optimizer_class(learning_rate=self.learning_rate)\n",
        "        training_op = optimizer.minimize(loss)\n",
        "\n",
        "        correct = tf.nn.in_top_k(logits, y, 1)\n",
        "        accuracy = tf.reduce_mean(tf.cast(correct, tf.float32), name=\"accuracy\")\n",
        "\n",
        "        init = tf.global_variables_initializer()\n",
        "        saver = tf.train.Saver()\n",
        "\n",
        "        # Make the important operations available easily through instance variables\n",
        "        self._X, self._y = X, y\n",
        "        self._Y_proba, self._loss = Y_proba, loss\n",
        "        self._training_op, self._accuracy = training_op, accuracy\n",
        "        self._init, self._saver = init, saver\n",
        "\n",
        "    def close_session(self):\n",
        "        if self._session:\n",
        "            self._session.close()\n",
        "\n",
        "    def _get_model_params(self):\n",
        "        \"\"\"Get all variable values (used for early stopping, faster than saving to disk)\"\"\"\n",
        "        with self._graph.as_default():\n",
        "            gvars = tf.get_collection(tf.GraphKeys.GLOBAL_VARIABLES)\n",
        "        return {gvar.op.name: value for gvar, value in zip(gvars, self._session.run(gvars))}\n",
        "\n",
        "    def _restore_model_params(self, model_params):\n",
        "        \"\"\"Set all variables to the given values (for early stopping, faster than loading from disk)\"\"\"\n",
        "        gvar_names = list(model_params.keys())\n",
        "        assign_ops = {gvar_name: self._graph.get_operation_by_name(gvar_name + \"/Assign\")\n",
        "                      for gvar_name in gvar_names}\n",
        "        init_values = {gvar_name: assign_op.inputs[1] for gvar_name, assign_op in assign_ops.items()}\n",
        "        feed_dict = {init_values[gvar_name]: model_params[gvar_name] for gvar_name in gvar_names}\n",
        "        self._session.run(assign_ops, feed_dict=feed_dict)\n",
        "\n",
        "    def fit(self, X, y, n_epochs=100, X_valid=None, y_valid=None):\n",
        "        \"\"\"Fit the model to the training set. If X_valid and y_valid are provided, use early stopping.\"\"\"\n",
        "        self.close_session()\n",
        "\n",
        "        # infer n_inputs and n_outputs from the training set.\n",
        "        n_inputs = X.shape[1]\n",
        "        self.classes_ = np.unique(y)\n",
        "        n_outputs = len(self.classes_)\n",
        "        \n",
        "        # Translate the labels vector to a vector of sorted class indices, containing\n",
        "        # integers from 0 to n_outputs - 1.\n",
        "        # For example, if y is equal to [8, 8, 9, 5, 7, 6, 6, 6], then the sorted class\n",
        "        # labels (self.classes_) will be equal to [5, 6, 7, 8, 9], and the labels vector\n",
        "        # will be translated to [3, 3, 4, 0, 2, 1, 1, 1]\n",
        "        self.class_to_index_ = {label: index\n",
        "                                for index, label in enumerate(self.classes_)}\n",
        "        y = np.array([self.class_to_index_[label]\n",
        "                      for label in y], dtype=np.int32)\n",
        "        \n",
        "        self._graph = tf.Graph()\n",
        "        with self._graph.as_default():\n",
        "            self._build_graph(n_inputs, n_outputs)\n",
        "            # extra ops for batch normalization\n",
        "            extra_update_ops = tf.get_collection(tf.GraphKeys.UPDATE_OPS)\n",
        "\n",
        "        # needed in case of early stopping\n",
        "        max_checks_without_progress = 20\n",
        "        checks_without_progress = 0\n",
        "        best_loss = np.infty\n",
        "        best_params = None\n",
        "        \n",
        "        # Now train the model!\n",
        "        self._session = tf.Session(graph=self._graph)\n",
        "        with self._session.as_default() as sess:\n",
        "            self._init.run()\n",
        "            for epoch in range(n_epochs):\n",
        "                rnd_idx = np.random.permutation(len(X))\n",
        "                for rnd_indices in np.array_split(rnd_idx, len(X) // self.batch_size):\n",
        "                    X_batch, y_batch = X[rnd_indices], y[rnd_indices]\n",
        "                    feed_dict = {self._X: X_batch, self._y: y_batch}\n",
        "                    if self._training is not None:\n",
        "                        feed_dict[self._training] = True\n",
        "                    sess.run(self._training_op, feed_dict=feed_dict)\n",
        "                    if extra_update_ops:\n",
        "                        sess.run(extra_update_ops, feed_dict=feed_dict)\n",
        "                if X_valid is not None and y_valid is not None:\n",
        "                    loss_val, acc_val = sess.run([self._loss, self._accuracy],\n",
        "                                                 feed_dict={self._X: X_valid,\n",
        "                                                            self._y: y_valid})\n",
        "                    if loss_val < best_loss:\n",
        "                        best_params = self._get_model_params()\n",
        "                        best_loss = loss_val\n",
        "                        checks_without_progress = 0\n",
        "                    else:\n",
        "                        checks_without_progress += 1\n",
        "                    print(\"{}\\tValidation loss: {:.6f}\\tBest loss: {:.6f}\\tAccuracy: {:.2f}%\".format(\n",
        "                        epoch, loss_val, best_loss, acc_val * 100))\n",
        "                    if checks_without_progress > max_checks_without_progress:\n",
        "                        print(\"Early stopping!\")\n",
        "                        break\n",
        "                else:\n",
        "                    loss_train, acc_train = sess.run([self._loss, self._accuracy],\n",
        "                                                     feed_dict={self._X: X_batch,\n",
        "                                                                self._y: y_batch})\n",
        "                    print(\"{}\\tLast training batch loss: {:.6f}\\tAccuracy: {:.2f}%\".format(\n",
        "                        epoch, loss_train, acc_train * 100))\n",
        "            # If we used early stopping then rollback to the best model found\n",
        "            if best_params:\n",
        "                self._restore_model_params(best_params)\n",
        "            return self\n",
        "\n",
        "    def predict_proba(self, X):\n",
        "        if not self._session:\n",
        "            raise NotFittedError(\"This %s instance is not fitted yet\" % self.__class__.__name__)\n",
        "        with self._session.as_default() as sess:\n",
        "            return self._Y_proba.eval(feed_dict={self._X: X})\n",
        "\n",
        "    def predict(self, X):\n",
        "        class_indices = np.argmax(self.predict_proba(X), axis=1)\n",
        "        return np.array([[self.classes_[class_index]]\n",
        "                         for class_index in class_indices], np.int32)\n",
        "\n",
        "    def save(self, path):\n",
        "        self._saver.save(self._session, path)"
      ],
      "execution_count": null,
      "outputs": []
    },
    {
      "cell_type": "markdown",
      "metadata": {
        "id": "4f4ZZ_42273G",
        "colab_type": "text"
      },
      "source": [
        "Let's see if we get the exact same accuracy as earlier using this class (without dropout or batch norm):"
      ]
    },
    {
      "cell_type": "code",
      "metadata": {
        "id": "tnC13uZK273G",
        "colab_type": "code",
        "colab": {},
        "outputId": "dd1f949e-3315-481e-b512-8ce23a742a54"
      },
      "source": [
        "dnn_clf = DNNClassifier(random_state=42)\n",
        "dnn_clf.fit(X_train1, y_train1, n_epochs=1000, X_valid=X_valid1, y_valid=y_valid1)"
      ],
      "execution_count": null,
      "outputs": [
        {
          "output_type": "stream",
          "text": [
            "0\tValidation loss: 0.116407\tBest loss: 0.116407\tAccuracy: 97.58%\n",
            "1\tValidation loss: 0.180534\tBest loss: 0.116407\tAccuracy: 97.11%\n",
            "2\tValidation loss: 0.227535\tBest loss: 0.116407\tAccuracy: 93.86%\n",
            "3\tValidation loss: 0.107346\tBest loss: 0.107346\tAccuracy: 97.54%\n",
            "4\tValidation loss: 0.302668\tBest loss: 0.107346\tAccuracy: 95.35%\n",
            "5\tValidation loss: 1.631054\tBest loss: 0.107346\tAccuracy: 22.01%\n",
            "6\tValidation loss: 1.635262\tBest loss: 0.107346\tAccuracy: 18.73%\n",
            "7\tValidation loss: 1.671200\tBest loss: 0.107346\tAccuracy: 22.01%\n",
            "8\tValidation loss: 1.695277\tBest loss: 0.107346\tAccuracy: 19.27%\n",
            "9\tValidation loss: 1.744607\tBest loss: 0.107346\tAccuracy: 20.91%\n",
            "10\tValidation loss: 1.629857\tBest loss: 0.107346\tAccuracy: 22.01%\n",
            "11\tValidation loss: 1.810803\tBest loss: 0.107346\tAccuracy: 22.01%\n",
            "12\tValidation loss: 1.675703\tBest loss: 0.107346\tAccuracy: 18.73%\n",
            "13\tValidation loss: 1.633233\tBest loss: 0.107346\tAccuracy: 20.91%\n",
            "14\tValidation loss: 1.652905\tBest loss: 0.107346\tAccuracy: 20.91%\n",
            "15\tValidation loss: 1.635937\tBest loss: 0.107346\tAccuracy: 20.91%\n",
            "16\tValidation loss: 1.718919\tBest loss: 0.107346\tAccuracy: 19.08%\n",
            "17\tValidation loss: 1.682458\tBest loss: 0.107346\tAccuracy: 19.27%\n",
            "18\tValidation loss: 1.675366\tBest loss: 0.107346\tAccuracy: 18.73%\n",
            "19\tValidation loss: 1.645800\tBest loss: 0.107346\tAccuracy: 19.08%\n",
            "20\tValidation loss: 1.722334\tBest loss: 0.107346\tAccuracy: 22.01%\n",
            "21\tValidation loss: 1.656418\tBest loss: 0.107346\tAccuracy: 22.01%\n",
            "22\tValidation loss: 1.643529\tBest loss: 0.107346\tAccuracy: 18.73%\n",
            "23\tValidation loss: 1.644233\tBest loss: 0.107346\tAccuracy: 19.27%\n",
            "24\tValidation loss: 1.690035\tBest loss: 0.107346\tAccuracy: 18.73%\n",
            "Early stopping!\n"
          ],
          "name": "stdout"
        },
        {
          "output_type": "execute_result",
          "data": {
            "text/plain": [
              "DNNClassifier(activation=<function elu at 0x1243639d8>,\n",
              "       batch_norm_momentum=None, batch_size=20, dropout_rate=None,\n",
              "       initializer=<tensorflow.python.ops.init_ops.VarianceScaling object at 0x117bf5828>,\n",
              "       learning_rate=0.01, n_hidden_layers=5, n_neurons=100,\n",
              "       optimizer_class=<class 'tensorflow.python.training.adam.AdamOptimizer'>,\n",
              "       random_state=42)"
            ]
          },
          "metadata": {
            "tags": []
          },
          "execution_count": 120
        }
      ]
    },
    {
      "cell_type": "markdown",
      "metadata": {
        "id": "2negdg7N273I",
        "colab_type": "text"
      },
      "source": [
        "The model is trained, let's see if it gets the same accuracy as earlier:"
      ]
    },
    {
      "cell_type": "code",
      "metadata": {
        "id": "MJcTanGL273I",
        "colab_type": "code",
        "colab": {},
        "outputId": "87bbf864-290a-4ab2-d819-2fe9db7cc1cb"
      },
      "source": [
        "from sklearn.metrics import accuracy_score\n",
        "\n",
        "y_pred = dnn_clf.predict(X_test1)\n",
        "accuracy_score(y_test1, y_pred)"
      ],
      "execution_count": null,
      "outputs": [
        {
          "output_type": "execute_result",
          "data": {
            "text/plain": [
              "0.9725627553998832"
            ]
          },
          "metadata": {
            "tags": []
          },
          "execution_count": 121
        }
      ]
    },
    {
      "cell_type": "markdown",
      "metadata": {
        "id": "GuecimJr273L",
        "colab_type": "text"
      },
      "source": [
        "Yep! Working fine. Now we can use Scikit-Learn's `RandomizedSearchCV` class to search for better hyperparameters (this may take over an hour, depending on your system):"
      ]
    },
    {
      "cell_type": "code",
      "metadata": {
        "id": "GayvoO5n273L",
        "colab_type": "code",
        "colab": {},
        "outputId": "fc39d566-2da8-44c6-a485-e70608d39832"
      },
      "source": [
        "from sklearn.model_selection import RandomizedSearchCV\n",
        "\n",
        "def leaky_relu(alpha=0.01):\n",
        "    def parametrized_leaky_relu(z, name=None):\n",
        "        return tf.maximum(alpha * z, z, name=name)\n",
        "    return parametrized_leaky_relu\n",
        "\n",
        "param_distribs = {\n",
        "    \"n_neurons\": [10, 30, 50, 70, 90, 100, 120, 140, 160],\n",
        "    \"batch_size\": [10, 50, 100, 500],\n",
        "    \"learning_rate\": [0.01, 0.02, 0.05, 0.1],\n",
        "    \"activation\": [tf.nn.relu, tf.nn.elu, leaky_relu(alpha=0.01), leaky_relu(alpha=0.1)],\n",
        "    # you could also try exploring different numbers of hidden layers, different optimizers, etc.\n",
        "    #\"n_hidden_layers\": [0, 1, 2, 3, 4, 5, 6, 7, 8, 9, 10],\n",
        "    #\"optimizer_class\": [tf.train.AdamOptimizer, partial(tf.train.MomentumOptimizer, momentum=0.95)],\n",
        "}\n",
        "\n",
        "rnd_search = RandomizedSearchCV(DNNClassifier(random_state=42), param_distribs, n_iter=50,\n",
        "                                cv=3, random_state=42, verbose=2)\n",
        "rnd_search.fit(X_train1, y_train1, X_valid=X_valid1, y_valid=y_valid1, n_epochs=1000)\n",
        "\n",
        "# If you have Scikit-Learn 0.18 or earlier, you should upgrade, or use the fit_params argument:\n",
        "# fit_params = dict(X_valid=X_valid1, y_valid=y_valid1, n_epochs=1000)\n",
        "# rnd_search = RandomizedSearchCV(DNNClassifier(random_state=42), param_distribs, n_iter=50,\n",
        "#                                 fit_params=fit_params, random_state=42, verbose=2)\n",
        "# rnd_search.fit(X_train1, y_train1)\n"
      ],
      "execution_count": null,
      "outputs": [
        {
          "output_type": "stream",
          "text": [
            "Fitting 3 folds for each of 50 candidates, totalling 150 fits\n",
            "[CV] n_neurons=10, learning_rate=0.05, batch_size=100, activation=<function elu at 0x1243639d8> \n"
          ],
          "name": "stdout"
        },
        {
          "output_type": "stream",
          "text": [
            "[Parallel(n_jobs=1)]: Using backend SequentialBackend with 1 concurrent workers.\n"
          ],
          "name": "stderr"
        },
        {
          "output_type": "stream",
          "text": [
            "0\tValidation loss: 0.143224\tBest loss: 0.143224\tAccuracy: 95.82%\n",
            "1\tValidation loss: 0.143304\tBest loss: 0.143224\tAccuracy: 96.60%\n",
            "2\tValidation loss: 0.106488\tBest loss: 0.106488\tAccuracy: 96.95%\n",
            "3\tValidation loss: 0.307107\tBest loss: 0.106488\tAccuracy: 92.34%\n",
            "4\tValidation loss: 0.157948\tBest loss: 0.106488\tAccuracy: 95.50%\n",
            "5\tValidation loss: 0.131002\tBest loss: 0.106488\tAccuracy: 96.40%\n",
            "6\tValidation loss: 0.931847\tBest loss: 0.106488\tAccuracy: 58.29%\n",
            "7\tValidation loss: 0.872748\tBest loss: 0.106488\tAccuracy: 57.97%\n",
            "8\tValidation loss: 0.699336\tBest loss: 0.106488\tAccuracy: 58.29%\n",
            "9\tValidation loss: 0.853343\tBest loss: 0.106488\tAccuracy: 57.27%\n",
            "10\tValidation loss: 0.738493\tBest loss: 0.106488\tAccuracy: 59.19%\n",
            "11\tValidation loss: 0.670431\tBest loss: 0.106488\tAccuracy: 59.23%\n",
            "12\tValidation loss: 0.717334\tBest loss: 0.106488\tAccuracy: 59.11%\n",
            "13\tValidation loss: 0.718714\tBest loss: 0.106488\tAccuracy: 56.57%\n",
            "14\tValidation loss: 0.679313\tBest loss: 0.106488\tAccuracy: 59.07%\n",
            "15\tValidation loss: 0.732966\tBest loss: 0.106488\tAccuracy: 58.41%\n",
            "16\tValidation loss: 0.666333\tBest loss: 0.106488\tAccuracy: 60.48%\n",
            "17\tValidation loss: 0.677045\tBest loss: 0.106488\tAccuracy: 61.18%\n",
            "18\tValidation loss: 0.666103\tBest loss: 0.106488\tAccuracy: 59.97%\n",
            "19\tValidation loss: 0.710005\tBest loss: 0.106488\tAccuracy: 63.21%\n",
            "20\tValidation loss: 1.037921\tBest loss: 0.106488\tAccuracy: 64.03%\n",
            "21\tValidation loss: 1.626959\tBest loss: 0.106488\tAccuracy: 19.27%\n",
            "22\tValidation loss: 1.615710\tBest loss: 0.106488\tAccuracy: 18.73%\n",
            "23\tValidation loss: 1.609028\tBest loss: 0.106488\tAccuracy: 20.91%\n",
            "Early stopping!\n",
            "[CV]  n_neurons=10, learning_rate=0.05, batch_size=100, activation=<function elu at 0x1243639d8>, total=   4.7s\n",
            "[CV] n_neurons=10, learning_rate=0.05, batch_size=100, activation=<function elu at 0x1243639d8> \n"
          ],
          "name": "stdout"
        },
        {
          "output_type": "stream",
          "text": [
            "[Parallel(n_jobs=1)]: Done   1 out of   1 | elapsed:    4.8s remaining:    0.0s\n"
          ],
          "name": "stderr"
        },
        {
          "output_type": "stream",
          "text": [
            "0\tValidation loss: 0.137274\tBest loss: 0.137274\tAccuracy: 96.33%\n",
            "1\tValidation loss: 0.145733\tBest loss: 0.137274\tAccuracy: 95.97%\n",
            "2\tValidation loss: 0.171077\tBest loss: 0.137274\tAccuracy: 95.90%\n",
            "3\tValidation loss: 0.139310\tBest loss: 0.137274\tAccuracy: 96.79%\n",
            "<<5140 more lines>>\n",
            "51\tValidation loss: 0.400818\tBest loss: 0.265362\tAccuracy: 97.11%\n",
            "52\tValidation loss: 0.509595\tBest loss: 0.265362\tAccuracy: 96.99%\n",
            "Early stopping!\n",
            "[CV]  n_neurons=90, learning_rate=0.1, batch_size=500, activation=<function leaky_relu.<locals>.parametrized_leaky_relu at 0x13eb49f28>, total=  11.3s\n"
          ],
          "name": "stdout"
        },
        {
          "output_type": "stream",
          "text": [
            "[Parallel(n_jobs=1)]: Done 150 out of 150 | elapsed: 46.9min finished\n"
          ],
          "name": "stderr"
        },
        {
          "output_type": "stream",
          "text": [
            "0\tValidation loss: 0.069587\tBest loss: 0.069587\tAccuracy: 98.12%\n",
            "1\tValidation loss: 0.045462\tBest loss: 0.045462\tAccuracy: 98.48%\n",
            "2\tValidation loss: 0.046439\tBest loss: 0.045462\tAccuracy: 98.40%\n",
            "3\tValidation loss: 0.037278\tBest loss: 0.037278\tAccuracy: 98.59%\n",
            "4\tValidation loss: 0.039989\tBest loss: 0.037278\tAccuracy: 98.51%\n",
            "5\tValidation loss: 0.039621\tBest loss: 0.037278\tAccuracy: 98.79%\n",
            "6\tValidation loss: 0.035959\tBest loss: 0.035959\tAccuracy: 99.06%\n",
            "7\tValidation loss: 0.033321\tBest loss: 0.033321\tAccuracy: 99.06%\n",
            "8\tValidation loss: 0.044559\tBest loss: 0.033321\tAccuracy: 98.87%\n",
            "9\tValidation loss: 0.035999\tBest loss: 0.033321\tAccuracy: 99.10%\n",
            "10\tValidation loss: 0.042629\tBest loss: 0.033321\tAccuracy: 98.98%\n",
            "11\tValidation loss: 0.059839\tBest loss: 0.033321\tAccuracy: 98.71%\n",
            "12\tValidation loss: 0.044683\tBest loss: 0.033321\tAccuracy: 98.87%\n",
            "13\tValidation loss: 0.051294\tBest loss: 0.033321\tAccuracy: 98.75%\n",
            "14\tValidation loss: 0.050140\tBest loss: 0.033321\tAccuracy: 98.98%\n",
            "15\tValidation loss: 0.051109\tBest loss: 0.033321\tAccuracy: 98.79%\n",
            "16\tValidation loss: 0.072444\tBest loss: 0.033321\tAccuracy: 97.97%\n",
            "17\tValidation loss: 0.063308\tBest loss: 0.033321\tAccuracy: 98.71%\n",
            "18\tValidation loss: 0.051853\tBest loss: 0.033321\tAccuracy: 98.87%\n",
            "19\tValidation loss: 0.058982\tBest loss: 0.033321\tAccuracy: 98.91%\n",
            "20\tValidation loss: 0.046894\tBest loss: 0.033321\tAccuracy: 99.06%\n",
            "21\tValidation loss: 0.039036\tBest loss: 0.033321\tAccuracy: 99.02%\n",
            "22\tValidation loss: 0.057221\tBest loss: 0.033321\tAccuracy: 98.32%\n",
            "23\tValidation loss: 0.054618\tBest loss: 0.033321\tAccuracy: 98.75%\n",
            "24\tValidation loss: 0.039252\tBest loss: 0.033321\tAccuracy: 99.14%\n",
            "25\tValidation loss: 0.111809\tBest loss: 0.033321\tAccuracy: 98.05%\n",
            "26\tValidation loss: 0.060662\tBest loss: 0.033321\tAccuracy: 98.98%\n",
            "27\tValidation loss: 0.073774\tBest loss: 0.033321\tAccuracy: 99.02%\n",
            "28\tValidation loss: 0.048667\tBest loss: 0.033321\tAccuracy: 99.18%\n",
            "Early stopping!\n"
          ],
          "name": "stdout"
        },
        {
          "output_type": "execute_result",
          "data": {
            "text/plain": [
              "RandomizedSearchCV(cv='warn', error_score='raise-deprecating',\n",
              "          estimator=DNNClassifier(activation=<function elu at 0x1243639d8>,\n",
              "       batch_norm_momentum=None, batch_size=20, dropout_rate=None,\n",
              "       initializer=<tensorflow.python.ops.init_ops.VarianceScaling object at 0x117bf5828>,\n",
              "       learning_rate=0.01, n_hidden_layers=5, n_neurons=100,\n",
              "       optimizer_class=<class 'tensorflow.python.training.adam.AdamOptimizer'>,\n",
              "       random_state=42),\n",
              "          fit_params=None, iid='warn', n_iter=50, n_jobs=None,\n",
              "          param_distributions={'n_neurons': [10, 30, 50, 70, 90, 100, 120, 140, 160], 'batch_size': [10, 50, 100, 500], 'learning_rate': [0.01, 0.02, 0.05, 0.1], 'activation': [<function relu at 0x124366d08>, <function elu at 0x1243639d8>, <function leaky_relu.<locals>.parametrized_leaky_relu at 0x133807c80>, <function leaky_relu.<locals>.parametrized_leaky_relu at 0x13eb49f28>]},\n",
              "          pre_dispatch='2*n_jobs', random_state=42, refit=True,\n",
              "          return_train_score='warn', scoring=None, verbose=2)"
            ]
          },
          "metadata": {
            "tags": []
          },
          "execution_count": 122
        }
      ]
    },
    {
      "cell_type": "code",
      "metadata": {
        "id": "JZoAqP62273M",
        "colab_type": "code",
        "colab": {},
        "outputId": "00bb5c17-173e-4a27-e8f2-ac64616abef8"
      },
      "source": [
        "rnd_search.best_params_"
      ],
      "execution_count": null,
      "outputs": [
        {
          "output_type": "execute_result",
          "data": {
            "text/plain": [
              "{'n_neurons': 90,\n",
              " 'learning_rate': 0.01,\n",
              " 'batch_size': 500,\n",
              " 'activation': <function __main__.leaky_relu.<locals>.parametrized_leaky_relu(z, name=None)>}"
            ]
          },
          "metadata": {
            "tags": []
          },
          "execution_count": 123
        }
      ]
    },
    {
      "cell_type": "code",
      "metadata": {
        "id": "uyq4hdmN273O",
        "colab_type": "code",
        "colab": {},
        "outputId": "fe25a8a1-3d43-47e6-ffa3-014957c1c7d8"
      },
      "source": [
        "y_pred = rnd_search.predict(X_test1)\n",
        "accuracy_score(y_test1, y_pred)"
      ],
      "execution_count": null,
      "outputs": [
        {
          "output_type": "execute_result",
          "data": {
            "text/plain": [
              "0.9891029383148473"
            ]
          },
          "metadata": {
            "tags": []
          },
          "execution_count": 124
        }
      ]
    },
    {
      "cell_type": "markdown",
      "metadata": {
        "id": "zW1mknOW273P",
        "colab_type": "text"
      },
      "source": [
        "Wonderful! Tuning the hyperparameters got us up to 98.91% accuracy! It may not sound like a great improvement to go from 97.26% to 98.91% accuracy, but consider the error rate: it went from roughly 2.6% to 1.1%. That's almost 60% reduction of the number of errors this model will produce!"
      ]
    },
    {
      "cell_type": "markdown",
      "metadata": {
        "id": "-Mrh4pP1273P",
        "colab_type": "text"
      },
      "source": [
        "It's a good idea to save this model:"
      ]
    },
    {
      "cell_type": "code",
      "metadata": {
        "id": "Q7e7s48d273P",
        "colab_type": "code",
        "colab": {}
      },
      "source": [
        "rnd_search.best_estimator_.save(\"./my_best_mnist_model_0_to_4\")"
      ],
      "execution_count": null,
      "outputs": []
    },
    {
      "cell_type": "markdown",
      "metadata": {
        "id": "awBpENw3273Q",
        "colab_type": "text"
      },
      "source": [
        "### 8.4."
      ]
    },
    {
      "cell_type": "markdown",
      "metadata": {
        "id": "-KysYSY2273R",
        "colab_type": "text"
      },
      "source": [
        "_Exercise: Now try adding Batch Normalization and compare the learning curves: is it converging faster than before? Does it produce a better model?_"
      ]
    },
    {
      "cell_type": "markdown",
      "metadata": {
        "id": "F2vLy1-J273R",
        "colab_type": "text"
      },
      "source": [
        "Let's train the best model found, once again, to see how fast it converges (alternatively, you could tweak the code above to make it write summaries for TensorBoard, so you can visualize the learning curve):"
      ]
    },
    {
      "cell_type": "code",
      "metadata": {
        "id": "YKMDQ1kM273S",
        "colab_type": "code",
        "colab": {},
        "outputId": "609d230c-2dae-4cd3-9c2c-c330cad14dab"
      },
      "source": [
        "dnn_clf = DNNClassifier(activation=leaky_relu(alpha=0.1), batch_size=500, learning_rate=0.01,\n",
        "                        n_neurons=140, random_state=42)\n",
        "dnn_clf.fit(X_train1, y_train1, n_epochs=1000, X_valid=X_valid1, y_valid=y_valid1)"
      ],
      "execution_count": null,
      "outputs": [
        {
          "output_type": "stream",
          "text": [
            "0\tValidation loss: 0.083541\tBest loss: 0.083541\tAccuracy: 97.54%\n",
            "1\tValidation loss: 0.052198\tBest loss: 0.052198\tAccuracy: 98.40%\n",
            "2\tValidation loss: 0.044553\tBest loss: 0.044553\tAccuracy: 98.71%\n",
            "3\tValidation loss: 0.051113\tBest loss: 0.044553\tAccuracy: 98.48%\n",
            "4\tValidation loss: 0.046304\tBest loss: 0.044553\tAccuracy: 98.75%\n",
            "5\tValidation loss: 0.037796\tBest loss: 0.037796\tAccuracy: 98.91%\n",
            "6\tValidation loss: 0.048525\tBest loss: 0.037796\tAccuracy: 98.67%\n",
            "7\tValidation loss: 0.039877\tBest loss: 0.037796\tAccuracy: 98.75%\n",
            "8\tValidation loss: 0.038729\tBest loss: 0.037796\tAccuracy: 98.98%\n",
            "9\tValidation loss: 0.064167\tBest loss: 0.037796\tAccuracy: 98.24%\n",
            "10\tValidation loss: 0.057274\tBest loss: 0.037796\tAccuracy: 98.79%\n",
            "11\tValidation loss: 0.064388\tBest loss: 0.037796\tAccuracy: 98.55%\n",
            "12\tValidation loss: 0.056382\tBest loss: 0.037796\tAccuracy: 98.63%\n",
            "13\tValidation loss: 0.049408\tBest loss: 0.037796\tAccuracy: 98.91%\n",
            "14\tValidation loss: 0.038494\tBest loss: 0.037796\tAccuracy: 99.10%\n",
            "15\tValidation loss: 0.064619\tBest loss: 0.037796\tAccuracy: 98.67%\n",
            "16\tValidation loss: 0.055027\tBest loss: 0.037796\tAccuracy: 98.91%\n",
            "17\tValidation loss: 0.054773\tBest loss: 0.037796\tAccuracy: 98.91%\n",
            "18\tValidation loss: 0.076131\tBest loss: 0.037796\tAccuracy: 98.71%\n",
            "19\tValidation loss: 0.063031\tBest loss: 0.037796\tAccuracy: 98.59%\n",
            "20\tValidation loss: 0.120501\tBest loss: 0.037796\tAccuracy: 98.55%\n",
            "21\tValidation loss: 3.922006\tBest loss: 0.037796\tAccuracy: 94.14%\n",
            "22\tValidation loss: 0.395737\tBest loss: 0.037796\tAccuracy: 96.83%\n",
            "23\tValidation loss: 0.237014\tBest loss: 0.037796\tAccuracy: 96.56%\n",
            "24\tValidation loss: 0.159249\tBest loss: 0.037796\tAccuracy: 97.07%\n",
            "25\tValidation loss: 0.228444\tBest loss: 0.037796\tAccuracy: 95.74%\n",
            "26\tValidation loss: 0.134490\tBest loss: 0.037796\tAccuracy: 96.99%\n",
            "Early stopping!\n"
          ],
          "name": "stdout"
        },
        {
          "output_type": "execute_result",
          "data": {
            "text/plain": [
              "DNNClassifier(activation=<function leaky_relu.<locals>.parametrized_leaky_relu at 0x13e25ea60>,\n",
              "       batch_norm_momentum=None, batch_size=500, dropout_rate=None,\n",
              "       initializer=<tensorflow.python.ops.init_ops.VarianceScaling object at 0x117bf5828>,\n",
              "       learning_rate=0.01, n_hidden_layers=5, n_neurons=140,\n",
              "       optimizer_class=<class 'tensorflow.python.training.adam.AdamOptimizer'>,\n",
              "       random_state=42)"
            ]
          },
          "metadata": {
            "tags": []
          },
          "execution_count": 126
        }
      ]
    },
    {
      "cell_type": "markdown",
      "metadata": {
        "id": "PNk4XmhD273T",
        "colab_type": "text"
      },
      "source": [
        "The best loss is reached at epoch 5."
      ]
    },
    {
      "cell_type": "markdown",
      "metadata": {
        "id": "QtFVxjIG273T",
        "colab_type": "text"
      },
      "source": [
        "Let's check that we do indeed get 98.9% accuracy on the test set:"
      ]
    },
    {
      "cell_type": "code",
      "metadata": {
        "id": "50sv7qqe273T",
        "colab_type": "code",
        "colab": {},
        "outputId": "8c029b5f-bd00-49c2-8149-282acf69b0e7"
      },
      "source": [
        "y_pred = dnn_clf.predict(X_test1)\n",
        "accuracy_score(y_test1, y_pred)"
      ],
      "execution_count": null,
      "outputs": [
        {
          "output_type": "execute_result",
          "data": {
            "text/plain": [
              "0.9898812998637867"
            ]
          },
          "metadata": {
            "tags": []
          },
          "execution_count": 127
        }
      ]
    },
    {
      "cell_type": "markdown",
      "metadata": {
        "id": "oAhJcrIc273V",
        "colab_type": "text"
      },
      "source": [
        "Good, now let's use the exact same model, but this time with batch normalization:"
      ]
    },
    {
      "cell_type": "code",
      "metadata": {
        "id": "gQZokQrY273V",
        "colab_type": "code",
        "colab": {},
        "outputId": "3e94cbc1-10a4-45b7-cc5b-c1b3d61d8e55"
      },
      "source": [
        "dnn_clf_bn = DNNClassifier(activation=leaky_relu(alpha=0.1), batch_size=500, learning_rate=0.01,\n",
        "                           n_neurons=90, random_state=42,\n",
        "                           batch_norm_momentum=0.95)\n",
        "dnn_clf_bn.fit(X_train1, y_train1, n_epochs=1000, X_valid=X_valid1, y_valid=y_valid1)"
      ],
      "execution_count": null,
      "outputs": [
        {
          "output_type": "stream",
          "text": [
            "0\tValidation loss: 0.046685\tBest loss: 0.046685\tAccuracy: 98.63%\n",
            "1\tValidation loss: 0.040820\tBest loss: 0.040820\tAccuracy: 98.79%\n",
            "2\tValidation loss: 0.046557\tBest loss: 0.040820\tAccuracy: 98.67%\n",
            "3\tValidation loss: 0.032236\tBest loss: 0.032236\tAccuracy: 98.94%\n",
            "4\tValidation loss: 0.056148\tBest loss: 0.032236\tAccuracy: 98.44%\n",
            "5\tValidation loss: 0.035988\tBest loss: 0.032236\tAccuracy: 98.98%\n",
            "6\tValidation loss: 0.037958\tBest loss: 0.032236\tAccuracy: 98.94%\n",
            "7\tValidation loss: 0.034588\tBest loss: 0.032236\tAccuracy: 99.02%\n",
            "8\tValidation loss: 0.031261\tBest loss: 0.031261\tAccuracy: 99.34%\n",
            "9\tValidation loss: 0.050791\tBest loss: 0.031261\tAccuracy: 98.79%\n",
            "10\tValidation loss: 0.035324\tBest loss: 0.031261\tAccuracy: 99.02%\n",
            "11\tValidation loss: 0.039875\tBest loss: 0.031261\tAccuracy: 98.98%\n",
            "12\tValidation loss: 0.048575\tBest loss: 0.031261\tAccuracy: 98.94%\n",
            "13\tValidation loss: 0.028059\tBest loss: 0.028059\tAccuracy: 99.18%\n",
            "14\tValidation loss: 0.044112\tBest loss: 0.028059\tAccuracy: 99.14%\n",
            "15\tValidation loss: 0.039050\tBest loss: 0.028059\tAccuracy: 99.22%\n",
            "16\tValidation loss: 0.033278\tBest loss: 0.028059\tAccuracy: 99.14%\n",
            "17\tValidation loss: 0.031734\tBest loss: 0.028059\tAccuracy: 99.18%\n",
            "18\tValidation loss: 0.034500\tBest loss: 0.028059\tAccuracy: 99.14%\n",
            "19\tValidation loss: 0.032757\tBest loss: 0.028059\tAccuracy: 99.26%\n",
            "20\tValidation loss: 0.023842\tBest loss: 0.023842\tAccuracy: 99.53%\n",
            "21\tValidation loss: 0.026727\tBest loss: 0.023842\tAccuracy: 99.41%\n",
            "22\tValidation loss: 0.027016\tBest loss: 0.023842\tAccuracy: 99.41%\n",
            "23\tValidation loss: 0.033038\tBest loss: 0.023842\tAccuracy: 99.34%\n",
            "24\tValidation loss: 0.035490\tBest loss: 0.023842\tAccuracy: 99.18%\n",
            "25\tValidation loss: 0.060346\tBest loss: 0.023842\tAccuracy: 98.75%\n",
            "26\tValidation loss: 0.051341\tBest loss: 0.023842\tAccuracy: 99.26%\n",
            "27\tValidation loss: 0.033108\tBest loss: 0.023842\tAccuracy: 99.26%\n",
            "28\tValidation loss: 0.042162\tBest loss: 0.023842\tAccuracy: 99.18%\n",
            "29\tValidation loss: 0.036313\tBest loss: 0.023842\tAccuracy: 99.26%\n",
            "30\tValidation loss: 0.033812\tBest loss: 0.023842\tAccuracy: 99.26%\n",
            "31\tValidation loss: 0.038173\tBest loss: 0.023842\tAccuracy: 99.26%\n",
            "32\tValidation loss: 0.029853\tBest loss: 0.023842\tAccuracy: 99.37%\n",
            "33\tValidation loss: 0.026557\tBest loss: 0.023842\tAccuracy: 99.37%\n",
            "34\tValidation loss: 0.035003\tBest loss: 0.023842\tAccuracy: 99.37%\n",
            "35\tValidation loss: 0.027140\tBest loss: 0.023842\tAccuracy: 99.34%\n",
            "36\tValidation loss: 0.038988\tBest loss: 0.023842\tAccuracy: 99.34%\n",
            "37\tValidation loss: 0.048149\tBest loss: 0.023842\tAccuracy: 98.98%\n",
            "38\tValidation loss: 0.049070\tBest loss: 0.023842\tAccuracy: 99.02%\n",
            "39\tValidation loss: 0.041233\tBest loss: 0.023842\tAccuracy: 99.26%\n",
            "40\tValidation loss: 0.038571\tBest loss: 0.023842\tAccuracy: 99.26%\n",
            "41\tValidation loss: 0.036886\tBest loss: 0.023842\tAccuracy: 99.34%\n",
            "Early stopping!\n"
          ],
          "name": "stdout"
        },
        {
          "output_type": "execute_result",
          "data": {
            "text/plain": [
              "DNNClassifier(activation=<function leaky_relu.<locals>.parametrized_leaky_relu at 0x14030a378>,\n",
              "       batch_norm_momentum=0.95, batch_size=500, dropout_rate=None,\n",
              "       initializer=<tensorflow.python.ops.init_ops.VarianceScaling object at 0x117bf5828>,\n",
              "       learning_rate=0.01, n_hidden_layers=5, n_neurons=90,\n",
              "       optimizer_class=<class 'tensorflow.python.training.adam.AdamOptimizer'>,\n",
              "       random_state=42)"
            ]
          },
          "metadata": {
            "tags": []
          },
          "execution_count": 128
        }
      ]
    },
    {
      "cell_type": "markdown",
      "metadata": {
        "id": "KBZCUT72273W",
        "colab_type": "text"
      },
      "source": [
        "The best params are reached during epoch 20, that's actually a slower convergence than earlier. Let's check the accuracy:"
      ]
    },
    {
      "cell_type": "code",
      "metadata": {
        "id": "2wilz2p0273W",
        "colab_type": "code",
        "colab": {},
        "outputId": "b70aa808-a662-47c9-8809-fc9cd5d74d71"
      },
      "source": [
        "y_pred = dnn_clf_bn.predict(X_test1)\n",
        "accuracy_score(y_test1, y_pred)"
      ],
      "execution_count": null,
      "outputs": [
        {
          "output_type": "execute_result",
          "data": {
            "text/plain": [
              "0.9941622883829538"
            ]
          },
          "metadata": {
            "tags": []
          },
          "execution_count": 129
        }
      ]
    },
    {
      "cell_type": "markdown",
      "metadata": {
        "id": "_vS7YGpj273X",
        "colab_type": "text"
      },
      "source": [
        "Great, batch normalization improved accuracy! Let's see if we can find a good set of hyperparameters that will work even better with batch normalization:"
      ]
    },
    {
      "cell_type": "code",
      "metadata": {
        "id": "TeNrTIkF273X",
        "colab_type": "code",
        "colab": {},
        "outputId": "30592c26-4651-407d-af7c-540b3753d9fe"
      },
      "source": [
        "from sklearn.model_selection import RandomizedSearchCV\n",
        "\n",
        "param_distribs = {\n",
        "    \"n_neurons\": [10, 30, 50, 70, 90, 100, 120, 140, 160],\n",
        "    \"batch_size\": [10, 50, 100, 500],\n",
        "    \"learning_rate\": [0.01, 0.02, 0.05, 0.1],\n",
        "    \"activation\": [tf.nn.relu, tf.nn.elu, leaky_relu(alpha=0.01), leaky_relu(alpha=0.1)],\n",
        "    # you could also try exploring different numbers of hidden layers, different optimizers, etc.\n",
        "    #\"n_hidden_layers\": [0, 1, 2, 3, 4, 5, 6, 7, 8, 9, 10],\n",
        "    #\"optimizer_class\": [tf.train.AdamOptimizer, partial(tf.train.MomentumOptimizer, momentum=0.95)],\n",
        "    \"batch_norm_momentum\": [0.9, 0.95, 0.98, 0.99, 0.999],\n",
        "}\n",
        "\n",
        "rnd_search_bn = RandomizedSearchCV(DNNClassifier(random_state=42), param_distribs, n_iter=50, cv=3,\n",
        "                                   random_state=42, verbose=2)\n",
        "rnd_search_bn.fit(X_train1, y_train1, X_valid=X_valid1, y_valid=y_valid1, n_epochs=1000)\n",
        "\n",
        "# If you have Scikit-Learn 0.18 or earlier, you should upgrade, or use the fit_params argument:\n",
        "# fit_params = dict(X_valid=X_valid1, y_valid=y_valid1, n_epochs=1000)\n",
        "# rnd_search_bn = RandomizedSearchCV(DNNClassifier(random_state=42), param_distribs, n_iter=50,\n",
        "#                                    fit_params=fit_params, random_state=42, verbose=2)\n",
        "# rnd_search_bn.fit(X_train1, y_train1)\n"
      ],
      "execution_count": null,
      "outputs": [
        {
          "output_type": "stream",
          "text": [
            "Fitting 3 folds for each of 50 candidates, totalling 150 fits\n",
            "[CV] n_neurons=70, learning_rate=0.01, batch_size=50, batch_norm_momentum=0.99, activation=<function relu at 0x124366d08> \n"
          ],
          "name": "stdout"
        },
        {
          "output_type": "stream",
          "text": [
            "[Parallel(n_jobs=1)]: Using backend SequentialBackend with 1 concurrent workers.\n"
          ],
          "name": "stderr"
        },
        {
          "output_type": "stream",
          "text": [
            "0\tValidation loss: 0.098522\tBest loss: 0.098522\tAccuracy: 97.81%\n",
            "1\tValidation loss: 0.080233\tBest loss: 0.080233\tAccuracy: 98.08%\n",
            "2\tValidation loss: 0.068767\tBest loss: 0.068767\tAccuracy: 98.01%\n",
            "3\tValidation loss: 0.057095\tBest loss: 0.057095\tAccuracy: 98.28%\n",
            "4\tValidation loss: 0.067008\tBest loss: 0.057095\tAccuracy: 98.12%\n",
            "5\tValidation loss: 0.058910\tBest loss: 0.057095\tAccuracy: 98.55%\n",
            "6\tValidation loss: 0.038421\tBest loss: 0.038421\tAccuracy: 98.91%\n",
            "7\tValidation loss: 0.071075\tBest loss: 0.038421\tAccuracy: 98.36%\n",
            "8\tValidation loss: 0.063073\tBest loss: 0.038421\tAccuracy: 98.28%\n",
            "9\tValidation loss: 0.057488\tBest loss: 0.038421\tAccuracy: 98.75%\n",
            "10\tValidation loss: 0.049557\tBest loss: 0.038421\tAccuracy: 98.75%\n",
            "11\tValidation loss: 0.039810\tBest loss: 0.038421\tAccuracy: 99.06%\n",
            "12\tValidation loss: 0.061837\tBest loss: 0.038421\tAccuracy: 98.55%\n",
            "13\tValidation loss: 0.062008\tBest loss: 0.038421\tAccuracy: 98.51%\n",
            "14\tValidation loss: 0.075937\tBest loss: 0.038421\tAccuracy: 98.44%\n",
            "15\tValidation loss: 0.053910\tBest loss: 0.038421\tAccuracy: 98.71%\n",
            "16\tValidation loss: 0.051419\tBest loss: 0.038421\tAccuracy: 98.94%\n",
            "17\tValidation loss: 0.049013\tBest loss: 0.038421\tAccuracy: 98.98%\n",
            "18\tValidation loss: 0.048979\tBest loss: 0.038421\tAccuracy: 99.10%\n",
            "19\tValidation loss: 0.058969\tBest loss: 0.038421\tAccuracy: 98.59%\n",
            "20\tValidation loss: 0.060048\tBest loss: 0.038421\tAccuracy: 98.79%\n",
            "21\tValidation loss: 0.088256\tBest loss: 0.038421\tAccuracy: 98.32%\n",
            "22\tValidation loss: 0.055535\tBest loss: 0.038421\tAccuracy: 98.59%\n",
            "23\tValidation loss: 0.054632\tBest loss: 0.038421\tAccuracy: 98.94%\n",
            "24\tValidation loss: 0.092021\tBest loss: 0.038421\tAccuracy: 98.20%\n",
            "25\tValidation loss: 0.042263\tBest loss: 0.038421\tAccuracy: 99.02%\n",
            "26\tValidation loss: 0.041139\tBest loss: 0.038421\tAccuracy: 99.30%\n",
            "27\tValidation loss: 0.054255\tBest loss: 0.038421\tAccuracy: 99.06%\n",
            "Early stopping!\n",
            "[CV]  n_neurons=70, learning_rate=0.01, batch_size=50, batch_norm_momentum=0.99, activation=<function relu at 0x124366d08>, total=  39.0s\n",
            "[CV] n_neurons=70, learning_rate=0.01, batch_size=50, batch_norm_momentum=0.99, activation=<function relu at 0x124366d08> \n"
          ],
          "name": "stdout"
        },
        {
          "output_type": "stream",
          "text": [
            "[Parallel(n_jobs=1)]: Done   1 out of   1 | elapsed:   39.1s remaining:    0.0s\n"
          ],
          "name": "stderr"
        },
        {
          "output_type": "stream",
          "text": [
            "<<7081 more lines>>\n",
            "36\tValidation loss: 0.032222\tBest loss: 0.021774\tAccuracy: 99.14%\n",
            "37\tValidation loss: 0.025638\tBest loss: 0.021774\tAccuracy: 99.34%\n",
            "38\tValidation loss: 0.031702\tBest loss: 0.021774\tAccuracy: 99.02%\n",
            "39\tValidation loss: 0.027012\tBest loss: 0.021774\tAccuracy: 99.30%\n",
            "40\tValidation loss: 0.027163\tBest loss: 0.021774\tAccuracy: 99.30%\n",
            "41\tValidation loss: 0.029205\tBest loss: 0.021774\tAccuracy: 99.26%\n",
            "42\tValidation loss: 0.024973\tBest loss: 0.021774\tAccuracy: 99.41%\n",
            "43\tValidation loss: 0.036898\tBest loss: 0.021774\tAccuracy: 98.94%\n",
            "44\tValidation loss: 0.040366\tBest loss: 0.021774\tAccuracy: 99.14%\n",
            "45\tValidation loss: 0.033711\tBest loss: 0.021774\tAccuracy: 99.02%\n",
            "46\tValidation loss: 0.046615\tBest loss: 0.021774\tAccuracy: 98.79%\n",
            "47\tValidation loss: 0.032732\tBest loss: 0.021774\tAccuracy: 99.26%\n",
            "48\tValidation loss: 0.020177\tBest loss: 0.020177\tAccuracy: 99.45%\n",
            "49\tValidation loss: 0.031700\tBest loss: 0.020177\tAccuracy: 99.37%\n",
            "50\tValidation loss: 0.035962\tBest loss: 0.020177\tAccuracy: 99.14%\n",
            "51\tValidation loss: 0.031128\tBest loss: 0.020177\tAccuracy: 99.18%\n",
            "52\tValidation loss: 0.038107\tBest loss: 0.020177\tAccuracy: 99.14%\n",
            "53\tValidation loss: 0.036671\tBest loss: 0.020177\tAccuracy: 99.18%\n",
            "54\tValidation loss: 0.029867\tBest loss: 0.020177\tAccuracy: 99.30%\n",
            "55\tValidation loss: 0.039179\tBest loss: 0.020177\tAccuracy: 99.10%\n",
            "56\tValidation loss: 0.028410\tBest loss: 0.020177\tAccuracy: 99.10%\n",
            "57\tValidation loss: 0.037625\tBest loss: 0.020177\tAccuracy: 99.06%\n",
            "58\tValidation loss: 0.035516\tBest loss: 0.020177\tAccuracy: 99.22%\n",
            "59\tValidation loss: 0.030096\tBest loss: 0.020177\tAccuracy: 99.37%\n",
            "60\tValidation loss: 0.032056\tBest loss: 0.020177\tAccuracy: 99.22%\n",
            "61\tValidation loss: 0.026143\tBest loss: 0.020177\tAccuracy: 99.37%\n",
            "62\tValidation loss: 0.022387\tBest loss: 0.020177\tAccuracy: 99.45%\n",
            "63\tValidation loss: 0.026331\tBest loss: 0.020177\tAccuracy: 99.41%\n",
            "64\tValidation loss: 0.034930\tBest loss: 0.020177\tAccuracy: 99.10%\n",
            "65\tValidation loss: 0.029928\tBest loss: 0.020177\tAccuracy: 99.30%\n",
            "66\tValidation loss: 0.028943\tBest loss: 0.020177\tAccuracy: 99.30%\n",
            "67\tValidation loss: 0.034912\tBest loss: 0.020177\tAccuracy: 99.18%\n",
            "68\tValidation loss: 0.037118\tBest loss: 0.020177\tAccuracy: 99.18%\n",
            "69\tValidation loss: 0.034165\tBest loss: 0.020177\tAccuracy: 99.37%\n",
            "Early stopping!\n"
          ],
          "name": "stdout"
        },
        {
          "output_type": "execute_result",
          "data": {
            "text/plain": [
              "RandomizedSearchCV(cv='warn', error_score='raise-deprecating',\n",
              "          estimator=DNNClassifier(activation=<function elu at 0x1243639d8>,\n",
              "       batch_norm_momentum=None, batch_size=20, dropout_rate=None,\n",
              "       initializer=<tensorflow.python.ops.init_ops.VarianceScaling object at 0x117bf5828>,\n",
              "       learning_rate=0.01, n_hidden_layers=5, n_neurons=100,\n",
              "       optimizer_class=<class 'tensorflow.python.training.adam.AdamOptimizer'>,\n",
              "       random_state=42),\n",
              "          fit_params={'X_valid': array([[0., 0., ..., 0., 0.],\n",
              "       [0., 0., ..., 0., 0.],\n",
              "       ...,\n",
              "       [0., 0., ..., 0., 0.],\n",
              "       [0., 0., ..., 0., 0.]], dtype=float32), 'y_valid': array([0, 4, ..., 1, 2], dtype=int32), 'n_epochs': 1000},\n",
              "          iid='warn', n_iter=50, n_jobs=None,\n",
              "          param_distributions={'n_neurons': [10, 30, 50, 70, 90, 100, 120, 140, 160], 'batch_size': [10, 50, 100, 500], 'learning_rate': [0.01, 0.02, 0.05, 0.1], 'activation': [<function relu at 0x124366d08>, <function elu at 0x1243639d8>, <function leaky_relu.<locals>.parametrized_leaky_relu at 0x1500bd2f0>, <function leaky_relu.<locals>.parametrized_leaky_relu at 0x1500bd378>], 'batch_norm_momentum': [0.9, 0.95, 0.98, 0.99, 0.999]},\n",
              "          pre_dispatch='2*n_jobs', random_state=42, refit=True,\n",
              "          return_train_score='warn', scoring=None, verbose=2)"
            ]
          },
          "metadata": {
            "tags": []
          },
          "execution_count": 130
        }
      ]
    },
    {
      "cell_type": "code",
      "metadata": {
        "id": "jhZSIJlA273Y",
        "colab_type": "code",
        "colab": {},
        "outputId": "0b12c07f-e606-4716-9a29-2724b1507b83"
      },
      "source": [
        "rnd_search_bn.best_params_"
      ],
      "execution_count": null,
      "outputs": [
        {
          "output_type": "execute_result",
          "data": {
            "text/plain": [
              "{'n_neurons': 160,\n",
              " 'learning_rate': 0.01,\n",
              " 'batch_size': 10,\n",
              " 'batch_norm_momentum': 0.98,\n",
              " 'activation': <function tensorflow.python.ops.gen_nn_ops.relu(features, name=None)>}"
            ]
          },
          "metadata": {
            "tags": []
          },
          "execution_count": 131
        }
      ]
    },
    {
      "cell_type": "code",
      "metadata": {
        "id": "KeNMAqDf273a",
        "colab_type": "code",
        "colab": {},
        "outputId": "307be1b7-bc71-47d2-c67f-81019ea7da8e"
      },
      "source": [
        "y_pred = rnd_search_bn.predict(X_test1)\n",
        "accuracy_score(y_test1, y_pred)"
      ],
      "execution_count": null,
      "outputs": [
        {
          "output_type": "execute_result",
          "data": {
            "text/plain": [
              "0.9949406499318934"
            ]
          },
          "metadata": {
            "tags": []
          },
          "execution_count": 132
        }
      ]
    },
    {
      "cell_type": "markdown",
      "metadata": {
        "id": "zEUO1Yxw273c",
        "colab_type": "text"
      },
      "source": [
        "Slightly better than earlier: 99.49% vs 99.42%. Let's see if dropout can do better."
      ]
    },
    {
      "cell_type": "markdown",
      "metadata": {
        "id": "cPwjMRnj273c",
        "colab_type": "text"
      },
      "source": [
        "### 8.5."
      ]
    },
    {
      "cell_type": "markdown",
      "metadata": {
        "id": "nccO_5qg273c",
        "colab_type": "text"
      },
      "source": [
        "_Exercise: is the model overfitting the training set? Try adding dropout to every layer and try again. Does it help?_"
      ]
    },
    {
      "cell_type": "markdown",
      "metadata": {
        "id": "ArLv4zO2273d",
        "colab_type": "text"
      },
      "source": [
        "Let's go back to the model we trained earlier and see how it performs on the training set:"
      ]
    },
    {
      "cell_type": "code",
      "metadata": {
        "id": "eqK_JIzd273e",
        "colab_type": "code",
        "colab": {},
        "outputId": "3cf948c1-6acf-40ee-d0e4-cc27f8efceb5"
      },
      "source": [
        "y_pred = dnn_clf.predict(X_train1)\n",
        "accuracy_score(y_train1, y_pred)"
      ],
      "execution_count": null,
      "outputs": [
        {
          "output_type": "execute_result",
          "data": {
            "text/plain": [
              "0.9950781082816178"
            ]
          },
          "metadata": {
            "tags": []
          },
          "execution_count": 133
        }
      ]
    },
    {
      "cell_type": "markdown",
      "metadata": {
        "id": "0BZ4BkIL273f",
        "colab_type": "text"
      },
      "source": [
        "The model performs significantly better on the training set than on the test set (99.51% vs 99.00%), which means it is overfitting the training set. A bit of regularization may help. Let's try adding dropout with a 50% dropout rate:"
      ]
    },
    {
      "cell_type": "code",
      "metadata": {
        "id": "Fj2JRG0Q273f",
        "colab_type": "code",
        "colab": {},
        "outputId": "baf4b993-0c64-4a2a-843e-6c4bd51674ab"
      },
      "source": [
        "dnn_clf_dropout = DNNClassifier(activation=leaky_relu(alpha=0.1), batch_size=500, learning_rate=0.01,\n",
        "                                n_neurons=90, random_state=42,\n",
        "                                dropout_rate=0.5)\n",
        "dnn_clf_dropout.fit(X_train1, y_train1, n_epochs=1000, X_valid=X_valid1, y_valid=y_valid1)"
      ],
      "execution_count": null,
      "outputs": [
        {
          "output_type": "stream",
          "text": [
            "0\tValidation loss: 0.131152\tBest loss: 0.131152\tAccuracy: 96.91%\n",
            "1\tValidation loss: 0.105306\tBest loss: 0.105306\tAccuracy: 97.46%\n",
            "2\tValidation loss: 0.091219\tBest loss: 0.091219\tAccuracy: 97.73%\n",
            "3\tValidation loss: 0.089638\tBest loss: 0.089638\tAccuracy: 97.85%\n",
            "4\tValidation loss: 0.091288\tBest loss: 0.089638\tAccuracy: 97.69%\n",
            "5\tValidation loss: 0.081112\tBest loss: 0.081112\tAccuracy: 98.05%\n",
            "6\tValidation loss: 0.075575\tBest loss: 0.075575\tAccuracy: 98.24%\n",
            "7\tValidation loss: 0.084841\tBest loss: 0.075575\tAccuracy: 97.77%\n",
            "8\tValidation loss: 0.075269\tBest loss: 0.075269\tAccuracy: 97.65%\n",
            "9\tValidation loss: 0.076625\tBest loss: 0.075269\tAccuracy: 98.12%\n",
            "10\tValidation loss: 0.072509\tBest loss: 0.072509\tAccuracy: 97.97%\n",
            "11\tValidation loss: 0.071006\tBest loss: 0.071006\tAccuracy: 98.44%\n",
            "12\tValidation loss: 0.073272\tBest loss: 0.071006\tAccuracy: 98.08%\n",
            "13\tValidation loss: 0.076293\tBest loss: 0.071006\tAccuracy: 98.16%\n",
            "14\tValidation loss: 0.074955\tBest loss: 0.071006\tAccuracy: 98.05%\n",
            "15\tValidation loss: 0.066207\tBest loss: 0.066207\tAccuracy: 98.20%\n",
            "16\tValidation loss: 0.067388\tBest loss: 0.066207\tAccuracy: 98.08%\n",
            "17\tValidation loss: 0.061916\tBest loss: 0.061916\tAccuracy: 98.40%\n",
            "18\tValidation loss: 0.064908\tBest loss: 0.061916\tAccuracy: 98.40%\n",
            "19\tValidation loss: 0.064921\tBest loss: 0.061916\tAccuracy: 98.40%\n",
            "20\tValidation loss: 0.069939\tBest loss: 0.061916\tAccuracy: 98.40%\n",
            "21\tValidation loss: 0.069870\tBest loss: 0.061916\tAccuracy: 98.32%\n",
            "22\tValidation loss: 0.062807\tBest loss: 0.061916\tAccuracy: 98.24%\n",
            "23\tValidation loss: 0.065312\tBest loss: 0.061916\tAccuracy: 98.44%\n",
            "24\tValidation loss: 0.067044\tBest loss: 0.061916\tAccuracy: 98.44%\n",
            "25\tValidation loss: 0.072251\tBest loss: 0.061916\tAccuracy: 98.16%\n",
            "26\tValidation loss: 0.064444\tBest loss: 0.061916\tAccuracy: 98.20%\n",
            "27\tValidation loss: 0.069022\tBest loss: 0.061916\tAccuracy: 98.44%\n",
            "28\tValidation loss: 0.069079\tBest loss: 0.061916\tAccuracy: 98.28%\n",
            "29\tValidation loss: 0.148266\tBest loss: 0.061916\tAccuracy: 96.52%\n",
            "30\tValidation loss: 0.119943\tBest loss: 0.061916\tAccuracy: 96.72%\n",
            "31\tValidation loss: 0.167303\tBest loss: 0.061916\tAccuracy: 96.68%\n",
            "32\tValidation loss: 0.131897\tBest loss: 0.061916\tAccuracy: 96.52%\n",
            "33\tValidation loss: 0.146681\tBest loss: 0.061916\tAccuracy: 95.43%\n",
            "34\tValidation loss: 0.125731\tBest loss: 0.061916\tAccuracy: 96.64%\n",
            "35\tValidation loss: 0.099879\tBest loss: 0.061916\tAccuracy: 97.89%\n",
            "36\tValidation loss: 0.096915\tBest loss: 0.061916\tAccuracy: 97.73%\n",
            "37\tValidation loss: 0.096422\tBest loss: 0.061916\tAccuracy: 97.85%\n",
            "38\tValidation loss: 0.108040\tBest loss: 0.061916\tAccuracy: 97.54%\n",
            "Early stopping!\n"
          ],
          "name": "stdout"
        },
        {
          "output_type": "execute_result",
          "data": {
            "text/plain": [
              "DNNClassifier(activation=<function leaky_relu.<locals>.parametrized_leaky_relu at 0x14e8501e0>,\n",
              "       batch_norm_momentum=None, batch_size=500, dropout_rate=0.5,\n",
              "       initializer=<tensorflow.python.ops.init_ops.VarianceScaling object at 0x117bf5828>,\n",
              "       learning_rate=0.01, n_hidden_layers=5, n_neurons=90,\n",
              "       optimizer_class=<class 'tensorflow.python.training.adam.AdamOptimizer'>,\n",
              "       random_state=42)"
            ]
          },
          "metadata": {
            "tags": []
          },
          "execution_count": 134
        }
      ]
    },
    {
      "cell_type": "markdown",
      "metadata": {
        "id": "oOp_xoCf273g",
        "colab_type": "text"
      },
      "source": [
        "The best params are reached during epoch 17. Dropout somewhat slowed down convergence."
      ]
    },
    {
      "cell_type": "markdown",
      "metadata": {
        "id": "sxz9hu0u273g",
        "colab_type": "text"
      },
      "source": [
        "Let's check the accuracy:"
      ]
    },
    {
      "cell_type": "code",
      "metadata": {
        "id": "ao1godMc273h",
        "colab_type": "code",
        "colab": {},
        "outputId": "91572a8d-1013-412d-8064-bc76dacf1b38"
      },
      "source": [
        "y_pred = dnn_clf_dropout.predict(X_test1)\n",
        "accuracy_score(y_test1, y_pred)"
      ],
      "execution_count": null,
      "outputs": [
        {
          "output_type": "execute_result",
          "data": {
            "text/plain": [
              "0.9861840825063242"
            ]
          },
          "metadata": {
            "tags": []
          },
          "execution_count": 135
        }
      ]
    },
    {
      "cell_type": "markdown",
      "metadata": {
        "id": "64Oxu_W_273i",
        "colab_type": "text"
      },
      "source": [
        "We are out of luck, dropout does not seem to help. Let's try tuning the hyperparameters, perhaps we can squeeze a bit more performance out of this model:"
      ]
    },
    {
      "cell_type": "code",
      "metadata": {
        "id": "2CrZ9Z9h273i",
        "colab_type": "code",
        "colab": {},
        "outputId": "c5f86fec-f78b-4fce-ebea-17f335a1e27d"
      },
      "source": [
        "from sklearn.model_selection import RandomizedSearchCV\n",
        "\n",
        "param_distribs = {\n",
        "    \"n_neurons\": [10, 30, 50, 70, 90, 100, 120, 140, 160],\n",
        "    \"batch_size\": [10, 50, 100, 500],\n",
        "    \"learning_rate\": [0.01, 0.02, 0.05, 0.1],\n",
        "    \"activation\": [tf.nn.relu, tf.nn.elu, leaky_relu(alpha=0.01), leaky_relu(alpha=0.1)],\n",
        "    # you could also try exploring different numbers of hidden layers, different optimizers, etc.\n",
        "    #\"n_hidden_layers\": [0, 1, 2, 3, 4, 5, 6, 7, 8, 9, 10],\n",
        "    #\"optimizer_class\": [tf.train.AdamOptimizer, partial(tf.train.MomentumOptimizer, momentum=0.95)],\n",
        "    \"dropout_rate\": [0.2, 0.3, 0.4, 0.5, 0.6],\n",
        "}\n",
        "\n",
        "rnd_search_dropout = RandomizedSearchCV(DNNClassifier(random_state=42), param_distribs, n_iter=50,\n",
        "                                        cv=3, random_state=42, verbose=2)\n",
        "rnd_search_dropout.fit(X_train1, y_train1, X_valid=X_valid1, y_valid=y_valid1, n_epochs=1000)\n",
        "\n",
        "# If you have Scikit-Learn 0.18 or earlier, you should upgrade, or use the fit_params argument:\n",
        "# fit_params = dict(X_valid=X_valid1, y_valid=y_valid1, n_epochs=1000)\n",
        "# rnd_search_dropout = RandomizedSearchCV(DNNClassifier(random_state=42), param_distribs, n_iter=50,\n",
        "#                                         fit_params=fit_params, random_state=42, verbose=2)\n",
        "# rnd_search_dropout.fit(X_train1, y_train1)"
      ],
      "execution_count": null,
      "outputs": [
        {
          "output_type": "stream",
          "text": [
            "[Parallel(n_jobs=1)]: Using backend SequentialBackend with 1 concurrent workers.\n"
          ],
          "name": "stderr"
        },
        {
          "output_type": "stream",
          "text": [
            "Fitting 3 folds for each of 50 candidates, totalling 150 fits\n",
            "[CV] n_neurons=70, learning_rate=0.01, dropout_rate=0.5, batch_size=100, activation=<function relu at 0x124366d08> \n",
            "0\tValidation loss: 0.218595\tBest loss: 0.218595\tAccuracy: 93.63%\n",
            "1\tValidation loss: 0.210470\tBest loss: 0.210470\tAccuracy: 94.61%\n",
            "2\tValidation loss: 0.224635\tBest loss: 0.210470\tAccuracy: 95.50%\n",
            "3\tValidation loss: 0.200494\tBest loss: 0.200494\tAccuracy: 94.84%\n",
            "4\tValidation loss: 0.184056\tBest loss: 0.184056\tAccuracy: 95.58%\n",
            "5\tValidation loss: 0.187698\tBest loss: 0.184056\tAccuracy: 96.33%\n",
            "6\tValidation loss: 0.151692\tBest loss: 0.151692\tAccuracy: 96.17%\n",
            "7\tValidation loss: 0.176633\tBest loss: 0.151692\tAccuracy: 96.21%\n",
            "8\tValidation loss: 0.187090\tBest loss: 0.151692\tAccuracy: 96.01%\n",
            "9\tValidation loss: 0.204406\tBest loss: 0.151692\tAccuracy: 96.40%\n",
            "10\tValidation loss: 0.193938\tBest loss: 0.151692\tAccuracy: 95.74%\n",
            "11\tValidation loss: 0.190056\tBest loss: 0.151692\tAccuracy: 96.21%\n",
            "12\tValidation loss: 0.183601\tBest loss: 0.151692\tAccuracy: 96.05%\n",
            "13\tValidation loss: 0.179737\tBest loss: 0.151692\tAccuracy: 96.25%\n",
            "14\tValidation loss: 0.289718\tBest loss: 0.151692\tAccuracy: 96.29%\n",
            "15\tValidation loss: 0.188605\tBest loss: 0.151692\tAccuracy: 95.86%\n",
            "16\tValidation loss: 0.195911\tBest loss: 0.151692\tAccuracy: 96.01%\n",
            "17\tValidation loss: 0.158151\tBest loss: 0.151692\tAccuracy: 96.25%\n",
            "18\tValidation loss: 0.168049\tBest loss: 0.151692\tAccuracy: 96.25%\n",
            "19\tValidation loss: 0.170637\tBest loss: 0.151692\tAccuracy: 96.40%\n",
            "20\tValidation loss: 0.192890\tBest loss: 0.151692\tAccuracy: 96.21%\n",
            "21\tValidation loss: 0.178800\tBest loss: 0.151692\tAccuracy: 95.97%\n",
            "22\tValidation loss: 0.185295\tBest loss: 0.151692\tAccuracy: 96.44%\n",
            "23\tValidation loss: 0.150369\tBest loss: 0.150369\tAccuracy: 96.91%\n",
            "24\tValidation loss: 0.161164\tBest loss: 0.150369\tAccuracy: 96.52%\n",
            "25\tValidation loss: 0.180860\tBest loss: 0.150369\tAccuracy: 96.13%\n",
            "26\tValidation loss: 0.182730\tBest loss: 0.150369\tAccuracy: 96.52%\n",
            "27\tValidation loss: 0.184583\tBest loss: 0.150369\tAccuracy: 96.09%\n",
            "28\tValidation loss: 0.183952\tBest loss: 0.150369\tAccuracy: 95.39%\n",
            "29\tValidation loss: 0.211111\tBest loss: 0.150369\tAccuracy: 95.54%\n",
            "30\tValidation loss: 0.225760\tBest loss: 0.150369\tAccuracy: 95.97%\n",
            "31\tValidation loss: 0.170313\tBest loss: 0.150369\tAccuracy: 96.91%\n",
            "<<5625 more lines>>\n",
            "8\tValidation loss: 0.086624\tBest loss: 0.065724\tAccuracy: 98.01%\n",
            "9\tValidation loss: 0.069571\tBest loss: 0.065724\tAccuracy: 98.44%\n",
            "10\tValidation loss: 0.094720\tBest loss: 0.065724\tAccuracy: 98.20%\n",
            "11\tValidation loss: 0.070504\tBest loss: 0.065724\tAccuracy: 98.51%\n",
            "12\tValidation loss: 0.090169\tBest loss: 0.065724\tAccuracy: 98.24%\n",
            "13\tValidation loss: 0.080667\tBest loss: 0.065724\tAccuracy: 98.20%\n",
            "14\tValidation loss: 0.120917\tBest loss: 0.065724\tAccuracy: 96.60%\n",
            "15\tValidation loss: 0.105030\tBest loss: 0.065724\tAccuracy: 97.62%\n",
            "16\tValidation loss: 0.138571\tBest loss: 0.065724\tAccuracy: 97.85%\n",
            "17\tValidation loss: 0.078942\tBest loss: 0.065724\tAccuracy: 97.97%\n",
            "18\tValidation loss: 0.081645\tBest loss: 0.065724\tAccuracy: 97.89%\n",
            "19\tValidation loss: 0.054128\tBest loss: 0.054128\tAccuracy: 98.44%\n",
            "20\tValidation loss: 0.051510\tBest loss: 0.051510\tAccuracy: 98.44%\n",
            "21\tValidation loss: 0.071159\tBest loss: 0.051510\tAccuracy: 98.67%\n",
            "22\tValidation loss: 0.084647\tBest loss: 0.051510\tAccuracy: 98.28%\n",
            "23\tValidation loss: 0.081601\tBest loss: 0.051510\tAccuracy: 98.36%\n",
            "24\tValidation loss: 0.152964\tBest loss: 0.051510\tAccuracy: 97.93%\n",
            "25\tValidation loss: 0.173249\tBest loss: 0.051510\tAccuracy: 97.03%\n",
            "26\tValidation loss: 0.128901\tBest loss: 0.051510\tAccuracy: 96.13%\n",
            "27\tValidation loss: 0.110458\tBest loss: 0.051510\tAccuracy: 97.93%\n",
            "28\tValidation loss: 0.108197\tBest loss: 0.051510\tAccuracy: 97.30%\n",
            "29\tValidation loss: 0.104204\tBest loss: 0.051510\tAccuracy: 97.85%\n",
            "30\tValidation loss: 0.126637\tBest loss: 0.051510\tAccuracy: 98.32%\n",
            "31\tValidation loss: 0.142045\tBest loss: 0.051510\tAccuracy: 97.62%\n",
            "32\tValidation loss: 0.103701\tBest loss: 0.051510\tAccuracy: 97.69%\n",
            "33\tValidation loss: 0.120295\tBest loss: 0.051510\tAccuracy: 97.42%\n",
            "34\tValidation loss: 0.151388\tBest loss: 0.051510\tAccuracy: 97.85%\n",
            "35\tValidation loss: 0.096931\tBest loss: 0.051510\tAccuracy: 97.58%\n",
            "36\tValidation loss: 0.153569\tBest loss: 0.051510\tAccuracy: 97.11%\n",
            "37\tValidation loss: 0.120552\tBest loss: 0.051510\tAccuracy: 98.05%\n",
            "38\tValidation loss: 0.076677\tBest loss: 0.051510\tAccuracy: 98.55%\n",
            "39\tValidation loss: 0.071904\tBest loss: 0.051510\tAccuracy: 98.55%\n",
            "40\tValidation loss: 0.072618\tBest loss: 0.051510\tAccuracy: 98.12%\n",
            "41\tValidation loss: 0.086680\tBest loss: 0.051510\tAccuracy: 98.08%\n",
            "Early stopping!\n"
          ],
          "name": "stdout"
        },
        {
          "output_type": "execute_result",
          "data": {
            "text/plain": [
              "RandomizedSearchCV(cv='warn', error_score='raise-deprecating',\n",
              "          estimator=DNNClassifier(activation=<function elu at 0x1243639d8>,\n",
              "       batch_norm_momentum=None, batch_size=20, dropout_rate=None,\n",
              "       initializer=<tensorflow.python.ops.init_ops.VarianceScaling object at 0x117bf5828>,\n",
              "       learning_rate=0.01, n_hidden_layers=5, n_neurons=100,\n",
              "       optimizer_class=<class 'tensorflow.python.training.adam.AdamOptimizer'>,\n",
              "       random_state=42),\n",
              "          fit_params={'X_valid': array([[0., 0., ..., 0., 0.],\n",
              "       [0., 0., ..., 0., 0.],\n",
              "       ...,\n",
              "       [0., 0., ..., 0., 0.],\n",
              "       [0., 0., ..., 0., 0.]], dtype=float32), 'y_valid': array([0, 4, ..., 1, 2], dtype=int32), 'n_epochs': 1000},\n",
              "          iid='warn', n_iter=50, n_jobs=None,\n",
              "          param_distributions={'n_neurons': [10, 30, 50, 70, 90, 100, 120, 140, 160], 'batch_size': [10, 50, 100, 500], 'learning_rate': [0.01, 0.02, 0.05, 0.1], 'activation': [<function relu at 0x124366d08>, <function elu at 0x1243639d8>, <function leaky_relu.<locals>.parametrized_leaky_relu at 0x14e850620>, <function leaky_relu.<locals>.parametrized_leaky_relu at 0x14e850d08>], 'dropout_rate': [0.2, 0.3, 0.4, 0.5, 0.6]},\n",
              "          pre_dispatch='2*n_jobs', random_state=42, refit=True,\n",
              "          return_train_score='warn', scoring=None, verbose=2)"
            ]
          },
          "metadata": {
            "tags": []
          },
          "execution_count": 136
        }
      ]
    },
    {
      "cell_type": "code",
      "metadata": {
        "id": "HsK72Ucv273j",
        "colab_type": "code",
        "colab": {},
        "outputId": "bab3c982-3444-45a4-dce3-b027a33fb9ae"
      },
      "source": [
        "rnd_search_dropout.best_params_"
      ],
      "execution_count": null,
      "outputs": [
        {
          "output_type": "execute_result",
          "data": {
            "text/plain": [
              "{'n_neurons': 160,\n",
              " 'learning_rate': 0.01,\n",
              " 'dropout_rate': 0.2,\n",
              " 'batch_size': 100,\n",
              " 'activation': <function tensorflow.python.ops.gen_nn_ops.relu(features, name=None)>}"
            ]
          },
          "metadata": {
            "tags": []
          },
          "execution_count": 137
        }
      ]
    },
    {
      "cell_type": "code",
      "metadata": {
        "id": "hawV9rL8273k",
        "colab_type": "code",
        "colab": {},
        "outputId": "f30367da-60d8-4ad4-ec02-78a7322bd0ff"
      },
      "source": [
        "y_pred = rnd_search_dropout.predict(X_test1)\n",
        "accuracy_score(y_test1, y_pred)"
      ],
      "execution_count": null,
      "outputs": [
        {
          "output_type": "execute_result",
          "data": {
            "text/plain": [
              "0.9889083479276124"
            ]
          },
          "metadata": {
            "tags": []
          },
          "execution_count": 138
        }
      ]
    },
    {
      "cell_type": "markdown",
      "metadata": {
        "id": "mlKuh3A9273l",
        "colab_type": "text"
      },
      "source": [
        "Oh well, dropout did not improve the model. Better luck next time! :)"
      ]
    },
    {
      "cell_type": "markdown",
      "metadata": {
        "id": "4q7AjiFf273l",
        "colab_type": "text"
      },
      "source": [
        "But that's okay, we have ourselves a nice DNN that achieves 99.49% accuracy on the test set using Batch Normalization, or 98.91% without BN. Let's see if some of this expertise on digits 0 to 4 can be transferred to the task of classifying digits 5 to 9. For the sake of simplicity we will reuse the DNN without BN."
      ]
    },
    {
      "cell_type": "markdown",
      "metadata": {
        "collapsed": true,
        "id": "Mv9DsQsx273l",
        "colab_type": "text"
      },
      "source": [
        "## 9. Transfer learning"
      ]
    },
    {
      "cell_type": "markdown",
      "metadata": {
        "id": "Tq6nzj9Z273m",
        "colab_type": "text"
      },
      "source": [
        "### 9.1."
      ]
    },
    {
      "cell_type": "markdown",
      "metadata": {
        "id": "k7ZCSqPI273m",
        "colab_type": "text"
      },
      "source": [
        "_Exercise: create a new DNN that reuses all the pretrained hidden layers of the previous model, freezes them, and replaces the softmax output layer with a new one._"
      ]
    },
    {
      "cell_type": "markdown",
      "metadata": {
        "id": "93rUTvXA273m",
        "colab_type": "text"
      },
      "source": [
        "Let's load the best model's graph and get a handle on all the important operations we will need. Note that instead of creating a new softmax output layer, we will just reuse the existing one (since it has the same number of outputs as the existing one). We will reinitialize its parameters before training. "
      ]
    },
    {
      "cell_type": "code",
      "metadata": {
        "id": "cA3ZsuGC273m",
        "colab_type": "code",
        "colab": {}
      },
      "source": [
        "reset_graph()\n",
        "\n",
        "restore_saver = tf.train.import_meta_graph(\"./my_best_mnist_model_0_to_4.meta\")\n",
        "\n",
        "X = tf.get_default_graph().get_tensor_by_name(\"X:0\")\n",
        "y = tf.get_default_graph().get_tensor_by_name(\"y:0\")\n",
        "loss = tf.get_default_graph().get_tensor_by_name(\"loss:0\")\n",
        "Y_proba = tf.get_default_graph().get_tensor_by_name(\"Y_proba:0\")\n",
        "logits = Y_proba.op.inputs[0]\n",
        "accuracy = tf.get_default_graph().get_tensor_by_name(\"accuracy:0\")"
      ],
      "execution_count": null,
      "outputs": []
    },
    {
      "cell_type": "markdown",
      "metadata": {
        "id": "h2a9ZHk5273n",
        "colab_type": "text"
      },
      "source": [
        "To freeze the lower layers, we will exclude their variables from the optimizer's list of trainable variables, keeping only the output layer's trainable variables:"
      ]
    },
    {
      "cell_type": "code",
      "metadata": {
        "id": "Ij-Y0BVd273n",
        "colab_type": "code",
        "colab": {}
      },
      "source": [
        "learning_rate = 0.01\n",
        "\n",
        "output_layer_vars = tf.get_collection(tf.GraphKeys.TRAINABLE_VARIABLES, scope=\"logits\")\n",
        "optimizer = tf.train.AdamOptimizer(learning_rate, name=\"Adam2\")\n",
        "training_op = optimizer.minimize(loss, var_list=output_layer_vars)"
      ],
      "execution_count": null,
      "outputs": []
    },
    {
      "cell_type": "code",
      "metadata": {
        "id": "pdQbIpaz273r",
        "colab_type": "code",
        "colab": {}
      },
      "source": [
        "correct = tf.nn.in_top_k(logits, y, 1)\n",
        "accuracy = tf.reduce_mean(tf.cast(correct, tf.float32), name=\"accuracy\")\n",
        "\n",
        "init = tf.global_variables_initializer()\n",
        "five_frozen_saver = tf.train.Saver()"
      ],
      "execution_count": null,
      "outputs": []
    },
    {
      "cell_type": "markdown",
      "metadata": {
        "id": "3h4LHqn9273s",
        "colab_type": "text"
      },
      "source": [
        "### 9.2."
      ]
    },
    {
      "cell_type": "markdown",
      "metadata": {
        "id": "li5TVA8I273t",
        "colab_type": "text"
      },
      "source": [
        "_Exercise: train this new DNN on digits 5 to 9, using only 100 images per digit, and time how long it takes. Despite this small number of examples, can you achieve high precision?_"
      ]
    },
    {
      "cell_type": "markdown",
      "metadata": {
        "id": "M1QhVhtQ273u",
        "colab_type": "text"
      },
      "source": [
        "Let's create the training, validation and test sets. We need to subtract 5 from the labels because TensorFlow expects integers from 0 to `n_classes-1`."
      ]
    },
    {
      "cell_type": "code",
      "metadata": {
        "id": "yN0zrqNu273u",
        "colab_type": "code",
        "colab": {}
      },
      "source": [
        "X_train2_full = X_train[y_train >= 5]\n",
        "y_train2_full = y_train[y_train >= 5] - 5\n",
        "X_valid2_full = X_valid[y_valid >= 5]\n",
        "y_valid2_full = y_valid[y_valid >= 5] - 5\n",
        "X_test2 = X_test[y_test >= 5]\n",
        "y_test2 = y_test[y_test >= 5] - 5"
      ],
      "execution_count": null,
      "outputs": []
    },
    {
      "cell_type": "markdown",
      "metadata": {
        "id": "jy-HIGvC273v",
        "colab_type": "text"
      },
      "source": [
        "Also, for the purpose of this exercise, we want to keep only 100 instances per class in the training set (and let's keep only 30 instances per class in the validation set). Let's create a small function to do that:"
      ]
    },
    {
      "cell_type": "code",
      "metadata": {
        "id": "i4IMT2cs273v",
        "colab_type": "code",
        "colab": {}
      },
      "source": [
        "def sample_n_instances_per_class(X, y, n=100):\n",
        "    Xs, ys = [], []\n",
        "    for label in np.unique(y):\n",
        "        idx = (y == label)\n",
        "        Xc = X[idx][:n]\n",
        "        yc = y[idx][:n]\n",
        "        Xs.append(Xc)\n",
        "        ys.append(yc)\n",
        "    return np.concatenate(Xs), np.concatenate(ys)"
      ],
      "execution_count": null,
      "outputs": []
    },
    {
      "cell_type": "code",
      "metadata": {
        "id": "QFpeOlXr273w",
        "colab_type": "code",
        "colab": {}
      },
      "source": [
        "X_train2, y_train2 = sample_n_instances_per_class(X_train2_full, y_train2_full, n=100)\n",
        "X_valid2, y_valid2 = sample_n_instances_per_class(X_valid2_full, y_valid2_full, n=30)"
      ],
      "execution_count": null,
      "outputs": []
    },
    {
      "cell_type": "markdown",
      "metadata": {
        "id": "PCvbWVdB273y",
        "colab_type": "text"
      },
      "source": [
        "Now let's train the model. This is the same training code as earlier, using early stopping, except for the initialization: we first initialize all the variables, then we restore the best model trained earlier (on digits 0 to 4), and finally we reinitialize the output layer variables."
      ]
    },
    {
      "cell_type": "code",
      "metadata": {
        "id": "ixvHwvun273y",
        "colab_type": "code",
        "colab": {},
        "outputId": "11f17af0-4d78-4cf8-993f-654bb2471492"
      },
      "source": [
        "import time\n",
        "\n",
        "n_epochs = 1000\n",
        "batch_size = 20\n",
        "\n",
        "max_checks_without_progress = 20\n",
        "checks_without_progress = 0\n",
        "best_loss = np.infty\n",
        "\n",
        "with tf.Session() as sess:\n",
        "    init.run()\n",
        "    restore_saver.restore(sess, \"./my_best_mnist_model_0_to_4\")\n",
        "    t0 = time.time()\n",
        "        \n",
        "    for epoch in range(n_epochs):\n",
        "        rnd_idx = np.random.permutation(len(X_train2))\n",
        "        for rnd_indices in np.array_split(rnd_idx, len(X_train2) // batch_size):\n",
        "            X_batch, y_batch = X_train2[rnd_indices], y_train2[rnd_indices]\n",
        "            sess.run(training_op, feed_dict={X: X_batch, y: y_batch})\n",
        "        loss_val, acc_val = sess.run([loss, accuracy], feed_dict={X: X_valid2, y: y_valid2})\n",
        "        if loss_val < best_loss:\n",
        "            save_path = five_frozen_saver.save(sess, \"./my_mnist_model_5_to_9_five_frozen\")\n",
        "            best_loss = loss_val\n",
        "            checks_without_progress = 0\n",
        "        else:\n",
        "            checks_without_progress += 1\n",
        "            if checks_without_progress > max_checks_without_progress:\n",
        "                print(\"Early stopping!\")\n",
        "                break\n",
        "        print(\"{}\\tValidation loss: {:.6f}\\tBest loss: {:.6f}\\tAccuracy: {:.2f}%\".format(\n",
        "            epoch, loss_val, best_loss, acc_val * 100))\n",
        "\n",
        "    t1 = time.time()\n",
        "    print(\"Total training time: {:.1f}s\".format(t1 - t0))\n",
        "\n",
        "with tf.Session() as sess:\n",
        "    five_frozen_saver.restore(sess, \"./my_mnist_model_5_to_9_five_frozen\")\n",
        "    acc_test = accuracy.eval(feed_dict={X: X_test2, y: y_test2})\n",
        "    print(\"Final test accuracy: {:.2f}%\".format(acc_test * 100))"
      ],
      "execution_count": null,
      "outputs": [
        {
          "output_type": "stream",
          "text": [
            "INFO:tensorflow:Restoring parameters from ./my_best_mnist_model_0_to_4\n",
            "0\tValidation loss: 1.361167\tBest loss: 1.361167\tAccuracy: 43.33%\n",
            "1\tValidation loss: 1.154602\tBest loss: 1.154602\tAccuracy: 57.33%\n",
            "2\tValidation loss: 1.054218\tBest loss: 1.054218\tAccuracy: 53.33%\n",
            "3\tValidation loss: 0.981128\tBest loss: 0.981128\tAccuracy: 62.67%\n",
            "4\tValidation loss: 0.995353\tBest loss: 0.981128\tAccuracy: 59.33%\n",
            "5\tValidation loss: 0.967000\tBest loss: 0.967000\tAccuracy: 65.33%\n",
            "6\tValidation loss: 0.955700\tBest loss: 0.955700\tAccuracy: 61.33%\n",
            "7\tValidation loss: 1.015331\tBest loss: 0.955700\tAccuracy: 58.67%\n",
            "8\tValidation loss: 0.978280\tBest loss: 0.955700\tAccuracy: 62.00%\n",
            "9\tValidation loss: 0.923389\tBest loss: 0.923389\tAccuracy: 69.33%\n",
            "10\tValidation loss: 0.996236\tBest loss: 0.923389\tAccuracy: 63.33%\n",
            "11\tValidation loss: 0.976757\tBest loss: 0.923389\tAccuracy: 62.67%\n",
            "12\tValidation loss: 0.969096\tBest loss: 0.923389\tAccuracy: 63.33%\n",
            "13\tValidation loss: 1.023069\tBest loss: 0.923389\tAccuracy: 63.33%\n",
            "14\tValidation loss: 1.104664\tBest loss: 0.923389\tAccuracy: 55.33%\n",
            "15\tValidation loss: 0.950175\tBest loss: 0.923389\tAccuracy: 65.33%\n",
            "16\tValidation loss: 1.002944\tBest loss: 0.923389\tAccuracy: 63.33%\n",
            "17\tValidation loss: 0.895543\tBest loss: 0.895543\tAccuracy: 70.67%\n",
            "18\tValidation loss: 0.961151\tBest loss: 0.895543\tAccuracy: 66.67%\n",
            "19\tValidation loss: 0.896372\tBest loss: 0.895543\tAccuracy: 67.33%\n",
            "20\tValidation loss: 0.911938\tBest loss: 0.895543\tAccuracy: 69.33%\n",
            "21\tValidation loss: 0.929007\tBest loss: 0.895543\tAccuracy: 68.00%\n",
            "22\tValidation loss: 0.939231\tBest loss: 0.895543\tAccuracy: 65.33%\n",
            "23\tValidation loss: 0.919057\tBest loss: 0.895543\tAccuracy: 68.67%\n",
            "24\tValidation loss: 0.994529\tBest loss: 0.895543\tAccuracy: 65.33%\n",
            "25\tValidation loss: 0.901279\tBest loss: 0.895543\tAccuracy: 68.67%\n",
            "26\tValidation loss: 0.916238\tBest loss: 0.895543\tAccuracy: 68.67%\n",
            "27\tValidation loss: 1.007434\tBest loss: 0.895543\tAccuracy: 65.33%\n",
            "28\tValidation loss: 0.924729\tBest loss: 0.895543\tAccuracy: 70.00%\n",
            "29\tValidation loss: 0.974399\tBest loss: 0.895543\tAccuracy: 66.00%\n",
            "30\tValidation loss: 0.899418\tBest loss: 0.895543\tAccuracy: 68.00%\n",
            "31\tValidation loss: 0.940563\tBest loss: 0.895543\tAccuracy: 66.00%\n",
            "32\tValidation loss: 0.920235\tBest loss: 0.895543\tAccuracy: 68.00%\n",
            "33\tValidation loss: 0.929848\tBest loss: 0.895543\tAccuracy: 68.67%\n",
            "34\tValidation loss: 0.930288\tBest loss: 0.895543\tAccuracy: 66.67%\n",
            "35\tValidation loss: 0.943884\tBest loss: 0.895543\tAccuracy: 64.67%\n",
            "36\tValidation loss: 0.939372\tBest loss: 0.895543\tAccuracy: 68.00%\n",
            "37\tValidation loss: 0.894239\tBest loss: 0.894239\tAccuracy: 67.33%\n",
            "38\tValidation loss: 0.888806\tBest loss: 0.888806\tAccuracy: 69.33%\n",
            "39\tValidation loss: 0.933829\tBest loss: 0.888806\tAccuracy: 66.00%\n",
            "40\tValidation loss: 0.911836\tBest loss: 0.888806\tAccuracy: 72.67%\n",
            "41\tValidation loss: 0.896729\tBest loss: 0.888806\tAccuracy: 70.00%\n",
            "42\tValidation loss: 0.929394\tBest loss: 0.888806\tAccuracy: 68.00%\n",
            "43\tValidation loss: 0.919418\tBest loss: 0.888806\tAccuracy: 69.33%\n",
            "44\tValidation loss: 0.907830\tBest loss: 0.888806\tAccuracy: 65.33%\n",
            "45\tValidation loss: 1.004304\tBest loss: 0.888806\tAccuracy: 71.33%\n",
            "46\tValidation loss: 0.871899\tBest loss: 0.871899\tAccuracy: 74.00%\n",
            "47\tValidation loss: 0.904889\tBest loss: 0.871899\tAccuracy: 67.33%\n",
            "48\tValidation loss: 0.914138\tBest loss: 0.871899\tAccuracy: 66.00%\n",
            "49\tValidation loss: 0.930001\tBest loss: 0.871899\tAccuracy: 69.33%\n",
            "50\tValidation loss: 0.962153\tBest loss: 0.871899\tAccuracy: 68.67%\n",
            "51\tValidation loss: 0.925021\tBest loss: 0.871899\tAccuracy: 65.33%\n",
            "52\tValidation loss: 0.974412\tBest loss: 0.871899\tAccuracy: 67.33%\n",
            "53\tValidation loss: 0.897499\tBest loss: 0.871899\tAccuracy: 68.67%\n",
            "54\tValidation loss: 0.933581\tBest loss: 0.871899\tAccuracy: 60.67%\n",
            "55\tValidation loss: 0.988574\tBest loss: 0.871899\tAccuracy: 68.67%\n",
            "56\tValidation loss: 0.927290\tBest loss: 0.871899\tAccuracy: 66.67%\n",
            "57\tValidation loss: 1.018713\tBest loss: 0.871899\tAccuracy: 64.00%\n",
            "58\tValidation loss: 0.964709\tBest loss: 0.871899\tAccuracy: 66.00%\n",
            "59\tValidation loss: 1.004696\tBest loss: 0.871899\tAccuracy: 59.33%\n",
            "60\tValidation loss: 1.008746\tBest loss: 0.871899\tAccuracy: 58.67%\n",
            "61\tValidation loss: 0.948558\tBest loss: 0.871899\tAccuracy: 68.00%\n",
            "62\tValidation loss: 0.966037\tBest loss: 0.871899\tAccuracy: 64.00%\n",
            "63\tValidation loss: 0.922541\tBest loss: 0.871899\tAccuracy: 68.00%\n",
            "64\tValidation loss: 0.892541\tBest loss: 0.871899\tAccuracy: 72.00%\n",
            "65\tValidation loss: 0.890340\tBest loss: 0.871899\tAccuracy: 70.67%\n",
            "66\tValidation loss: 0.957904\tBest loss: 0.871899\tAccuracy: 66.00%\n",
            "Early stopping!\n",
            "Total training time: 1.9s\n",
            "INFO:tensorflow:Restoring parameters from ./my_mnist_model_5_to_9_five_frozen\n",
            "Final test accuracy: 64.02%\n"
          ],
          "name": "stdout"
        }
      ]
    },
    {
      "cell_type": "markdown",
      "metadata": {
        "id": "mKQQ9Xxv2730",
        "colab_type": "text"
      },
      "source": [
        "Well that's not a great accuracy, is it? Of course with such a tiny training set, and with only one layer to tweak, we should not expect miracles."
      ]
    },
    {
      "cell_type": "markdown",
      "metadata": {
        "id": "lagGutLg2730",
        "colab_type": "text"
      },
      "source": [
        "### 9.3."
      ]
    },
    {
      "cell_type": "markdown",
      "metadata": {
        "id": "egi3NE312730",
        "colab_type": "text"
      },
      "source": [
        "_Exercise: try caching the frozen layers, and train the model again: how much faster is it now?_"
      ]
    },
    {
      "cell_type": "markdown",
      "metadata": {
        "id": "Nszg_x-_2731",
        "colab_type": "text"
      },
      "source": [
        "Let's start by getting a handle on the output of the last frozen layer:"
      ]
    },
    {
      "cell_type": "code",
      "metadata": {
        "id": "K2U667UB2731",
        "colab_type": "code",
        "colab": {}
      },
      "source": [
        "hidden5_out = tf.get_default_graph().get_tensor_by_name(\"hidden5_out:0\")"
      ],
      "execution_count": null,
      "outputs": []
    },
    {
      "cell_type": "markdown",
      "metadata": {
        "id": "SVO1tG8u2732",
        "colab_type": "text"
      },
      "source": [
        "Now let's train the model using roughly the same code as earlier. The difference is that we compute the output of the top frozen layer at the beginning (both for the training set and the validation set), and we cache it. This makes training roughly 1.5 to 3 times faster in this example (this may vary greatly, depending on your system): "
      ]
    },
    {
      "cell_type": "code",
      "metadata": {
        "id": "JVR22cJ32732",
        "colab_type": "code",
        "colab": {},
        "outputId": "ef00eaa7-f48d-4da6-a4ef-9a228a978c7f"
      },
      "source": [
        "import time\n",
        "\n",
        "n_epochs = 1000\n",
        "batch_size = 20\n",
        "\n",
        "max_checks_without_progress = 20\n",
        "checks_without_progress = 0\n",
        "best_loss = np.infty\n",
        "\n",
        "with tf.Session() as sess:\n",
        "    init.run()\n",
        "    restore_saver.restore(sess, \"./my_best_mnist_model_0_to_4\")\n",
        "    t0 = time.time()\n",
        "    \n",
        "    hidden5_train = hidden5_out.eval(feed_dict={X: X_train2, y: y_train2})\n",
        "    hidden5_valid = hidden5_out.eval(feed_dict={X: X_valid2, y: y_valid2})\n",
        "        \n",
        "    for epoch in range(n_epochs):\n",
        "        rnd_idx = np.random.permutation(len(X_train2))\n",
        "        for rnd_indices in np.array_split(rnd_idx, len(X_train2) // batch_size):\n",
        "            h5_batch, y_batch = hidden5_train[rnd_indices], y_train2[rnd_indices]\n",
        "            sess.run(training_op, feed_dict={hidden5_out: h5_batch, y: y_batch})\n",
        "        loss_val, acc_val = sess.run([loss, accuracy], feed_dict={hidden5_out: hidden5_valid, y: y_valid2})\n",
        "        if loss_val < best_loss:\n",
        "            save_path = five_frozen_saver.save(sess, \"./my_mnist_model_5_to_9_five_frozen\")\n",
        "            best_loss = loss_val\n",
        "            checks_without_progress = 0\n",
        "        else:\n",
        "            checks_without_progress += 1\n",
        "            if checks_without_progress > max_checks_without_progress:\n",
        "                print(\"Early stopping!\")\n",
        "                break\n",
        "        print(\"{}\\tValidation loss: {:.6f}\\tBest loss: {:.6f}\\tAccuracy: {:.2f}%\".format(\n",
        "            epoch, loss_val, best_loss, acc_val * 100))\n",
        "\n",
        "    t1 = time.time()\n",
        "    print(\"Total training time: {:.1f}s\".format(t1 - t0))\n",
        "\n",
        "with tf.Session() as sess:\n",
        "    five_frozen_saver.restore(sess, \"./my_mnist_model_5_to_9_five_frozen\")\n",
        "    acc_test = accuracy.eval(feed_dict={X: X_test2, y: y_test2})\n",
        "    print(\"Final test accuracy: {:.2f}%\".format(acc_test * 100))"
      ],
      "execution_count": null,
      "outputs": [
        {
          "output_type": "stream",
          "text": [
            "INFO:tensorflow:Restoring parameters from ./my_best_mnist_model_0_to_4\n",
            "0\tValidation loss: 1.416103\tBest loss: 1.416103\tAccuracy: 44.00%\n",
            "1\tValidation loss: 1.099216\tBest loss: 1.099216\tAccuracy: 53.33%\n",
            "2\tValidation loss: 1.024954\tBest loss: 1.024954\tAccuracy: 59.33%\n",
            "3\tValidation loss: 0.969193\tBest loss: 0.969193\tAccuracy: 60.00%\n",
            "4\tValidation loss: 0.973461\tBest loss: 0.969193\tAccuracy: 64.67%\n",
            "5\tValidation loss: 0.949333\tBest loss: 0.949333\tAccuracy: 64.67%\n",
            "6\tValidation loss: 0.922953\tBest loss: 0.922953\tAccuracy: 66.67%\n",
            "7\tValidation loss: 0.957186\tBest loss: 0.922953\tAccuracy: 62.67%\n",
            "8\tValidation loss: 0.950264\tBest loss: 0.922953\tAccuracy: 68.00%\n",
            "9\tValidation loss: 1.053465\tBest loss: 0.922953\tAccuracy: 59.33%\n",
            "10\tValidation loss: 1.069949\tBest loss: 0.922953\tAccuracy: 54.00%\n",
            "11\tValidation loss: 0.965197\tBest loss: 0.922953\tAccuracy: 62.67%\n",
            "12\tValidation loss: 0.949233\tBest loss: 0.922953\tAccuracy: 63.33%\n",
            "13\tValidation loss: 0.926229\tBest loss: 0.922953\tAccuracy: 63.33%\n",
            "14\tValidation loss: 0.922854\tBest loss: 0.922854\tAccuracy: 67.33%\n",
            "15\tValidation loss: 0.965205\tBest loss: 0.922854\tAccuracy: 66.67%\n",
            "16\tValidation loss: 1.050026\tBest loss: 0.922854\tAccuracy: 59.33%\n",
            "17\tValidation loss: 0.946699\tBest loss: 0.922854\tAccuracy: 64.67%\n",
            "18\tValidation loss: 0.973966\tBest loss: 0.922854\tAccuracy: 64.00%\n",
            "19\tValidation loss: 0.902573\tBest loss: 0.902573\tAccuracy: 66.67%\n",
            "20\tValidation loss: 0.933625\tBest loss: 0.902573\tAccuracy: 65.33%\n",
            "21\tValidation loss: 0.938296\tBest loss: 0.902573\tAccuracy: 64.00%\n",
            "22\tValidation loss: 0.938790\tBest loss: 0.902573\tAccuracy: 66.67%\n",
            "23\tValidation loss: 0.936572\tBest loss: 0.902573\tAccuracy: 68.00%\n",
            "24\tValidation loss: 1.039109\tBest loss: 0.902573\tAccuracy: 65.33%\n",
            "25\tValidation loss: 1.146837\tBest loss: 0.902573\tAccuracy: 59.33%\n",
            "26\tValidation loss: 0.958702\tBest loss: 0.902573\tAccuracy: 68.67%\n",
            "27\tValidation loss: 0.915434\tBest loss: 0.902573\tAccuracy: 70.67%\n",
            "28\tValidation loss: 0.915402\tBest loss: 0.902573\tAccuracy: 66.00%\n",
            "29\tValidation loss: 0.920591\tBest loss: 0.902573\tAccuracy: 70.67%\n",
            "30\tValidation loss: 1.029216\tBest loss: 0.902573\tAccuracy: 64.67%\n",
            "31\tValidation loss: 1.039922\tBest loss: 0.902573\tAccuracy: 55.33%\n",
            "32\tValidation loss: 0.925041\tBest loss: 0.902573\tAccuracy: 64.00%\n",
            "33\tValidation loss: 0.944033\tBest loss: 0.902573\tAccuracy: 67.33%\n",
            "34\tValidation loss: 0.941914\tBest loss: 0.902573\tAccuracy: 66.67%\n",
            "35\tValidation loss: 0.866297\tBest loss: 0.866297\tAccuracy: 69.33%\n",
            "36\tValidation loss: 0.900787\tBest loss: 0.866297\tAccuracy: 70.67%\n",
            "37\tValidation loss: 0.889670\tBest loss: 0.866297\tAccuracy: 66.67%\n",
            "38\tValidation loss: 0.968139\tBest loss: 0.866297\tAccuracy: 62.00%\n",
            "39\tValidation loss: 0.929764\tBest loss: 0.866297\tAccuracy: 66.00%\n",
            "40\tValidation loss: 0.889130\tBest loss: 0.866297\tAccuracy: 68.00%\n",
            "41\tValidation loss: 0.940024\tBest loss: 0.866297\tAccuracy: 70.00%\n",
            "42\tValidation loss: 0.896472\tBest loss: 0.866297\tAccuracy: 69.33%\n",
            "43\tValidation loss: 0.893887\tBest loss: 0.866297\tAccuracy: 67.33%\n",
            "44\tValidation loss: 0.925727\tBest loss: 0.866297\tAccuracy: 68.67%\n",
            "45\tValidation loss: 0.945748\tBest loss: 0.866297\tAccuracy: 66.00%\n",
            "46\tValidation loss: 0.897087\tBest loss: 0.866297\tAccuracy: 70.00%\n",
            "47\tValidation loss: 0.923855\tBest loss: 0.866297\tAccuracy: 68.67%\n",
            "48\tValidation loss: 0.944244\tBest loss: 0.866297\tAccuracy: 66.67%\n",
            "49\tValidation loss: 0.975582\tBest loss: 0.866297\tAccuracy: 66.67%\n",
            "50\tValidation loss: 0.889869\tBest loss: 0.866297\tAccuracy: 68.67%\n",
            "51\tValidation loss: 0.895552\tBest loss: 0.866297\tAccuracy: 69.33%\n",
            "52\tValidation loss: 0.943707\tBest loss: 0.866297\tAccuracy: 66.00%\n",
            "53\tValidation loss: 0.902883\tBest loss: 0.866297\tAccuracy: 70.67%\n",
            "54\tValidation loss: 0.958292\tBest loss: 0.866297\tAccuracy: 68.67%\n",
            "55\tValidation loss: 0.917368\tBest loss: 0.866297\tAccuracy: 67.33%\n",
            "Early stopping!\n",
            "Total training time: 1.1s\n",
            "INFO:tensorflow:Restoring parameters from ./my_mnist_model_5_to_9_five_frozen\n",
            "Final test accuracy: 61.16%\n"
          ],
          "name": "stdout"
        }
      ]
    },
    {
      "cell_type": "markdown",
      "metadata": {
        "id": "68BLTqSA2734",
        "colab_type": "text"
      },
      "source": [
        "### 9.4."
      ]
    },
    {
      "cell_type": "markdown",
      "metadata": {
        "id": "DcAI8X-R2734",
        "colab_type": "text"
      },
      "source": [
        "_Exercise: try again reusing just four hidden layers instead of five. Can you achieve a higher precision?_"
      ]
    },
    {
      "cell_type": "markdown",
      "metadata": {
        "id": "XURa9Aiy2734",
        "colab_type": "text"
      },
      "source": [
        "Let's load the best model again, but this time we will create a new softmax output layer on top of the 4th hidden layer:"
      ]
    },
    {
      "cell_type": "code",
      "metadata": {
        "id": "PTy4N-ja2734",
        "colab_type": "code",
        "colab": {}
      },
      "source": [
        "reset_graph()\n",
        "\n",
        "n_outputs = 5\n",
        "\n",
        "restore_saver = tf.train.import_meta_graph(\"./my_best_mnist_model_0_to_4.meta\")\n",
        "\n",
        "X = tf.get_default_graph().get_tensor_by_name(\"X:0\")\n",
        "y = tf.get_default_graph().get_tensor_by_name(\"y:0\")\n",
        "\n",
        "hidden4_out = tf.get_default_graph().get_tensor_by_name(\"hidden4_out:0\")\n",
        "logits = tf.layers.dense(hidden4_out, n_outputs, kernel_initializer=he_init, name=\"new_logits\")\n",
        "Y_proba = tf.nn.softmax(logits)\n",
        "xentropy = tf.nn.sparse_softmax_cross_entropy_with_logits(labels=y, logits=logits)\n",
        "loss = tf.reduce_mean(xentropy)\n",
        "correct = tf.nn.in_top_k(logits, y, 1)\n",
        "accuracy = tf.reduce_mean(tf.cast(correct, tf.float32), name=\"accuracy\")"
      ],
      "execution_count": null,
      "outputs": []
    },
    {
      "cell_type": "markdown",
      "metadata": {
        "id": "t-gTBD2v2735",
        "colab_type": "text"
      },
      "source": [
        "And now let's create the training operation. We want to freeze all the layers except for the new output layer:"
      ]
    },
    {
      "cell_type": "code",
      "metadata": {
        "id": "AOGpIz5W2736",
        "colab_type": "code",
        "colab": {}
      },
      "source": [
        "learning_rate = 0.01\n",
        "\n",
        "output_layer_vars = tf.get_collection(tf.GraphKeys.TRAINABLE_VARIABLES, scope=\"new_logits\")\n",
        "optimizer = tf.train.AdamOptimizer(learning_rate, name=\"Adam2\")\n",
        "training_op = optimizer.minimize(loss, var_list=output_layer_vars)\n",
        "\n",
        "init = tf.global_variables_initializer()\n",
        "four_frozen_saver = tf.train.Saver()"
      ],
      "execution_count": null,
      "outputs": []
    },
    {
      "cell_type": "markdown",
      "metadata": {
        "id": "jNmHZCzw2738",
        "colab_type": "text"
      },
      "source": [
        "And once again we train the model with the same code as earlier. Note: we could of course write a function once and use it multiple times, rather than copying almost the same training code over and over again, but as we keep tweaking the code slightly, the function would need multiple arguments and `if` statements, and it would have to be at the beginning of the notebook, where it would not make much sense to readers. In short it would be very confusing, so we're better off with copy & paste."
      ]
    },
    {
      "cell_type": "code",
      "metadata": {
        "id": "ceGbd3LR2739",
        "colab_type": "code",
        "colab": {},
        "outputId": "126b4cb3-f839-469e-fc42-a7995b267b86"
      },
      "source": [
        "n_epochs = 1000\n",
        "batch_size = 20\n",
        "\n",
        "max_checks_without_progress = 20\n",
        "checks_without_progress = 0\n",
        "best_loss = np.infty\n",
        "\n",
        "with tf.Session() as sess:\n",
        "    init.run()\n",
        "    restore_saver.restore(sess, \"./my_best_mnist_model_0_to_4\")\n",
        "        \n",
        "    for epoch in range(n_epochs):\n",
        "        rnd_idx = np.random.permutation(len(X_train2))\n",
        "        for rnd_indices in np.array_split(rnd_idx, len(X_train2) // batch_size):\n",
        "            X_batch, y_batch = X_train2[rnd_indices], y_train2[rnd_indices]\n",
        "            sess.run(training_op, feed_dict={X: X_batch, y: y_batch})\n",
        "        loss_val, acc_val = sess.run([loss, accuracy], feed_dict={X: X_valid2, y: y_valid2})\n",
        "        if loss_val < best_loss:\n",
        "            save_path = four_frozen_saver.save(sess, \"./my_mnist_model_5_to_9_four_frozen\")\n",
        "            best_loss = loss_val\n",
        "            checks_without_progress = 0\n",
        "        else:\n",
        "            checks_without_progress += 1\n",
        "            if checks_without_progress > max_checks_without_progress:\n",
        "                print(\"Early stopping!\")\n",
        "                break\n",
        "        print(\"{}\\tValidation loss: {:.6f}\\tBest loss: {:.6f}\\tAccuracy: {:.2f}%\".format(\n",
        "            epoch, loss_val, best_loss, acc_val * 100))\n",
        "\n",
        "with tf.Session() as sess:\n",
        "    four_frozen_saver.restore(sess, \"./my_mnist_model_5_to_9_four_frozen\")\n",
        "    acc_test = accuracy.eval(feed_dict={X: X_test2, y: y_test2})\n",
        "    print(\"Final test accuracy: {:.2f}%\".format(acc_test * 100))"
      ],
      "execution_count": null,
      "outputs": [
        {
          "output_type": "stream",
          "text": [
            "INFO:tensorflow:Restoring parameters from ./my_best_mnist_model_0_to_4\n",
            "0\tValidation loss: 1.073254\tBest loss: 1.073254\tAccuracy: 51.33%\n",
            "1\tValidation loss: 1.039487\tBest loss: 1.039487\tAccuracy: 64.00%\n",
            "2\tValidation loss: 0.991418\tBest loss: 0.991418\tAccuracy: 59.33%\n",
            "3\tValidation loss: 0.902691\tBest loss: 0.902691\tAccuracy: 64.67%\n",
            "4\tValidation loss: 0.919874\tBest loss: 0.902691\tAccuracy: 63.33%\n",
            "5\tValidation loss: 0.879734\tBest loss: 0.879734\tAccuracy: 72.00%\n",
            "6\tValidation loss: 0.877940\tBest loss: 0.877940\tAccuracy: 70.67%\n",
            "7\tValidation loss: 0.899513\tBest loss: 0.877940\tAccuracy: 71.33%\n",
            "8\tValidation loss: 0.879717\tBest loss: 0.877940\tAccuracy: 67.33%\n",
            "9\tValidation loss: 0.826527\tBest loss: 0.826527\tAccuracy: 75.33%\n",
            "10\tValidation loss: 0.890165\tBest loss: 0.826527\tAccuracy: 67.33%\n",
            "11\tValidation loss: 0.876235\tBest loss: 0.826527\tAccuracy: 68.67%\n",
            "12\tValidation loss: 0.877598\tBest loss: 0.826527\tAccuracy: 71.33%\n",
            "13\tValidation loss: 0.898070\tBest loss: 0.826527\tAccuracy: 74.67%\n",
            "14\tValidation loss: 0.923526\tBest loss: 0.826527\tAccuracy: 68.00%\n",
            "15\tValidation loss: 0.859624\tBest loss: 0.826527\tAccuracy: 70.00%\n",
            "16\tValidation loss: 0.896264\tBest loss: 0.826527\tAccuracy: 67.33%\n",
            "17\tValidation loss: 0.800813\tBest loss: 0.800813\tAccuracy: 73.33%\n",
            "18\tValidation loss: 0.811318\tBest loss: 0.800813\tAccuracy: 74.00%\n",
            "19\tValidation loss: 0.809687\tBest loss: 0.800813\tAccuracy: 75.33%\n",
            "20\tValidation loss: 0.807125\tBest loss: 0.800813\tAccuracy: 72.67%\n",
            "21\tValidation loss: 0.819150\tBest loss: 0.800813\tAccuracy: 71.33%\n",
            "22\tValidation loss: 0.849812\tBest loss: 0.800813\tAccuracy: 76.67%\n",
            "23\tValidation loss: 0.801709\tBest loss: 0.800813\tAccuracy: 74.67%\n",
            "24\tValidation loss: 0.832877\tBest loss: 0.800813\tAccuracy: 74.00%\n",
            "25\tValidation loss: 0.792853\tBest loss: 0.792853\tAccuracy: 72.67%\n",
            "26\tValidation loss: 0.842031\tBest loss: 0.792853\tAccuracy: 76.00%\n",
            "27\tValidation loss: 0.872236\tBest loss: 0.792853\tAccuracy: 71.33%\n",
            "28\tValidation loss: 0.782557\tBest loss: 0.782557\tAccuracy: 78.00%\n",
            "29\tValidation loss: 0.802515\tBest loss: 0.782557\tAccuracy: 73.33%\n",
            "30\tValidation loss: 0.812652\tBest loss: 0.782557\tAccuracy: 72.67%\n",
            "31\tValidation loss: 0.825467\tBest loss: 0.782557\tAccuracy: 76.00%\n",
            "32\tValidation loss: 0.791320\tBest loss: 0.782557\tAccuracy: 76.67%\n",
            "33\tValidation loss: 0.785207\tBest loss: 0.782557\tAccuracy: 77.33%\n",
            "34\tValidation loss: 0.815450\tBest loss: 0.782557\tAccuracy: 76.67%\n",
            "35\tValidation loss: 0.865081\tBest loss: 0.782557\tAccuracy: 71.33%\n",
            "36\tValidation loss: 0.852323\tBest loss: 0.782557\tAccuracy: 74.67%\n",
            "37\tValidation loss: 0.836967\tBest loss: 0.782557\tAccuracy: 72.00%\n",
            "38\tValidation loss: 0.807404\tBest loss: 0.782557\tAccuracy: 77.33%\n",
            "39\tValidation loss: 0.821566\tBest loss: 0.782557\tAccuracy: 75.33%\n",
            "40\tValidation loss: 0.817326\tBest loss: 0.782557\tAccuracy: 76.00%\n",
            "41\tValidation loss: 0.807987\tBest loss: 0.782557\tAccuracy: 70.67%\n",
            "42\tValidation loss: 0.838029\tBest loss: 0.782557\tAccuracy: 74.00%\n",
            "43\tValidation loss: 0.820425\tBest loss: 0.782557\tAccuracy: 76.00%\n",
            "44\tValidation loss: 0.785871\tBest loss: 0.782557\tAccuracy: 76.00%\n",
            "45\tValidation loss: 0.844337\tBest loss: 0.782557\tAccuracy: 78.67%\n",
            "46\tValidation loss: 0.764127\tBest loss: 0.764127\tAccuracy: 78.67%\n",
            "47\tValidation loss: 0.789726\tBest loss: 0.764127\tAccuracy: 77.33%\n",
            "48\tValidation loss: 0.839190\tBest loss: 0.764127\tAccuracy: 72.67%\n",
            "49\tValidation loss: 0.849353\tBest loss: 0.764127\tAccuracy: 75.33%\n",
            "50\tValidation loss: 0.869818\tBest loss: 0.764127\tAccuracy: 74.00%\n",
            "51\tValidation loss: 0.805526\tBest loss: 0.764127\tAccuracy: 76.67%\n",
            "52\tValidation loss: 0.850749\tBest loss: 0.764127\tAccuracy: 72.67%\n",
            "53\tValidation loss: 0.838693\tBest loss: 0.764127\tAccuracy: 71.33%\n",
            "54\tValidation loss: 0.791396\tBest loss: 0.764127\tAccuracy: 75.33%\n",
            "55\tValidation loss: 0.846888\tBest loss: 0.764127\tAccuracy: 76.00%\n",
            "56\tValidation loss: 0.826717\tBest loss: 0.764127\tAccuracy: 74.67%\n",
            "57\tValidation loss: 0.878286\tBest loss: 0.764127\tAccuracy: 70.67%\n",
            "58\tValidation loss: 0.878869\tBest loss: 0.764127\tAccuracy: 72.67%\n",
            "59\tValidation loss: 0.822241\tBest loss: 0.764127\tAccuracy: 72.67%\n",
            "60\tValidation loss: 0.864925\tBest loss: 0.764127\tAccuracy: 73.33%\n",
            "61\tValidation loss: 0.804545\tBest loss: 0.764127\tAccuracy: 73.33%\n",
            "62\tValidation loss: 0.891784\tBest loss: 0.764127\tAccuracy: 72.67%\n",
            "63\tValidation loss: 0.810186\tBest loss: 0.764127\tAccuracy: 74.00%\n",
            "64\tValidation loss: 0.810786\tBest loss: 0.764127\tAccuracy: 74.67%\n",
            "65\tValidation loss: 0.818044\tBest loss: 0.764127\tAccuracy: 74.00%\n",
            "66\tValidation loss: 0.853420\tBest loss: 0.764127\tAccuracy: 74.67%\n",
            "Early stopping!\n",
            "INFO:tensorflow:Restoring parameters from ./my_mnist_model_5_to_9_four_frozen\n",
            "Final test accuracy: 69.10%\n"
          ],
          "name": "stdout"
        }
      ]
    },
    {
      "cell_type": "markdown",
      "metadata": {
        "id": "HfyH9j2_273-",
        "colab_type": "text"
      },
      "source": [
        "Still not fantastic, but much better."
      ]
    },
    {
      "cell_type": "markdown",
      "metadata": {
        "id": "Eh73Mbu8273-",
        "colab_type": "text"
      },
      "source": [
        "### 9.5."
      ]
    },
    {
      "cell_type": "markdown",
      "metadata": {
        "id": "wBFixXge273-",
        "colab_type": "text"
      },
      "source": [
        "_Exercise: now unfreeze the top two hidden layers and continue training: can you get the model to perform even better?_"
      ]
    },
    {
      "cell_type": "code",
      "metadata": {
        "id": "3G8-5a3Z273-",
        "colab_type": "code",
        "colab": {}
      },
      "source": [
        "learning_rate = 0.01\n",
        "\n",
        "unfrozen_vars = tf.get_collection(tf.GraphKeys.TRAINABLE_VARIABLES, scope=\"hidden[34]|new_logits\")\n",
        "optimizer = tf.train.AdamOptimizer(learning_rate, name=\"Adam3\")\n",
        "training_op = optimizer.minimize(loss, var_list=unfrozen_vars)\n",
        "\n",
        "init = tf.global_variables_initializer()\n",
        "two_frozen_saver = tf.train.Saver()"
      ],
      "execution_count": null,
      "outputs": []
    },
    {
      "cell_type": "code",
      "metadata": {
        "id": "RmP0sMF4274B",
        "colab_type": "code",
        "colab": {},
        "outputId": "791cc764-ecbd-4e64-9a2f-f1b99091488a"
      },
      "source": [
        "n_epochs = 1000\n",
        "batch_size = 20\n",
        "\n",
        "max_checks_without_progress = 20\n",
        "checks_without_progress = 0\n",
        "best_loss = np.infty\n",
        "\n",
        "with tf.Session() as sess:\n",
        "    init.run()\n",
        "    four_frozen_saver.restore(sess, \"./my_mnist_model_5_to_9_four_frozen\")\n",
        "        \n",
        "    for epoch in range(n_epochs):\n",
        "        rnd_idx = np.random.permutation(len(X_train2))\n",
        "        for rnd_indices in np.array_split(rnd_idx, len(X_train2) // batch_size):\n",
        "            X_batch, y_batch = X_train2[rnd_indices], y_train2[rnd_indices]\n",
        "            sess.run(training_op, feed_dict={X: X_batch, y: y_batch})\n",
        "        loss_val, acc_val = sess.run([loss, accuracy], feed_dict={X: X_valid2, y: y_valid2})\n",
        "        if loss_val < best_loss:\n",
        "            save_path = two_frozen_saver.save(sess, \"./my_mnist_model_5_to_9_two_frozen\")\n",
        "            best_loss = loss_val\n",
        "            checks_without_progress = 0\n",
        "        else:\n",
        "            checks_without_progress += 1\n",
        "            if checks_without_progress > max_checks_without_progress:\n",
        "                print(\"Early stopping!\")\n",
        "                break\n",
        "        print(\"{}\\tValidation loss: {:.6f}\\tBest loss: {:.6f}\\tAccuracy: {:.2f}%\".format(\n",
        "            epoch, loss_val, best_loss, acc_val * 100))\n",
        "\n",
        "with tf.Session() as sess:\n",
        "    two_frozen_saver.restore(sess, \"./my_mnist_model_5_to_9_two_frozen\")\n",
        "    acc_test = accuracy.eval(feed_dict={X: X_test2, y: y_test2})\n",
        "    print(\"Final test accuracy: {:.2f}%\".format(acc_test * 100))"
      ],
      "execution_count": null,
      "outputs": [
        {
          "output_type": "stream",
          "text": [
            "INFO:tensorflow:Restoring parameters from ./my_mnist_model_5_to_9_four_frozen\n",
            "0\tValidation loss: 1.054859\tBest loss: 1.054859\tAccuracy: 74.00%\n",
            "1\tValidation loss: 0.812410\tBest loss: 0.812410\tAccuracy: 78.00%\n",
            "2\tValidation loss: 0.750377\tBest loss: 0.750377\tAccuracy: 80.67%\n",
            "3\tValidation loss: 0.570973\tBest loss: 0.570973\tAccuracy: 84.67%\n",
            "4\tValidation loss: 0.805442\tBest loss: 0.570973\tAccuracy: 79.33%\n",
            "5\tValidation loss: 0.920925\tBest loss: 0.570973\tAccuracy: 80.00%\n",
            "6\tValidation loss: 0.817471\tBest loss: 0.570973\tAccuracy: 81.33%\n",
            "7\tValidation loss: 0.777876\tBest loss: 0.570973\tAccuracy: 84.00%\n",
            "8\tValidation loss: 1.030498\tBest loss: 0.570973\tAccuracy: 74.67%\n",
            "9\tValidation loss: 1.074356\tBest loss: 0.570973\tAccuracy: 81.33%\n",
            "10\tValidation loss: 0.912521\tBest loss: 0.570973\tAccuracy: 83.33%\n",
            "11\tValidation loss: 1.356695\tBest loss: 0.570973\tAccuracy: 79.33%\n",
            "12\tValidation loss: 0.918798\tBest loss: 0.570973\tAccuracy: 82.00%\n",
            "13\tValidation loss: 0.971029\tBest loss: 0.570973\tAccuracy: 82.67%\n",
            "14\tValidation loss: 0.860108\tBest loss: 0.570973\tAccuracy: 83.33%\n",
            "15\tValidation loss: 1.074813\tBest loss: 0.570973\tAccuracy: 82.00%\n",
            "16\tValidation loss: 0.867760\tBest loss: 0.570973\tAccuracy: 84.00%\n",
            "17\tValidation loss: 0.858290\tBest loss: 0.570973\tAccuracy: 85.33%\n",
            "18\tValidation loss: 0.996560\tBest loss: 0.570973\tAccuracy: 85.33%\n",
            "19\tValidation loss: 1.304507\tBest loss: 0.570973\tAccuracy: 83.33%\n",
            "20\tValidation loss: 1.134808\tBest loss: 0.570973\tAccuracy: 80.67%\n",
            "21\tValidation loss: 1.189581\tBest loss: 0.570973\tAccuracy: 82.00%\n",
            "22\tValidation loss: 1.131344\tBest loss: 0.570973\tAccuracy: 81.33%\n",
            "23\tValidation loss: 1.240507\tBest loss: 0.570973\tAccuracy: 82.67%\n",
            "Early stopping!\n",
            "INFO:tensorflow:Restoring parameters from ./my_mnist_model_5_to_9_two_frozen\n",
            "Final test accuracy: 78.09%\n"
          ],
          "name": "stdout"
        }
      ]
    },
    {
      "cell_type": "markdown",
      "metadata": {
        "id": "fT6BF7Lh274C",
        "colab_type": "text"
      },
      "source": [
        "Let's check what accuracy we can get by unfreezing all layers:"
      ]
    },
    {
      "cell_type": "code",
      "metadata": {
        "id": "8UwBBDD_274F",
        "colab_type": "code",
        "colab": {}
      },
      "source": [
        "learning_rate = 0.01\n",
        "\n",
        "optimizer = tf.train.AdamOptimizer(learning_rate, name=\"Adam4\")\n",
        "training_op = optimizer.minimize(loss)\n",
        "\n",
        "init = tf.global_variables_initializer()\n",
        "no_frozen_saver = tf.train.Saver()"
      ],
      "execution_count": null,
      "outputs": []
    },
    {
      "cell_type": "code",
      "metadata": {
        "id": "dPxnNcbI274G",
        "colab_type": "code",
        "colab": {},
        "outputId": "f3dd99c9-042b-452e-9fd2-88a471e7029d"
      },
      "source": [
        "n_epochs = 1000\n",
        "batch_size = 20\n",
        "\n",
        "max_checks_without_progress = 20\n",
        "checks_without_progress = 0\n",
        "best_loss = np.infty\n",
        "\n",
        "with tf.Session() as sess:\n",
        "    init.run()\n",
        "    two_frozen_saver.restore(sess, \"./my_mnist_model_5_to_9_two_frozen\")\n",
        "        \n",
        "    for epoch in range(n_epochs):\n",
        "        rnd_idx = np.random.permutation(len(X_train2))\n",
        "        for rnd_indices in np.array_split(rnd_idx, len(X_train2) // batch_size):\n",
        "            X_batch, y_batch = X_train2[rnd_indices], y_train2[rnd_indices]\n",
        "            sess.run(training_op, feed_dict={X: X_batch, y: y_batch})\n",
        "        loss_val, acc_val = sess.run([loss, accuracy], feed_dict={X: X_valid2, y: y_valid2})\n",
        "        if loss_val < best_loss:\n",
        "            save_path = no_frozen_saver.save(sess, \"./my_mnist_model_5_to_9_no_frozen\")\n",
        "            best_loss = loss_val\n",
        "            checks_without_progress = 0\n",
        "        else:\n",
        "            checks_without_progress += 1\n",
        "            if checks_without_progress > max_checks_without_progress:\n",
        "                print(\"Early stopping!\")\n",
        "                break\n",
        "        print(\"{}\\tValidation loss: {:.6f}\\tBest loss: {:.6f}\\tAccuracy: {:.2f}%\".format(\n",
        "            epoch, loss_val, best_loss, acc_val * 100))\n",
        "\n",
        "with tf.Session() as sess:\n",
        "    no_frozen_saver.restore(sess, \"./my_mnist_model_5_to_9_no_frozen\")\n",
        "    acc_test = accuracy.eval(feed_dict={X: X_test2, y: y_test2})\n",
        "    print(\"Final test accuracy: {:.2f}%\".format(acc_test * 100))"
      ],
      "execution_count": null,
      "outputs": [
        {
          "output_type": "stream",
          "text": [
            "INFO:tensorflow:Restoring parameters from ./my_mnist_model_5_to_9_two_frozen\n",
            "0\tValidation loss: 0.863416\tBest loss: 0.863416\tAccuracy: 86.00%\n",
            "1\tValidation loss: 0.695079\tBest loss: 0.695079\tAccuracy: 90.00%\n",
            "2\tValidation loss: 0.402921\tBest loss: 0.402921\tAccuracy: 92.00%\n",
            "3\tValidation loss: 0.606936\tBest loss: 0.402921\tAccuracy: 92.00%\n",
            "4\tValidation loss: 0.354645\tBest loss: 0.354645\tAccuracy: 90.67%\n",
            "5\tValidation loss: 0.376935\tBest loss: 0.354645\tAccuracy: 90.67%\n",
            "6\tValidation loss: 0.593208\tBest loss: 0.354645\tAccuracy: 90.00%\n",
            "7\tValidation loss: 0.388302\tBest loss: 0.354645\tAccuracy: 92.67%\n",
            "8\tValidation loss: 0.503276\tBest loss: 0.354645\tAccuracy: 91.33%\n",
            "9\tValidation loss: 1.440716\tBest loss: 0.354645\tAccuracy: 80.00%\n",
            "10\tValidation loss: 0.464323\tBest loss: 0.354645\tAccuracy: 92.00%\n",
            "11\tValidation loss: 0.410302\tBest loss: 0.354645\tAccuracy: 93.33%\n",
            "12\tValidation loss: 1.131754\tBest loss: 0.354645\tAccuracy: 88.00%\n",
            "13\tValidation loss: 0.511544\tBest loss: 0.354645\tAccuracy: 92.00%\n",
            "14\tValidation loss: 0.402083\tBest loss: 0.354645\tAccuracy: 94.00%\n",
            "15\tValidation loss: 1.149943\tBest loss: 0.354645\tAccuracy: 92.00%\n",
            "16\tValidation loss: 0.405171\tBest loss: 0.354645\tAccuracy: 94.00%\n",
            "17\tValidation loss: 0.304346\tBest loss: 0.304346\tAccuracy: 94.67%\n",
            "18\tValidation loss: 0.386952\tBest loss: 0.304346\tAccuracy: 94.67%\n",
            "19\tValidation loss: 0.387063\tBest loss: 0.304346\tAccuracy: 94.67%\n",
            "20\tValidation loss: 0.384417\tBest loss: 0.304346\tAccuracy: 94.67%\n",
            "21\tValidation loss: 0.381116\tBest loss: 0.304346\tAccuracy: 94.67%\n",
            "22\tValidation loss: 0.379346\tBest loss: 0.304346\tAccuracy: 94.67%\n",
            "23\tValidation loss: 0.378128\tBest loss: 0.304346\tAccuracy: 94.67%\n",
            "24\tValidation loss: 0.376642\tBest loss: 0.304346\tAccuracy: 94.67%\n",
            "25\tValidation loss: 0.375432\tBest loss: 0.304346\tAccuracy: 94.67%\n",
            "26\tValidation loss: 0.374804\tBest loss: 0.304346\tAccuracy: 94.67%\n",
            "27\tValidation loss: 0.373952\tBest loss: 0.304346\tAccuracy: 94.67%\n",
            "28\tValidation loss: 0.373471\tBest loss: 0.304346\tAccuracy: 94.67%\n",
            "29\tValidation loss: 0.373027\tBest loss: 0.304346\tAccuracy: 94.67%\n",
            "30\tValidation loss: 0.373124\tBest loss: 0.304346\tAccuracy: 94.67%\n",
            "31\tValidation loss: 0.373098\tBest loss: 0.304346\tAccuracy: 94.67%\n",
            "32\tValidation loss: 0.373206\tBest loss: 0.304346\tAccuracy: 94.67%\n",
            "33\tValidation loss: 0.372812\tBest loss: 0.304346\tAccuracy: 94.67%\n",
            "34\tValidation loss: 0.373109\tBest loss: 0.304346\tAccuracy: 94.67%\n",
            "35\tValidation loss: 0.372616\tBest loss: 0.304346\tAccuracy: 94.67%\n",
            "36\tValidation loss: 0.372491\tBest loss: 0.304346\tAccuracy: 94.67%\n",
            "37\tValidation loss: 0.372270\tBest loss: 0.304346\tAccuracy: 94.67%\n",
            "Early stopping!\n",
            "INFO:tensorflow:Restoring parameters from ./my_mnist_model_5_to_9_no_frozen\n",
            "Final test accuracy: 91.34%\n"
          ],
          "name": "stdout"
        }
      ]
    },
    {
      "cell_type": "markdown",
      "metadata": {
        "id": "squVoa1A274H",
        "colab_type": "text"
      },
      "source": [
        "Let's compare that to a DNN trained from scratch:"
      ]
    },
    {
      "cell_type": "code",
      "metadata": {
        "id": "8-AFBTlI274H",
        "colab_type": "code",
        "colab": {},
        "outputId": "534468e2-e440-408d-fe9b-bcb1045c9ccc"
      },
      "source": [
        "dnn_clf_5_to_9 = DNNClassifier(n_hidden_layers=4, random_state=42)\n",
        "dnn_clf_5_to_9.fit(X_train2, y_train2, n_epochs=1000, X_valid=X_valid2, y_valid=y_valid2)"
      ],
      "execution_count": null,
      "outputs": [
        {
          "output_type": "stream",
          "text": [
            "0\tValidation loss: 0.674618\tBest loss: 0.674618\tAccuracy: 80.67%\n",
            "1\tValidation loss: 0.584845\tBest loss: 0.584845\tAccuracy: 88.67%\n",
            "2\tValidation loss: 0.647296\tBest loss: 0.584845\tAccuracy: 84.00%\n",
            "3\tValidation loss: 0.530389\tBest loss: 0.530389\tAccuracy: 87.33%\n",
            "4\tValidation loss: 0.683215\tBest loss: 0.530389\tAccuracy: 90.67%\n",
            "5\tValidation loss: 0.538040\tBest loss: 0.530389\tAccuracy: 89.33%\n",
            "6\tValidation loss: 0.670196\tBest loss: 0.530389\tAccuracy: 90.67%\n",
            "7\tValidation loss: 0.836470\tBest loss: 0.530389\tAccuracy: 85.33%\n",
            "8\tValidation loss: 0.837684\tBest loss: 0.530389\tAccuracy: 92.67%\n",
            "9\tValidation loss: 0.588950\tBest loss: 0.530389\tAccuracy: 88.00%\n",
            "10\tValidation loss: 0.643213\tBest loss: 0.530389\tAccuracy: 90.67%\n",
            "11\tValidation loss: 1.010521\tBest loss: 0.530389\tAccuracy: 88.00%\n",
            "12\tValidation loss: 0.931423\tBest loss: 0.530389\tAccuracy: 90.00%\n",
            "13\tValidation loss: 1.563524\tBest loss: 0.530389\tAccuracy: 88.67%\n",
            "14\tValidation loss: 2.340119\tBest loss: 0.530389\tAccuracy: 89.33%\n",
            "15\tValidation loss: 1.402095\tBest loss: 0.530389\tAccuracy: 88.00%\n",
            "16\tValidation loss: 1.269974\tBest loss: 0.530389\tAccuracy: 86.00%\n",
            "17\tValidation loss: 1.036325\tBest loss: 0.530389\tAccuracy: 89.33%\n",
            "18\tValidation loss: 1.578565\tBest loss: 0.530389\tAccuracy: 88.67%\n",
            "19\tValidation loss: 0.993890\tBest loss: 0.530389\tAccuracy: 93.33%\n",
            "20\tValidation loss: 0.958130\tBest loss: 0.530389\tAccuracy: 87.33%\n",
            "21\tValidation loss: 1.505322\tBest loss: 0.530389\tAccuracy: 88.67%\n",
            "22\tValidation loss: 1.378772\tBest loss: 0.530389\tAccuracy: 89.33%\n",
            "23\tValidation loss: 0.999445\tBest loss: 0.530389\tAccuracy: 88.00%\n",
            "24\tValidation loss: 2.366345\tBest loss: 0.530389\tAccuracy: 90.00%\n",
            "Early stopping!\n"
          ],
          "name": "stdout"
        },
        {
          "output_type": "execute_result",
          "data": {
            "text/plain": [
              "DNNClassifier(activation=<function elu at 0x1243639d8>,\n",
              "       batch_norm_momentum=None, batch_size=20, dropout_rate=None,\n",
              "       initializer=<tensorflow.python.ops.init_ops.VarianceScaling object at 0x117bf5828>,\n",
              "       learning_rate=0.01, n_hidden_layers=4, n_neurons=100,\n",
              "       optimizer_class=<class 'tensorflow.python.training.adam.AdamOptimizer'>,\n",
              "       random_state=42)"
            ]
          },
          "metadata": {
            "tags": []
          },
          "execution_count": 155
        }
      ]
    },
    {
      "cell_type": "code",
      "metadata": {
        "id": "iATkqcNH274L",
        "colab_type": "code",
        "colab": {},
        "outputId": "f5165a2e-0bc4-4fd5-e8bc-648d066a1316"
      },
      "source": [
        "y_pred = dnn_clf_5_to_9.predict(X_test2)\n",
        "accuracy_score(y_test2, y_pred)"
      ],
      "execution_count": null,
      "outputs": [
        {
          "output_type": "execute_result",
          "data": {
            "text/plain": [
              "0.8481793869574161"
            ]
          },
          "metadata": {
            "tags": []
          },
          "execution_count": 156
        }
      ]
    },
    {
      "cell_type": "markdown",
      "metadata": {
        "id": "q9sK8pbG274M",
        "colab_type": "text"
      },
      "source": [
        "Transfer learning allowed us to go from 84.8% accuracy to 91.3%. Not too bad!"
      ]
    },
    {
      "cell_type": "markdown",
      "metadata": {
        "id": "o1hr8RgI274M",
        "colab_type": "text"
      },
      "source": [
        "## 10. Pretraining on an auxiliary task"
      ]
    },
    {
      "cell_type": "markdown",
      "metadata": {
        "id": "Y0ixH5Pt274N",
        "colab_type": "text"
      },
      "source": [
        "In this exercise you will build a DNN that compares two MNIST digit images and predicts whether they represent the same digit or not. Then you will reuse the lower layers of this network to train an MNIST classifier using very little training data."
      ]
    },
    {
      "cell_type": "markdown",
      "metadata": {
        "id": "mFOw9S3O274N",
        "colab_type": "text"
      },
      "source": [
        "### 10.1.\n",
        "Exercise: _Start by building two DNNs (let's call them DNN A and B), both similar to the one you built earlier but without the output layer: each DNN should have five hidden layers of 100 neurons each, He initialization, and ELU activation. Next, add one more hidden layer with 10 units on top of both DNNs. You should use TensorFlow's `concat()` function with `axis=1` to concatenate the outputs of both DNNs along the horizontal axis, then feed the result to the hidden layer. Finally, add an output layer with a single neuron using the logistic activation function._"
      ]
    },
    {
      "cell_type": "markdown",
      "metadata": {
        "id": "tSp4Cr2U274N",
        "colab_type": "text"
      },
      "source": [
        "**Warning**! There was an error in the book for this exercise: there was no instruction to add a top hidden layer. Without it, the neural network generally fails to start learning. If you have the latest version of the book, this error has been fixed."
      ]
    },
    {
      "cell_type": "markdown",
      "metadata": {
        "id": "1A785G9L274N",
        "colab_type": "text"
      },
      "source": [
        "You could have two input placeholders, `X1` and `X2`, one for the images that should be fed to the first DNN, and the other for the images that should be fed to the second DNN. It would work fine. However, another option is to have a single input placeholder to hold both sets of images (each row will hold a pair of images), and use `tf.unstack()` to split this tensor into two separate tensors, like this:"
      ]
    },
    {
      "cell_type": "code",
      "metadata": {
        "id": "sMJiTie1274N",
        "colab_type": "code",
        "colab": {}
      },
      "source": [
        "n_inputs = 28 * 28 # MNIST\n",
        "\n",
        "reset_graph()\n",
        "\n",
        "X = tf.placeholder(tf.float32, shape=(None, 2, n_inputs), name=\"X\")\n",
        "X1, X2 = tf.unstack(X, axis=1)"
      ],
      "execution_count": null,
      "outputs": []
    },
    {
      "cell_type": "markdown",
      "metadata": {
        "id": "CZRKxVb4274O",
        "colab_type": "text"
      },
      "source": [
        "We also need the labels placeholder. Each label will be 0 if the images represent different digits, or 1 if they represent the same digit:"
      ]
    },
    {
      "cell_type": "code",
      "metadata": {
        "id": "TKLmghYi274P",
        "colab_type": "code",
        "colab": {}
      },
      "source": [
        "y = tf.placeholder(tf.int32, shape=[None, 1])"
      ],
      "execution_count": null,
      "outputs": []
    },
    {
      "cell_type": "markdown",
      "metadata": {
        "id": "KJYa1VIP274Q",
        "colab_type": "text"
      },
      "source": [
        "Now let's feed these inputs through two separate DNNs:"
      ]
    },
    {
      "cell_type": "code",
      "metadata": {
        "id": "zDXx1DM-274Q",
        "colab_type": "code",
        "colab": {}
      },
      "source": [
        "dnn1 = dnn(X1, name=\"DNN_A\")\n",
        "dnn2 = dnn(X2, name=\"DNN_B\")"
      ],
      "execution_count": null,
      "outputs": []
    },
    {
      "cell_type": "markdown",
      "metadata": {
        "id": "BhpFAClq274S",
        "colab_type": "text"
      },
      "source": [
        "And let's concatenate their outputs:"
      ]
    },
    {
      "cell_type": "code",
      "metadata": {
        "id": "flqyRdkj274S",
        "colab_type": "code",
        "colab": {}
      },
      "source": [
        "dnn_outputs = tf.concat([dnn1, dnn2], axis=1)"
      ],
      "execution_count": null,
      "outputs": []
    },
    {
      "cell_type": "markdown",
      "metadata": {
        "id": "hmF-5LJY274T",
        "colab_type": "text"
      },
      "source": [
        "Each DNN outputs 100 activations (per instance), so the shape is `[None, 100]`:"
      ]
    },
    {
      "cell_type": "code",
      "metadata": {
        "id": "mvntRjLy274T",
        "colab_type": "code",
        "colab": {},
        "outputId": "d69b53ca-9b0b-4305-a15c-8286265ebafb"
      },
      "source": [
        "dnn1.shape"
      ],
      "execution_count": null,
      "outputs": [
        {
          "output_type": "execute_result",
          "data": {
            "text/plain": [
              "TensorShape([Dimension(None), Dimension(100)])"
            ]
          },
          "metadata": {
            "tags": []
          },
          "execution_count": 161
        }
      ]
    },
    {
      "cell_type": "code",
      "metadata": {
        "id": "G_fJUyR_274U",
        "colab_type": "code",
        "colab": {},
        "outputId": "cbbbf48a-112e-4cf4-e618-52183037288e"
      },
      "source": [
        "dnn2.shape"
      ],
      "execution_count": null,
      "outputs": [
        {
          "output_type": "execute_result",
          "data": {
            "text/plain": [
              "TensorShape([Dimension(None), Dimension(100)])"
            ]
          },
          "metadata": {
            "tags": []
          },
          "execution_count": 162
        }
      ]
    },
    {
      "cell_type": "markdown",
      "metadata": {
        "id": "a3b-beRL274W",
        "colab_type": "text"
      },
      "source": [
        "And of course the concatenated outputs have a shape of `[None, 200]`:"
      ]
    },
    {
      "cell_type": "code",
      "metadata": {
        "id": "wX8k8Sfb274W",
        "colab_type": "code",
        "colab": {},
        "outputId": "80828846-d7bd-4aaa-9b0d-dfd2a54b9b3f"
      },
      "source": [
        "dnn_outputs.shape"
      ],
      "execution_count": null,
      "outputs": [
        {
          "output_type": "execute_result",
          "data": {
            "text/plain": [
              "TensorShape([Dimension(None), Dimension(200)])"
            ]
          },
          "metadata": {
            "tags": []
          },
          "execution_count": 163
        }
      ]
    },
    {
      "cell_type": "markdown",
      "metadata": {
        "id": "tHfaniJD274X",
        "colab_type": "text"
      },
      "source": [
        "Now lets add an extra hidden layer with just 10 neurons, and the output layer, with a single neuron:"
      ]
    },
    {
      "cell_type": "code",
      "metadata": {
        "id": "raykUVoO274X",
        "colab_type": "code",
        "colab": {}
      },
      "source": [
        "hidden = tf.layers.dense(dnn_outputs, units=10, activation=tf.nn.elu, kernel_initializer=he_init)\n",
        "logits = tf.layers.dense(hidden, units=1, kernel_initializer=he_init)\n",
        "y_proba = tf.nn.sigmoid(logits)"
      ],
      "execution_count": null,
      "outputs": []
    },
    {
      "cell_type": "markdown",
      "metadata": {
        "id": "BhQrFDyx274Y",
        "colab_type": "text"
      },
      "source": [
        "The whole network predicts `1` if `y_proba >= 0.5` (i.e. the network predicts that the images represent the same digit), or `0` otherwise. We compute instead `logits >= 0`, which is equivalent but faster to compute: "
      ]
    },
    {
      "cell_type": "code",
      "metadata": {
        "id": "ZIWu9Jur274Y",
        "colab_type": "code",
        "colab": {}
      },
      "source": [
        "y_pred = tf.cast(tf.greater_equal(logits, 0), tf.int32)"
      ],
      "execution_count": null,
      "outputs": []
    },
    {
      "cell_type": "markdown",
      "metadata": {
        "id": "6F9lUHvD274Z",
        "colab_type": "text"
      },
      "source": [
        "Now let's add the cost function:"
      ]
    },
    {
      "cell_type": "code",
      "metadata": {
        "id": "cgx8RXk4274Z",
        "colab_type": "code",
        "colab": {}
      },
      "source": [
        "y_as_float = tf.cast(y, tf.float32)\n",
        "xentropy = tf.nn.sigmoid_cross_entropy_with_logits(labels=y_as_float, logits=logits)\n",
        "loss = tf.reduce_mean(xentropy)"
      ],
      "execution_count": null,
      "outputs": []
    },
    {
      "cell_type": "markdown",
      "metadata": {
        "id": "AEqXSuCr274a",
        "colab_type": "text"
      },
      "source": [
        "And we can now create the training operation using an optimizer:"
      ]
    },
    {
      "cell_type": "code",
      "metadata": {
        "id": "_awX0viu274a",
        "colab_type": "code",
        "colab": {}
      },
      "source": [
        "learning_rate = 0.01\n",
        "momentum = 0.95\n",
        "\n",
        "optimizer = tf.train.MomentumOptimizer(learning_rate, momentum, use_nesterov=True)\n",
        "training_op = optimizer.minimize(loss)"
      ],
      "execution_count": null,
      "outputs": []
    },
    {
      "cell_type": "markdown",
      "metadata": {
        "id": "BVICrpVg274b",
        "colab_type": "text"
      },
      "source": [
        "We will want to measure our classifier's accuracy."
      ]
    },
    {
      "cell_type": "code",
      "metadata": {
        "id": "pOk6E_aM274b",
        "colab_type": "code",
        "colab": {}
      },
      "source": [
        "y_pred_correct = tf.equal(y_pred, y)\n",
        "accuracy = tf.reduce_mean(tf.cast(y_pred_correct, tf.float32))"
      ],
      "execution_count": null,
      "outputs": []
    },
    {
      "cell_type": "markdown",
      "metadata": {
        "id": "4WKxssFT274c",
        "colab_type": "text"
      },
      "source": [
        "And the usual `init` and `saver`:"
      ]
    },
    {
      "cell_type": "code",
      "metadata": {
        "id": "7e4FnBJf274c",
        "colab_type": "code",
        "colab": {}
      },
      "source": [
        "init = tf.global_variables_initializer()\n",
        "saver = tf.train.Saver()"
      ],
      "execution_count": null,
      "outputs": []
    },
    {
      "cell_type": "markdown",
      "metadata": {
        "id": "h2wa0AWn274d",
        "colab_type": "text"
      },
      "source": [
        "### 10.2.\n",
        "_Exercise: split the MNIST training set in two sets: split #1 should containing 55,000 images, and split #2 should contain contain 5,000 images. Create a function that generates a training batch where each instance is a pair of MNIST images picked from split #1. Half of the training instances should be pairs of images that belong to the same class, while the other half should be images from different classes. For each pair, the training label should be 0 if the images are from the same class, or 1 if they are from different classes._"
      ]
    },
    {
      "cell_type": "markdown",
      "metadata": {
        "id": "z5MjbDzJ274d",
        "colab_type": "text"
      },
      "source": [
        "The MNIST dataset returned by TensorFlow's `input_data()` function is already split into 3 parts: a training set (55,000 instances), a validation set (5,000 instances) and a test set (10,000 instances). Let's use the first set to generate the training set composed image pairs, and we will use the second set for the second phase of the exercise (to train a regular MNIST classifier). We will use the third set as the test set for both phases."
      ]
    },
    {
      "cell_type": "code",
      "metadata": {
        "id": "4cLQcL3t274d",
        "colab_type": "code",
        "colab": {}
      },
      "source": [
        "X_train1 = X_train\n",
        "y_train1 = y_train\n",
        "\n",
        "X_train2 = X_valid\n",
        "y_train2 = y_valid\n",
        "\n",
        "X_test = X_test\n",
        "y_test = y_test"
      ],
      "execution_count": null,
      "outputs": []
    },
    {
      "cell_type": "markdown",
      "metadata": {
        "id": "_eXnSHrn274f",
        "colab_type": "text"
      },
      "source": [
        "Let's write a function that generates pairs of images: 50% representing the same digit, and 50% representing different digits. There are many ways to implement this. In this implementation, we first decide how many \"same\" pairs (i.e. pairs of images representing the same digit) we will generate, and how many \"different\" pairs (i.e. pairs of images representing different digits). We could just use `batch_size // 2` but we want to handle the case where it is odd (granted, that might be overkill!). Then we generate random pairs and we pick the right number of \"same\" pairs, then we generate the right number of \"different\" pairs. Finally we shuffle the batch and return it:"
      ]
    },
    {
      "cell_type": "code",
      "metadata": {
        "id": "Oc_IS_58274f",
        "colab_type": "code",
        "colab": {}
      },
      "source": [
        "def generate_batch(images, labels, batch_size):\n",
        "    size1 = batch_size // 2\n",
        "    size2 = batch_size - size1\n",
        "    if size1 != size2 and np.random.rand() > 0.5:\n",
        "        size1, size2 = size2, size1\n",
        "    X = []\n",
        "    y = []\n",
        "    while len(X) < size1:\n",
        "        rnd_idx1, rnd_idx2 = np.random.randint(0, len(images), 2)\n",
        "        if rnd_idx1 != rnd_idx2 and labels[rnd_idx1] == labels[rnd_idx2]:\n",
        "            X.append(np.array([images[rnd_idx1], images[rnd_idx2]]))\n",
        "            y.append([1])\n",
        "    while len(X) < batch_size:\n",
        "        rnd_idx1, rnd_idx2 = np.random.randint(0, len(images), 2)\n",
        "        if labels[rnd_idx1] != labels[rnd_idx2]:\n",
        "            X.append(np.array([images[rnd_idx1], images[rnd_idx2]]))\n",
        "            y.append([0])\n",
        "    rnd_indices = np.random.permutation(batch_size)\n",
        "    return np.array(X)[rnd_indices], np.array(y)[rnd_indices]"
      ],
      "execution_count": null,
      "outputs": []
    },
    {
      "cell_type": "markdown",
      "metadata": {
        "id": "-l67n0mK274g",
        "colab_type": "text"
      },
      "source": [
        "Let's test it to generate a small batch of 5 image pairs:"
      ]
    },
    {
      "cell_type": "code",
      "metadata": {
        "id": "3X5pcWSr274g",
        "colab_type": "code",
        "colab": {}
      },
      "source": [
        "batch_size = 5\n",
        "X_batch, y_batch = generate_batch(X_train1, y_train1, batch_size)"
      ],
      "execution_count": null,
      "outputs": []
    },
    {
      "cell_type": "markdown",
      "metadata": {
        "id": "8M3-3PJK274h",
        "colab_type": "text"
      },
      "source": [
        "Each row in `X_batch` contains a pair of images:"
      ]
    },
    {
      "cell_type": "code",
      "metadata": {
        "id": "7g0J--E4274h",
        "colab_type": "code",
        "colab": {},
        "outputId": "e90ebb06-b578-4d88-f77b-298afc67b0ee"
      },
      "source": [
        "X_batch.shape, X_batch.dtype"
      ],
      "execution_count": null,
      "outputs": [
        {
          "output_type": "execute_result",
          "data": {
            "text/plain": [
              "((5, 2, 784), dtype('float32'))"
            ]
          },
          "metadata": {
            "tags": []
          },
          "execution_count": 173
        }
      ]
    },
    {
      "cell_type": "markdown",
      "metadata": {
        "id": "0OLyLR17274i",
        "colab_type": "text"
      },
      "source": [
        "Let's look at these pairs:"
      ]
    },
    {
      "cell_type": "code",
      "metadata": {
        "id": "V6g1LgTN274i",
        "colab_type": "code",
        "colab": {},
        "outputId": "f14e9c40-de7c-41f3-c475-3582ad16980f"
      },
      "source": [
        "plt.figure(figsize=(3, 3 * batch_size))\n",
        "plt.subplot(121)\n",
        "plt.imshow(X_batch[:,0].reshape(28 * batch_size, 28), cmap=\"binary\", interpolation=\"nearest\")\n",
        "plt.axis('off')\n",
        "plt.subplot(122)\n",
        "plt.imshow(X_batch[:,1].reshape(28 * batch_size, 28), cmap=\"binary\", interpolation=\"nearest\")\n",
        "plt.axis('off')\n",
        "plt.show()"
      ],
      "execution_count": null,
      "outputs": [
        {
          "output_type": "display_data",
          "data": {
            "image/png": "[encoded data removed]",
            "text/plain": [
              "<Figure size 216x1080 with 2 Axes>"
            ]
          },
          "metadata": {
            "tags": [],
            "needs_background": "light"
          }
        }
      ]
    },
    {
      "cell_type": "markdown",
      "metadata": {
        "id": "9Pi9tG6G274j",
        "colab_type": "text"
      },
      "source": [
        "And let's look at the labels (0 means \"different\", 1 means \"same\"):"
      ]
    },
    {
      "cell_type": "code",
      "metadata": {
        "id": "m59C6dJI274j",
        "colab_type": "code",
        "colab": {},
        "outputId": "0e02d216-e2c8-4df4-d57a-81a20d78ba1f"
      },
      "source": [
        "y_batch"
      ],
      "execution_count": null,
      "outputs": [
        {
          "output_type": "execute_result",
          "data": {
            "text/plain": [
              "array([[1],\n",
              "       [0],\n",
              "       [0],\n",
              "       [1],\n",
              "       [0]])"
            ]
          },
          "metadata": {
            "tags": []
          },
          "execution_count": 175
        }
      ]
    },
    {
      "cell_type": "markdown",
      "metadata": {
        "id": "776Vm30n274k",
        "colab_type": "text"
      },
      "source": [
        "Perfect!"
      ]
    },
    {
      "cell_type": "markdown",
      "metadata": {
        "id": "EwIwKqHI274k",
        "colab_type": "text"
      },
      "source": [
        "### 10.3.\n",
        "_Exercise: train the DNN on this training set. For each image pair, you can simultaneously feed the first image to DNN A and the second image to DNN B. The whole network will gradually learn to tell whether two images belong to the same class or not._"
      ]
    },
    {
      "cell_type": "markdown",
      "metadata": {
        "id": "b_y5zhwj274k",
        "colab_type": "text"
      },
      "source": [
        "Let's generate a test set composed of many pairs of images pulled from the MNIST test set:"
      ]
    },
    {
      "cell_type": "code",
      "metadata": {
        "id": "NnEmMBFF274k",
        "colab_type": "code",
        "colab": {}
      },
      "source": [
        "X_test1, y_test1 = generate_batch(X_test, y_test, batch_size=len(X_test))"
      ],
      "execution_count": null,
      "outputs": []
    },
    {
      "cell_type": "markdown",
      "metadata": {
        "id": "6GYhzsPO274l",
        "colab_type": "text"
      },
      "source": [
        "And now, let's train the model. There's really nothing special about this step, except for the fact that we need a fairly large `batch_size`, otherwise the model fails to learn anything and ends up with an accuracy of 50%:"
      ]
    },
    {
      "cell_type": "code",
      "metadata": {
        "id": "lFYKcGp5274l",
        "colab_type": "code",
        "colab": {},
        "outputId": "2b930ebe-1fb6-47fe-d234-b14eb9f0b45e"
      },
      "source": [
        "n_epochs = 100\n",
        "batch_size = 500\n",
        "\n",
        "with tf.Session() as sess:\n",
        "    init.run()\n",
        "    for epoch in range(n_epochs):\n",
        "        for iteration in range(len(X_train1) // batch_size):\n",
        "            X_batch, y_batch = generate_batch(X_train1, y_train1, batch_size)\n",
        "            loss_val, _ = sess.run([loss, training_op], feed_dict={X: X_batch, y: y_batch})\n",
        "        print(epoch, \"Train loss:\", loss_val)\n",
        "        if epoch % 5 == 0:\n",
        "            acc_test = accuracy.eval(feed_dict={X: X_test1, y: y_test1})\n",
        "            print(epoch, \"Test accuracy:\", acc_test)\n",
        "\n",
        "    save_path = saver.save(sess, \"./my_digit_comparison_model.ckpt\")"
      ],
      "execution_count": null,
      "outputs": [
        {
          "output_type": "stream",
          "text": [
            "0 Train loss: 0.69103277\n",
            "0 Test accuracy: 0.542\n",
            "1 Train loss: 0.6035354\n",
            "2 Train loss: 0.54946035\n",
            "3 Train loss: 0.47047246\n",
            "4 Train loss: 0.4060757\n",
            "5 Train loss: 0.38308156\n",
            "5 Test accuracy: 0.824\n",
            "6 Train loss: 0.39047274\n",
            "7 Train loss: 0.3390794\n",
            "8 Train loss: 0.3210671\n",
            "9 Train loss: 0.31792685\n",
            "10 Train loss: 0.24494292\n",
            "10 Test accuracy: 0.8881\n",
            "11 Train loss: 0.2929235\n",
            "12 Train loss: 0.23225449\n",
            "13 Train loss: 0.23180929\n",
            "14 Train loss: 0.19877923\n",
            "15 Train loss: 0.20065464\n",
            "15 Test accuracy: 0.9203\n",
            "16 Train loss: 0.19700499\n",
            "17 Train loss: 0.18893136\n",
            "18 Train loss: 0.19965452\n",
            "19 Train loss: 0.24071647\n",
            "20 Train loss: 0.18882024\n",
            "20 Test accuracy: 0.9367\n",
            "21 Train loss: 0.12419197\n",
            "22 Train loss: 0.14013417\n",
            "23 Train loss: 0.120789476\n",
            "24 Train loss: 0.15721135\n",
            "25 Train loss: 0.11507861\n",
            "25 Test accuracy: 0.948\n",
            "26 Train loss: 0.13891116\n",
            "27 Train loss: 0.1526081\n",
            "28 Train loss: 0.123436704\n",
            "<<50 more lines>>\n",
            "70 Test accuracy: 0.9743\n",
            "71 Train loss: 0.019732744\n",
            "72 Train loss: 0.039464083\n",
            "73 Train loss: 0.04187814\n",
            "74 Train loss: 0.05303406\n",
            "75 Train loss: 0.052625064\n",
            "75 Test accuracy: 0.9756\n",
            "76 Train loss: 0.038283084\n",
            "77 Train loss: 0.026332883\n",
            "78 Train loss: 0.07060841\n",
            "79 Train loss: 0.03239444\n",
            "80 Train loss: 0.03136283\n",
            "80 Test accuracy: 0.9731\n",
            "81 Train loss: 0.04390848\n",
            "82 Train loss: 0.015268046\n",
            "83 Train loss: 0.04875638\n",
            "84 Train loss: 0.029360933\n",
            "85 Train loss: 0.0418443\n",
            "85 Test accuracy: 0.9759\n",
            "86 Train loss: 0.018274888\n",
            "87 Train loss: 0.038872603\n",
            "88 Train loss: 0.02969683\n",
            "89 Train loss: 0.020990817\n",
            "90 Train loss: 0.045234833\n",
            "90 Test accuracy: 0.9769\n",
            "91 Train loss: 0.039237432\n",
            "92 Train loss: 0.031329047\n",
            "93 Train loss: 0.033414133\n",
            "94 Train loss: 0.025883088\n",
            "95 Train loss: 0.019567214\n",
            "95 Test accuracy: 0.9765\n",
            "96 Train loss: 0.020650322\n",
            "97 Train loss: 0.0339851\n",
            "98 Train loss: 0.047079965\n",
            "99 Train loss: 0.03125228\n"
          ],
          "name": "stdout"
        }
      ]
    },
    {
      "cell_type": "markdown",
      "metadata": {
        "id": "m-kUHwdh274m",
        "colab_type": "text"
      },
      "source": [
        "All right, we reach 97.6% accuracy on this digit comparison task. That's not too bad, this model knows a thing or two about comparing handwritten digits!\n",
        "\n",
        "Let's see if some of that knowledge can be useful for the regular MNIST classification task."
      ]
    },
    {
      "cell_type": "markdown",
      "metadata": {
        "id": "vD7YTgiZ274m",
        "colab_type": "text"
      },
      "source": [
        "### 10.4.\n",
        "_Exercise: now create a new DNN by reusing and freezing the hidden layers of DNN A and adding a softmax output layer on top with 10 neurons. Train this network on split #2 and see if you can achieve high performance despite having only 500 images per class._"
      ]
    },
    {
      "cell_type": "markdown",
      "metadata": {
        "id": "Y8yfPLB6274n",
        "colab_type": "text"
      },
      "source": [
        "Let's create the model, it is pretty straightforward. There are many ways to freeze the lower layers, as explained in the book. In this example, we chose to use the `tf.stop_gradient()` function. Note that we need one `Saver` to restore the pretrained DNN A, and another `Saver` to save the final model: "
      ]
    },
    {
      "cell_type": "code",
      "metadata": {
        "id": "iZUmWh1N274n",
        "colab_type": "code",
        "colab": {}
      },
      "source": [
        "reset_graph()\n",
        "\n",
        "n_inputs = 28 * 28  # MNIST\n",
        "n_outputs = 10\n",
        "\n",
        "X = tf.placeholder(tf.float32, shape=(None, n_inputs), name=\"X\")\n",
        "y = tf.placeholder(tf.int32, shape=(None), name=\"y\")\n",
        "\n",
        "dnn_outputs = dnn(X, name=\"DNN_A\")\n",
        "frozen_outputs = tf.stop_gradient(dnn_outputs)\n",
        "\n",
        "logits = tf.layers.dense(frozen_outputs, n_outputs, kernel_initializer=he_init)\n",
        "Y_proba = tf.nn.softmax(logits)\n",
        "\n",
        "xentropy = tf.nn.sparse_softmax_cross_entropy_with_logits(labels=y, logits=logits)\n",
        "loss = tf.reduce_mean(xentropy, name=\"loss\")\n",
        "\n",
        "optimizer = tf.train.MomentumOptimizer(learning_rate, momentum, use_nesterov=True)\n",
        "training_op = optimizer.minimize(loss)\n",
        "\n",
        "correct = tf.nn.in_top_k(logits, y, 1)\n",
        "accuracy = tf.reduce_mean(tf.cast(correct, tf.float32))\n",
        "\n",
        "init = tf.global_variables_initializer()\n",
        "\n",
        "dnn_A_vars = tf.get_collection(tf.GraphKeys.GLOBAL_VARIABLES, scope=\"DNN_A\")\n",
        "restore_saver = tf.train.Saver(var_list={var.op.name: var for var in dnn_A_vars})\n",
        "saver = tf.train.Saver()"
      ],
      "execution_count": null,
      "outputs": []
    },
    {
      "cell_type": "markdown",
      "metadata": {
        "id": "nPBZRuTw274n",
        "colab_type": "text"
      },
      "source": [
        "Now on to training! We first initialize all variables (including the variables in the new output layer), then we restore the pretrained DNN A. Next, we just train the model on the small MNIST dataset (containing just 5,000 images):"
      ]
    },
    {
      "cell_type": "code",
      "metadata": {
        "id": "R6K8wKXB274o",
        "colab_type": "code",
        "colab": {},
        "outputId": "15f0ea6f-9e88-48da-f827-5fa47ca97b63"
      },
      "source": [
        "n_epochs = 100\n",
        "batch_size = 50\n",
        "\n",
        "with tf.Session() as sess:\n",
        "    init.run()\n",
        "    restore_saver.restore(sess, \"./my_digit_comparison_model.ckpt\")\n",
        "\n",
        "    for epoch in range(n_epochs):\n",
        "        rnd_idx = np.random.permutation(len(X_train2))\n",
        "        for rnd_indices in np.array_split(rnd_idx, len(X_train2) // batch_size):\n",
        "            X_batch, y_batch = X_train2[rnd_indices], y_train2[rnd_indices]\n",
        "            sess.run(training_op, feed_dict={X: X_batch, y: y_batch})\n",
        "        if epoch % 10 == 0:\n",
        "            acc_test = accuracy.eval(feed_dict={X: X_test, y: y_test})\n",
        "            print(epoch, \"Test accuracy:\", acc_test)\n",
        "\n",
        "    save_path = saver.save(sess, \"./my_mnist_model_final.ckpt\")"
      ],
      "execution_count": null,
      "outputs": [
        {
          "output_type": "stream",
          "text": [
            "INFO:tensorflow:Restoring parameters from ./my_digit_comparison_model.ckpt\n",
            "0 Test accuracy: 0.9455\n",
            "10 Test accuracy: 0.9634\n",
            "20 Test accuracy: 0.9659\n",
            "30 Test accuracy: 0.9656\n",
            "40 Test accuracy: 0.9655\n",
            "50 Test accuracy: 0.9656\n",
            "60 Test accuracy: 0.9655\n",
            "70 Test accuracy: 0.9656\n",
            "80 Test accuracy: 0.9654\n",
            "90 Test accuracy: 0.9654\n"
          ],
          "name": "stdout"
        }
      ]
    },
    {
      "cell_type": "markdown",
      "metadata": {
        "id": "tHaUlWaq274o",
        "colab_type": "text"
      },
      "source": [
        "Well, 96.5% accuracy, that's not the best MNIST model we have trained so far, but recall that we are only using a small training set (just 500 images per digit). Let's compare this result with the same DNN trained from scratch, without using transfer learning:"
      ]
    },
    {
      "cell_type": "code",
      "metadata": {
        "id": "VdQ_IlUb274p",
        "colab_type": "code",
        "colab": {}
      },
      "source": [
        "reset_graph()\n",
        "\n",
        "n_inputs = 28 * 28  # MNIST\n",
        "n_outputs = 10\n",
        "\n",
        "X = tf.placeholder(tf.float32, shape=(None, n_inputs), name=\"X\")\n",
        "y = tf.placeholder(tf.int32, shape=(None), name=\"y\")\n",
        "\n",
        "dnn_outputs = dnn(X, name=\"DNN_A\")\n",
        "\n",
        "logits = tf.layers.dense(dnn_outputs, n_outputs, kernel_initializer=he_init)\n",
        "Y_proba = tf.nn.softmax(logits)\n",
        "\n",
        "xentropy = tf.nn.sparse_softmax_cross_entropy_with_logits(labels=y, logits=logits)\n",
        "loss = tf.reduce_mean(xentropy, name=\"loss\")\n",
        "\n",
        "optimizer = tf.train.MomentumOptimizer(learning_rate, momentum, use_nesterov=True)\n",
        "training_op = optimizer.minimize(loss)\n",
        "\n",
        "correct = tf.nn.in_top_k(logits, y, 1)\n",
        "accuracy = tf.reduce_mean(tf.cast(correct, tf.float32))\n",
        "\n",
        "init = tf.global_variables_initializer()\n",
        "\n",
        "dnn_A_vars = tf.get_collection(tf.GraphKeys.GLOBAL_VARIABLES, scope=\"DNN_A\")\n",
        "restore_saver = tf.train.Saver(var_list={var.op.name: var for var in dnn_A_vars})\n",
        "saver = tf.train.Saver()"
      ],
      "execution_count": null,
      "outputs": []
    },
    {
      "cell_type": "code",
      "metadata": {
        "id": "GD2MMoQ0274p",
        "colab_type": "code",
        "colab": {},
        "outputId": "d7c2e439-cf0f-48ad-bc13-6cb0fb3c2a13"
      },
      "source": [
        "n_epochs = 150\n",
        "batch_size = 50\n",
        "\n",
        "with tf.Session() as sess:\n",
        "    init.run()\n",
        "\n",
        "    for epoch in range(n_epochs):\n",
        "        rnd_idx = np.random.permutation(len(X_train2))\n",
        "        for rnd_indices in np.array_split(rnd_idx, len(X_train2) // batch_size):\n",
        "            X_batch, y_batch = X_train2[rnd_indices], y_train2[rnd_indices]\n",
        "            sess.run(training_op, feed_dict={X: X_batch, y: y_batch})\n",
        "        if epoch % 10 == 0:\n",
        "            acc_test = accuracy.eval(feed_dict={X: X_test, y: y_test})\n",
        "            print(epoch, \"Test accuracy:\", acc_test)\n",
        "\n",
        "    save_path = saver.save(sess, \"./my_mnist_model_final.ckpt\")"
      ],
      "execution_count": null,
      "outputs": [
        {
          "output_type": "stream",
          "text": [
            "0 Test accuracy: 0.8694\n",
            "10 Test accuracy: 0.9276\n",
            "20 Test accuracy: 0.9299\n",
            "30 Test accuracy: 0.935\n",
            "40 Test accuracy: 0.942\n",
            "50 Test accuracy: 0.9435\n",
            "60 Test accuracy: 0.9442\n",
            "70 Test accuracy: 0.9447\n",
            "80 Test accuracy: 0.9448\n",
            "90 Test accuracy: 0.945\n",
            "100 Test accuracy: 0.945\n",
            "110 Test accuracy: 0.9458\n",
            "120 Test accuracy: 0.9456\n",
            "130 Test accuracy: 0.9458\n",
            "140 Test accuracy: 0.9458\n"
          ],
          "name": "stdout"
        }
      ]
    },
    {
      "cell_type": "markdown",
      "metadata": {
        "id": "JcvhsGsa274r",
        "colab_type": "text"
      },
      "source": [
        "Only 94.6% accuracy... So transfer learning helped us reduce the error rate from 5.4% to 3.5% (that's over 35% error reduction). Moreover, the model using transfer learning reached over 96% accuracy in less than 10 epochs.\n",
        "\n",
        "Bottom line: transfer learning does not always work, but when it does it can make a big difference. So try it out!"
      ]
    },
    {
      "cell_type": "code",
      "metadata": {
        "id": "eT9kWAJZ274r",
        "colab_type": "code",
        "colab": {}
      },
      "source": [
        ""
      ],
      "execution_count": null,
      "outputs": []
    }
  ]
}