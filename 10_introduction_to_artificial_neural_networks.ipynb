{
  "nbformat": 4,
  "nbformat_minor": 0,
  "metadata": {
    "kernelspec": {
      "display_name": "Python 3",
      "language": "python",
      "name": "python3"
    },
    "language_info": {
      "codemirror_mode": {
        "name": "ipython",
        "version": 3
      },
      "file_extension": ".py",
      "mimetype": "text/x-python",
      "name": "python",
      "nbconvert_exporter": "python",
      "pygments_lexer": "ipython3",
      "version": "3.6.6"
    },
    "nav_menu": {
      "height": "264px",
      "width": "369px"
    },
    "toc": {
      "navigate_menu": true,
      "number_sections": true,
      "sideBar": true,
      "threshold": 6,
      "toc_cell": false,
      "toc_section_display": "block",
      "toc_window_display": false
    },
    "colab": {
      "name": "10_introduction_to_artificial_neural_networks.ipynb",
      "provenance": [],
      "toc_visible": true,
      "include_colab_link": true
    }
  },
  "cells": [
    {
      "cell_type": "markdown",
      "metadata": {
        "id": "view-in-github",
        "colab_type": "text"
      },
      "source": [
        "<a href=\"https://colab.research.google.com/github/mshahbaba/lantern-examples/blob/master/10_introduction_to_artificial_neural_networks.ipynb\" target=\"_parent\"><img src=\"https://colab.research.google.com/assets/colab-badge.svg\" alt=\"Open In Colab\"/></a>"
      ]
    },
    {
      "cell_type": "markdown",
      "metadata": {
        "id": "70XfkVFcF5O1",
        "colab_type": "text"
      },
      "source": [
        "**Chapter 10 – Introduction to Artificial Neural Networks**"
      ]
    },
    {
      "cell_type": "markdown",
      "metadata": {
        "id": "IYymk33tF5O2",
        "colab_type": "text"
      },
      "source": [
        "_This notebook contains all the sample code and solutions to the exercises in chapter 10._"
      ]
    },
    {
      "cell_type": "markdown",
      "metadata": {
        "id": "_GW0kjC_F5O3",
        "colab_type": "text"
      },
      "source": [
        "# Setup"
      ]
    },
    {
      "cell_type": "markdown",
      "metadata": {
        "id": "n_7WaWXpF5O3",
        "colab_type": "text"
      },
      "source": [
        "First, let's make sure this notebook works well in both python 2 and 3, import a few common modules, ensure MatplotLib plots figures inline and prepare a function to save the figures:"
      ]
    },
    {
      "cell_type": "code",
      "metadata": {
        "id": "QNQJOuDZF5O4",
        "colab_type": "code",
        "colab": {}
      },
      "source": [
        "# To support both python 2 and python 3\n",
        "from __future__ import division, print_function, unicode_literals\n",
        "\n",
        "# Common imports\n",
        "import numpy as np\n",
        "import os\n",
        "\n",
        "# to make this notebook's output stable across runs\n",
        "def reset_graph(seed=42):\n",
        "    tf.reset_default_graph()\n",
        "    tf.set_random_seed(seed)\n",
        "    np.random.seed(seed)\n",
        "\n",
        "# To plot pretty figures\n",
        "%matplotlib inline\n",
        "import matplotlib\n",
        "import matplotlib.pyplot as plt\n",
        "plt.rcParams['axes.labelsize'] = 14\n",
        "plt.rcParams['xtick.labelsize'] = 12\n",
        "plt.rcParams['ytick.labelsize'] = 12\n",
        "\n",
        "# Where to save the figures\n",
        "PROJECT_ROOT_DIR = \".\"\n",
        "CHAPTER_ID = \"ann\"\n",
        "\n",
        "def save_fig(fig_id, tight_layout=True):\n",
        "    path = os.path.join(PROJECT_ROOT_DIR, \"images\", CHAPTER_ID, fig_id + \".png\")\n",
        "    print(\"Saving figure\", fig_id)\n",
        "    if tight_layout:\n",
        "        plt.tight_layout()\n",
        "    plt.savefig(path, format='png', dpi=300)"
      ],
      "execution_count": 150,
      "outputs": []
    },
    {
      "cell_type": "markdown",
      "metadata": {
        "id": "7yrr3qVtF5O7",
        "colab_type": "text"
      },
      "source": [
        "# Perceptrons"
      ]
    },
    {
      "cell_type": "markdown",
      "metadata": {
        "id": "ziw1kZCcF5O8",
        "colab_type": "text"
      },
      "source": [
        "**Note**: we set `max_iter` and `tol` explicitly to avoid warnings about the fact that their default value will change in future versions of Scikit-Learn."
      ]
    },
    {
      "cell_type": "code",
      "metadata": {
        "id": "FUXBwg_eF5O9",
        "colab_type": "code",
        "colab": {}
      },
      "source": [
        "import numpy as np\n",
        "from sklearn.datasets import load_iris\n",
        "from sklearn.linear_model import Perceptron\n",
        "\n",
        "iris = load_iris()\n",
        "X = iris.data[:, (2, 3)]  # petal length, petal width\n",
        "y = (iris.target == 0).astype(np.int)\n",
        "\n",
        "per_clf = Perceptron(max_iter=100, tol=-np.infty, random_state=42)\n",
        "per_clf.fit(X, y)\n",
        "\n",
        "y_pred = per_clf.predict([[2, 0.5]])"
      ],
      "execution_count": 151,
      "outputs": []
    },
    {
      "cell_type": "code",
      "metadata": {
        "id": "-xCvwkQ4F5PB",
        "colab_type": "code",
        "colab": {
          "base_uri": "https://localhost:8080/",
          "height": 34
        },
        "outputId": "004dcff7-1c79-42ef-bcae-6ac8c725fcd0"
      },
      "source": [
        "y_pred"
      ],
      "execution_count": 152,
      "outputs": [
        {
          "output_type": "execute_result",
          "data": {
            "text/plain": [
              "array([1])"
            ]
          },
          "metadata": {
            "tags": []
          },
          "execution_count": 152
        }
      ]
    },
    {
      "cell_type": "code",
      "metadata": {
        "id": "NwFX8JTgF5PF",
        "colab_type": "code",
        "colab": {
          "base_uri": "https://localhost:8080/",
          "height": 291
        },
        "outputId": "28c76d60-a7fb-415c-a7fc-07baa609316d"
      },
      "source": [
        "a = -per_clf.coef_[0][0] / per_clf.coef_[0][1]\n",
        "b = -per_clf.intercept_ / per_clf.coef_[0][1]\n",
        "\n",
        "axes = [0, 5, 0, 2]\n",
        "\n",
        "x0, x1 = np.meshgrid(\n",
        "        np.linspace(axes[0], axes[1], 500).reshape(-1, 1),\n",
        "        np.linspace(axes[2], axes[3], 200).reshape(-1, 1),\n",
        "    )\n",
        "X_new = np.c_[x0.ravel(), x1.ravel()]\n",
        "y_predict = per_clf.predict(X_new)\n",
        "zz = y_predict.reshape(x0.shape)\n",
        "\n",
        "plt.figure(figsize=(10, 4))\n",
        "plt.plot(X[y==0, 0], X[y==0, 1], \"bs\", label=\"Not Iris-Setosa\")\n",
        "plt.plot(X[y==1, 0], X[y==1, 1], \"yo\", label=\"Iris-Setosa\")\n",
        "\n",
        "plt.plot([axes[0], axes[1]], [a * axes[0] + b, a * axes[1] + b], \"k-\", linewidth=3)\n",
        "from matplotlib.colors import ListedColormap\n",
        "custom_cmap = ListedColormap(['#9898ff', '#fafab0'])\n",
        "\n",
        "plt.contourf(x0, x1, zz, cmap=custom_cmap)\n",
        "plt.xlabel(\"Petal length\", fontsize=14)\n",
        "plt.ylabel(\"Petal width\", fontsize=14)\n",
        "plt.legend(loc=\"lower right\", fontsize=14)\n",
        "plt.axis(axes)\n",
        "\n",
        "# save_fig(\"perceptron_iris_plot\")\n",
        "plt.show()"
      ],
      "execution_count": 153,
      "outputs": [
        {
          "output_type": "display_data",
          "data": {
            "image/png": "[encoded data removed]",
            "text/plain": [
              "<Figure size 720x288 with 1 Axes>"
            ]
          },
          "metadata": {
            "tags": [],
            "needs_background": "light"
          }
        }
      ]
    },
    {
      "cell_type": "markdown",
      "metadata": {
        "id": "MW4csXt0F5PH",
        "colab_type": "text"
      },
      "source": [
        "# Activation functions"
      ]
    },
    {
      "cell_type": "code",
      "metadata": {
        "id": "ueHIG7BUF5PI",
        "colab_type": "code",
        "colab": {}
      },
      "source": [
        "def sigmoid(z):\n",
        "    return 1 / (1 + np.exp(-z))\n",
        "\n",
        "def relu(z):\n",
        "    return np.maximum(0, z)\n",
        "\n",
        "def derivative(f, z, eps=0.000001):\n",
        "    return (f(z + eps) - f(z - eps))/(2 * eps)"
      ],
      "execution_count": 154,
      "outputs": []
    },
    {
      "cell_type": "code",
      "metadata": {
        "id": "jiOL8OiBF5PL",
        "colab_type": "code",
        "colab": {
          "base_uri": "https://localhost:8080/",
          "height": 285
        },
        "outputId": "6288fde1-8025-4582-e0cc-2c47d209725f"
      },
      "source": [
        "z = np.linspace(-5, 5, 200)\n",
        "\n",
        "plt.figure(figsize=(11,4))\n",
        "\n",
        "plt.subplot(121)\n",
        "plt.plot(z, np.sign(z), \"r-\", linewidth=1, label=\"Step\")\n",
        "plt.plot(z, sigmoid(z), \"g--\", linewidth=2, label=\"Sigmoid\")\n",
        "plt.plot(z, np.tanh(z), \"b-\", linewidth=2, label=\"Tanh\")\n",
        "plt.plot(z, relu(z), \"m-.\", linewidth=2, label=\"ReLU\")\n",
        "plt.grid(True)\n",
        "plt.legend(loc=\"center right\", fontsize=14)\n",
        "plt.title(\"Activation functions\", fontsize=14)\n",
        "plt.axis([-5, 5, -1.2, 1.2])\n",
        "\n",
        "plt.subplot(122)\n",
        "plt.plot(z, derivative(np.sign, z), \"r-\", linewidth=1, label=\"Step\")\n",
        "plt.plot(0, 0, \"ro\", markersize=5)\n",
        "plt.plot(0, 0, \"rx\", markersize=10)\n",
        "plt.plot(z, derivative(sigmoid, z), \"g--\", linewidth=2, label=\"Sigmoid\")\n",
        "plt.plot(z, derivative(np.tanh, z), \"b-\", linewidth=2, label=\"Tanh\")\n",
        "plt.plot(z, derivative(relu, z), \"m-.\", linewidth=2, label=\"ReLU\")\n",
        "plt.grid(True)\n",
        "#plt.legend(loc=\"center right\", fontsize=14)\n",
        "plt.title(\"Derivatives\", fontsize=14)\n",
        "plt.axis([-5, 5, -0.2, 1.2])\n",
        "\n",
        "# save_fig(\"activation_functions_plot\")\n",
        "plt.show()"
      ],
      "execution_count": 7,
      "outputs": [
        {
          "output_type": "display_data",
          "data": {
            "image/png": "[encoded data removed]",
            "text/plain": [
              "<Figure size 792x288 with 2 Axes>"
            ]
          },
          "metadata": {
            "tags": [],
            "needs_background": "light"
          }
        }
      ]
    },
    {
      "cell_type": "code",
      "metadata": {
        "id": "giaDz5JZF5PO",
        "colab_type": "code",
        "colab": {}
      },
      "source": [
        "def heaviside(z):\n",
        "    return (z >= 0).astype(z.dtype)\n",
        "\n",
        "def mlp_xor(x1, x2, activation=heaviside):\n",
        "    return activation(-activation(x1 + x2 - 1.5) + activation(x1 + x2 - 0.5) - 0.5)"
      ],
      "execution_count": 155,
      "outputs": []
    },
    {
      "cell_type": "code",
      "metadata": {
        "id": "hTeAKB2wF5PR",
        "colab_type": "code",
        "colab": {
          "base_uri": "https://localhost:8080/",
          "height": 285
        },
        "outputId": "ec961ce1-1ca5-40fa-c704-230fe21166ee"
      },
      "source": [
        "x1s = np.linspace(-0.2, 1.2, 100)\n",
        "x2s = np.linspace(-0.2, 1.2, 100)\n",
        "x1, x2 = np.meshgrid(x1s, x2s)\n",
        "\n",
        "z1 = mlp_xor(x1, x2, activation=heaviside)\n",
        "z2 = mlp_xor(x1, x2, activation=sigmoid)\n",
        "\n",
        "plt.figure(figsize=(10,4))\n",
        "\n",
        "plt.subplot(121)\n",
        "plt.contourf(x1, x2, z1)\n",
        "plt.plot([0, 1], [0, 1], \"gs\", markersize=20)\n",
        "plt.plot([0, 1], [1, 0], \"y^\", markersize=20)\n",
        "plt.title(\"Activation function: heaviside\", fontsize=14)\n",
        "plt.grid(True)\n",
        "\n",
        "plt.subplot(122)\n",
        "plt.contourf(x1, x2, z2)\n",
        "plt.plot([0, 1], [0, 1], \"gs\", markersize=20)\n",
        "plt.plot([0, 1], [1, 0], \"y^\", markersize=20)\n",
        "plt.title(\"Activation function: sigmoid\", fontsize=14)\n",
        "plt.grid(True)"
      ],
      "execution_count": 156,
      "outputs": [
        {
          "output_type": "display_data",
          "data": {
            "image/png": "[encoded data removed]",
            "text/plain": [
              "<Figure size 720x288 with 2 Axes>"
            ]
          },
          "metadata": {
            "tags": [],
            "needs_background": "light"
          }
        }
      ]
    },
    {
      "cell_type": "markdown",
      "metadata": {
        "id": "XgZkpmlgF5PT",
        "colab_type": "text"
      },
      "source": [
        "# FNN for MNIST"
      ]
    },
    {
      "cell_type": "markdown",
      "metadata": {
        "id": "UF-dWDQFF5PU",
        "colab_type": "text"
      },
      "source": [
        "## Using the Estimator API (formerly `tf.contrib.learn`)"
      ]
    },
    {
      "cell_type": "code",
      "metadata": {
        "id": "G5-y6f9OF5PU",
        "colab_type": "code",
        "colab": {}
      },
      "source": [
        "import tensorflow as tf"
      ],
      "execution_count": 157,
      "outputs": []
    },
    {
      "cell_type": "markdown",
      "metadata": {
        "id": "vaoBhr4DF5PX",
        "colab_type": "text"
      },
      "source": [
        "**Warning**: `tf.examples.tutorials.mnist` is deprecated. We will use `tf.keras.datasets.mnist` instead. Moreover, the `tf.contrib.learn` API was promoted to `tf.estimators` and `tf.feature_columns`, and it has changed considerably. In particular, there is no `infer_real_valued_columns_from_input()` function or `SKCompat` class."
      ]
    },
    {
      "cell_type": "code",
      "metadata": {
        "id": "y9AxP_eDF5PX",
        "colab_type": "code",
        "colab": {}
      },
      "source": [
        "(X_train, y_train), (X_test, y_test) = tf.keras.datasets.mnist.load_data()\n",
        "X_train = X_train.astype(np.float32).reshape(-1, 28*28) / 255.0\n",
        "X_test = X_test.astype(np.float32).reshape(-1, 28*28) / 255.0\n",
        "y_train = y_train.astype(np.int32)\n",
        "y_test = y_test.astype(np.int32)\n",
        "X_valid, X_train = X_train[:5000], X_train[5000:]\n",
        "y_valid, y_train = y_train[:5000], y_train[5000:]"
      ],
      "execution_count": 158,
      "outputs": []
    },
    {
      "cell_type": "code",
      "metadata": {
        "id": "ythQusszF5Pa",
        "colab_type": "code",
        "colab": {
          "base_uri": "https://localhost:8080/",
          "height": 1000
        },
        "outputId": "f616c0d7-1ebc-4e30-863a-a1a5a42ef263"
      },
      "source": [
        "feature_cols = [tf.feature_column.numeric_column(\"X\", shape=[28 * 28])]\n",
        "dnn_clf = tf.estimator.DNNClassifier(hidden_units=[300,100], n_classes=10,\n",
        "                                     feature_columns=feature_cols)\n",
        "# input_fn = tf.estimator.inputs.numpy_input_fn(\n",
        "\n",
        "input_fn = tf.compat.v1.estimator.inputs.numpy_input_fn(\n",
        "    x={\"X\": X_train}, y=y_train, num_epochs=40, batch_size=50, shuffle=True)\n",
        "dnn_clf.train(input_fn=input_fn)"
      ],
      "execution_count": 159,
      "outputs": [
        {
          "output_type": "stream",
          "text": [
            "INFO:tensorflow:Using default config.\n",
            "WARNING:tensorflow:Using temporary folder as model directory: /tmp/tmpenmtsag8\n",
            "INFO:tensorflow:Using config: {'_model_dir': '/tmp/tmpenmtsag8', '_tf_random_seed': None, '_save_summary_steps': 100, '_save_checkpoints_steps': None, '_save_checkpoints_secs': 600, '_session_config': allow_soft_placement: true\n",
            "graph_options {\n",
            "  rewrite_options {\n",
            "    meta_optimizer_iterations: ONE\n",
            "  }\n",
            "}\n",
            ", '_keep_checkpoint_max': 5, '_keep_checkpoint_every_n_hours': 10000, '_log_step_count_steps': 100, '_train_distribute': None, '_device_fn': None, '_protocol': None, '_eval_distribute': None, '_experimental_distribute': None, '_experimental_max_worker_delay_secs': None, '_session_creation_timeout_secs': 7200, '_service': None, '_cluster_spec': ClusterSpec({}), '_task_type': 'worker', '_task_id': 0, '_global_id_in_cluster': 0, '_master': '', '_evaluation_master': '', '_is_chief': True, '_num_ps_replicas': 0, '_num_worker_replicas': 1}\n",
            "INFO:tensorflow:Calling model_fn.\n",
            "INFO:tensorflow:Done calling model_fn.\n",
            "INFO:tensorflow:Create CheckpointSaverHook.\n",
            "INFO:tensorflow:Graph was finalized.\n",
            "INFO:tensorflow:Running local_init_op.\n",
            "INFO:tensorflow:Done running local_init_op.\n",
            "INFO:tensorflow:Calling checkpoint listeners before saving checkpoint 0...\n",
            "INFO:tensorflow:Saving checkpoints for 0 into /tmp/tmpenmtsag8/model.ckpt.\n",
            "INFO:tensorflow:Calling checkpoint listeners after saving checkpoint 0...\n",
            "INFO:tensorflow:loss = 2.3698893, step = 1\n",
            "INFO:tensorflow:global_step/sec: 231.078\n",
            "INFO:tensorflow:loss = 2.1826196, step = 101 (0.434 sec)\n",
            "INFO:tensorflow:global_step/sec: 239.827\n",
            "INFO:tensorflow:loss = 2.0270364, step = 201 (0.419 sec)\n",
            "INFO:tensorflow:global_step/sec: 241.618\n",
            "INFO:tensorflow:loss = 1.7872838, step = 301 (0.412 sec)\n",
            "INFO:tensorflow:global_step/sec: 239.359\n",
            "INFO:tensorflow:loss = 1.5573323, step = 401 (0.419 sec)\n",
            "INFO:tensorflow:global_step/sec: 242.233\n",
            "INFO:tensorflow:loss = 1.5551735, step = 501 (0.412 sec)\n",
            "INFO:tensorflow:global_step/sec: 251.214\n",
            "INFO:tensorflow:loss = 1.197601, step = 601 (0.397 sec)\n",
            "INFO:tensorflow:global_step/sec: 244.77\n",
            "INFO:tensorflow:loss = 1.2428786, step = 701 (0.409 sec)\n",
            "INFO:tensorflow:global_step/sec: 269.825\n",
            "INFO:tensorflow:loss = 0.9740045, step = 801 (0.370 sec)\n",
            "INFO:tensorflow:global_step/sec: 272.195\n",
            "INFO:tensorflow:loss = 0.97539556, step = 901 (0.367 sec)\n",
            "INFO:tensorflow:global_step/sec: 263.328\n",
            "INFO:tensorflow:loss = 0.99194854, step = 1001 (0.383 sec)\n",
            "INFO:tensorflow:global_step/sec: 261.018\n",
            "INFO:tensorflow:loss = 0.84341544, step = 1101 (0.383 sec)\n",
            "INFO:tensorflow:global_step/sec: 263.014\n",
            "INFO:tensorflow:loss = 0.80695105, step = 1201 (0.377 sec)\n",
            "INFO:tensorflow:global_step/sec: 241.64\n",
            "INFO:tensorflow:loss = 0.6901758, step = 1301 (0.416 sec)\n",
            "INFO:tensorflow:global_step/sec: 255.422\n",
            "INFO:tensorflow:loss = 1.0444854, step = 1401 (0.389 sec)\n",
            "INFO:tensorflow:global_step/sec: 240.948\n",
            "INFO:tensorflow:loss = 0.978933, step = 1501 (0.418 sec)\n",
            "INFO:tensorflow:global_step/sec: 246.649\n",
            "INFO:tensorflow:loss = 0.51409316, step = 1601 (0.403 sec)\n",
            "INFO:tensorflow:global_step/sec: 249.093\n",
            "INFO:tensorflow:loss = 0.661205, step = 1701 (0.401 sec)\n",
            "INFO:tensorflow:global_step/sec: 254.596\n",
            "INFO:tensorflow:loss = 0.62693167, step = 1801 (0.393 sec)\n",
            "INFO:tensorflow:global_step/sec: 252.27\n",
            "INFO:tensorflow:loss = 0.50721925, step = 1901 (0.396 sec)\n",
            "INFO:tensorflow:global_step/sec: 249.782\n",
            "INFO:tensorflow:loss = 0.42163688, step = 2001 (0.400 sec)\n",
            "INFO:tensorflow:global_step/sec: 244.09\n",
            "INFO:tensorflow:loss = 0.7962481, step = 2101 (0.410 sec)\n",
            "INFO:tensorflow:global_step/sec: 247.131\n",
            "INFO:tensorflow:loss = 0.3968127, step = 2201 (0.405 sec)\n",
            "INFO:tensorflow:global_step/sec: 232.437\n",
            "INFO:tensorflow:loss = 0.3853839, step = 2301 (0.430 sec)\n",
            "INFO:tensorflow:global_step/sec: 245.037\n",
            "INFO:tensorflow:loss = 0.3097667, step = 2401 (0.408 sec)\n",
            "INFO:tensorflow:global_step/sec: 236.785\n",
            "INFO:tensorflow:loss = 0.44085348, step = 2501 (0.422 sec)\n",
            "INFO:tensorflow:global_step/sec: 256.627\n",
            "INFO:tensorflow:loss = 0.39734754, step = 2601 (0.391 sec)\n",
            "INFO:tensorflow:global_step/sec: 237.894\n",
            "INFO:tensorflow:loss = 0.4651302, step = 2701 (0.419 sec)\n",
            "INFO:tensorflow:global_step/sec: 259.832\n",
            "INFO:tensorflow:loss = 0.47426492, step = 2801 (0.385 sec)\n",
            "INFO:tensorflow:global_step/sec: 256.171\n",
            "INFO:tensorflow:loss = 0.48418996, step = 2901 (0.393 sec)\n",
            "INFO:tensorflow:global_step/sec: 240.509\n",
            "INFO:tensorflow:loss = 0.6530802, step = 3001 (0.414 sec)\n",
            "INFO:tensorflow:global_step/sec: 238.175\n",
            "INFO:tensorflow:loss = 0.42264923, step = 3101 (0.419 sec)\n",
            "INFO:tensorflow:global_step/sec: 247.688\n",
            "INFO:tensorflow:loss = 0.48810208, step = 3201 (0.404 sec)\n",
            "INFO:tensorflow:global_step/sec: 241.603\n",
            "INFO:tensorflow:loss = 0.44376275, step = 3301 (0.414 sec)\n",
            "INFO:tensorflow:global_step/sec: 261.249\n",
            "INFO:tensorflow:loss = 0.41376996, step = 3401 (0.385 sec)\n",
            "INFO:tensorflow:global_step/sec: 274.154\n",
            "INFO:tensorflow:loss = 0.49356607, step = 3501 (0.362 sec)\n",
            "INFO:tensorflow:global_step/sec: 267.974\n",
            "INFO:tensorflow:loss = 0.32767403, step = 3601 (0.376 sec)\n",
            "INFO:tensorflow:global_step/sec: 253.477\n",
            "INFO:tensorflow:loss = 0.42430934, step = 3701 (0.394 sec)\n",
            "INFO:tensorflow:global_step/sec: 254.182\n",
            "INFO:tensorflow:loss = 0.28240037, step = 3801 (0.394 sec)\n",
            "INFO:tensorflow:global_step/sec: 276.096\n",
            "INFO:tensorflow:loss = 0.30106464, step = 3901 (0.361 sec)\n",
            "INFO:tensorflow:global_step/sec: 271.758\n",
            "INFO:tensorflow:loss = 0.40124947, step = 4001 (0.368 sec)\n",
            "INFO:tensorflow:global_step/sec: 251.713\n",
            "INFO:tensorflow:loss = 0.29688418, step = 4101 (0.397 sec)\n",
            "INFO:tensorflow:global_step/sec: 270.267\n",
            "INFO:tensorflow:loss = 0.30710128, step = 4201 (0.370 sec)\n",
            "INFO:tensorflow:global_step/sec: 219.147\n",
            "INFO:tensorflow:loss = 0.31384388, step = 4301 (0.455 sec)\n",
            "INFO:tensorflow:global_step/sec: 259.365\n",
            "INFO:tensorflow:loss = 0.25867757, step = 4401 (0.386 sec)\n",
            "INFO:tensorflow:global_step/sec: 273.346\n",
            "INFO:tensorflow:loss = 0.36612347, step = 4501 (0.366 sec)\n",
            "INFO:tensorflow:global_step/sec: 276.734\n",
            "INFO:tensorflow:loss = 0.45837486, step = 4601 (0.361 sec)\n",
            "INFO:tensorflow:global_step/sec: 264.54\n",
            "INFO:tensorflow:loss = 0.36187366, step = 4701 (0.378 sec)\n",
            "INFO:tensorflow:global_step/sec: 272.354\n",
            "INFO:tensorflow:loss = 0.5444075, step = 4801 (0.367 sec)\n",
            "INFO:tensorflow:global_step/sec: 258.508\n",
            "INFO:tensorflow:loss = 0.2817543, step = 4901 (0.387 sec)\n",
            "INFO:tensorflow:global_step/sec: 255.608\n",
            "INFO:tensorflow:loss = 0.44755572, step = 5001 (0.391 sec)\n",
            "INFO:tensorflow:global_step/sec: 245.247\n",
            "INFO:tensorflow:loss = 0.2848345, step = 5101 (0.408 sec)\n",
            "INFO:tensorflow:global_step/sec: 252.12\n",
            "INFO:tensorflow:loss = 0.36060083, step = 5201 (0.397 sec)\n",
            "INFO:tensorflow:global_step/sec: 247.169\n",
            "INFO:tensorflow:loss = 0.27884042, step = 5301 (0.404 sec)\n",
            "INFO:tensorflow:global_step/sec: 246.987\n",
            "INFO:tensorflow:loss = 0.6511449, step = 5401 (0.404 sec)\n",
            "INFO:tensorflow:global_step/sec: 255.69\n",
            "INFO:tensorflow:loss = 0.42722195, step = 5501 (0.391 sec)\n",
            "INFO:tensorflow:global_step/sec: 247.435\n",
            "INFO:tensorflow:loss = 0.33004218, step = 5601 (0.404 sec)\n",
            "INFO:tensorflow:global_step/sec: 246.271\n",
            "INFO:tensorflow:loss = 0.4051616, step = 5701 (0.406 sec)\n",
            "INFO:tensorflow:global_step/sec: 262.188\n",
            "INFO:tensorflow:loss = 0.27638456, step = 5801 (0.381 sec)\n",
            "INFO:tensorflow:global_step/sec: 243.419\n",
            "INFO:tensorflow:loss = 0.6097852, step = 5901 (0.411 sec)\n",
            "INFO:tensorflow:global_step/sec: 246.122\n",
            "INFO:tensorflow:loss = 0.6103305, step = 6001 (0.406 sec)\n",
            "INFO:tensorflow:global_step/sec: 251.483\n",
            "INFO:tensorflow:loss = 0.33056507, step = 6101 (0.398 sec)\n",
            "INFO:tensorflow:global_step/sec: 263.522\n",
            "INFO:tensorflow:loss = 0.41233155, step = 6201 (0.380 sec)\n",
            "INFO:tensorflow:global_step/sec: 252.314\n",
            "INFO:tensorflow:loss = 0.21923622, step = 6301 (0.396 sec)\n",
            "INFO:tensorflow:global_step/sec: 266.229\n",
            "INFO:tensorflow:loss = 0.31416377, step = 6401 (0.376 sec)\n",
            "INFO:tensorflow:global_step/sec: 252.282\n",
            "INFO:tensorflow:loss = 0.37459427, step = 6501 (0.396 sec)\n",
            "INFO:tensorflow:global_step/sec: 238.226\n",
            "INFO:tensorflow:loss = 0.38558754, step = 6601 (0.420 sec)\n",
            "INFO:tensorflow:global_step/sec: 242.002\n",
            "INFO:tensorflow:loss = 0.40956745, step = 6701 (0.413 sec)\n",
            "INFO:tensorflow:global_step/sec: 255.282\n",
            "INFO:tensorflow:loss = 0.22550595, step = 6801 (0.392 sec)\n",
            "INFO:tensorflow:global_step/sec: 251.128\n",
            "INFO:tensorflow:loss = 0.27168313, step = 6901 (0.398 sec)\n",
            "INFO:tensorflow:global_step/sec: 244.012\n",
            "INFO:tensorflow:loss = 0.5165985, step = 7001 (0.410 sec)\n",
            "INFO:tensorflow:global_step/sec: 268.132\n",
            "INFO:tensorflow:loss = 0.61589617, step = 7101 (0.373 sec)\n",
            "INFO:tensorflow:global_step/sec: 260.87\n",
            "INFO:tensorflow:loss = 0.30358583, step = 7201 (0.383 sec)\n",
            "INFO:tensorflow:global_step/sec: 260.704\n",
            "INFO:tensorflow:loss = 0.3381244, step = 7301 (0.384 sec)\n",
            "INFO:tensorflow:global_step/sec: 263.749\n",
            "INFO:tensorflow:loss = 0.24782628, step = 7401 (0.379 sec)\n",
            "INFO:tensorflow:global_step/sec: 251.219\n",
            "INFO:tensorflow:loss = 0.25541487, step = 7501 (0.398 sec)\n",
            "INFO:tensorflow:global_step/sec: 267.691\n",
            "INFO:tensorflow:loss = 0.41267356, step = 7601 (0.374 sec)\n",
            "INFO:tensorflow:global_step/sec: 243.942\n",
            "INFO:tensorflow:loss = 0.21019651, step = 7701 (0.414 sec)\n",
            "INFO:tensorflow:global_step/sec: 249.72\n",
            "INFO:tensorflow:loss = 0.3189212, step = 7801 (0.397 sec)\n",
            "INFO:tensorflow:global_step/sec: 249.61\n",
            "INFO:tensorflow:loss = 0.2646483, step = 7901 (0.401 sec)\n",
            "INFO:tensorflow:global_step/sec: 253.133\n",
            "INFO:tensorflow:loss = 0.20821758, step = 8001 (0.395 sec)\n",
            "INFO:tensorflow:global_step/sec: 257.383\n",
            "INFO:tensorflow:loss = 0.3387405, step = 8101 (0.389 sec)\n",
            "INFO:tensorflow:global_step/sec: 243.117\n",
            "INFO:tensorflow:loss = 0.15277138, step = 8201 (0.414 sec)\n",
            "INFO:tensorflow:global_step/sec: 244.769\n",
            "INFO:tensorflow:loss = 0.40899885, step = 8301 (0.406 sec)\n",
            "INFO:tensorflow:global_step/sec: 264.513\n",
            "INFO:tensorflow:loss = 0.2820982, step = 8401 (0.378 sec)\n",
            "INFO:tensorflow:global_step/sec: 253.875\n",
            "INFO:tensorflow:loss = 0.206498, step = 8501 (0.394 sec)\n",
            "INFO:tensorflow:global_step/sec: 234.103\n",
            "INFO:tensorflow:loss = 0.26196858, step = 8601 (0.427 sec)\n",
            "INFO:tensorflow:global_step/sec: 249.746\n",
            "INFO:tensorflow:loss = 0.42759073, step = 8701 (0.400 sec)\n",
            "INFO:tensorflow:global_step/sec: 248.727\n",
            "INFO:tensorflow:loss = 0.25298598, step = 8801 (0.402 sec)\n",
            "INFO:tensorflow:global_step/sec: 255.177\n",
            "INFO:tensorflow:loss = 0.55460316, step = 8901 (0.392 sec)\n",
            "INFO:tensorflow:global_step/sec: 251.513\n",
            "INFO:tensorflow:loss = 0.34431848, step = 9001 (0.398 sec)\n",
            "INFO:tensorflow:global_step/sec: 246.747\n",
            "INFO:tensorflow:loss = 0.2819807, step = 9101 (0.406 sec)\n",
            "INFO:tensorflow:global_step/sec: 237.556\n",
            "INFO:tensorflow:loss = 0.3439974, step = 9201 (0.421 sec)\n",
            "INFO:tensorflow:global_step/sec: 253.959\n",
            "INFO:tensorflow:loss = 0.5046254, step = 9301 (0.394 sec)\n",
            "INFO:tensorflow:global_step/sec: 257.866\n",
            "INFO:tensorflow:loss = 0.5672747, step = 9401 (0.388 sec)\n",
            "INFO:tensorflow:global_step/sec: 226.53\n",
            "INFO:tensorflow:loss = 0.21250445, step = 9501 (0.442 sec)\n",
            "INFO:tensorflow:global_step/sec: 264.347\n",
            "INFO:tensorflow:loss = 0.28552714, step = 9601 (0.378 sec)\n",
            "INFO:tensorflow:global_step/sec: 259.624\n",
            "INFO:tensorflow:loss = 0.29188433, step = 9701 (0.385 sec)\n",
            "INFO:tensorflow:global_step/sec: 274.377\n",
            "INFO:tensorflow:loss = 0.3550038, step = 9801 (0.365 sec)\n",
            "INFO:tensorflow:global_step/sec: 264.67\n",
            "INFO:tensorflow:loss = 0.34462884, step = 9901 (0.378 sec)\n",
            "INFO:tensorflow:global_step/sec: 262.085\n",
            "INFO:tensorflow:loss = 0.3063058, step = 10001 (0.382 sec)\n",
            "INFO:tensorflow:global_step/sec: 266.523\n",
            "INFO:tensorflow:loss = 0.3953255, step = 10101 (0.375 sec)\n",
            "INFO:tensorflow:global_step/sec: 260.922\n",
            "INFO:tensorflow:loss = 0.24818793, step = 10201 (0.383 sec)\n",
            "INFO:tensorflow:global_step/sec: 254.362\n",
            "INFO:tensorflow:loss = 0.24808623, step = 10301 (0.393 sec)\n",
            "INFO:tensorflow:global_step/sec: 261.258\n",
            "INFO:tensorflow:loss = 0.23699152, step = 10401 (0.383 sec)\n",
            "INFO:tensorflow:global_step/sec: 272.744\n",
            "INFO:tensorflow:loss = 0.29649955, step = 10501 (0.367 sec)\n",
            "INFO:tensorflow:global_step/sec: 257.614\n",
            "INFO:tensorflow:loss = 0.33449745, step = 10601 (0.388 sec)\n",
            "INFO:tensorflow:global_step/sec: 266.621\n",
            "INFO:tensorflow:loss = 0.2261774, step = 10701 (0.375 sec)\n",
            "INFO:tensorflow:global_step/sec: 226.961\n",
            "INFO:tensorflow:loss = 0.1768961, step = 10801 (0.441 sec)\n",
            "INFO:tensorflow:global_step/sec: 264.288\n",
            "INFO:tensorflow:loss = 0.29866704, step = 10901 (0.378 sec)\n",
            "INFO:tensorflow:global_step/sec: 249.087\n",
            "INFO:tensorflow:loss = 0.21881217, step = 11001 (0.402 sec)\n",
            "INFO:tensorflow:global_step/sec: 272.275\n",
            "INFO:tensorflow:loss = 0.40896332, step = 11101 (0.367 sec)\n",
            "INFO:tensorflow:global_step/sec: 263.638\n",
            "INFO:tensorflow:loss = 0.33402956, step = 11201 (0.379 sec)\n",
            "INFO:tensorflow:global_step/sec: 257.575\n",
            "INFO:tensorflow:loss = 0.43803418, step = 11301 (0.389 sec)\n",
            "INFO:tensorflow:global_step/sec: 261.073\n",
            "INFO:tensorflow:loss = 0.6048774, step = 11401 (0.383 sec)\n",
            "INFO:tensorflow:global_step/sec: 260.79\n",
            "INFO:tensorflow:loss = 0.29420498, step = 11501 (0.383 sec)\n",
            "INFO:tensorflow:global_step/sec: 270.94\n",
            "INFO:tensorflow:loss = 0.1354592, step = 11601 (0.369 sec)\n",
            "INFO:tensorflow:global_step/sec: 257.037\n",
            "INFO:tensorflow:loss = 0.3055103, step = 11701 (0.389 sec)\n",
            "INFO:tensorflow:global_step/sec: 260.955\n",
            "INFO:tensorflow:loss = 0.23667371, step = 11801 (0.383 sec)\n",
            "INFO:tensorflow:global_step/sec: 265.988\n",
            "INFO:tensorflow:loss = 0.22983292, step = 11901 (0.376 sec)\n",
            "INFO:tensorflow:global_step/sec: 273.444\n",
            "INFO:tensorflow:loss = 0.2129641, step = 12001 (0.366 sec)\n",
            "INFO:tensorflow:global_step/sec: 258.317\n",
            "INFO:tensorflow:loss = 0.3650402, step = 12101 (0.387 sec)\n",
            "INFO:tensorflow:global_step/sec: 268.481\n",
            "INFO:tensorflow:loss = 0.30296955, step = 12201 (0.373 sec)\n",
            "INFO:tensorflow:global_step/sec: 269.633\n",
            "INFO:tensorflow:loss = 0.2000408, step = 12301 (0.371 sec)\n",
            "INFO:tensorflow:global_step/sec: 242.491\n",
            "INFO:tensorflow:loss = 0.4708666, step = 12401 (0.412 sec)\n",
            "INFO:tensorflow:global_step/sec: 265.183\n",
            "INFO:tensorflow:loss = 0.24901484, step = 12501 (0.377 sec)\n",
            "INFO:tensorflow:global_step/sec: 249.868\n",
            "INFO:tensorflow:loss = 0.22531436, step = 12601 (0.400 sec)\n",
            "INFO:tensorflow:global_step/sec: 265.908\n",
            "INFO:tensorflow:loss = 0.33795154, step = 12701 (0.376 sec)\n",
            "INFO:tensorflow:global_step/sec: 267.851\n",
            "INFO:tensorflow:loss = 0.20377879, step = 12801 (0.373 sec)\n",
            "INFO:tensorflow:global_step/sec: 261.997\n",
            "INFO:tensorflow:loss = 0.44537872, step = 12901 (0.382 sec)\n",
            "INFO:tensorflow:global_step/sec: 248.061\n",
            "INFO:tensorflow:loss = 0.19178307, step = 13001 (0.403 sec)\n",
            "INFO:tensorflow:global_step/sec: 262.639\n",
            "INFO:tensorflow:loss = 0.3414511, step = 13101 (0.381 sec)\n",
            "INFO:tensorflow:global_step/sec: 266.123\n",
            "INFO:tensorflow:loss = 0.2117522, step = 13201 (0.376 sec)\n",
            "INFO:tensorflow:global_step/sec: 264.034\n",
            "INFO:tensorflow:loss = 0.28189433, step = 13301 (0.379 sec)\n",
            "INFO:tensorflow:global_step/sec: 255.901\n",
            "INFO:tensorflow:loss = 0.27952793, step = 13401 (0.391 sec)\n",
            "INFO:tensorflow:global_step/sec: 244.731\n",
            "INFO:tensorflow:loss = 0.33752677, step = 13501 (0.409 sec)\n",
            "INFO:tensorflow:global_step/sec: 252.298\n",
            "INFO:tensorflow:loss = 0.19580066, step = 13601 (0.397 sec)\n",
            "INFO:tensorflow:global_step/sec: 249.014\n",
            "INFO:tensorflow:loss = 0.31935227, step = 13701 (0.401 sec)\n",
            "INFO:tensorflow:global_step/sec: 237.525\n",
            "INFO:tensorflow:loss = 0.44778502, step = 13801 (0.421 sec)\n",
            "INFO:tensorflow:global_step/sec: 249.484\n",
            "INFO:tensorflow:loss = 0.24937989, step = 13901 (0.401 sec)\n",
            "INFO:tensorflow:global_step/sec: 260.994\n",
            "INFO:tensorflow:loss = 0.2626951, step = 14001 (0.383 sec)\n",
            "INFO:tensorflow:global_step/sec: 271.217\n",
            "INFO:tensorflow:loss = 0.11841474, step = 14101 (0.369 sec)\n",
            "INFO:tensorflow:global_step/sec: 253.911\n",
            "INFO:tensorflow:loss = 0.24888186, step = 14201 (0.394 sec)\n",
            "INFO:tensorflow:global_step/sec: 271.538\n",
            "INFO:tensorflow:loss = 0.3232756, step = 14301 (0.368 sec)\n",
            "INFO:tensorflow:global_step/sec: 258.227\n",
            "INFO:tensorflow:loss = 0.5531897, step = 14401 (0.388 sec)\n",
            "INFO:tensorflow:global_step/sec: 262.647\n",
            "INFO:tensorflow:loss = 0.20701942, step = 14501 (0.380 sec)\n",
            "INFO:tensorflow:global_step/sec: 253.123\n",
            "INFO:tensorflow:loss = 0.21191688, step = 14601 (0.395 sec)\n",
            "INFO:tensorflow:global_step/sec: 252.589\n",
            "INFO:tensorflow:loss = 0.33065528, step = 14701 (0.395 sec)\n",
            "INFO:tensorflow:global_step/sec: 264.601\n",
            "INFO:tensorflow:loss = 0.3932761, step = 14801 (0.378 sec)\n",
            "INFO:tensorflow:global_step/sec: 269.088\n",
            "INFO:tensorflow:loss = 0.22762966, step = 14901 (0.371 sec)\n",
            "INFO:tensorflow:global_step/sec: 256.398\n",
            "INFO:tensorflow:loss = 0.25607067, step = 15001 (0.390 sec)\n",
            "INFO:tensorflow:global_step/sec: 264.574\n",
            "INFO:tensorflow:loss = 0.2927517, step = 15101 (0.378 sec)\n",
            "INFO:tensorflow:global_step/sec: 265.076\n",
            "INFO:tensorflow:loss = 0.1732017, step = 15201 (0.377 sec)\n",
            "INFO:tensorflow:global_step/sec: 256.219\n",
            "INFO:tensorflow:loss = 0.49150723, step = 15301 (0.390 sec)\n",
            "INFO:tensorflow:global_step/sec: 267.689\n",
            "INFO:tensorflow:loss = 0.1521459, step = 15401 (0.374 sec)\n",
            "INFO:tensorflow:global_step/sec: 260.552\n",
            "INFO:tensorflow:loss = 0.38473278, step = 15501 (0.384 sec)\n",
            "INFO:tensorflow:global_step/sec: 261.506\n",
            "INFO:tensorflow:loss = 0.22698511, step = 15601 (0.382 sec)\n",
            "INFO:tensorflow:global_step/sec: 267.921\n",
            "INFO:tensorflow:loss = 0.38681638, step = 15701 (0.374 sec)\n",
            "INFO:tensorflow:global_step/sec: 254.622\n",
            "INFO:tensorflow:loss = 0.43180388, step = 15801 (0.392 sec)\n",
            "INFO:tensorflow:global_step/sec: 273.094\n",
            "INFO:tensorflow:loss = 0.3328829, step = 15901 (0.366 sec)\n",
            "INFO:tensorflow:global_step/sec: 256.498\n",
            "INFO:tensorflow:loss = 0.25180015, step = 16001 (0.390 sec)\n",
            "INFO:tensorflow:global_step/sec: 244.556\n",
            "INFO:tensorflow:loss = 0.30778039, step = 16101 (0.409 sec)\n",
            "INFO:tensorflow:global_step/sec: 247.866\n",
            "INFO:tensorflow:loss = 0.21711321, step = 16201 (0.404 sec)\n",
            "INFO:tensorflow:global_step/sec: 238.771\n",
            "INFO:tensorflow:loss = 0.28516126, step = 16301 (0.419 sec)\n",
            "INFO:tensorflow:global_step/sec: 259.467\n",
            "INFO:tensorflow:loss = 0.21028851, step = 16401 (0.385 sec)\n",
            "INFO:tensorflow:global_step/sec: 246.58\n",
            "INFO:tensorflow:loss = 0.29722008, step = 16501 (0.406 sec)\n",
            "INFO:tensorflow:global_step/sec: 246.025\n",
            "INFO:tensorflow:loss = 0.16513802, step = 16601 (0.406 sec)\n",
            "INFO:tensorflow:global_step/sec: 259.992\n",
            "INFO:tensorflow:loss = 0.26017073, step = 16701 (0.384 sec)\n",
            "INFO:tensorflow:global_step/sec: 259.48\n",
            "INFO:tensorflow:loss = 0.18706302, step = 16801 (0.385 sec)\n",
            "INFO:tensorflow:global_step/sec: 263.584\n",
            "INFO:tensorflow:loss = 0.24809161, step = 16901 (0.380 sec)\n",
            "INFO:tensorflow:global_step/sec: 257.516\n",
            "INFO:tensorflow:loss = 0.23916066, step = 17001 (0.388 sec)\n",
            "INFO:tensorflow:global_step/sec: 251.631\n",
            "INFO:tensorflow:loss = 0.31178772, step = 17101 (0.397 sec)\n",
            "INFO:tensorflow:global_step/sec: 263.821\n",
            "INFO:tensorflow:loss = 0.206341, step = 17201 (0.379 sec)\n",
            "INFO:tensorflow:global_step/sec: 241.502\n",
            "INFO:tensorflow:loss = 0.1973092, step = 17301 (0.415 sec)\n",
            "INFO:tensorflow:global_step/sec: 248.744\n",
            "INFO:tensorflow:loss = 0.14052866, step = 17401 (0.402 sec)\n",
            "INFO:tensorflow:global_step/sec: 253.114\n",
            "INFO:tensorflow:loss = 0.5468735, step = 17501 (0.395 sec)\n",
            "INFO:tensorflow:global_step/sec: 241.089\n",
            "INFO:tensorflow:loss = 0.16886744, step = 17601 (0.415 sec)\n",
            "INFO:tensorflow:global_step/sec: 256.805\n",
            "INFO:tensorflow:loss = 0.46565163, step = 17701 (0.389 sec)\n",
            "INFO:tensorflow:global_step/sec: 257.653\n",
            "INFO:tensorflow:loss = 0.47487408, step = 17801 (0.388 sec)\n",
            "INFO:tensorflow:global_step/sec: 258.774\n",
            "INFO:tensorflow:loss = 0.26515257, step = 17901 (0.386 sec)\n",
            "INFO:tensorflow:global_step/sec: 264.651\n",
            "INFO:tensorflow:loss = 0.38659066, step = 18001 (0.378 sec)\n",
            "INFO:tensorflow:global_step/sec: 262.489\n",
            "INFO:tensorflow:loss = 0.25725353, step = 18101 (0.381 sec)\n",
            "INFO:tensorflow:global_step/sec: 277.61\n",
            "INFO:tensorflow:loss = 0.22761624, step = 18201 (0.360 sec)\n",
            "INFO:tensorflow:global_step/sec: 269.177\n",
            "INFO:tensorflow:loss = 0.224548, step = 18301 (0.372 sec)\n",
            "INFO:tensorflow:global_step/sec: 237.978\n",
            "INFO:tensorflow:loss = 0.09096838, step = 18401 (0.420 sec)\n",
            "INFO:tensorflow:global_step/sec: 261.331\n",
            "INFO:tensorflow:loss = 0.3014219, step = 18501 (0.383 sec)\n",
            "INFO:tensorflow:global_step/sec: 269.289\n",
            "INFO:tensorflow:loss = 0.15727842, step = 18601 (0.372 sec)\n",
            "INFO:tensorflow:global_step/sec: 244.498\n",
            "INFO:tensorflow:loss = 0.22656268, step = 18701 (0.409 sec)\n",
            "INFO:tensorflow:global_step/sec: 246.107\n",
            "INFO:tensorflow:loss = 0.18375292, step = 18801 (0.406 sec)\n",
            "INFO:tensorflow:global_step/sec: 250.328\n",
            "INFO:tensorflow:loss = 0.26315543, step = 18901 (0.400 sec)\n",
            "INFO:tensorflow:global_step/sec: 258.361\n",
            "INFO:tensorflow:loss = 0.24728034, step = 19001 (0.387 sec)\n",
            "INFO:tensorflow:global_step/sec: 271.398\n",
            "INFO:tensorflow:loss = 0.3307713, step = 19101 (0.368 sec)\n",
            "INFO:tensorflow:global_step/sec: 257.727\n",
            "INFO:tensorflow:loss = 0.11075697, step = 19201 (0.388 sec)\n",
            "INFO:tensorflow:global_step/sec: 263.891\n",
            "INFO:tensorflow:loss = 0.22506702, step = 19301 (0.379 sec)\n",
            "INFO:tensorflow:global_step/sec: 247.473\n",
            "INFO:tensorflow:loss = 0.1952789, step = 19401 (0.404 sec)\n",
            "INFO:tensorflow:global_step/sec: 239.888\n",
            "INFO:tensorflow:loss = 0.33687505, step = 19501 (0.417 sec)\n",
            "INFO:tensorflow:global_step/sec: 232.204\n",
            "INFO:tensorflow:loss = 0.27239618, step = 19601 (0.431 sec)\n",
            "INFO:tensorflow:global_step/sec: 235.554\n",
            "INFO:tensorflow:loss = 0.2301518, step = 19701 (0.425 sec)\n",
            "INFO:tensorflow:global_step/sec: 236.998\n",
            "INFO:tensorflow:loss = 0.38999397, step = 19801 (0.422 sec)\n",
            "INFO:tensorflow:global_step/sec: 247.603\n",
            "INFO:tensorflow:loss = 0.23545448, step = 19901 (0.404 sec)\n",
            "INFO:tensorflow:global_step/sec: 241.657\n",
            "INFO:tensorflow:loss = 0.29770595, step = 20001 (0.414 sec)\n",
            "INFO:tensorflow:global_step/sec: 246.255\n",
            "INFO:tensorflow:loss = 0.17677836, step = 20101 (0.410 sec)\n",
            "INFO:tensorflow:global_step/sec: 245.502\n",
            "INFO:tensorflow:loss = 0.20600052, step = 20201 (0.404 sec)\n",
            "INFO:tensorflow:global_step/sec: 253.121\n",
            "INFO:tensorflow:loss = 0.29596925, step = 20301 (0.395 sec)\n",
            "INFO:tensorflow:global_step/sec: 234.983\n",
            "INFO:tensorflow:loss = 0.19675358, step = 20401 (0.426 sec)\n",
            "INFO:tensorflow:global_step/sec: 241.938\n",
            "INFO:tensorflow:loss = 0.31103194, step = 20501 (0.413 sec)\n",
            "INFO:tensorflow:global_step/sec: 218.833\n",
            "INFO:tensorflow:loss = 0.24246225, step = 20601 (0.457 sec)\n",
            "INFO:tensorflow:global_step/sec: 253.155\n",
            "INFO:tensorflow:loss = 0.25177667, step = 20701 (0.395 sec)\n",
            "INFO:tensorflow:global_step/sec: 265.043\n",
            "INFO:tensorflow:loss = 0.211827, step = 20801 (0.377 sec)\n",
            "INFO:tensorflow:global_step/sec: 250.836\n",
            "INFO:tensorflow:loss = 0.29105124, step = 20901 (0.399 sec)\n",
            "INFO:tensorflow:global_step/sec: 263.039\n",
            "INFO:tensorflow:loss = 0.20296499, step = 21001 (0.380 sec)\n",
            "INFO:tensorflow:global_step/sec: 260.037\n",
            "INFO:tensorflow:loss = 0.1865201, step = 21101 (0.385 sec)\n",
            "INFO:tensorflow:global_step/sec: 231.6\n",
            "INFO:tensorflow:loss = 0.31883085, step = 21201 (0.432 sec)\n",
            "INFO:tensorflow:global_step/sec: 257.519\n",
            "INFO:tensorflow:loss = 0.25148928, step = 21301 (0.388 sec)\n",
            "INFO:tensorflow:global_step/sec: 251.066\n",
            "INFO:tensorflow:loss = 0.3567367, step = 21401 (0.398 sec)\n",
            "INFO:tensorflow:global_step/sec: 243.473\n",
            "INFO:tensorflow:loss = 0.34803188, step = 21501 (0.410 sec)\n",
            "INFO:tensorflow:global_step/sec: 256.317\n",
            "INFO:tensorflow:loss = 0.16260242, step = 21601 (0.390 sec)\n",
            "INFO:tensorflow:global_step/sec: 256.977\n",
            "INFO:tensorflow:loss = 0.22721033, step = 21701 (0.389 sec)\n",
            "INFO:tensorflow:global_step/sec: 251.481\n",
            "INFO:tensorflow:loss = 0.2505546, step = 21801 (0.397 sec)\n",
            "INFO:tensorflow:global_step/sec: 248.918\n",
            "INFO:tensorflow:loss = 0.15280575, step = 21901 (0.402 sec)\n",
            "INFO:tensorflow:global_step/sec: 249.218\n",
            "INFO:tensorflow:loss = 0.13679914, step = 22001 (0.401 sec)\n",
            "INFO:tensorflow:global_step/sec: 252.395\n",
            "INFO:tensorflow:loss = 0.47305736, step = 22101 (0.397 sec)\n",
            "INFO:tensorflow:global_step/sec: 247.277\n",
            "INFO:tensorflow:loss = 0.13449933, step = 22201 (0.404 sec)\n",
            "INFO:tensorflow:global_step/sec: 249.524\n",
            "INFO:tensorflow:loss = 0.22029775, step = 22301 (0.401 sec)\n",
            "INFO:tensorflow:global_step/sec: 249.073\n",
            "INFO:tensorflow:loss = 0.25940457, step = 22401 (0.401 sec)\n",
            "INFO:tensorflow:global_step/sec: 254.73\n",
            "INFO:tensorflow:loss = 0.13981216, step = 22501 (0.393 sec)\n",
            "INFO:tensorflow:global_step/sec: 236.014\n",
            "INFO:tensorflow:loss = 0.2606343, step = 22601 (0.424 sec)\n",
            "INFO:tensorflow:global_step/sec: 235.727\n",
            "INFO:tensorflow:loss = 0.21372378, step = 22701 (0.424 sec)\n",
            "INFO:tensorflow:global_step/sec: 254.428\n",
            "INFO:tensorflow:loss = 0.26268893, step = 22801 (0.393 sec)\n",
            "INFO:tensorflow:global_step/sec: 252.808\n",
            "INFO:tensorflow:loss = 0.091765165, step = 22901 (0.395 sec)\n",
            "INFO:tensorflow:global_step/sec: 258.272\n",
            "INFO:tensorflow:loss = 0.24576399, step = 23001 (0.387 sec)\n",
            "INFO:tensorflow:global_step/sec: 249.244\n",
            "INFO:tensorflow:loss = 0.24767603, step = 23101 (0.401 sec)\n",
            "INFO:tensorflow:global_step/sec: 235.915\n",
            "INFO:tensorflow:loss = 0.21312882, step = 23201 (0.424 sec)\n",
            "INFO:tensorflow:global_step/sec: 240.407\n",
            "INFO:tensorflow:loss = 0.21542296, step = 23301 (0.415 sec)\n",
            "INFO:tensorflow:global_step/sec: 259.348\n",
            "INFO:tensorflow:loss = 0.15777776, step = 23401 (0.386 sec)\n",
            "INFO:tensorflow:global_step/sec: 267.055\n",
            "INFO:tensorflow:loss = 0.23060988, step = 23501 (0.374 sec)\n",
            "INFO:tensorflow:global_step/sec: 258.134\n",
            "INFO:tensorflow:loss = 0.27282298, step = 23601 (0.387 sec)\n",
            "INFO:tensorflow:global_step/sec: 258.843\n",
            "INFO:tensorflow:loss = 0.20097698, step = 23701 (0.386 sec)\n",
            "INFO:tensorflow:global_step/sec: 246.884\n",
            "INFO:tensorflow:loss = 0.0861599, step = 23801 (0.405 sec)\n",
            "INFO:tensorflow:global_step/sec: 269.382\n",
            "INFO:tensorflow:loss = 0.22099796, step = 23901 (0.371 sec)\n",
            "INFO:tensorflow:global_step/sec: 265.154\n",
            "INFO:tensorflow:loss = 0.18657467, step = 24001 (0.376 sec)\n",
            "INFO:tensorflow:global_step/sec: 261.56\n",
            "INFO:tensorflow:loss = 0.1908735, step = 24101 (0.382 sec)\n",
            "INFO:tensorflow:global_step/sec: 263.137\n",
            "INFO:tensorflow:loss = 0.46375477, step = 24201 (0.380 sec)\n",
            "INFO:tensorflow:global_step/sec: 269.528\n",
            "INFO:tensorflow:loss = 0.25969216, step = 24301 (0.371 sec)\n",
            "INFO:tensorflow:global_step/sec: 257.224\n",
            "INFO:tensorflow:loss = 0.1937046, step = 24401 (0.389 sec)\n",
            "INFO:tensorflow:global_step/sec: 253.476\n",
            "INFO:tensorflow:loss = 0.33717513, step = 24501 (0.394 sec)\n",
            "INFO:tensorflow:global_step/sec: 254.33\n",
            "INFO:tensorflow:loss = 0.37744367, step = 24601 (0.393 sec)\n",
            "INFO:tensorflow:global_step/sec: 264.047\n",
            "INFO:tensorflow:loss = 0.31387204, step = 24701 (0.379 sec)\n",
            "INFO:tensorflow:global_step/sec: 266.835\n",
            "INFO:tensorflow:loss = 0.30696347, step = 24801 (0.375 sec)\n",
            "INFO:tensorflow:global_step/sec: 275.05\n",
            "INFO:tensorflow:loss = 0.1621005, step = 24901 (0.364 sec)\n",
            "INFO:tensorflow:global_step/sec: 253.535\n",
            "INFO:tensorflow:loss = 0.34427157, step = 25001 (0.395 sec)\n",
            "INFO:tensorflow:global_step/sec: 250.46\n",
            "INFO:tensorflow:loss = 0.08226027, step = 25101 (0.399 sec)\n",
            "INFO:tensorflow:global_step/sec: 264.667\n",
            "INFO:tensorflow:loss = 0.27519333, step = 25201 (0.378 sec)\n",
            "INFO:tensorflow:global_step/sec: 257.378\n",
            "INFO:tensorflow:loss = 0.12041845, step = 25301 (0.388 sec)\n",
            "INFO:tensorflow:global_step/sec: 256.803\n",
            "INFO:tensorflow:loss = 0.4143675, step = 25401 (0.390 sec)\n",
            "INFO:tensorflow:global_step/sec: 264.879\n",
            "INFO:tensorflow:loss = 0.20039809, step = 25501 (0.377 sec)\n",
            "INFO:tensorflow:global_step/sec: 271.228\n",
            "INFO:tensorflow:loss = 0.1703582, step = 25601 (0.369 sec)\n",
            "INFO:tensorflow:global_step/sec: 264.093\n",
            "INFO:tensorflow:loss = 0.3005322, step = 25701 (0.379 sec)\n",
            "INFO:tensorflow:global_step/sec: 265.31\n",
            "INFO:tensorflow:loss = 0.096960716, step = 25801 (0.377 sec)\n",
            "INFO:tensorflow:global_step/sec: 274.382\n",
            "INFO:tensorflow:loss = 0.15494962, step = 25901 (0.365 sec)\n",
            "INFO:tensorflow:global_step/sec: 277.342\n",
            "INFO:tensorflow:loss = 0.12865727, step = 26001 (0.361 sec)\n",
            "INFO:tensorflow:global_step/sec: 269.275\n",
            "INFO:tensorflow:loss = 0.15798876, step = 26101 (0.372 sec)\n",
            "INFO:tensorflow:global_step/sec: 272.15\n",
            "INFO:tensorflow:loss = 0.2723946, step = 26201 (0.367 sec)\n",
            "INFO:tensorflow:global_step/sec: 270.069\n",
            "INFO:tensorflow:loss = 0.22816892, step = 26301 (0.370 sec)\n",
            "INFO:tensorflow:global_step/sec: 246.354\n",
            "INFO:tensorflow:loss = 0.27115422, step = 26401 (0.406 sec)\n",
            "INFO:tensorflow:global_step/sec: 285.64\n",
            "INFO:tensorflow:loss = 0.114207394, step = 26501 (0.350 sec)\n",
            "INFO:tensorflow:global_step/sec: 270.219\n",
            "INFO:tensorflow:loss = 0.37188828, step = 26601 (0.370 sec)\n",
            "INFO:tensorflow:global_step/sec: 267.026\n",
            "INFO:tensorflow:loss = 0.2232587, step = 26701 (0.375 sec)\n",
            "INFO:tensorflow:global_step/sec: 265.394\n",
            "INFO:tensorflow:loss = 0.19884452, step = 26801 (0.377 sec)\n",
            "INFO:tensorflow:global_step/sec: 253.193\n",
            "INFO:tensorflow:loss = 0.25100738, step = 26901 (0.395 sec)\n",
            "INFO:tensorflow:global_step/sec: 271.851\n",
            "INFO:tensorflow:loss = 0.16179916, step = 27001 (0.368 sec)\n",
            "INFO:tensorflow:global_step/sec: 263.208\n",
            "INFO:tensorflow:loss = 0.21059112, step = 27101 (0.380 sec)\n",
            "INFO:tensorflow:global_step/sec: 253.839\n",
            "INFO:tensorflow:loss = 0.14507782, step = 27201 (0.394 sec)\n",
            "INFO:tensorflow:global_step/sec: 258.467\n",
            "INFO:tensorflow:loss = 0.22578356, step = 27301 (0.387 sec)\n",
            "INFO:tensorflow:global_step/sec: 257.774\n",
            "INFO:tensorflow:loss = 0.18413652, step = 27401 (0.388 sec)\n",
            "INFO:tensorflow:global_step/sec: 267.202\n",
            "INFO:tensorflow:loss = 0.18043718, step = 27501 (0.374 sec)\n",
            "INFO:tensorflow:global_step/sec: 256.904\n",
            "INFO:tensorflow:loss = 0.1623392, step = 27601 (0.390 sec)\n",
            "INFO:tensorflow:global_step/sec: 261.579\n",
            "INFO:tensorflow:loss = 0.10262868, step = 27701 (0.382 sec)\n",
            "INFO:tensorflow:global_step/sec: 279.976\n",
            "INFO:tensorflow:loss = 0.08405767, step = 27801 (0.357 sec)\n",
            "INFO:tensorflow:global_step/sec: 275.689\n",
            "INFO:tensorflow:loss = 0.14189698, step = 27901 (0.362 sec)\n",
            "INFO:tensorflow:global_step/sec: 254.47\n",
            "INFO:tensorflow:loss = 0.27857152, step = 28001 (0.394 sec)\n",
            "INFO:tensorflow:global_step/sec: 270.853\n",
            "INFO:tensorflow:loss = 0.29504487, step = 28101 (0.369 sec)\n",
            "INFO:tensorflow:global_step/sec: 261.593\n",
            "INFO:tensorflow:loss = 0.21691138, step = 28201 (0.382 sec)\n",
            "INFO:tensorflow:global_step/sec: 271.147\n",
            "INFO:tensorflow:loss = 0.35495904, step = 28301 (0.369 sec)\n",
            "INFO:tensorflow:global_step/sec: 273.087\n",
            "INFO:tensorflow:loss = 0.2401478, step = 28401 (0.366 sec)\n",
            "INFO:tensorflow:global_step/sec: 265.604\n",
            "INFO:tensorflow:loss = 0.18143469, step = 28501 (0.376 sec)\n",
            "INFO:tensorflow:global_step/sec: 262.516\n",
            "INFO:tensorflow:loss = 0.07552006, step = 28601 (0.381 sec)\n",
            "INFO:tensorflow:global_step/sec: 259.782\n",
            "INFO:tensorflow:loss = 0.2538558, step = 28701 (0.385 sec)\n",
            "INFO:tensorflow:global_step/sec: 269.747\n",
            "INFO:tensorflow:loss = 0.08749314, step = 28801 (0.371 sec)\n",
            "INFO:tensorflow:global_step/sec: 253.759\n",
            "INFO:tensorflow:loss = 0.24408233, step = 28901 (0.394 sec)\n",
            "INFO:tensorflow:global_step/sec: 268.465\n",
            "INFO:tensorflow:loss = 0.28254592, step = 29001 (0.372 sec)\n",
            "INFO:tensorflow:global_step/sec: 247.172\n",
            "INFO:tensorflow:loss = 0.080040455, step = 29101 (0.405 sec)\n",
            "INFO:tensorflow:global_step/sec: 239.508\n",
            "INFO:tensorflow:loss = 0.2420415, step = 29201 (0.417 sec)\n",
            "INFO:tensorflow:global_step/sec: 261.935\n",
            "INFO:tensorflow:loss = 0.15561548, step = 29301 (0.382 sec)\n",
            "INFO:tensorflow:global_step/sec: 275.829\n",
            "INFO:tensorflow:loss = 0.13387273, step = 29401 (0.363 sec)\n",
            "INFO:tensorflow:global_step/sec: 269.147\n",
            "INFO:tensorflow:loss = 0.27327868, step = 29501 (0.371 sec)\n",
            "INFO:tensorflow:global_step/sec: 253.891\n",
            "INFO:tensorflow:loss = 0.14225322, step = 29601 (0.394 sec)\n",
            "INFO:tensorflow:global_step/sec: 267.514\n",
            "INFO:tensorflow:loss = 0.30976087, step = 29701 (0.374 sec)\n",
            "INFO:tensorflow:global_step/sec: 281.412\n",
            "INFO:tensorflow:loss = 0.3581308, step = 29801 (0.355 sec)\n",
            "INFO:tensorflow:global_step/sec: 280.365\n",
            "INFO:tensorflow:loss = 0.17141524, step = 29901 (0.357 sec)\n",
            "INFO:tensorflow:global_step/sec: 266.736\n",
            "INFO:tensorflow:loss = 0.2473547, step = 30001 (0.375 sec)\n",
            "INFO:tensorflow:global_step/sec: 263.819\n",
            "INFO:tensorflow:loss = 0.14173095, step = 30101 (0.379 sec)\n",
            "INFO:tensorflow:global_step/sec: 283.306\n",
            "INFO:tensorflow:loss = 0.2698201, step = 30201 (0.353 sec)\n",
            "INFO:tensorflow:global_step/sec: 262.886\n",
            "INFO:tensorflow:loss = 0.18359345, step = 30301 (0.380 sec)\n",
            "INFO:tensorflow:global_step/sec: 268.958\n",
            "INFO:tensorflow:loss = 0.29963353, step = 30401 (0.372 sec)\n",
            "INFO:tensorflow:global_step/sec: 268.214\n",
            "INFO:tensorflow:loss = 0.22229898, step = 30501 (0.373 sec)\n",
            "INFO:tensorflow:global_step/sec: 269.844\n",
            "INFO:tensorflow:loss = 0.19632322, step = 30601 (0.371 sec)\n",
            "INFO:tensorflow:global_step/sec: 267.229\n",
            "INFO:tensorflow:loss = 0.13429847, step = 30701 (0.374 sec)\n",
            "INFO:tensorflow:global_step/sec: 266.882\n",
            "INFO:tensorflow:loss = 0.23761572, step = 30801 (0.375 sec)\n",
            "INFO:tensorflow:global_step/sec: 257.022\n",
            "INFO:tensorflow:loss = 0.15612604, step = 30901 (0.389 sec)\n",
            "INFO:tensorflow:global_step/sec: 259.091\n",
            "INFO:tensorflow:loss = 0.24803755, step = 31001 (0.386 sec)\n",
            "INFO:tensorflow:global_step/sec: 260.829\n",
            "INFO:tensorflow:loss = 0.30297157, step = 31101 (0.383 sec)\n",
            "INFO:tensorflow:global_step/sec: 267.376\n",
            "INFO:tensorflow:loss = 0.29487658, step = 31201 (0.374 sec)\n",
            "INFO:tensorflow:global_step/sec: 267.479\n",
            "INFO:tensorflow:loss = 0.12995885, step = 31301 (0.374 sec)\n",
            "INFO:tensorflow:global_step/sec: 272.414\n",
            "INFO:tensorflow:loss = 0.36292848, step = 31401 (0.367 sec)\n",
            "INFO:tensorflow:global_step/sec: 248.423\n",
            "INFO:tensorflow:loss = 0.18128948, step = 31501 (0.403 sec)\n",
            "INFO:tensorflow:global_step/sec: 265.136\n",
            "INFO:tensorflow:loss = 0.12835509, step = 31601 (0.377 sec)\n",
            "INFO:tensorflow:global_step/sec: 269.536\n",
            "INFO:tensorflow:loss = 0.23093939, step = 31701 (0.371 sec)\n",
            "INFO:tensorflow:global_step/sec: 254.33\n",
            "INFO:tensorflow:loss = 0.3322126, step = 31801 (0.393 sec)\n",
            "INFO:tensorflow:global_step/sec: 264.326\n",
            "INFO:tensorflow:loss = 0.22291607, step = 31901 (0.378 sec)\n",
            "INFO:tensorflow:global_step/sec: 268.46\n",
            "INFO:tensorflow:loss = 0.13888754, step = 32001 (0.372 sec)\n",
            "INFO:tensorflow:global_step/sec: 265.502\n",
            "INFO:tensorflow:loss = 0.19764237, step = 32101 (0.377 sec)\n",
            "INFO:tensorflow:global_step/sec: 273.579\n",
            "INFO:tensorflow:loss = 0.2587452, step = 32201 (0.366 sec)\n",
            "INFO:tensorflow:global_step/sec: 262.097\n",
            "INFO:tensorflow:loss = 0.34523013, step = 32301 (0.382 sec)\n",
            "INFO:tensorflow:global_step/sec: 268.893\n",
            "INFO:tensorflow:loss = 0.3036707, step = 32401 (0.372 sec)\n",
            "INFO:tensorflow:global_step/sec: 259.178\n",
            "INFO:tensorflow:loss = 0.1296108, step = 32501 (0.386 sec)\n",
            "INFO:tensorflow:global_step/sec: 266.919\n",
            "INFO:tensorflow:loss = 0.36612493, step = 32601 (0.375 sec)\n",
            "INFO:tensorflow:global_step/sec: 267.284\n",
            "INFO:tensorflow:loss = 0.11532727, step = 32701 (0.374 sec)\n",
            "INFO:tensorflow:global_step/sec: 252.865\n",
            "INFO:tensorflow:loss = 0.1640061, step = 32801 (0.396 sec)\n",
            "INFO:tensorflow:global_step/sec: 262.282\n",
            "INFO:tensorflow:loss = 0.35638854, step = 32901 (0.381 sec)\n",
            "INFO:tensorflow:global_step/sec: 271.576\n",
            "INFO:tensorflow:loss = 0.32279, step = 33001 (0.368 sec)\n",
            "INFO:tensorflow:global_step/sec: 256.718\n",
            "INFO:tensorflow:loss = 0.1075897, step = 33101 (0.390 sec)\n",
            "INFO:tensorflow:global_step/sec: 259.51\n",
            "INFO:tensorflow:loss = 0.2202233, step = 33201 (0.385 sec)\n",
            "INFO:tensorflow:global_step/sec: 254.768\n",
            "INFO:tensorflow:loss = 0.123043306, step = 33301 (0.392 sec)\n",
            "INFO:tensorflow:global_step/sec: 276.035\n",
            "INFO:tensorflow:loss = 0.16433655, step = 33401 (0.363 sec)\n",
            "INFO:tensorflow:global_step/sec: 264.705\n",
            "INFO:tensorflow:loss = 0.27770498, step = 33501 (0.378 sec)\n",
            "INFO:tensorflow:global_step/sec: 259.39\n",
            "INFO:tensorflow:loss = 0.22728834, step = 33601 (0.385 sec)\n",
            "INFO:tensorflow:global_step/sec: 265.773\n",
            "INFO:tensorflow:loss = 0.18225533, step = 33701 (0.376 sec)\n",
            "INFO:tensorflow:global_step/sec: 266.126\n",
            "INFO:tensorflow:loss = 0.18338966, step = 33801 (0.376 sec)\n",
            "INFO:tensorflow:global_step/sec: 264.54\n",
            "INFO:tensorflow:loss = 0.11352532, step = 33901 (0.378 sec)\n",
            "INFO:tensorflow:global_step/sec: 272.418\n",
            "INFO:tensorflow:loss = 0.36703816, step = 34001 (0.367 sec)\n",
            "INFO:tensorflow:global_step/sec: 262.941\n",
            "INFO:tensorflow:loss = 0.27457216, step = 34101 (0.380 sec)\n",
            "INFO:tensorflow:global_step/sec: 264.98\n",
            "INFO:tensorflow:loss = 0.17091903, step = 34201 (0.378 sec)\n",
            "INFO:tensorflow:global_step/sec: 278.133\n",
            "INFO:tensorflow:loss = 0.21162683, step = 34301 (0.359 sec)\n",
            "INFO:tensorflow:global_step/sec: 265.104\n",
            "INFO:tensorflow:loss = 0.11688475, step = 34401 (0.378 sec)\n",
            "INFO:tensorflow:global_step/sec: 251.083\n",
            "INFO:tensorflow:loss = 0.20158719, step = 34501 (0.398 sec)\n",
            "INFO:tensorflow:global_step/sec: 255.818\n",
            "INFO:tensorflow:loss = 0.16506134, step = 34601 (0.391 sec)\n",
            "INFO:tensorflow:global_step/sec: 268.925\n",
            "INFO:tensorflow:loss = 0.30963805, step = 34701 (0.372 sec)\n",
            "INFO:tensorflow:global_step/sec: 256.534\n",
            "INFO:tensorflow:loss = 0.16400452, step = 34801 (0.390 sec)\n",
            "INFO:tensorflow:global_step/sec: 247.93\n",
            "INFO:tensorflow:loss = 0.42545655, step = 34901 (0.403 sec)\n",
            "INFO:tensorflow:global_step/sec: 266.373\n",
            "INFO:tensorflow:loss = 0.10073802, step = 35001 (0.376 sec)\n",
            "INFO:tensorflow:global_step/sec: 257.305\n",
            "INFO:tensorflow:loss = 0.17140512, step = 35101 (0.389 sec)\n",
            "INFO:tensorflow:global_step/sec: 246.37\n",
            "INFO:tensorflow:loss = 0.40870982, step = 35201 (0.406 sec)\n",
            "INFO:tensorflow:global_step/sec: 275.823\n",
            "INFO:tensorflow:loss = 0.15686592, step = 35301 (0.363 sec)\n",
            "INFO:tensorflow:global_step/sec: 263.382\n",
            "INFO:tensorflow:loss = 0.10668241, step = 35401 (0.379 sec)\n",
            "INFO:tensorflow:global_step/sec: 248.236\n",
            "INFO:tensorflow:loss = 0.35024503, step = 35501 (0.403 sec)\n",
            "INFO:tensorflow:global_step/sec: 248.632\n",
            "INFO:tensorflow:loss = 0.10682484, step = 35601 (0.402 sec)\n",
            "INFO:tensorflow:global_step/sec: 244.96\n",
            "INFO:tensorflow:loss = 0.117813796, step = 35701 (0.409 sec)\n",
            "INFO:tensorflow:global_step/sec: 244.712\n",
            "INFO:tensorflow:loss = 0.31349573, step = 35801 (0.409 sec)\n",
            "INFO:tensorflow:global_step/sec: 256.687\n",
            "INFO:tensorflow:loss = 0.1465856, step = 35901 (0.389 sec)\n",
            "INFO:tensorflow:global_step/sec: 263.078\n",
            "INFO:tensorflow:loss = 0.35358384, step = 36001 (0.380 sec)\n",
            "INFO:tensorflow:global_step/sec: 255.989\n",
            "INFO:tensorflow:loss = 0.12764643, step = 36101 (0.391 sec)\n",
            "INFO:tensorflow:global_step/sec: 236.261\n",
            "INFO:tensorflow:loss = 0.1553103, step = 36201 (0.423 sec)\n",
            "INFO:tensorflow:global_step/sec: 253.873\n",
            "INFO:tensorflow:loss = 0.14260148, step = 36301 (0.394 sec)\n",
            "INFO:tensorflow:global_step/sec: 258.111\n",
            "INFO:tensorflow:loss = 0.40318707, step = 36401 (0.387 sec)\n",
            "INFO:tensorflow:global_step/sec: 255.215\n",
            "INFO:tensorflow:loss = 0.17656372, step = 36501 (0.392 sec)\n",
            "INFO:tensorflow:global_step/sec: 258.453\n",
            "INFO:tensorflow:loss = 0.2545077, step = 36601 (0.387 sec)\n",
            "INFO:tensorflow:global_step/sec: 245.172\n",
            "INFO:tensorflow:loss = 0.39190865, step = 36701 (0.408 sec)\n",
            "INFO:tensorflow:global_step/sec: 265.968\n",
            "INFO:tensorflow:loss = 0.08583513, step = 36801 (0.376 sec)\n",
            "INFO:tensorflow:global_step/sec: 260.255\n",
            "INFO:tensorflow:loss = 0.27514902, step = 36901 (0.384 sec)\n",
            "INFO:tensorflow:global_step/sec: 250.982\n",
            "INFO:tensorflow:loss = 0.19843198, step = 37001 (0.398 sec)\n",
            "INFO:tensorflow:global_step/sec: 246.234\n",
            "INFO:tensorflow:loss = 0.25868234, step = 37101 (0.406 sec)\n",
            "INFO:tensorflow:global_step/sec: 248.672\n",
            "INFO:tensorflow:loss = 0.11641662, step = 37201 (0.402 sec)\n",
            "INFO:tensorflow:global_step/sec: 249.539\n",
            "INFO:tensorflow:loss = 0.11443458, step = 37301 (0.401 sec)\n",
            "INFO:tensorflow:global_step/sec: 253.072\n",
            "INFO:tensorflow:loss = 0.28727508, step = 37401 (0.395 sec)\n",
            "INFO:tensorflow:global_step/sec: 233.85\n",
            "INFO:tensorflow:loss = 0.25542298, step = 37501 (0.428 sec)\n",
            "INFO:tensorflow:global_step/sec: 256.258\n",
            "INFO:tensorflow:loss = 0.17453247, step = 37601 (0.390 sec)\n",
            "INFO:tensorflow:global_step/sec: 250.028\n",
            "INFO:tensorflow:loss = 0.26543164, step = 37701 (0.400 sec)\n",
            "INFO:tensorflow:global_step/sec: 241.576\n",
            "INFO:tensorflow:loss = 0.28182516, step = 37801 (0.414 sec)\n",
            "INFO:tensorflow:global_step/sec: 258.399\n",
            "INFO:tensorflow:loss = 0.3145465, step = 37901 (0.387 sec)\n",
            "INFO:tensorflow:global_step/sec: 259.986\n",
            "INFO:tensorflow:loss = 0.15884331, step = 38001 (0.385 sec)\n",
            "INFO:tensorflow:global_step/sec: 251.031\n",
            "INFO:tensorflow:loss = 0.1212618, step = 38101 (0.398 sec)\n",
            "INFO:tensorflow:global_step/sec: 255.128\n",
            "INFO:tensorflow:loss = 0.16002329, step = 38201 (0.392 sec)\n",
            "INFO:tensorflow:global_step/sec: 260.051\n",
            "INFO:tensorflow:loss = 0.089734, step = 38301 (0.385 sec)\n",
            "INFO:tensorflow:global_step/sec: 247.328\n",
            "INFO:tensorflow:loss = 0.2528186, step = 38401 (0.404 sec)\n",
            "INFO:tensorflow:global_step/sec: 255.243\n",
            "INFO:tensorflow:loss = 0.19731168, step = 38501 (0.392 sec)\n",
            "INFO:tensorflow:global_step/sec: 256.171\n",
            "INFO:tensorflow:loss = 0.15185308, step = 38601 (0.391 sec)\n",
            "INFO:tensorflow:global_step/sec: 255.684\n",
            "INFO:tensorflow:loss = 0.17945294, step = 38701 (0.391 sec)\n",
            "INFO:tensorflow:global_step/sec: 252.957\n",
            "INFO:tensorflow:loss = 0.20440638, step = 38801 (0.395 sec)\n",
            "INFO:tensorflow:global_step/sec: 262.164\n",
            "INFO:tensorflow:loss = 0.23706588, step = 38901 (0.382 sec)\n",
            "INFO:tensorflow:global_step/sec: 251.747\n",
            "INFO:tensorflow:loss = 0.27379495, step = 39001 (0.397 sec)\n",
            "INFO:tensorflow:global_step/sec: 258.73\n",
            "INFO:tensorflow:loss = 0.18098088, step = 39101 (0.386 sec)\n",
            "INFO:tensorflow:global_step/sec: 248\n",
            "INFO:tensorflow:loss = 0.19983627, step = 39201 (0.403 sec)\n",
            "INFO:tensorflow:global_step/sec: 252.488\n",
            "INFO:tensorflow:loss = 0.19672579, step = 39301 (0.396 sec)\n",
            "INFO:tensorflow:global_step/sec: 252.507\n",
            "INFO:tensorflow:loss = 0.22148657, step = 39401 (0.396 sec)\n",
            "INFO:tensorflow:global_step/sec: 249.081\n",
            "INFO:tensorflow:loss = 0.19382232, step = 39501 (0.401 sec)\n",
            "INFO:tensorflow:global_step/sec: 239.425\n",
            "INFO:tensorflow:loss = 0.21979189, step = 39601 (0.418 sec)\n",
            "INFO:tensorflow:global_step/sec: 243.939\n",
            "INFO:tensorflow:loss = 0.14416967, step = 39701 (0.410 sec)\n",
            "INFO:tensorflow:global_step/sec: 246.778\n",
            "INFO:tensorflow:loss = 0.26927745, step = 39801 (0.405 sec)\n",
            "INFO:tensorflow:global_step/sec: 258.815\n",
            "INFO:tensorflow:loss = 0.22786504, step = 39901 (0.387 sec)\n",
            "INFO:tensorflow:global_step/sec: 258.026\n",
            "INFO:tensorflow:loss = 0.19265088, step = 40001 (0.387 sec)\n",
            "INFO:tensorflow:global_step/sec: 256.111\n",
            "INFO:tensorflow:loss = 0.2094235, step = 40101 (0.390 sec)\n",
            "INFO:tensorflow:global_step/sec: 258.707\n",
            "INFO:tensorflow:loss = 0.10923303, step = 40201 (0.387 sec)\n",
            "INFO:tensorflow:global_step/sec: 244.842\n",
            "INFO:tensorflow:loss = 0.28106308, step = 40301 (0.408 sec)\n",
            "INFO:tensorflow:global_step/sec: 251.897\n",
            "INFO:tensorflow:loss = 0.1021469, step = 40401 (0.397 sec)\n",
            "INFO:tensorflow:global_step/sec: 267.424\n",
            "INFO:tensorflow:loss = 0.120630026, step = 40501 (0.374 sec)\n",
            "INFO:tensorflow:global_step/sec: 265.338\n",
            "INFO:tensorflow:loss = 0.1681374, step = 40601 (0.377 sec)\n",
            "INFO:tensorflow:global_step/sec: 262.898\n",
            "INFO:tensorflow:loss = 0.1719942, step = 40701 (0.381 sec)\n",
            "INFO:tensorflow:global_step/sec: 267.734\n",
            "INFO:tensorflow:loss = 0.14869964, step = 40801 (0.380 sec)\n",
            "INFO:tensorflow:global_step/sec: 256.584\n",
            "INFO:tensorflow:loss = 0.21932928, step = 40901 (0.384 sec)\n",
            "INFO:tensorflow:global_step/sec: 255.52\n",
            "INFO:tensorflow:loss = 0.337346, step = 41001 (0.391 sec)\n",
            "INFO:tensorflow:global_step/sec: 259.886\n",
            "INFO:tensorflow:loss = 0.21157137, step = 41101 (0.385 sec)\n",
            "INFO:tensorflow:global_step/sec: 259.98\n",
            "INFO:tensorflow:loss = 0.19068752, step = 41201 (0.385 sec)\n",
            "INFO:tensorflow:global_step/sec: 266.787\n",
            "INFO:tensorflow:loss = 0.22531815, step = 41301 (0.375 sec)\n",
            "INFO:tensorflow:global_step/sec: 246.823\n",
            "INFO:tensorflow:loss = 0.18114573, step = 41401 (0.405 sec)\n",
            "INFO:tensorflow:global_step/sec: 271.901\n",
            "INFO:tensorflow:loss = 0.16556746, step = 41501 (0.367 sec)\n",
            "INFO:tensorflow:global_step/sec: 259.139\n",
            "INFO:tensorflow:loss = 0.18508603, step = 41601 (0.386 sec)\n",
            "INFO:tensorflow:global_step/sec: 251.368\n",
            "INFO:tensorflow:loss = 0.12167469, step = 41701 (0.398 sec)\n",
            "INFO:tensorflow:global_step/sec: 255.08\n",
            "INFO:tensorflow:loss = 0.48032513, step = 41801 (0.392 sec)\n",
            "INFO:tensorflow:global_step/sec: 265.981\n",
            "INFO:tensorflow:loss = 0.23499538, step = 41901 (0.376 sec)\n",
            "INFO:tensorflow:global_step/sec: 270.93\n",
            "INFO:tensorflow:loss = 0.19333664, step = 42001 (0.369 sec)\n",
            "INFO:tensorflow:global_step/sec: 258.449\n",
            "INFO:tensorflow:loss = 0.17508194, step = 42101 (0.387 sec)\n",
            "INFO:tensorflow:global_step/sec: 238.024\n",
            "INFO:tensorflow:loss = 0.112543784, step = 42201 (0.421 sec)\n",
            "INFO:tensorflow:global_step/sec: 244.257\n",
            "INFO:tensorflow:loss = 0.12184358, step = 42301 (0.409 sec)\n",
            "INFO:tensorflow:global_step/sec: 238.195\n",
            "INFO:tensorflow:loss = 0.20412356, step = 42401 (0.420 sec)\n",
            "INFO:tensorflow:global_step/sec: 256.774\n",
            "INFO:tensorflow:loss = 0.03194519, step = 42501 (0.389 sec)\n",
            "INFO:tensorflow:global_step/sec: 242.27\n",
            "INFO:tensorflow:loss = 0.13950384, step = 42601 (0.413 sec)\n",
            "INFO:tensorflow:global_step/sec: 249.722\n",
            "INFO:tensorflow:loss = 0.18679318, step = 42701 (0.400 sec)\n",
            "INFO:tensorflow:global_step/sec: 264.931\n",
            "INFO:tensorflow:loss = 0.26719624, step = 42801 (0.377 sec)\n",
            "INFO:tensorflow:global_step/sec: 261.945\n",
            "INFO:tensorflow:loss = 0.2818732, step = 42901 (0.382 sec)\n",
            "INFO:tensorflow:global_step/sec: 255.178\n",
            "INFO:tensorflow:loss = 0.20373365, step = 43001 (0.392 sec)\n",
            "INFO:tensorflow:global_step/sec: 259.638\n",
            "INFO:tensorflow:loss = 0.23024294, step = 43101 (0.385 sec)\n",
            "INFO:tensorflow:global_step/sec: 253.16\n",
            "INFO:tensorflow:loss = 0.19843969, step = 43201 (0.395 sec)\n",
            "INFO:tensorflow:global_step/sec: 257.27\n",
            "INFO:tensorflow:loss = 0.133576, step = 43301 (0.389 sec)\n",
            "INFO:tensorflow:global_step/sec: 250.993\n",
            "INFO:tensorflow:loss = 0.29612595, step = 43401 (0.399 sec)\n",
            "INFO:tensorflow:global_step/sec: 253.458\n",
            "INFO:tensorflow:loss = 0.23332113, step = 43501 (0.395 sec)\n",
            "INFO:tensorflow:global_step/sec: 252.851\n",
            "INFO:tensorflow:loss = 0.12414503, step = 43601 (0.396 sec)\n",
            "INFO:tensorflow:global_step/sec: 245.96\n",
            "INFO:tensorflow:loss = 0.2033735, step = 43701 (0.406 sec)\n",
            "INFO:tensorflow:global_step/sec: 266.692\n",
            "INFO:tensorflow:loss = 0.15005323, step = 43801 (0.375 sec)\n",
            "INFO:tensorflow:global_step/sec: 248.599\n",
            "INFO:tensorflow:loss = 0.21609601, step = 43901 (0.402 sec)\n",
            "INFO:tensorflow:Calling checkpoint listeners before saving checkpoint 44000...\n",
            "INFO:tensorflow:Saving checkpoints for 44000 into /tmp/tmpenmtsag8/model.ckpt.\n",
            "INFO:tensorflow:Calling checkpoint listeners after saving checkpoint 44000...\n",
            "INFO:tensorflow:Loss for final step: 0.30380455.\n"
          ],
          "name": "stdout"
        },
        {
          "output_type": "execute_result",
          "data": {
            "text/plain": [
              "<tensorflow_estimator.python.estimator.canned.dnn.DNNClassifierV2 at 0x7fcc126fe1d0>"
            ]
          },
          "metadata": {
            "tags": []
          },
          "execution_count": 159
        }
      ]
    },
    {
      "cell_type": "code",
      "metadata": {
        "id": "An8SvvkjF5Pc",
        "colab_type": "code",
        "colab": {
          "base_uri": "https://localhost:8080/",
          "height": 224
        },
        "outputId": "1e8198da-dd27-4723-aa89-4de5250242f7"
      },
      "source": [
        "\n",
        "# test_input_fn = tf.estimator.inputs.numpy_input_fn(\n",
        "test_input_fn = tf.compat.v1.estimator.inputs.numpy_input_fn(    \n",
        "    x={\"X\": X_test}, y=y_test, shuffle=False)\n",
        "eval_results = dnn_clf.evaluate(input_fn=test_input_fn)"
      ],
      "execution_count": 160,
      "outputs": [
        {
          "output_type": "stream",
          "text": [
            "INFO:tensorflow:Calling model_fn.\n",
            "INFO:tensorflow:Done calling model_fn.\n",
            "INFO:tensorflow:Starting evaluation at 2020-07-27T21:26:31Z\n",
            "INFO:tensorflow:Graph was finalized.\n",
            "INFO:tensorflow:Restoring parameters from /tmp/tmpenmtsag8/model.ckpt-44000\n",
            "INFO:tensorflow:Running local_init_op.\n",
            "INFO:tensorflow:Done running local_init_op.\n",
            "INFO:tensorflow:Inference Time : 0.44757s\n",
            "INFO:tensorflow:Finished evaluation at 2020-07-27-21:26:32\n",
            "INFO:tensorflow:Saving dict for global step 44000: accuracy = 0.9487, average_loss = 0.1808018, global_step = 44000, loss = 0.17961186\n",
            "INFO:tensorflow:Saving 'checkpoint_path' summary for global step 44000: /tmp/tmpenmtsag8/model.ckpt-44000\n"
          ],
          "name": "stdout"
        }
      ]
    },
    {
      "cell_type": "code",
      "metadata": {
        "id": "JWt01vp3F5Pe",
        "colab_type": "code",
        "colab": {
          "base_uri": "https://localhost:8080/",
          "height": 85
        },
        "outputId": "62ff49a1-27c7-4637-9c29-5e55cea5f7e8"
      },
      "source": [
        "eval_results"
      ],
      "execution_count": 161,
      "outputs": [
        {
          "output_type": "execute_result",
          "data": {
            "text/plain": [
              "{'accuracy': 0.9487,\n",
              " 'average_loss': 0.1808018,\n",
              " 'global_step': 44000,\n",
              " 'loss': 0.17961186}"
            ]
          },
          "metadata": {
            "tags": []
          },
          "execution_count": 161
        }
      ]
    },
    {
      "cell_type": "code",
      "metadata": {
        "id": "uOC2fxUVF5Ph",
        "colab_type": "code",
        "colab": {
          "base_uri": "https://localhost:8080/",
          "height": 306
        },
        "outputId": "440ca424-13b8-497d-e23f-6b6ebdea9964"
      },
      "source": [
        "y_pred_iter = dnn_clf.predict(input_fn=test_input_fn)\n",
        "y_pred = list(y_pred_iter)\n",
        "y_pred[0]"
      ],
      "execution_count": 162,
      "outputs": [
        {
          "output_type": "stream",
          "text": [
            "INFO:tensorflow:Calling model_fn.\n",
            "INFO:tensorflow:Done calling model_fn.\n",
            "INFO:tensorflow:Graph was finalized.\n",
            "INFO:tensorflow:Restoring parameters from /tmp/tmpenmtsag8/model.ckpt-44000\n",
            "INFO:tensorflow:Running local_init_op.\n",
            "INFO:tensorflow:Done running local_init_op.\n"
          ],
          "name": "stdout"
        },
        {
          "output_type": "execute_result",
          "data": {
            "text/plain": [
              "{'all_class_ids': array([0, 1, 2, 3, 4, 5, 6, 7, 8, 9], dtype=int32),\n",
              " 'all_classes': array([b'0', b'1', b'2', b'3', b'4', b'5', b'6', b'7', b'8', b'9'],\n",
              "       dtype=object),\n",
              " 'class_ids': array([7]),\n",
              " 'classes': array([b'7'], dtype=object),\n",
              " 'logits': array([ 0.5357463 , -4.835307  ,  1.4066323 ,  3.000355  , -3.257499  ,\n",
              "        -0.47835281, -6.6591535 ,  8.834581  , -1.4400225 ,  1.0406692 ],\n",
              "       dtype=float32),\n",
              " 'probabilities': array([2.4773815e-04, 1.1517916e-06, 5.9185288e-04, 2.9131216e-03,\n",
              "        5.5796554e-06, 8.9861816e-05, 1.8590356e-07, 9.9570578e-01,\n",
              "        3.4350043e-05, 4.1046683e-04], dtype=float32)}"
            ]
          },
          "metadata": {
            "tags": []
          },
          "execution_count": 162
        }
      ]
    },
    {
      "cell_type": "code",
      "metadata": {
        "id": "eCYy2XjcSmiY",
        "colab_type": "code",
        "colab": {
          "base_uri": "https://localhost:8080/",
          "height": 1000
        },
        "outputId": "ad6f61b9-2562-419a-cb94-23632f7cc911"
      },
      "source": [
        "dir(dnn_clf)"
      ],
      "execution_count": 19,
      "outputs": [
        {
          "output_type": "execute_result",
          "data": {
            "text/plain": [
              "['__class__',\n",
              " '__delattr__',\n",
              " '__dict__',\n",
              " '__dir__',\n",
              " '__doc__',\n",
              " '__eq__',\n",
              " '__format__',\n",
              " '__ge__',\n",
              " '__getattribute__',\n",
              " '__gt__',\n",
              " '__hash__',\n",
              " '__init__',\n",
              " '__init_subclass__',\n",
              " '__le__',\n",
              " '__lt__',\n",
              " '__module__',\n",
              " '__ne__',\n",
              " '__new__',\n",
              " '__reduce__',\n",
              " '__reduce_ex__',\n",
              " '__repr__',\n",
              " '__setattr__',\n",
              " '__sizeof__',\n",
              " '__str__',\n",
              " '__subclasshook__',\n",
              " '__weakref__',\n",
              " '_actual_eval',\n",
              " '_actual_train_model_distributed',\n",
              " '_add_meta_graph_for_mode',\n",
              " '_assert_members_are_not_overridden',\n",
              " '_call_input_fn',\n",
              " '_call_model_fn',\n",
              " '_call_model_fn_eval',\n",
              " '_call_model_fn_eval_distributed',\n",
              " '_config',\n",
              " '_convert_eval_steps_to_hooks',\n",
              " '_convert_train_steps_to_hooks',\n",
              " '_create_and_assert_global_step',\n",
              " '_create_global_step',\n",
              " '_device_fn',\n",
              " '_estimator_api_names',\n",
              " '_estimator_api_names_v1',\n",
              " '_eval_distribution',\n",
              " '_evaluate_build_graph',\n",
              " '_evaluate_run',\n",
              " '_export_all_saved_models',\n",
              " '_extract_batch_length',\n",
              " '_extract_keys',\n",
              " '_get_features_and_labels_from_input_fn',\n",
              " '_get_features_from_input_fn',\n",
              " '_get_iterator_from_input_fn',\n",
              " '_maybe_warm_start',\n",
              " '_model_dir',\n",
              " '_model_fn',\n",
              " '_params',\n",
              " '_session_config',\n",
              " '_train_distribution',\n",
              " '_train_model',\n",
              " '_train_model_default',\n",
              " '_train_model_distributed',\n",
              " '_train_with_estimator_spec',\n",
              " '_train_with_estimator_spec_distributed',\n",
              " '_validate_features_in_predict_input',\n",
              " '_warm_start_settings',\n",
              " 'config',\n",
              " 'eval_dir',\n",
              " 'evaluate',\n",
              " 'experimental_export_all_saved_models',\n",
              " 'export_saved_model',\n",
              " 'export_savedmodel',\n",
              " 'get_variable_names',\n",
              " 'get_variable_value',\n",
              " 'latest_checkpoint',\n",
              " 'model_dir',\n",
              " 'model_fn',\n",
              " 'params',\n",
              " 'predict',\n",
              " 'train']"
            ]
          },
          "metadata": {
            "tags": []
          },
          "execution_count": 19
        }
      ]
    },
    {
      "cell_type": "markdown",
      "metadata": {
        "collapsed": true,
        "id": "rgOU7YaVF5Pj",
        "colab_type": "text"
      },
      "source": [
        "## Using plain TensorFlow"
      ]
    },
    {
      "cell_type": "code",
      "metadata": {
        "id": "mW5yOAq4F5Pj",
        "colab_type": "code",
        "colab": {}
      },
      "source": [
        "import tensorflow.compat.v1 as tf\n",
        "tf.disable_v2_behavior()\n",
        "\n",
        "n_inputs = 28*28  # MNIST\n",
        "n_hidden1 = 300\n",
        "n_hidden2 = 100\n",
        "n_outputs = 10"
      ],
      "execution_count": 163,
      "outputs": []
    },
    {
      "cell_type": "code",
      "metadata": {
        "id": "I1jcsJunF5Pl",
        "colab_type": "code",
        "colab": {}
      },
      "source": [
        "# from tensorflow.python.framework import ops\n",
        "# ops.reset_default_graph()\n",
        "\n",
        "reset_graph()\n",
        "tf.compat.v1.reset_default_graph()\n",
        "\n",
        "X = tf.placeholder(tf.float32, shape=(None, n_inputs), name=\"X\")\n",
        "y = tf.placeholder(tf.int32, shape=(None), name=\"y\")"
      ],
      "execution_count": 164,
      "outputs": []
    },
    {
      "cell_type": "code",
      "metadata": {
        "id": "erSjLmAmF5Po",
        "colab_type": "code",
        "colab": {}
      },
      "source": [
        "def neuron_layer(X, n_neurons, name, activation=None):\n",
        "    with tf.name_scope(name):\n",
        "        n_inputs = int(X.get_shape()[1])\n",
        "        stddev = 2 / np.sqrt(n_inputs)\n",
        "        init = tf.truncated_normal((n_inputs, n_neurons), stddev=stddev)\n",
        "        W = tf.Variable(init, name=\"kernel\")\n",
        "        b = tf.Variable(tf.zeros([n_neurons]), name=\"bias\")\n",
        "        Z = tf.matmul(X, W) + b\n",
        "        if activation is not None:\n",
        "            return activation(Z)\n",
        "        else:\n",
        "            return Z"
      ],
      "execution_count": 165,
      "outputs": []
    },
    {
      "cell_type": "code",
      "metadata": {
        "id": "IQR7HWZ1F5Pr",
        "colab_type": "code",
        "colab": {}
      },
      "source": [
        "with tf.name_scope(\"dnn\"):\n",
        "    hidden1 = neuron_layer(X, n_hidden1, name=\"hidden1\",\n",
        "                           activation=tf.nn.relu)\n",
        "    hidden2 = neuron_layer(hidden1, n_hidden2, name=\"hidden2\",\n",
        "                           activation=tf.nn.relu)\n",
        "    logits = neuron_layer(hidden2, n_outputs, name=\"outputs\")"
      ],
      "execution_count": 166,
      "outputs": []
    },
    {
      "cell_type": "code",
      "metadata": {
        "id": "C1uAARe3F5Pt",
        "colab_type": "code",
        "colab": {}
      },
      "source": [
        "with tf.name_scope(\"loss\"):\n",
        "    xentropy = tf.nn.sparse_softmax_cross_entropy_with_logits(labels=y,\n",
        "                                                              logits=logits)\n",
        "    loss = tf.reduce_mean(xentropy, name=\"loss\")"
      ],
      "execution_count": 167,
      "outputs": []
    },
    {
      "cell_type": "code",
      "metadata": {
        "id": "lKxWeLdOF5Pv",
        "colab_type": "code",
        "colab": {}
      },
      "source": [
        "learning_rate = 0.01\n",
        "\n",
        "with tf.name_scope(\"train\"):\n",
        "    optimizer = tf.train.GradientDescentOptimizer(learning_rate)\n",
        "    training_op = optimizer.minimize(loss)"
      ],
      "execution_count": 168,
      "outputs": []
    },
    {
      "cell_type": "code",
      "metadata": {
        "id": "jaBoOq5pF5Px",
        "colab_type": "code",
        "colab": {}
      },
      "source": [
        "with tf.name_scope(\"eval\"):\n",
        "    correct = tf.nn.in_top_k(logits, y, 1)\n",
        "    accuracy = tf.reduce_mean(tf.cast(correct, tf.float32))"
      ],
      "execution_count": 169,
      "outputs": []
    },
    {
      "cell_type": "code",
      "metadata": {
        "id": "8xkVa2C4F5Pz",
        "colab_type": "code",
        "colab": {}
      },
      "source": [
        "init = tf.global_variables_initializer()\n",
        "saver = tf.train.Saver()"
      ],
      "execution_count": 170,
      "outputs": []
    },
    {
      "cell_type": "code",
      "metadata": {
        "id": "23qTPshBF5P2",
        "colab_type": "code",
        "colab": {}
      },
      "source": [
        "n_epochs = 40\n",
        "batch_size = 50"
      ],
      "execution_count": 171,
      "outputs": []
    },
    {
      "cell_type": "code",
      "metadata": {
        "id": "ryw8KQj4F5P5",
        "colab_type": "code",
        "colab": {}
      },
      "source": [
        "def shuffle_batch(X, y, batch_size):\n",
        "    rnd_idx = np.random.permutation(len(X))\n",
        "    n_batches = len(X) // batch_size\n",
        "    for batch_idx in np.array_split(rnd_idx, n_batches):\n",
        "        X_batch, y_batch = X[batch_idx], y[batch_idx]\n",
        "        yield X_batch, y_batch"
      ],
      "execution_count": 172,
      "outputs": []
    },
    {
      "cell_type": "code",
      "metadata": {
        "scrolled": true,
        "id": "wEM_f0PuF5P8",
        "colab_type": "code",
        "colab": {
          "base_uri": "https://localhost:8080/",
          "height": 697
        },
        "outputId": "a7881363-cbab-417f-900b-1c44ab00f9f3"
      },
      "source": [
        "with tf.Session() as sess:\n",
        "    init.run()\n",
        "    for epoch in range(n_epochs):\n",
        "        for X_batch, y_batch in shuffle_batch(X_train, y_train, batch_size):\n",
        "            sess.run(training_op, feed_dict={X: X_batch, y: y_batch})\n",
        "        acc_batch = accuracy.eval(feed_dict={X: X_batch, y: y_batch})\n",
        "        acc_val = accuracy.eval(feed_dict={X: X_valid, y: y_valid})\n",
        "        print(epoch, \"Batch accuracy:\", acc_batch, \"Val accuracy:\", acc_val)\n",
        "\n",
        "    save_path = saver.save(sess, \"./my_model_final.ckpt\")"
      ],
      "execution_count": 173,
      "outputs": [
        {
          "output_type": "stream",
          "text": [
            "0 Batch accuracy: 0.88 Val accuracy: 0.9156\n",
            "1 Batch accuracy: 0.92 Val accuracy: 0.9308\n",
            "2 Batch accuracy: 0.96 Val accuracy: 0.9382\n",
            "3 Batch accuracy: 0.92 Val accuracy: 0.9464\n",
            "4 Batch accuracy: 0.96 Val accuracy: 0.951\n",
            "5 Batch accuracy: 0.96 Val accuracy: 0.9538\n",
            "6 Batch accuracy: 1.0 Val accuracy: 0.9592\n",
            "7 Batch accuracy: 0.92 Val accuracy: 0.9616\n",
            "8 Batch accuracy: 0.98 Val accuracy: 0.963\n",
            "9 Batch accuracy: 0.94 Val accuracy: 0.9664\n",
            "10 Batch accuracy: 0.96 Val accuracy: 0.9668\n",
            "11 Batch accuracy: 0.96 Val accuracy: 0.9678\n",
            "12 Batch accuracy: 0.98 Val accuracy: 0.9688\n",
            "13 Batch accuracy: 0.96 Val accuracy: 0.9686\n",
            "14 Batch accuracy: 1.0 Val accuracy: 0.971\n",
            "15 Batch accuracy: 0.92 Val accuracy: 0.9712\n",
            "16 Batch accuracy: 0.98 Val accuracy: 0.9714\n",
            "17 Batch accuracy: 1.0 Val accuracy: 0.9728\n",
            "18 Batch accuracy: 0.98 Val accuracy: 0.9736\n",
            "19 Batch accuracy: 0.98 Val accuracy: 0.9734\n",
            "20 Batch accuracy: 1.0 Val accuracy: 0.9758\n",
            "21 Batch accuracy: 1.0 Val accuracy: 0.9728\n",
            "22 Batch accuracy: 0.96 Val accuracy: 0.974\n",
            "23 Batch accuracy: 0.98 Val accuracy: 0.9748\n",
            "24 Batch accuracy: 0.98 Val accuracy: 0.9766\n",
            "25 Batch accuracy: 1.0 Val accuracy: 0.9752\n",
            "26 Batch accuracy: 0.96 Val accuracy: 0.9764\n",
            "27 Batch accuracy: 1.0 Val accuracy: 0.9764\n",
            "28 Batch accuracy: 0.96 Val accuracy: 0.9768\n",
            "29 Batch accuracy: 0.98 Val accuracy: 0.9766\n",
            "30 Batch accuracy: 1.0 Val accuracy: 0.9778\n",
            "31 Batch accuracy: 0.98 Val accuracy: 0.9774\n",
            "32 Batch accuracy: 0.98 Val accuracy: 0.9768\n",
            "33 Batch accuracy: 1.0 Val accuracy: 0.9762\n",
            "34 Batch accuracy: 1.0 Val accuracy: 0.9784\n",
            "35 Batch accuracy: 1.0 Val accuracy: 0.978\n",
            "36 Batch accuracy: 1.0 Val accuracy: 0.9788\n",
            "37 Batch accuracy: 1.0 Val accuracy: 0.977\n",
            "38 Batch accuracy: 1.0 Val accuracy: 0.9784\n",
            "39 Batch accuracy: 1.0 Val accuracy: 0.9762\n"
          ],
          "name": "stdout"
        }
      ]
    },
    {
      "cell_type": "code",
      "metadata": {
        "id": "seC7gS3aF5P-",
        "colab_type": "code",
        "colab": {
          "base_uri": "https://localhost:8080/",
          "height": 34
        },
        "outputId": "2e3d8fc3-5afe-42eb-a9c1-0a7e2e700729"
      },
      "source": [
        "with tf.Session() as sess:\n",
        "    saver.restore(sess, \"./my_model_final.ckpt\") # or better, use save_path\n",
        "    X_new_scaled = X_test[:20]\n",
        "    Z = logits.eval(feed_dict={X: X_new_scaled})\n",
        "    y_pred = np.argmax(Z, axis=1)"
      ],
      "execution_count": 174,
      "outputs": [
        {
          "output_type": "stream",
          "text": [
            "INFO:tensorflow:Restoring parameters from ./my_model_final.ckpt\n"
          ],
          "name": "stdout"
        }
      ]
    },
    {
      "cell_type": "code",
      "metadata": {
        "id": "J6MkVsibF5QA",
        "colab_type": "code",
        "colab": {
          "base_uri": "https://localhost:8080/",
          "height": 51
        },
        "outputId": "1e7ea420-d739-4377-e091-5c5f98065050"
      },
      "source": [
        "print(\"Predicted classes:\", y_pred)\n",
        "print(\"Actual classes:   \", y_test[:20])"
      ],
      "execution_count": 175,
      "outputs": [
        {
          "output_type": "stream",
          "text": [
            "Predicted classes: [7 2 1 0 4 1 4 9 5 9 0 6 9 0 1 5 9 7 3 4]\n",
            "Actual classes:    [7 2 1 0 4 1 4 9 5 9 0 6 9 0 1 5 9 7 3 4]\n"
          ],
          "name": "stdout"
        }
      ]
    },
    {
      "cell_type": "code",
      "metadata": {
        "id": "gM-LWwegF5QC",
        "colab_type": "code",
        "colab": {}
      },
      "source": [
        "# from tensorflow_graph_in_jupyter import show_graph"
      ],
      "execution_count": 176,
      "outputs": []
    },
    {
      "cell_type": "code",
      "metadata": {
        "id": "K4yqXouuF5QF",
        "colab_type": "code",
        "colab": {}
      },
      "source": [
        "# show_graph(tf.get_default_graph())"
      ],
      "execution_count": 177,
      "outputs": []
    },
    {
      "cell_type": "markdown",
      "metadata": {
        "id": "qaQT7UvyF5QI",
        "colab_type": "text"
      },
      "source": [
        "## Using `dense()` instead of `neuron_layer()`"
      ]
    },
    {
      "cell_type": "markdown",
      "metadata": {
        "id": "9a2IU71jF5QJ",
        "colab_type": "text"
      },
      "source": [
        "Note: previous releases of the book used `tensorflow.contrib.layers.fully_connected()` rather than `tf.layers.dense()` (which did not exist when this chapter was written). It is now preferable to use `tf.layers.dense()`, because anything in the contrib module may change or be deleted without notice. The `dense()` function is almost identical to the `fully_connected()` function, except for a few minor differences:\n",
        "* several parameters are renamed: `scope` becomes `name`, `activation_fn` becomes `activation` (and similarly the `_fn` suffix is removed from other parameters such as `normalizer_fn`), `weights_initializer` becomes `kernel_initializer`, etc.\n",
        "* the default `activation` is now `None` rather than `tf.nn.relu`.\n",
        "* a few more differences are presented in chapter 11."
      ]
    },
    {
      "cell_type": "code",
      "metadata": {
        "id": "B4jf5GBxF5QJ",
        "colab_type": "code",
        "colab": {}
      },
      "source": [
        "n_inputs = 28*28  # MNIST\n",
        "n_hidden1 = 300\n",
        "n_hidden2 = 100\n",
        "n_outputs = 10"
      ],
      "execution_count": 35,
      "outputs": []
    },
    {
      "cell_type": "code",
      "metadata": {
        "id": "Z4jiR87-F5QL",
        "colab_type": "code",
        "colab": {}
      },
      "source": [
        "import tensorflow.compat.v1 as tf\n",
        "tf.disable_v2_behavior()\n",
        "\n",
        "reset_graph()\n",
        "\n",
        "\n",
        "\n",
        "X = tf.placeholder(tf.float32, shape=(None, n_inputs), name=\"X\")\n",
        "y = tf.placeholder(tf.int32, shape=(None), name=\"y\") "
      ],
      "execution_count": 36,
      "outputs": []
    },
    {
      "cell_type": "code",
      "metadata": {
        "id": "EmwVmL6GF5QN",
        "colab_type": "code",
        "colab": {
          "base_uri": "https://localhost:8080/",
          "height": 139
        },
        "outputId": "fa12e42a-3101-4aac-d8c6-b99a3c3dc362"
      },
      "source": [
        "with tf.name_scope(\"dnn\"):\n",
        "    hidden1 = tf.layers.dense(X, n_hidden1, name=\"hidden1\",\n",
        "                              activation=tf.nn.relu)\n",
        "    hidden2 = tf.layers.dense(hidden1, n_hidden2, name=\"hidden2\",\n",
        "                              activation=tf.nn.relu)\n",
        "    logits = tf.layers.dense(hidden2, n_outputs, name=\"outputs\")\n",
        "    y_proba = tf.nn.softmax(logits)"
      ],
      "execution_count": 37,
      "outputs": [
        {
          "output_type": "stream",
          "text": [
            "WARNING:tensorflow:From <ipython-input-37-28239acea1fc>:3: dense (from tensorflow.python.keras.legacy_tf_layers.core) is deprecated and will be removed in a future version.\n",
            "Instructions for updating:\n",
            "Use keras.layers.Dense instead.\n",
            "WARNING:tensorflow:From /usr/local/lib/python3.6/dist-packages/tensorflow/python/keras/legacy_tf_layers/core.py:187: Layer.apply (from tensorflow.python.keras.engine.base_layer_v1) is deprecated and will be removed in a future version.\n",
            "Instructions for updating:\n",
            "Please use `layer.__call__` method instead.\n"
          ],
          "name": "stdout"
        }
      ]
    },
    {
      "cell_type": "code",
      "metadata": {
        "id": "AK2un63hF5QP",
        "colab_type": "code",
        "colab": {}
      },
      "source": [
        "with tf.name_scope(\"loss\"):\n",
        "    xentropy = tf.nn.sparse_softmax_cross_entropy_with_logits(labels=y, logits=logits)\n",
        "    loss = tf.reduce_mean(xentropy, name=\"loss\")"
      ],
      "execution_count": 38,
      "outputs": []
    },
    {
      "cell_type": "code",
      "metadata": {
        "id": "dl1dGfvBF5QR",
        "colab_type": "code",
        "colab": {}
      },
      "source": [
        "learning_rate = 0.01\n",
        "\n",
        "with tf.name_scope(\"train\"):\n",
        "    optimizer = tf.train.GradientDescentOptimizer(learning_rate)\n",
        "    training_op = optimizer.minimize(loss)"
      ],
      "execution_count": 39,
      "outputs": []
    },
    {
      "cell_type": "code",
      "metadata": {
        "id": "rLtdWTbDF5QT",
        "colab_type": "code",
        "colab": {}
      },
      "source": [
        "with tf.name_scope(\"eval\"):\n",
        "    correct = tf.nn.in_top_k(logits, y, 1)\n",
        "    accuracy = tf.reduce_mean(tf.cast(correct, tf.float32))"
      ],
      "execution_count": 40,
      "outputs": []
    },
    {
      "cell_type": "code",
      "metadata": {
        "id": "p0_EqSLCF5QV",
        "colab_type": "code",
        "colab": {}
      },
      "source": [
        "init = tf.global_variables_initializer()\n",
        "saver = tf.train.Saver()"
      ],
      "execution_count": 41,
      "outputs": []
    },
    {
      "cell_type": "code",
      "metadata": {
        "id": "Hzg4UQyiF5QX",
        "colab_type": "code",
        "colab": {
          "base_uri": "https://localhost:8080/",
          "height": 357
        },
        "outputId": "6a341b6d-6b02-4e49-c3f2-be8d0d595e26"
      },
      "source": [
        "n_epochs = 20\n",
        "n_batches = 50\n",
        "\n",
        "with tf.Session() as sess:\n",
        "    init.run()\n",
        "    for epoch in range(n_epochs):\n",
        "        for X_batch, y_batch in shuffle_batch(X_train, y_train, batch_size):\n",
        "            sess.run(training_op, feed_dict={X: X_batch, y: y_batch})\n",
        "        acc_batch = accuracy.eval(feed_dict={X: X_batch, y: y_batch})\n",
        "        acc_valid = accuracy.eval(feed_dict={X: X_valid, y: y_valid})\n",
        "        print(epoch, \"Batch accuracy:\", acc_batch, \"Validation accuracy:\", acc_valid)\n",
        "\n",
        "    save_path = saver.save(sess, \"./my_model_final.ckpt\")"
      ],
      "execution_count": 42,
      "outputs": [
        {
          "output_type": "stream",
          "text": [
            "0 Batch accuracy: 0.9 Validation accuracy: 0.906\n",
            "1 Batch accuracy: 0.92 Validation accuracy: 0.927\n",
            "2 Batch accuracy: 0.94 Validation accuracy: 0.9348\n",
            "3 Batch accuracy: 0.9 Validation accuracy: 0.9402\n",
            "4 Batch accuracy: 0.94 Validation accuracy: 0.944\n",
            "5 Batch accuracy: 0.94 Validation accuracy: 0.9482\n",
            "6 Batch accuracy: 1.0 Validation accuracy: 0.9536\n",
            "7 Batch accuracy: 0.94 Validation accuracy: 0.9584\n",
            "8 Batch accuracy: 0.96 Validation accuracy: 0.9606\n",
            "9 Batch accuracy: 0.9 Validation accuracy: 0.9616\n",
            "10 Batch accuracy: 0.9 Validation accuracy: 0.963\n",
            "11 Batch accuracy: 1.0 Validation accuracy: 0.9648\n",
            "12 Batch accuracy: 0.98 Validation accuracy: 0.966\n",
            "13 Batch accuracy: 0.98 Validation accuracy: 0.9666\n",
            "14 Batch accuracy: 1.0 Validation accuracy: 0.9672\n",
            "15 Batch accuracy: 0.92 Validation accuracy: 0.9692\n",
            "16 Batch accuracy: 1.0 Validation accuracy: 0.9694\n",
            "17 Batch accuracy: 1.0 Validation accuracy: 0.9702\n",
            "18 Batch accuracy: 0.98 Validation accuracy: 0.9706\n",
            "19 Batch accuracy: 0.96 Validation accuracy: 0.9728\n"
          ],
          "name": "stdout"
        }
      ]
    },
    {
      "cell_type": "code",
      "metadata": {
        "id": "KPxyFoOmF5QZ",
        "colab_type": "code",
        "colab": {}
      },
      "source": [
        "# show_graph(tf.get_default_graph())"
      ],
      "execution_count": 178,
      "outputs": []
    },
    {
      "cell_type": "markdown",
      "metadata": {
        "collapsed": true,
        "id": "bSOtIPQmF5Qb",
        "colab_type": "text"
      },
      "source": [
        "# Exercise solutions"
      ]
    },
    {
      "cell_type": "markdown",
      "metadata": {
        "id": "aUBOkg-lF5Qc",
        "colab_type": "text"
      },
      "source": [
        "## 1. to 8."
      ]
    },
    {
      "cell_type": "markdown",
      "metadata": {
        "collapsed": true,
        "id": "cqlqtZbgF5Qc",
        "colab_type": "text"
      },
      "source": [
        "See appendix A."
      ]
    },
    {
      "cell_type": "markdown",
      "metadata": {
        "id": "PhOx5s8WF5Qe",
        "colab_type": "text"
      },
      "source": [
        "## 9."
      ]
    },
    {
      "cell_type": "markdown",
      "metadata": {
        "id": "s7fyKGZVF5Qe",
        "colab_type": "text"
      },
      "source": [
        "_Train a deep MLP on the MNIST dataset and see if you can get over 98% precision. Just like in the last exercise of chapter 9, try adding all the bells and whistles (i.e., save checkpoints, restore the last checkpoint in case of an interruption, add summaries, plot learning curves using TensorBoard, and so on)._"
      ]
    },
    {
      "cell_type": "markdown",
      "metadata": {
        "id": "jm72w0NaF5Qf",
        "colab_type": "text"
      },
      "source": [
        "First let's create the deep net. It's exactly the same as earlier, with just one addition: we add a `tf.summary.scalar()` to track the loss and the accuracy during training, so we can view nice learning curves using TensorBoard."
      ]
    },
    {
      "cell_type": "code",
      "metadata": {
        "id": "khQewD4XF5Qf",
        "colab_type": "code",
        "colab": {}
      },
      "source": [
        "n_inputs = 28*28  # MNIST\n",
        "n_hidden1 = 300\n",
        "n_hidden2 = 100\n",
        "n_outputs = 10"
      ],
      "execution_count": 44,
      "outputs": []
    },
    {
      "cell_type": "code",
      "metadata": {
        "id": "-cuLI9DiF5Qh",
        "colab_type": "code",
        "colab": {}
      },
      "source": [
        "reset_graph()\n",
        "\n",
        "X = tf.placeholder(tf.float32, shape=(None, n_inputs), name=\"X\")\n",
        "y = tf.placeholder(tf.int32, shape=(None), name=\"y\") "
      ],
      "execution_count": 45,
      "outputs": []
    },
    {
      "cell_type": "code",
      "metadata": {
        "id": "Q72-b9FoF5Qk",
        "colab_type": "code",
        "colab": {}
      },
      "source": [
        "with tf.name_scope(\"dnn\"):\n",
        "    hidden1 = tf.layers.dense(X, n_hidden1, name=\"hidden1\",\n",
        "                              activation=tf.nn.relu)\n",
        "    hidden2 = tf.layers.dense(hidden1, n_hidden2, name=\"hidden2\",\n",
        "                              activation=tf.nn.relu)\n",
        "    logits = tf.layers.dense(hidden2, n_outputs, name=\"outputs\")"
      ],
      "execution_count": 46,
      "outputs": []
    },
    {
      "cell_type": "code",
      "metadata": {
        "id": "xBls1KMmF5Qm",
        "colab_type": "code",
        "colab": {}
      },
      "source": [
        "with tf.name_scope(\"loss\"):\n",
        "    xentropy = tf.nn.sparse_softmax_cross_entropy_with_logits(labels=y, logits=logits)\n",
        "    loss = tf.reduce_mean(xentropy, name=\"loss\")\n",
        "    loss_summary = tf.summary.scalar('log_loss', loss)"
      ],
      "execution_count": 47,
      "outputs": []
    },
    {
      "cell_type": "code",
      "metadata": {
        "id": "yS-Yoa-QF5Qq",
        "colab_type": "code",
        "colab": {}
      },
      "source": [
        "learning_rate = 0.01\n",
        "\n",
        "with tf.name_scope(\"train\"):\n",
        "    optimizer = tf.train.GradientDescentOptimizer(learning_rate)\n",
        "    training_op = optimizer.minimize(loss)"
      ],
      "execution_count": 48,
      "outputs": []
    },
    {
      "cell_type": "code",
      "metadata": {
        "id": "WHfCIbfpF5Qr",
        "colab_type": "code",
        "colab": {}
      },
      "source": [
        "with tf.name_scope(\"eval\"):\n",
        "    correct = tf.nn.in_top_k(logits, y, 1)\n",
        "    accuracy = tf.reduce_mean(tf.cast(correct, tf.float32))\n",
        "    accuracy_summary = tf.summary.scalar('accuracy', accuracy)"
      ],
      "execution_count": 49,
      "outputs": []
    },
    {
      "cell_type": "code",
      "metadata": {
        "id": "GDf_BMEpF5Qu",
        "colab_type": "code",
        "colab": {}
      },
      "source": [
        "init = tf.global_variables_initializer()\n",
        "saver = tf.train.Saver()"
      ],
      "execution_count": 50,
      "outputs": []
    },
    {
      "cell_type": "markdown",
      "metadata": {
        "id": "At2pHy3ZF5Qv",
        "colab_type": "text"
      },
      "source": [
        "Now we need to define the directory to write the TensorBoard logs to:"
      ]
    },
    {
      "cell_type": "code",
      "metadata": {
        "id": "CUfjAxpUF5Qw",
        "colab_type": "code",
        "colab": {}
      },
      "source": [
        "from datetime import datetime\n",
        "\n",
        "def log_dir(prefix=\"\"):\n",
        "    now = datetime.utcnow().strftime(\"%Y%m%d%H%M%S\")\n",
        "    root_logdir = \"tf_logs\"\n",
        "    if prefix:\n",
        "        prefix += \"-\"\n",
        "    name = prefix + \"run-\" + now\n",
        "    return \"{}/{}/\".format(root_logdir, name)"
      ],
      "execution_count": 51,
      "outputs": []
    },
    {
      "cell_type": "code",
      "metadata": {
        "id": "W_D2xOiqF5Qy",
        "colab_type": "code",
        "colab": {}
      },
      "source": [
        "logdir = log_dir(\"mnist_dnn\")"
      ],
      "execution_count": 52,
      "outputs": []
    },
    {
      "cell_type": "markdown",
      "metadata": {
        "id": "89tx5jVjF5Q0",
        "colab_type": "text"
      },
      "source": [
        "Now we can create the `FileWriter` that we will use to write the TensorBoard logs:"
      ]
    },
    {
      "cell_type": "code",
      "metadata": {
        "id": "7_xDVJfgF5Q0",
        "colab_type": "code",
        "colab": {}
      },
      "source": [
        "file_writer = tf.summary.FileWriter(logdir, tf.get_default_graph())"
      ],
      "execution_count": 53,
      "outputs": []
    },
    {
      "cell_type": "markdown",
      "metadata": {
        "id": "-voDSlInF5Q3",
        "colab_type": "text"
      },
      "source": [
        "Hey! Why don't we implement early stopping? For this, we are going to need to use the validation set."
      ]
    },
    {
      "cell_type": "code",
      "metadata": {
        "id": "jWHE6IejF5Q4",
        "colab_type": "code",
        "colab": {}
      },
      "source": [
        "m, n = X_train.shape"
      ],
      "execution_count": 54,
      "outputs": []
    },
    {
      "cell_type": "code",
      "metadata": {
        "id": "3HYFJi0tF5Q8",
        "colab_type": "code",
        "colab": {
          "base_uri": "https://localhost:8080/",
          "height": 85
        },
        "outputId": "1f34e890-deba-4aaf-b87e-375a8ff9fd4c"
      },
      "source": [
        "# n_epochs = 10001\n",
        "n_epochs = 51\n",
        "\n",
        "\n",
        "batch_size = 50\n",
        "n_batches = int(np.ceil(m / batch_size))\n",
        "\n",
        "checkpoint_path = \"/tmp/my_deep_mnist_model.ckpt\"\n",
        "checkpoint_epoch_path = checkpoint_path + \".epoch\"\n",
        "final_model_path = \"./my_deep_mnist_model\"\n",
        "\n",
        "best_loss = np.infty\n",
        "epochs_without_progress = 0\n",
        "max_epochs_without_progress = 50\n",
        "\n",
        "with tf.Session() as sess:\n",
        "    if os.path.isfile(checkpoint_epoch_path):\n",
        "        # if the checkpoint file exists, restore the model and load the epoch number\n",
        "        with open(checkpoint_epoch_path, \"rb\") as f:\n",
        "            start_epoch = int(f.read())\n",
        "        print(\"Training was interrupted. Continuing at epoch\", start_epoch)\n",
        "        saver.restore(sess, checkpoint_path)\n",
        "    else:\n",
        "        start_epoch = 0\n",
        "        sess.run(init)\n",
        "\n",
        "    for epoch in range(start_epoch, n_epochs):\n",
        "        for X_batch, y_batch in shuffle_batch(X_train, y_train, batch_size):\n",
        "            sess.run(training_op, feed_dict={X: X_batch, y: y_batch})\n",
        "        accuracy_val, loss_val, accuracy_summary_str, loss_summary_str = sess.run([accuracy, loss, accuracy_summary, loss_summary], feed_dict={X: X_valid, y: y_valid})\n",
        "        file_writer.add_summary(accuracy_summary_str, epoch)\n",
        "        file_writer.add_summary(loss_summary_str, epoch)\n",
        "        if epoch % 5 == 0:\n",
        "            print(\"Epoch:\", epoch,\n",
        "                  \"\\tValidation accuracy: {:.3f}%\".format(accuracy_val * 100),\n",
        "                  \"\\tLoss: {:.5f}\".format(loss_val))\n",
        "            saver.save(sess, checkpoint_path)\n",
        "            with open(checkpoint_epoch_path, \"wb\") as f:\n",
        "                f.write(b\"%d\" % (epoch + 1))\n",
        "            if loss_val < best_loss:\n",
        "                saver.save(sess, final_model_path)\n",
        "                best_loss = loss_val\n",
        "            else:\n",
        "                epochs_without_progress += 5\n",
        "                if epochs_without_progress > max_epochs_without_progress:\n",
        "                    print(\"Early stopping\")\n",
        "                    break"
      ],
      "execution_count": 56,
      "outputs": [
        {
          "output_type": "stream",
          "text": [
            "Training was interrupted. Continuing at epoch 41\n",
            "INFO:tensorflow:Restoring parameters from /tmp/my_deep_mnist_model.ckpt\n",
            "Epoch: 45 \tValidation accuracy: 97.980% \tLoss: 0.06958\n",
            "Epoch: 50 \tValidation accuracy: 98.000% \tLoss: 0.06852\n"
          ],
          "name": "stdout"
        }
      ]
    },
    {
      "cell_type": "code",
      "metadata": {
        "id": "PEKBS_pnF5Q_",
        "colab_type": "code",
        "colab": {}
      },
      "source": [
        "os.remove(checkpoint_epoch_path)"
      ],
      "execution_count": 57,
      "outputs": []
    },
    {
      "cell_type": "code",
      "metadata": {
        "id": "-cnhmPYsF5RB",
        "colab_type": "code",
        "colab": {
          "base_uri": "https://localhost:8080/",
          "height": 34
        },
        "outputId": "87ab801d-b286-4a3b-e563-a29942240d49"
      },
      "source": [
        "with tf.Session() as sess:\n",
        "    saver.restore(sess, final_model_path)\n",
        "    accuracy_val = accuracy.eval(feed_dict={X: X_test, y: y_test})"
      ],
      "execution_count": 58,
      "outputs": [
        {
          "output_type": "stream",
          "text": [
            "INFO:tensorflow:Restoring parameters from ./my_deep_mnist_model\n"
          ],
          "name": "stdout"
        }
      ]
    },
    {
      "cell_type": "code",
      "metadata": {
        "id": "uTe_lJBDF5RE",
        "colab_type": "code",
        "colab": {
          "base_uri": "https://localhost:8080/",
          "height": 34
        },
        "outputId": "49db9535-a7cc-464b-ddda-3547753d19ee"
      },
      "source": [
        "accuracy_val"
      ],
      "execution_count": 59,
      "outputs": [
        {
          "output_type": "execute_result",
          "data": {
            "text/plain": [
              "0.9791"
            ]
          },
          "metadata": {
            "tags": []
          },
          "execution_count": 59
        }
      ]
    },
    {
      "cell_type": "code",
      "metadata": {
        "id": "zYy2w17bF5RG",
        "colab_type": "code",
        "colab": {}
      },
      "source": [
        ""
      ],
      "execution_count": null,
      "outputs": []
    },
    {
      "cell_type": "markdown",
      "metadata": {
        "id": "q3JKlsmydrnq",
        "colab_type": "text"
      },
      "source": [
        "# Using Keras"
      ]
    },
    {
      "cell_type": "code",
      "metadata": {
        "id": "P3WiIU9BdwRL",
        "colab_type": "code",
        "colab": {}
      },
      "source": [
        "import tensorflow as tf"
      ],
      "execution_count": 179,
      "outputs": []
    },
    {
      "cell_type": "code",
      "metadata": {
        "id": "X_8GtNMvd8Ku",
        "colab_type": "code",
        "colab": {}
      },
      "source": [
        "from tensorflow import keras"
      ],
      "execution_count": 180,
      "outputs": []
    },
    {
      "cell_type": "code",
      "metadata": {
        "id": "9o7QvGtLeGO5",
        "colab_type": "code",
        "colab": {
          "base_uri": "https://localhost:8080/",
          "height": 35
        },
        "outputId": "158ba9d4-a7fd-4fc4-c6a2-da527ed225f1"
      },
      "source": [
        "tf.__version__"
      ],
      "execution_count": 181,
      "outputs": [
        {
          "output_type": "execute_result",
          "data": {
            "application/vnd.google.colaboratory.intrinsic+json": {
              "type": "string"
            },
            "text/plain": [
              "'2.4.0-dev20200727'"
            ]
          },
          "metadata": {
            "tags": []
          },
          "execution_count": 181
        }
      ]
    },
    {
      "cell_type": "code",
      "metadata": {
        "id": "JuVpJu3veMDH",
        "colab_type": "code",
        "colab": {
          "base_uri": "https://localhost:8080/",
          "height": 54
        },
        "outputId": "dfc45fea-1a31-4aba-b079-c0b00826fd88"
      },
      "source": [
        "tf.keras"
      ],
      "execution_count": 182,
      "outputs": [
        {
          "output_type": "execute_result",
          "data": {
            "text/plain": [
              "<module 'tensorflow.keras' from '/usr/local/lib/python3.6/dist-packages/tensorflow/keras/__init__.py'>"
            ]
          },
          "metadata": {
            "tags": []
          },
          "execution_count": 182
        }
      ]
    },
    {
      "cell_type": "code",
      "metadata": {
        "id": "ru5-gBLMegeD",
        "colab_type": "code",
        "colab": {}
      },
      "source": [
        "fashion_mnist = keras.datasets.fashion_mnist "
      ],
      "execution_count": 183,
      "outputs": []
    },
    {
      "cell_type": "code",
      "metadata": {
        "id": "AWcx8hEMe7_e",
        "colab_type": "code",
        "colab": {}
      },
      "source": [
        "( X_train_full , y_train_full ), ( X_test , y_test ) = fashion_mnist.load_data() "
      ],
      "execution_count": 184,
      "outputs": []
    },
    {
      "cell_type": "code",
      "metadata": {
        "id": "OUF3R-OHfp4k",
        "colab_type": "code",
        "colab": {
          "base_uri": "https://localhost:8080/",
          "height": 34
        },
        "outputId": "d34dbcfe-c48f-4058-baee-f75e66c0697b"
      },
      "source": [
        "X_train_full.shape "
      ],
      "execution_count": 185,
      "outputs": [
        {
          "output_type": "execute_result",
          "data": {
            "text/plain": [
              "(60000, 28, 28)"
            ]
          },
          "metadata": {
            "tags": []
          },
          "execution_count": 185
        }
      ]
    },
    {
      "cell_type": "code",
      "metadata": {
        "id": "7I8-ozTpfwM3",
        "colab_type": "code",
        "colab": {
          "base_uri": "https://localhost:8080/",
          "height": 34
        },
        "outputId": "0c46cc86-f66a-493b-9c4c-60b3c607cf43"
      },
      "source": [
        "X_train_full.dtype \n"
      ],
      "execution_count": 186,
      "outputs": [
        {
          "output_type": "execute_result",
          "data": {
            "text/plain": [
              "dtype('uint8')"
            ]
          },
          "metadata": {
            "tags": []
          },
          "execution_count": 186
        }
      ]
    },
    {
      "cell_type": "markdown",
      "metadata": {
        "id": "8oMqAM7if84w",
        "colab_type": "text"
      },
      "source": [
        "# creating validation set and scaling features"
      ]
    },
    {
      "cell_type": "code",
      "metadata": {
        "id": "RpGNwQpVf0ba",
        "colab_type": "code",
        "colab": {}
      },
      "source": [
        "X_valid , X_train = X_train_full [: 5000 ] / 255.0 , X_train_full [ 5000 :] / 255.0 "
      ],
      "execution_count": 187,
      "outputs": []
    },
    {
      "cell_type": "code",
      "metadata": {
        "id": "FvIIlrMzgiL-",
        "colab_type": "code",
        "colab": {}
      },
      "source": [
        "y_valid , y_train = y_train_full [: 5000 ], y_train_full [ 5000 :] "
      ],
      "execution_count": 188,
      "outputs": []
    },
    {
      "cell_type": "code",
      "metadata": {
        "id": "wspuesC2giVp",
        "colab_type": "code",
        "colab": {}
      },
      "source": [
        "X_test = X_test / 255.0 \n",
        "\n"
      ],
      "execution_count": 189,
      "outputs": []
    },
    {
      "cell_type": "code",
      "metadata": {
        "id": "H0dMVdYfgy2j",
        "colab_type": "code",
        "colab": {}
      },
      "source": [
        "class_names = [ \"T-shirt/top\" , \"Trouser\" , \"Pullover\" , \"Dress\" , \"Coat\" , \"Sandal\" , \"Shirt\" , \"Sneaker\" , \"Bag\" , \"Ankle boot\" ] \n",
        "\n"
      ],
      "execution_count": 190,
      "outputs": []
    },
    {
      "cell_type": "code",
      "metadata": {
        "id": "_BnJBbtvg9Kk",
        "colab_type": "code",
        "colab": {
          "base_uri": "https://localhost:8080/",
          "height": 35
        },
        "outputId": "48094a8c-e28d-44fb-a64f-5106b0c4cfdf"
      },
      "source": [
        "class_names[y_train[0]]"
      ],
      "execution_count": 191,
      "outputs": [
        {
          "output_type": "execute_result",
          "data": {
            "application/vnd.google.colaboratory.intrinsic+json": {
              "type": "string"
            },
            "text/plain": [
              "'Coat'"
            ]
          },
          "metadata": {
            "tags": []
          },
          "execution_count": 191
        }
      ]
    },
    {
      "cell_type": "code",
      "metadata": {
        "id": "okUgW1jehE0Q",
        "colab_type": "code",
        "colab": {
          "base_uri": "https://localhost:8080/",
          "height": 34
        },
        "outputId": "3bb69554-7f74-4dba-9f09-79a1d0a838fb"
      },
      "source": [
        "y_train[0]"
      ],
      "execution_count": 192,
      "outputs": [
        {
          "output_type": "execute_result",
          "data": {
            "text/plain": [
              "4"
            ]
          },
          "metadata": {
            "tags": []
          },
          "execution_count": 192
        }
      ]
    },
    {
      "cell_type": "code",
      "metadata": {
        "id": "zgfY8_s0hMer",
        "colab_type": "code",
        "colab": {}
      },
      "source": [
        ""
      ],
      "execution_count": 192,
      "outputs": []
    },
    {
      "cell_type": "code",
      "metadata": {
        "id": "5Oieg4LRhtFo",
        "colab_type": "code",
        "colab": {
          "base_uri": "https://localhost:8080/",
          "height": 286
        },
        "outputId": "de3654ff-85f4-4a40-8b17-45f1fbd4ccd5"
      },
      "source": [
        "plt.imshow(X_test[0])"
      ],
      "execution_count": 78,
      "outputs": [
        {
          "output_type": "execute_result",
          "data": {
            "text/plain": [
              "<matplotlib.image.AxesImage at 0x7fcc14ea3eb8>"
            ]
          },
          "metadata": {
            "tags": []
          },
          "execution_count": 78
        },
        {
          "output_type": "display_data",
          "data": {
            "image/png": "[encoded data removed]",
            "text/plain": [
              "<Figure size 432x288 with 1 Axes>"
            ]
          },
          "metadata": {
            "tags": [],
            "needs_background": "light"
          }
        }
      ]
    },
    {
      "cell_type": "code",
      "metadata": {
        "id": "zN_mar_PhzwF",
        "colab_type": "code",
        "colab": {
          "base_uri": "https://localhost:8080/",
          "height": 286
        },
        "outputId": "519f4a7a-c1f0-4f1b-8a83-988ecfc5d4a2"
      },
      "source": [
        "plt.imshow(X_test[1])"
      ],
      "execution_count": 79,
      "outputs": [
        {
          "output_type": "execute_result",
          "data": {
            "text/plain": [
              "<matplotlib.image.AxesImage at 0x7fcc14e12080>"
            ]
          },
          "metadata": {
            "tags": []
          },
          "execution_count": 79
        },
        {
          "output_type": "display_data",
          "data": {
            "image/png": "[encoded data removed]",
            "text/plain": [
              "<Figure size 432x288 with 1 Axes>"
            ]
          },
          "metadata": {
            "tags": [],
            "needs_background": "light"
          }
        }
      ]
    },
    {
      "cell_type": "code",
      "metadata": {
        "id": "Z0X5u0Ych2eo",
        "colab_type": "code",
        "colab": {
          "base_uri": "https://localhost:8080/",
          "height": 286
        },
        "outputId": "762c1673-f8fa-48b2-e270-82263d15c5aa"
      },
      "source": [
        "plt.imshow(X_test[2])"
      ],
      "execution_count": 81,
      "outputs": [
        {
          "output_type": "execute_result",
          "data": {
            "text/plain": [
              "<matplotlib.image.AxesImage at 0x7fcc14d3ce10>"
            ]
          },
          "metadata": {
            "tags": []
          },
          "execution_count": 81
        },
        {
          "output_type": "display_data",
          "data": {
            "image/png": "[encoded data removed]",
            "text/plain": [
              "<Figure size 432x288 with 1 Axes>"
            ]
          },
          "metadata": {
            "tags": [],
            "needs_background": "light"
          }
        }
      ]
    },
    {
      "cell_type": "code",
      "metadata": {
        "id": "CQqnGcS0h5CD",
        "colab_type": "code",
        "colab": {
          "base_uri": "https://localhost:8080/",
          "height": 286
        },
        "outputId": "bfc8f76a-bb52-4331-ab95-8622ff131179"
      },
      "source": [
        "plt.imshow(X_test[4])"
      ],
      "execution_count": 83,
      "outputs": [
        {
          "output_type": "execute_result",
          "data": {
            "text/plain": [
              "<matplotlib.image.AxesImage at 0x7fcc12d11f28>"
            ]
          },
          "metadata": {
            "tags": []
          },
          "execution_count": 83
        },
        {
          "output_type": "display_data",
          "data": {
            "image/png": "[encoded data removed]",
            "text/plain": [
              "<Figure size 432x288 with 1 Axes>"
            ]
          },
          "metadata": {
            "tags": [],
            "needs_background": "light"
          }
        }
      ]
    },
    {
      "cell_type": "code",
      "metadata": {
        "id": "v9naCs3wh9Wp",
        "colab_type": "code",
        "colab": {
          "base_uri": "https://localhost:8080/",
          "height": 286
        },
        "outputId": "f58ce5fe-9516-4f29-c3d4-56dc705af067"
      },
      "source": [
        "plt.imshow(X_test[9])"
      ],
      "execution_count": 88,
      "outputs": [
        {
          "output_type": "execute_result",
          "data": {
            "text/plain": [
              "<matplotlib.image.AxesImage at 0x7fcc12b69240>"
            ]
          },
          "metadata": {
            "tags": []
          },
          "execution_count": 88
        },
        {
          "output_type": "display_data",
          "data": {
            "image/png": "[encoded data removed]",
            "text/plain": [
              "<Figure size 432x288 with 1 Axes>"
            ]
          },
          "metadata": {
            "tags": [],
            "needs_background": "light"
          }
        }
      ]
    },
    {
      "cell_type": "code",
      "metadata": {
        "id": "FlaDmfOgiUzB",
        "colab_type": "code",
        "colab": {
          "base_uri": "https://localhost:8080/",
          "height": 273
        },
        "outputId": "12ca2265-9c77-4db4-bd0c-113fab515878"
      },
      "source": [
        "from IPython.display import Image\n",
        "Image(filename='fashion.png') "
      ],
      "execution_count": 89,
      "outputs": [
        {
          "output_type": "execute_result",
          "data": {
            "image/png": "[encoded data removed]",
            "text/plain": [
              "<IPython.core.display.Image object>"
            ]
          },
          "metadata": {
            "tags": []
          },
          "execution_count": 89
        }
      ]
    },
    {
      "cell_type": "code",
      "metadata": {
        "id": "exdbNC_HitrA",
        "colab_type": "code",
        "colab": {}
      },
      "source": [
        ""
      ],
      "execution_count": null,
      "outputs": []
    },
    {
      "cell_type": "markdown",
      "metadata": {
        "id": "vnuauGFMiwUm",
        "colab_type": "text"
      },
      "source": [
        "# using sequential API to make model"
      ]
    },
    {
      "cell_type": "code",
      "metadata": {
        "id": "ZZ-PPkediziZ",
        "colab_type": "code",
        "colab": {}
      },
      "source": [
        "model = keras.models.Sequential()"
      ],
      "execution_count": 193,
      "outputs": []
    },
    {
      "cell_type": "code",
      "metadata": {
        "id": "WJdXPpNpjGzF",
        "colab_type": "code",
        "colab": {}
      },
      "source": [
        "# it takes care of all weights an bias vectors\n",
        "model.add(keras.layers.Flatten(input_shape=[28,28]))\n",
        "model.add(keras.layers.Dense(300,activation=\"relu\"))\n",
        "model.add(keras.layers.Dense(100,activation=\"relu\"))\n",
        "# 10 neurons, i per class\n",
        "# classes are exclusive multiclass, so we use softmax\n",
        "model.add(keras.layers.Dense(10,activation=\"softmax\"))"
      ],
      "execution_count": 194,
      "outputs": []
    },
    {
      "cell_type": "code",
      "metadata": {
        "id": "fw_b5u3Blq-Z",
        "colab_type": "code",
        "colab": {
          "base_uri": "https://localhost:8080/",
          "height": 289
        },
        "outputId": "ace92ef0-856c-4526-c595-81521ebcea4b"
      },
      "source": [
        "model.summary()\n",
        "# none means the batch size can be anything\n",
        "# first dense layer -> 300 * 784 weights + 300 biases = 235500 parameters -> might cause overfitting!"
      ],
      "execution_count": 195,
      "outputs": [
        {
          "output_type": "stream",
          "text": [
            "Model: \"sequential\"\n",
            "_________________________________________________________________\n",
            "Layer (type)                 Output Shape              Param #   \n",
            "=================================================================\n",
            "flatten (Flatten)            (None, 784)               0         \n",
            "_________________________________________________________________\n",
            "dense (Dense)                (None, 300)               235500    \n",
            "_________________________________________________________________\n",
            "dense_1 (Dense)              (None, 100)               30100     \n",
            "_________________________________________________________________\n",
            "dense_2 (Dense)              (None, 10)                1010      \n",
            "=================================================================\n",
            "Total params: 266,610\n",
            "Trainable params: 266,610\n",
            "Non-trainable params: 0\n",
            "_________________________________________________________________\n"
          ],
          "name": "stdout"
        }
      ]
    },
    {
      "cell_type": "code",
      "metadata": {
        "id": "CF699zPnmLhE",
        "colab_type": "code",
        "colab": {
          "base_uri": "https://localhost:8080/",
          "height": 85
        },
        "outputId": "9f10a566-60c6-41b6-f03a-ebe3c579280b"
      },
      "source": [
        "model.layers"
      ],
      "execution_count": 196,
      "outputs": [
        {
          "output_type": "execute_result",
          "data": {
            "text/plain": [
              "[<tensorflow.python.keras.layers.core.Flatten at 0x7fcc09ff7518>,\n",
              " <tensorflow.python.keras.layers.core.Dense at 0x7fcc09ff7748>,\n",
              " <tensorflow.python.keras.layers.core.Dense at 0x7fcc09ff7cf8>,\n",
              " <tensorflow.python.keras.layers.core.Dense at 0x7fcc09ffb048>]"
            ]
          },
          "metadata": {
            "tags": []
          },
          "execution_count": 196
        }
      ]
    },
    {
      "cell_type": "code",
      "metadata": {
        "id": "22rtTlFmmtgc",
        "colab_type": "code",
        "colab": {
          "base_uri": "https://localhost:8080/",
          "height": 35
        },
        "outputId": "71bddd2f-a688-4251-ba9f-594d838a52bb"
      },
      "source": [
        "model.layers[1].name"
      ],
      "execution_count": 197,
      "outputs": [
        {
          "output_type": "execute_result",
          "data": {
            "application/vnd.google.colaboratory.intrinsic+json": {
              "type": "string"
            },
            "text/plain": [
              "'dense'"
            ]
          },
          "metadata": {
            "tags": []
          },
          "execution_count": 197
        }
      ]
    },
    {
      "cell_type": "code",
      "metadata": {
        "id": "qhFZZAdWnFYM",
        "colab_type": "code",
        "colab": {
          "base_uri": "https://localhost:8080/",
          "height": 34
        },
        "outputId": "e475523d-e484-488d-97ab-7c72508811e8"
      },
      "source": [
        "model.get_layer('dense')"
      ],
      "execution_count": 198,
      "outputs": [
        {
          "output_type": "execute_result",
          "data": {
            "text/plain": [
              "<tensorflow.python.keras.layers.core.Dense at 0x7fcc09ff7748>"
            ]
          },
          "metadata": {
            "tags": []
          },
          "execution_count": 198
        }
      ]
    },
    {
      "cell_type": "markdown",
      "metadata": {
        "id": "Rr5OwvBFnl_V",
        "colab_type": "text"
      },
      "source": [
        "# accessing parameters"
      ]
    },
    {
      "cell_type": "code",
      "metadata": {
        "id": "ta4qTYGmnoc1",
        "colab_type": "code",
        "colab": {}
      },
      "source": [
        "hidden1 = model.layers[1]"
      ],
      "execution_count": 199,
      "outputs": []
    },
    {
      "cell_type": "code",
      "metadata": {
        "id": "C86dzsKRntaE",
        "colab_type": "code",
        "colab": {
          "base_uri": "https://localhost:8080/",
          "height": 238
        },
        "outputId": "09e4ce47-4adb-4969-81a3-9b3b1f18b374"
      },
      "source": [
        "weights, biases = hidden1.get_weights()\n",
        "weights"
      ],
      "execution_count": 200,
      "outputs": [
        {
          "output_type": "execute_result",
          "data": {
            "text/plain": [
              "array([[ 0.04806769, -0.00842804, -0.06072797, ...,  0.0110118 ,\n",
              "         0.07077265,  0.05556244],\n",
              "       [-0.05437128, -0.00246592, -0.00663116, ..., -0.05328875,\n",
              "        -0.05587561, -0.0300585 ],\n",
              "       [ 0.0019278 ,  0.01755136,  0.02663945, ...,  0.02558587,\n",
              "        -0.03122272, -0.0348452 ],\n",
              "       ...,\n",
              "       [-0.00534165, -0.02474556, -0.01757433, ..., -0.02349716,\n",
              "         0.0513605 , -0.00990166],\n",
              "       [-0.05161033, -0.04549322, -0.00843646, ..., -0.07087924,\n",
              "         0.05451736,  0.06491452],\n",
              "       [-0.01293672,  0.06495634, -0.06535456, ...,  0.04698073,\n",
              "         0.00587259,  0.00586812]], dtype=float32)"
            ]
          },
          "metadata": {
            "tags": []
          },
          "execution_count": 200
        }
      ]
    },
    {
      "cell_type": "code",
      "metadata": {
        "id": "aZXISBHpn3XQ",
        "colab_type": "code",
        "colab": {
          "base_uri": "https://localhost:8080/",
          "height": 34
        },
        "outputId": "75c2471a-50f1-44e6-e9d3-5b1baf0a01f9"
      },
      "source": [
        "weights.shape"
      ],
      "execution_count": 201,
      "outputs": [
        {
          "output_type": "execute_result",
          "data": {
            "text/plain": [
              "(784, 300)"
            ]
          },
          "metadata": {
            "tags": []
          },
          "execution_count": 201
        }
      ]
    },
    {
      "cell_type": "code",
      "metadata": {
        "id": "BrLkSqtDoHTz",
        "colab_type": "code",
        "colab": {
          "base_uri": "https://localhost:8080/",
          "height": 323
        },
        "outputId": "d2b58f19-58ee-4961-813c-44c14375b578"
      },
      "source": [
        "biases"
      ],
      "execution_count": 202,
      "outputs": [
        {
          "output_type": "execute_result",
          "data": {
            "text/plain": [
              "array([0., 0., 0., 0., 0., 0., 0., 0., 0., 0., 0., 0., 0., 0., 0., 0., 0.,\n",
              "       0., 0., 0., 0., 0., 0., 0., 0., 0., 0., 0., 0., 0., 0., 0., 0., 0.,\n",
              "       0., 0., 0., 0., 0., 0., 0., 0., 0., 0., 0., 0., 0., 0., 0., 0., 0.,\n",
              "       0., 0., 0., 0., 0., 0., 0., 0., 0., 0., 0., 0., 0., 0., 0., 0., 0.,\n",
              "       0., 0., 0., 0., 0., 0., 0., 0., 0., 0., 0., 0., 0., 0., 0., 0., 0.,\n",
              "       0., 0., 0., 0., 0., 0., 0., 0., 0., 0., 0., 0., 0., 0., 0., 0., 0.,\n",
              "       0., 0., 0., 0., 0., 0., 0., 0., 0., 0., 0., 0., 0., 0., 0., 0., 0.,\n",
              "       0., 0., 0., 0., 0., 0., 0., 0., 0., 0., 0., 0., 0., 0., 0., 0., 0.,\n",
              "       0., 0., 0., 0., 0., 0., 0., 0., 0., 0., 0., 0., 0., 0., 0., 0., 0.,\n",
              "       0., 0., 0., 0., 0., 0., 0., 0., 0., 0., 0., 0., 0., 0., 0., 0., 0.,\n",
              "       0., 0., 0., 0., 0., 0., 0., 0., 0., 0., 0., 0., 0., 0., 0., 0., 0.,\n",
              "       0., 0., 0., 0., 0., 0., 0., 0., 0., 0., 0., 0., 0., 0., 0., 0., 0.,\n",
              "       0., 0., 0., 0., 0., 0., 0., 0., 0., 0., 0., 0., 0., 0., 0., 0., 0.,\n",
              "       0., 0., 0., 0., 0., 0., 0., 0., 0., 0., 0., 0., 0., 0., 0., 0., 0.,\n",
              "       0., 0., 0., 0., 0., 0., 0., 0., 0., 0., 0., 0., 0., 0., 0., 0., 0.,\n",
              "       0., 0., 0., 0., 0., 0., 0., 0., 0., 0., 0., 0., 0., 0., 0., 0., 0.,\n",
              "       0., 0., 0., 0., 0., 0., 0., 0., 0., 0., 0., 0., 0., 0., 0., 0., 0.,\n",
              "       0., 0., 0., 0., 0., 0., 0., 0., 0., 0., 0.], dtype=float32)"
            ]
          },
          "metadata": {
            "tags": []
          },
          "execution_count": 202
        }
      ]
    },
    {
      "cell_type": "code",
      "metadata": {
        "id": "bgt-myndn853",
        "colab_type": "code",
        "colab": {
          "base_uri": "https://localhost:8080/",
          "height": 34
        },
        "outputId": "db0732b9-580d-483a-bae5-b7145a2c5a03"
      },
      "source": [
        "biases.shape"
      ],
      "execution_count": 203,
      "outputs": [
        {
          "output_type": "execute_result",
          "data": {
            "text/plain": [
              "(300,)"
            ]
          },
          "metadata": {
            "tags": []
          },
          "execution_count": 203
        }
      ]
    },
    {
      "cell_type": "markdown",
      "metadata": {
        "id": "kZUzER-HoJ3n",
        "colab_type": "text"
      },
      "source": [
        "# how the values for bias and weight are initialized?"
      ]
    },
    {
      "cell_type": "code",
      "metadata": {
        "id": "8wpu6SjVoS0m",
        "colab_type": "code",
        "colab": {}
      },
      "source": [
        "# randomly to break symmetry"
      ],
      "execution_count": 204,
      "outputs": []
    },
    {
      "cell_type": "markdown",
      "metadata": {
        "id": "EZ7yaW3IpVpY",
        "colab_type": "text"
      },
      "source": [
        "# compiling the model"
      ]
    },
    {
      "cell_type": "code",
      "metadata": {
        "id": "A6DvaERJoVfr",
        "colab_type": "code",
        "colab": {}
      },
      "source": [
        "model.compile(\n",
        "    # we have sparse categorical target: 0 to 9\n",
        "    # if we had target generated by on-hot-encoder like '0 0 0 0 1 0 0 0 ' -> we needed to use categorical_crossentropy\n",
        "    # for binary we should use \"sigmoid\" output activation instead of \"softmax\" and would use \"binary_crossentropy\"\n",
        "    loss=\"sparse_categorical_crossentropy\",\n",
        "    optimizer=\"sgd\",\n",
        "    metrics=[\"accuracy\"])\n"
      ],
      "execution_count": 205,
      "outputs": []
    },
    {
      "cell_type": "markdown",
      "metadata": {
        "id": "_w3eumB2roUP",
        "colab_type": "text"
      },
      "source": [
        "# training"
      ]
    },
    {
      "cell_type": "code",
      "metadata": {
        "id": "H-w0m2nKpY1V",
        "colab_type": "code",
        "colab": {
          "base_uri": "https://localhost:8080/",
          "height": 1000
        },
        "outputId": "c4951900-be39-4ee0-bf9e-a168c0c529a4"
      },
      "source": [
        "history=model.fit(X_train, y_train, epochs=30, validation_data=(X_valid,y_valid))\n"
      ],
      "execution_count": 206,
      "outputs": [
        {
          "output_type": "stream",
          "text": [
            "Train on 55000 samples, validate on 5000 samples\n",
            "Epoch 1/30\n",
            "55000/55000 [==============================] - 6s 117us/sample - loss: 0.7287 - acc: 0.7575 - val_loss: 0.5154 - val_acc: 0.8258\n",
            "Epoch 2/30\n",
            "55000/55000 [==============================] - 6s 101us/sample - loss: 0.4867 - acc: 0.8295 - val_loss: 0.4628 - val_acc: 0.8356\n",
            "Epoch 3/30\n",
            "55000/55000 [==============================] - 6s 100us/sample - loss: 0.4432 - acc: 0.8428 - val_loss: 0.4103 - val_acc: 0.8596\n",
            "Epoch 4/30\n",
            "55000/55000 [==============================] - 6s 103us/sample - loss: 0.4146 - acc: 0.8540 - val_loss: 0.4161 - val_acc: 0.8568\n",
            "Epoch 5/30\n",
            "55000/55000 [==============================] - 6s 102us/sample - loss: 0.3955 - acc: 0.8608 - val_loss: 0.3839 - val_acc: 0.8670\n",
            "Epoch 6/30\n",
            "55000/55000 [==============================] - 5s 99us/sample - loss: 0.3792 - acc: 0.8649 - val_loss: 0.3994 - val_acc: 0.8570\n",
            "Epoch 7/30\n",
            "55000/55000 [==============================] - 6s 103us/sample - loss: 0.3662 - acc: 0.8697 - val_loss: 0.3738 - val_acc: 0.8750\n",
            "Epoch 8/30\n",
            "55000/55000 [==============================] - 6s 107us/sample - loss: 0.3570 - acc: 0.8731 - val_loss: 0.3831 - val_acc: 0.8680\n",
            "Epoch 9/30\n",
            "55000/55000 [==============================] - 6s 107us/sample - loss: 0.3465 - acc: 0.8767 - val_loss: 0.3554 - val_acc: 0.8748\n",
            "Epoch 10/30\n",
            "55000/55000 [==============================] - 6s 101us/sample - loss: 0.3378 - acc: 0.8799 - val_loss: 0.3451 - val_acc: 0.8790\n",
            "Epoch 11/30\n",
            "55000/55000 [==============================] - 5s 99us/sample - loss: 0.3290 - acc: 0.8827 - val_loss: 0.3450 - val_acc: 0.8798\n",
            "Epoch 12/30\n",
            "55000/55000 [==============================] - 5s 98us/sample - loss: 0.3221 - acc: 0.8841 - val_loss: 0.3430 - val_acc: 0.8798\n",
            "Epoch 13/30\n",
            "55000/55000 [==============================] - 5s 98us/sample - loss: 0.3146 - acc: 0.8875 - val_loss: 0.3291 - val_acc: 0.8826\n",
            "Epoch 14/30\n",
            "55000/55000 [==============================] - 6s 114us/sample - loss: 0.3069 - acc: 0.8905 - val_loss: 0.3407 - val_acc: 0.8774\n",
            "Epoch 15/30\n",
            "55000/55000 [==============================] - 6s 109us/sample - loss: 0.3011 - acc: 0.8912 - val_loss: 0.3480 - val_acc: 0.8748\n",
            "Epoch 16/30\n",
            "55000/55000 [==============================] - 6s 100us/sample - loss: 0.2951 - acc: 0.8945 - val_loss: 0.3341 - val_acc: 0.8812\n",
            "Epoch 17/30\n",
            "55000/55000 [==============================] - 5s 97us/sample - loss: 0.2900 - acc: 0.8957 - val_loss: 0.3438 - val_acc: 0.8834\n",
            "Epoch 18/30\n",
            "55000/55000 [==============================] - 6s 102us/sample - loss: 0.2845 - acc: 0.8981 - val_loss: 0.3156 - val_acc: 0.8906\n",
            "Epoch 19/30\n",
            "55000/55000 [==============================] - 6s 101us/sample - loss: 0.2798 - acc: 0.8994 - val_loss: 0.3132 - val_acc: 0.8882\n",
            "Epoch 20/30\n",
            "55000/55000 [==============================] - 6s 102us/sample - loss: 0.2733 - acc: 0.9005 - val_loss: 0.3165 - val_acc: 0.8898\n",
            "Epoch 21/30\n",
            "55000/55000 [==============================] - 6s 102us/sample - loss: 0.2691 - acc: 0.9034 - val_loss: 0.3204 - val_acc: 0.8858\n",
            "Epoch 22/30\n",
            "55000/55000 [==============================] - 6s 101us/sample - loss: 0.2635 - acc: 0.9062 - val_loss: 0.3128 - val_acc: 0.8906\n",
            "Epoch 23/30\n",
            "55000/55000 [==============================] - 6s 106us/sample - loss: 0.2599 - acc: 0.9059 - val_loss: 0.3282 - val_acc: 0.8832\n",
            "Epoch 24/30\n",
            "55000/55000 [==============================] - 6s 105us/sample - loss: 0.2556 - acc: 0.9069 - val_loss: 0.3089 - val_acc: 0.8882\n",
            "Epoch 25/30\n",
            "55000/55000 [==============================] - 6s 103us/sample - loss: 0.2515 - acc: 0.9091 - val_loss: 0.3045 - val_acc: 0.8948\n",
            "Epoch 26/30\n",
            "55000/55000 [==============================] - 5s 98us/sample - loss: 0.2462 - acc: 0.9116 - val_loss: 0.3016 - val_acc: 0.8938\n",
            "Epoch 27/30\n",
            "55000/55000 [==============================] - 5s 100us/sample - loss: 0.2426 - acc: 0.9127 - val_loss: 0.2950 - val_acc: 0.8948\n",
            "Epoch 28/30\n",
            "55000/55000 [==============================] - 5s 97us/sample - loss: 0.2389 - acc: 0.9144 - val_loss: 0.3084 - val_acc: 0.8900\n",
            "Epoch 29/30\n",
            "55000/55000 [==============================] - 5s 100us/sample - loss: 0.2362 - acc: 0.9153 - val_loss: 0.3009 - val_acc: 0.8918\n",
            "Epoch 30/30\n",
            "55000/55000 [==============================] - 6s 101us/sample - loss: 0.2305 - acc: 0.9171 - val_loss: 0.3029 - val_acc: 0.8884\n"
          ],
          "name": "stdout"
        }
      ]
    },
    {
      "cell_type": "markdown",
      "metadata": {
        "id": "Fn4_eybLtS6a",
        "colab_type": "text"
      },
      "source": [
        "# learning curve"
      ]
    },
    {
      "cell_type": "code",
      "metadata": {
        "id": "0oLAsc4etVS3",
        "colab_type": "code",
        "colab": {}
      },
      "source": [
        "import pandas as pd \n",
        "import matplotlib.pyplot as plt "
      ],
      "execution_count": 207,
      "outputs": []
    },
    {
      "cell_type": "code",
      "metadata": {
        "id": "9hBPEgnbtsgO",
        "colab_type": "code",
        "colab": {
          "base_uri": "https://localhost:8080/",
          "height": 328
        },
        "outputId": "e75b6572-6825-4c96-ebf0-a4289c2f070e"
      },
      "source": [
        "pd.DataFrame( history . history ).plot( figsize = ( 8 , 5 )) \n",
        "plt.grid( True ) \n",
        "plt.gca(). set_ylim ( 0 , 1 ) # set the vertical range to [0-1] \n",
        "plt.show() # treaining curves should be shifted by 0.5 epochs to the left"
      ],
      "execution_count": 208,
      "outputs": [
        {
          "output_type": "display_data",
          "data": {
            "image/png": "[encoded data removed]",
            "text/plain": [
              "<Figure size 576x360 with 1 Axes>"
            ]
          },
          "metadata": {
            "tags": [],
            "needs_background": "light"
          }
        }
      ]
    },
    {
      "cell_type": "markdown",
      "metadata": {
        "id": "EnDtdhybyUNZ",
        "colab_type": "text"
      },
      "source": [
        "# you can continue training using fit(), it seems loss can be minimized more"
      ]
    },
    {
      "cell_type": "markdown",
      "metadata": {
        "id": "iWyQ6qOczAl1",
        "colab_type": "text"
      },
      "source": [
        "# model evaluation"
      ]
    },
    {
      "cell_type": "code",
      "metadata": {
        "id": "yHgyqUnZzCaI",
        "colab_type": "code",
        "colab": {
          "base_uri": "https://localhost:8080/",
          "height": 34
        },
        "outputId": "7e110bb4-47e0-444d-e852-e34552da8cc3"
      },
      "source": [
        "model.evaluate(X_test , y_test)\n"
      ],
      "execution_count": 209,
      "outputs": [
        {
          "output_type": "execute_result",
          "data": {
            "text/plain": [
              "[0.3315998810529709, 0.8798]"
            ]
          },
          "metadata": {
            "tags": []
          },
          "execution_count": 209
        }
      ]
    },
    {
      "cell_type": "markdown",
      "metadata": {
        "id": "3-xoEYRD0saU",
        "colab_type": "text"
      },
      "source": [
        "# testing"
      ]
    },
    {
      "cell_type": "code",
      "metadata": {
        "id": "daSFJQC90u-r",
        "colab_type": "code",
        "colab": {}
      },
      "source": [
        "X_new = X_test [: 3 ] \n",
        "\n"
      ],
      "execution_count": 210,
      "outputs": []
    },
    {
      "cell_type": "code",
      "metadata": {
        "id": "MP7J3Py603p-",
        "colab_type": "code",
        "colab": {}
      },
      "source": [
        "y_proba = model.predict ( X_new ) \n",
        "\n"
      ],
      "execution_count": 211,
      "outputs": []
    },
    {
      "cell_type": "code",
      "metadata": {
        "id": "Yd4pciJj0-zl",
        "colab_type": "code",
        "colab": {
          "base_uri": "https://localhost:8080/",
          "height": 85
        },
        "outputId": "547531a6-5a71-49a2-899b-a0fb688a5bf3"
      },
      "source": [
        "y_proba.round( 2 ) \n",
        "\n"
      ],
      "execution_count": 212,
      "outputs": [
        {
          "output_type": "execute_result",
          "data": {
            "text/plain": [
              "array([[0.  , 0.  , 0.  , 0.  , 0.  , 0.01, 0.  , 0.02, 0.  , 0.98],\n",
              "       [0.  , 0.  , 0.99, 0.  , 0.01, 0.  , 0.  , 0.  , 0.  , 0.  ],\n",
              "       [0.  , 1.  , 0.  , 0.  , 0.  , 0.  , 0.  , 0.  , 0.  , 0.  ]],\n",
              "      dtype=float32)"
            ]
          },
          "metadata": {
            "tags": []
          },
          "execution_count": 212
        }
      ]
    },
    {
      "cell_type": "code",
      "metadata": {
        "id": "_EmZiPni2DIi",
        "colab_type": "code",
        "colab": {
          "base_uri": "https://localhost:8080/",
          "height": 34
        },
        "outputId": "f907ef64-0ad4-48f5-d2d4-5e7c044b91a3"
      },
      "source": [
        "y_pred = model.predict_classes ( X_new ) \n",
        "y_pred \n"
      ],
      "execution_count": 213,
      "outputs": [
        {
          "output_type": "execute_result",
          "data": {
            "text/plain": [
              "array([9, 2, 1])"
            ]
          },
          "metadata": {
            "tags": []
          },
          "execution_count": 213
        }
      ]
    },
    {
      "cell_type": "code",
      "metadata": {
        "id": "thRtuYHY2LyZ",
        "colab_type": "code",
        "colab": {
          "base_uri": "https://localhost:8080/",
          "height": 34
        },
        "outputId": "e5cf8ebe-7ca0-4089-f42e-5a9eff91e178"
      },
      "source": [
        "np.array( class_names )[ y_pred ] "
      ],
      "execution_count": 214,
      "outputs": [
        {
          "output_type": "execute_result",
          "data": {
            "text/plain": [
              "array(['Ankle boot', 'Pullover', 'Trouser'], dtype='<U11')"
            ]
          },
          "metadata": {
            "tags": []
          },
          "execution_count": 214
        }
      ]
    },
    {
      "cell_type": "markdown",
      "metadata": {
        "id": "gO3UxVPC2Tpd",
        "colab_type": "text"
      },
      "source": [
        "# MLP Regression"
      ]
    },
    {
      "cell_type": "code",
      "metadata": {
        "id": "fwuD8r0Q2yr3",
        "colab_type": "code",
        "colab": {}
      },
      "source": [
        "from sklearn.datasets import fetch_california_housing \n",
        "from sklearn.model_selection import train_test_split \n",
        "from sklearn.preprocessing import StandardScaler "
      ],
      "execution_count": 215,
      "outputs": []
    },
    {
      "cell_type": "code",
      "metadata": {
        "id": "NN2zWOfY3MVP",
        "colab_type": "code",
        "colab": {}
      },
      "source": [
        "# getting a simplified version of the data\n",
        "\n",
        "housing=fetch_california_housing()\n",
        "\n",
        "X_train_full,X_test,y_train_full,y_test=train_test_split(housing.data,housing.target)\n",
        "\n",
        "X_train,X_valid,y_train,y_valid=train_test_split(X_train_full,y_train_full)\n",
        "\n",
        "scaler=StandardScaler()\n",
        "\n",
        "X_train=scaler.fit_transform(X_train)\n",
        "X_valid=scaler.transform(X_valid)\n",
        "X_test=scaler.transform(X_test)"
      ],
      "execution_count": 216,
      "outputs": []
    },
    {
      "cell_type": "code",
      "metadata": {
        "id": "4z10Rvgy3UBf",
        "colab_type": "code",
        "colab": {}
      },
      "source": [
        "# building a single layer, no need to mention output activation\n",
        "model = keras.models.Sequential([ \n",
        "\t\tkeras.layers.Dense(30 , activation = \"relu\", \n",
        "\tinput_shape = X_train.shape [ 1 :]), \n",
        "\t\tkeras.layers.Dense ( 1 )]) "
      ],
      "execution_count": 217,
      "outputs": []
    },
    {
      "cell_type": "code",
      "metadata": {
        "id": "vWvqeONm4nRx",
        "colab_type": "code",
        "colab": {}
      },
      "source": [
        "model.compile( loss = \"mean_squared_error\" , optimizer = \"sgd\" ) \n"
      ],
      "execution_count": 218,
      "outputs": []
    },
    {
      "cell_type": "code",
      "metadata": {
        "id": "qbUk3-AL4pBL",
        "colab_type": "code",
        "colab": {
          "base_uri": "https://localhost:8080/",
          "height": 734
        },
        "outputId": "90cf2fa5-6f02-4a19-89c9-712be0bca806"
      },
      "source": [
        "history = model.fit( X_train , y_train , epochs = 20 , validation_data = ( X_valid , y_valid )) \n"
      ],
      "execution_count": 219,
      "outputs": [
        {
          "output_type": "stream",
          "text": [
            "Train on 11610 samples, validate on 3870 samples\n",
            "Epoch 1/20\n",
            "11610/11610 [==============================] - 0s 39us/sample - loss: 0.7719 - val_loss: 0.8874\n",
            "Epoch 2/20\n",
            "11610/11610 [==============================] - 0s 31us/sample - loss: 0.5073 - val_loss: 1.3154\n",
            "Epoch 3/20\n",
            "11610/11610 [==============================] - 0s 30us/sample - loss: 0.4997 - val_loss: 6.2677\n",
            "Epoch 4/20\n",
            "11610/11610 [==============================] - 0s 31us/sample - loss: 0.6333 - val_loss: 7.5701\n",
            "Epoch 5/20\n",
            "11610/11610 [==============================] - 0s 30us/sample - loss: 0.5559 - val_loss: 0.4626\n",
            "Epoch 6/20\n",
            "11610/11610 [==============================] - 0s 31us/sample - loss: 0.4081 - val_loss: 0.4337\n",
            "Epoch 7/20\n",
            "11610/11610 [==============================] - 0s 31us/sample - loss: 0.3939 - val_loss: 0.4017\n",
            "Epoch 8/20\n",
            "11610/11610 [==============================] - 0s 31us/sample - loss: 0.3868 - val_loss: 0.4005\n",
            "Epoch 9/20\n",
            "11610/11610 [==============================] - 0s 30us/sample - loss: 0.3840 - val_loss: 0.4025\n",
            "Epoch 10/20\n",
            "11610/11610 [==============================] - 0s 34us/sample - loss: 0.3783 - val_loss: 0.4033\n",
            "Epoch 11/20\n",
            "11610/11610 [==============================] - 0s 31us/sample - loss: 0.3778 - val_loss: 0.3919\n",
            "Epoch 12/20\n",
            "11610/11610 [==============================] - 0s 33us/sample - loss: 0.3760 - val_loss: 0.3899\n",
            "Epoch 13/20\n",
            "11610/11610 [==============================] - 0s 33us/sample - loss: 0.3696 - val_loss: 0.3853\n",
            "Epoch 14/20\n",
            "11610/11610 [==============================] - 0s 34us/sample - loss: 0.3683 - val_loss: 0.3805\n",
            "Epoch 15/20\n",
            "11610/11610 [==============================] - 0s 34us/sample - loss: 0.3664 - val_loss: 0.3918\n",
            "Epoch 16/20\n",
            "11610/11610 [==============================] - 0s 30us/sample - loss: 0.3645 - val_loss: 0.3771\n",
            "Epoch 17/20\n",
            "11610/11610 [==============================] - 0s 31us/sample - loss: 0.3651 - val_loss: 0.3853\n",
            "Epoch 18/20\n",
            "11610/11610 [==============================] - 0s 32us/sample - loss: 0.3615 - val_loss: 0.3767\n",
            "Epoch 19/20\n",
            "11610/11610 [==============================] - 0s 32us/sample - loss: 0.3583 - val_loss: 0.3879\n",
            "Epoch 20/20\n",
            "11610/11610 [==============================] - 0s 31us/sample - loss: 0.3576 - val_loss: 0.3737\n"
          ],
          "name": "stdout"
        }
      ]
    },
    {
      "cell_type": "code",
      "metadata": {
        "id": "PT5rsbv343X1",
        "colab_type": "code",
        "colab": {
          "base_uri": "https://localhost:8080/",
          "height": 34
        },
        "outputId": "4d740b83-41a3-439c-8bb1-d1f845a62c5c"
      },
      "source": [
        "mse_test = model.evaluate ( X_test , y_test ) \n",
        "mse_test"
      ],
      "execution_count": 220,
      "outputs": [
        {
          "output_type": "execute_result",
          "data": {
            "text/plain": [
              "0.35889244539331094"
            ]
          },
          "metadata": {
            "tags": []
          },
          "execution_count": 220
        }
      ]
    },
    {
      "cell_type": "code",
      "metadata": {
        "id": "_z5lYcVn5cPv",
        "colab_type": "code",
        "colab": {
          "base_uri": "https://localhost:8080/",
          "height": 119
        },
        "outputId": "b98354e9-896b-48d4-f6e6-c32ee5007cc2"
      },
      "source": [
        "X_new = X_test [: 3 ] # pretend these are new instances \n",
        "\n",
        "X_new"
      ],
      "execution_count": 221,
      "outputs": [
        {
          "output_type": "execute_result",
          "data": {
            "text/plain": [
              "array([[ 0.88413518, -1.32156169,  0.85454471,  0.05914988,  1.43242249,\n",
              "         0.18224059, -0.75887271,  0.95414751],\n",
              "       [-1.39935976,  1.21997414, -1.16804582, -0.42632697,  0.16308654,\n",
              "         0.27301608, -0.74478778,  0.67541033],\n",
              "       [-0.01900876,  0.42574419, -0.1755988 ,  0.01747009, -0.2513905 ,\n",
              "        -0.04333974, -0.81051745,  0.61070349]])"
            ]
          },
          "metadata": {
            "tags": []
          },
          "execution_count": 221
        }
      ]
    },
    {
      "cell_type": "code",
      "metadata": {
        "id": "BqOB60t95gvO",
        "colab_type": "code",
        "colab": {
          "base_uri": "https://localhost:8080/",
          "height": 68
        },
        "outputId": "b1f280ed-c332-4cef-87c5-2137277af24d"
      },
      "source": [
        "\n",
        "y_pred = model . predict ( X_new ) \n",
        "y_pred"
      ],
      "execution_count": 222,
      "outputs": [
        {
          "output_type": "execute_result",
          "data": {
            "text/plain": [
              "array([[2.088925 ],\n",
              "       [1.1554784],\n",
              "       [2.428328 ]], dtype=float32)"
            ]
          },
          "metadata": {
            "tags": []
          },
          "execution_count": 222
        }
      ]
    },
    {
      "cell_type": "markdown",
      "metadata": {
        "id": "T6JlVeX__fCp",
        "colab_type": "text"
      },
      "source": [
        "# Building Complex Models Using the Functional API"
      ]
    },
    {
      "cell_type": "markdown",
      "metadata": {
        "id": "CKbTIGnbBRyx",
        "colab_type": "text"
      },
      "source": [
        "# housing example"
      ]
    },
    {
      "cell_type": "code",
      "metadata": {
        "id": "4bBdAjM-_oO-",
        "colab_type": "code",
        "colab": {}
      },
      "source": [
        "# just creating an input object\n",
        "input_ = keras.layers.Input( shape = X_train.shape [ 1 :]) \n",
        "\n"
      ],
      "execution_count": 224,
      "outputs": []
    },
    {
      "cell_type": "code",
      "metadata": {
        "id": "MVYm3fpI_zuz",
        "colab_type": "code",
        "colab": {
          "base_uri": "https://localhost:8080/",
          "height": 34
        },
        "outputId": "384c0189-060c-426e-d6f1-1172b309b705"
      },
      "source": [
        "X_train.shape[ 1 :]"
      ],
      "execution_count": 225,
      "outputs": [
        {
          "output_type": "execute_result",
          "data": {
            "text/plain": [
              "(8,)"
            ]
          },
          "metadata": {
            "tags": []
          },
          "execution_count": 225
        }
      ]
    },
    {
      "cell_type": "code",
      "metadata": {
        "id": "5O-S4ulp_9N8",
        "colab_type": "code",
        "colab": {}
      },
      "source": [
        "# create a hidden layer and treat it as a function to pass input_ (Functional API)\n",
        "hidden1 = keras.layers.Dense( 30 , activation = \"relu\" )( input_ ) \n",
        "\n",
        "\n"
      ],
      "execution_count": 226,
      "outputs": []
    },
    {
      "cell_type": "code",
      "metadata": {
        "id": "6yimzgAsAGw3",
        "colab_type": "code",
        "colab": {}
      },
      "source": [
        "hidden2 = keras.layers.Dense( 30 , activation = \"relu\" )( hidden1 ) \n"
      ],
      "execution_count": 227,
      "outputs": []
    },
    {
      "cell_type": "code",
      "metadata": {
        "id": "4OSleZghAINY",
        "colab_type": "code",
        "colab": {}
      },
      "source": [
        "# create a concatenation layer, use it as a function and pass inputs\n",
        "concat = keras.layers.Concatenate ()([ input_ , hidden2 ]) \n"
      ],
      "execution_count": 228,
      "outputs": []
    },
    {
      "cell_type": "code",
      "metadata": {
        "id": "7QM06PtBAJtG",
        "colab_type": "code",
        "colab": {}
      },
      "source": [
        "# create output layer with one neuron, no activation\n",
        "output = keras.layers.Dense ( 1 )( concat ) \n"
      ],
      "execution_count": 229,
      "outputs": []
    },
    {
      "cell_type": "code",
      "metadata": {
        "id": "hujIZ_3HALM5",
        "colab_type": "code",
        "colab": {}
      },
      "source": [
        "model = keras.Model( inputs = [ input_ ], outputs = [ output ]) \n"
      ],
      "execution_count": 230,
      "outputs": []
    },
    {
      "cell_type": "code",
      "metadata": {
        "id": "jAp4wfPkChku",
        "colab_type": "code",
        "colab": {}
      },
      "source": [
        "# compile\n",
        "model.compile( loss = \"mse\" , optimizer = keras . optimizers . SGD ( lr = 1e-3 )) \n",
        "\n"
      ],
      "execution_count": 231,
      "outputs": []
    },
    {
      "cell_type": "code",
      "metadata": {
        "id": "TOcKV_E_Cmbq",
        "colab_type": "code",
        "colab": {
          "base_uri": "https://localhost:8080/",
          "height": 734
        },
        "outputId": "c9be428e-8195-43dd-c5ca-ebcb31de9c16"
      },
      "source": [
        "# fit\n",
        "history = model.fit( X_train , y_train , epochs = 20 , validation_data = ( X_valid , y_valid )) \n"
      ],
      "execution_count": 232,
      "outputs": [
        {
          "output_type": "stream",
          "text": [
            "Train on 11610 samples, validate on 3870 samples\n",
            "Epoch 1/20\n",
            "11610/11610 [==============================] - 1s 43us/sample - loss: 1.3967 - val_loss: 2.6097\n",
            "Epoch 2/20\n",
            "11610/11610 [==============================] - 0s 34us/sample - loss: 0.6884 - val_loss: 1.6288\n",
            "Epoch 3/20\n",
            "11610/11610 [==============================] - 0s 34us/sample - loss: 0.6642 - val_loss: 1.5533\n",
            "Epoch 4/20\n",
            "11610/11610 [==============================] - 0s 33us/sample - loss: 0.5758 - val_loss: 1.0029\n",
            "Epoch 5/20\n",
            "11610/11610 [==============================] - 0s 33us/sample - loss: 0.5561 - val_loss: 1.1127\n",
            "Epoch 6/20\n",
            "11610/11610 [==============================] - 0s 32us/sample - loss: 0.5216 - val_loss: 0.7645\n",
            "Epoch 7/20\n",
            "11610/11610 [==============================] - 0s 33us/sample - loss: 0.5109 - val_loss: 1.6945\n",
            "Epoch 8/20\n",
            "11610/11610 [==============================] - 0s 35us/sample - loss: 0.5019 - val_loss: 0.8687\n",
            "Epoch 9/20\n",
            "11610/11610 [==============================] - 0s 32us/sample - loss: 0.4969 - val_loss: 1.0122\n",
            "Epoch 10/20\n",
            "11610/11610 [==============================] - 0s 34us/sample - loss: 0.4756 - val_loss: 0.7252\n",
            "Epoch 11/20\n",
            "11610/11610 [==============================] - 0s 35us/sample - loss: 0.4705 - val_loss: 0.8894\n",
            "Epoch 12/20\n",
            "11610/11610 [==============================] - 0s 34us/sample - loss: 0.4613 - val_loss: 0.8845\n",
            "Epoch 13/20\n",
            "11610/11610 [==============================] - 0s 33us/sample - loss: 0.4740 - val_loss: 1.2166\n",
            "Epoch 14/20\n",
            "11610/11610 [==============================] - 0s 34us/sample - loss: 0.4607 - val_loss: 1.1935\n",
            "Epoch 15/20\n",
            "11610/11610 [==============================] - 0s 33us/sample - loss: 0.4736 - val_loss: 2.1830\n",
            "Epoch 16/20\n",
            "11610/11610 [==============================] - 0s 33us/sample - loss: 0.4741 - val_loss: 1.8487\n",
            "Epoch 17/20\n",
            "11610/11610 [==============================] - 0s 34us/sample - loss: 0.4801 - val_loss: 1.6907\n",
            "Epoch 18/20\n",
            "11610/11610 [==============================] - 0s 34us/sample - loss: 0.4624 - val_loss: 1.0236\n",
            "Epoch 19/20\n",
            "11610/11610 [==============================] - 0s 35us/sample - loss: 0.4497 - val_loss: 0.8315\n",
            "Epoch 20/20\n",
            "11610/11610 [==============================] - 0s 35us/sample - loss: 0.4277 - val_loss: 0.5648\n"
          ],
          "name": "stdout"
        }
      ]
    },
    {
      "cell_type": "code",
      "metadata": {
        "id": "iBbxV9bzC0Hh",
        "colab_type": "code",
        "colab": {
          "base_uri": "https://localhost:8080/",
          "height": 34
        },
        "outputId": "1132a183-b4cc-40ad-b063-0e8aedd44dce"
      },
      "source": [
        "mse_test = model.evaluate ( X_test , y_test ) \n",
        "mse_test"
      ],
      "execution_count": 233,
      "outputs": [
        {
          "output_type": "execute_result",
          "data": {
            "text/plain": [
              "0.4218231783818829"
            ]
          },
          "metadata": {
            "tags": []
          },
          "execution_count": 233
        }
      ]
    },
    {
      "cell_type": "code",
      "metadata": {
        "id": "8xqjC5xZNbC3",
        "colab_type": "code",
        "colab": {
          "base_uri": "https://localhost:8080/",
          "height": 119
        },
        "outputId": "fddb77c0-1d27-4cb8-f177-b35b85493533"
      },
      "source": [
        "X_new = X_test [: 3 ] # pretend these are new instances \n",
        "\n",
        "X_new"
      ],
      "execution_count": 234,
      "outputs": [
        {
          "output_type": "execute_result",
          "data": {
            "text/plain": [
              "array([[ 0.88413518, -1.32156169,  0.85454471,  0.05914988,  1.43242249,\n",
              "         0.18224059, -0.75887271,  0.95414751],\n",
              "       [-1.39935976,  1.21997414, -1.16804582, -0.42632697,  0.16308654,\n",
              "         0.27301608, -0.74478778,  0.67541033],\n",
              "       [-0.01900876,  0.42574419, -0.1755988 ,  0.01747009, -0.2513905 ,\n",
              "        -0.04333974, -0.81051745,  0.61070349]])"
            ]
          },
          "metadata": {
            "tags": []
          },
          "execution_count": 234
        }
      ]
    },
    {
      "cell_type": "code",
      "metadata": {
        "id": "8F-JLYYTNhvz",
        "colab_type": "code",
        "colab": {
          "base_uri": "https://localhost:8080/",
          "height": 68
        },
        "outputId": "a76f82de-c8f9-40ec-8404-9935efa0eb1a"
      },
      "source": [
        "\n",
        "y_pred = model . predict ( X_new ) \n",
        "y_pred"
      ],
      "execution_count": 235,
      "outputs": [
        {
          "output_type": "execute_result",
          "data": {
            "text/plain": [
              "array([[2.1078959],\n",
              "       [1.0113401],\n",
              "       [2.4089303]], dtype=float32)"
            ]
          },
          "metadata": {
            "tags": []
          },
          "execution_count": 235
        }
      ]
    }
  ]
}